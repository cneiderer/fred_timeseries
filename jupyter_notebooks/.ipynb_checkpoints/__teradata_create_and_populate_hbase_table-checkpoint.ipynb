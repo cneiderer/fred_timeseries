{
 "cells": [
  {
   "cell_type": "code",
   "execution_count": 15,
   "metadata": {
    "collapsed": true
   },
   "outputs": [],
   "source": [
    "import happybase\n",
    "\n",
    "# first establish the HBase connection\n",
    "connection = happybase.Connection('localhost')"
   ]
  },
  {
   "cell_type": "markdown",
   "metadata": {},
   "source": [
    "# Create and populate HBase table for each fetched CSV file"
   ]
  },
  {
   "cell_type": "code",
   "execution_count": 104,
   "metadata": {
    "collapsed": false,
    "scrolled": true
   },
   "outputs": [],
   "source": [
    "# create a table with a column family\n",
    "def create_and_populate_hbase_table(code_name, csv_file_path):\n",
    "    if not code_name:\n",
    "        print \"Please provide valid code name!\"\n",
    "        return None\n",
    "    \n",
    "    # load CSV file\n",
    "    try:\n",
    "        # there are two types of series, one is prefixed with \"FRED\", another is prefixed\n",
    "        # with \"YAHOO_INDEX\", later we need to differentiate them to create different\n",
    "        # kinds of HBase tables\n",
    "        series = pd.read_csv(csv_file_path, sep=',', header=0)\n",
    "    except:\n",
    "        print \"Failed to read csv file!\"\n",
    "        return None\n",
    "    \n",
    "    # create HBase table if not exist\n",
    "    hbase_table_name = \"Table_{}\".format(code_name)\n",
    "    try:\n",
    "        connection.create_table(hbase_table_name, {'cf': {}})\n",
    "    except Exception as e:\n",
    "        if \"table name already in use\" in e.message:\n",
    "            print \"Table name already exists!\"\n",
    "    \n",
    "    # establish connection to the table\n",
    "    hbase_table = connection.table(hbase_table_name)\n",
    "\n",
    "    # populate rows from CSV into HBase table rows\n",
    "    # https://happybase.readthedocs.io/en/happybase-0.4/tutorial.html\n",
    "    for i in range(len(series)):\n",
    "        # need to differentiate code types by prefix\n",
    "        if code_name.startswith(\"FRED\"): # eg: \"FRED_00XAPFEEM086NEST\"\n",
    "            date = series.DATE[i]\n",
    "            value = series.VALUE[i]\n",
    "            row_key = \"row{}\".format(i+1)\n",
    "            row_content = {'cf:DATE': str(date), 'cf:VALUE': str(value)}\n",
    "            \n",
    "        elif code_name.startswith(\"YAHOO_INDEX\"): # eg: \"YAHOO_INDEX_GSPC\"\n",
    "            date = series.Date[i]\n",
    "            adjusted_price = series['Adjusted Close'][i]\n",
    "            row_key = \"row{}\".format(i+1)\n",
    "            row_content = {'cf:DATE': str(date), 'cf:ADJUSTED_PRICE': str(adjusted_price)}\n",
    "        \n",
    "        else:\n",
    "            pass\n",
    "        \n",
    "        hbase_table.put(row_key, row_content)\n",
    "\n",
    "    # count populated row number for sanity check\n",
    "    total_row = 0\n",
    "    for key, data in hbase_table.scan():\n",
    "        total_row += 1\n",
    "        \n",
    "    if total_row == len(series):\n",
    "        print \"Successfully create and populate HBase for code {}!\".format(code_name)\n",
    "    else:\n",
    "        if total_row == 0:\n",
    "            print \"ERROR: Failed to populate HBase table!\"\n",
    "        else:\n",
    "            print \"ERROR: Imcomplete HBase generated!\"\n",
    "    print \"Done for this table!\"\n",
    "    \n",
    "    return hbase_table"
   ]
  },
  {
   "cell_type": "code",
   "execution_count": 88,
   "metadata": {
    "collapsed": false
   },
   "outputs": [
    {
     "name": "stdout",
     "output_type": "stream",
     "text": [
      "Successfully create and populate HBase for code FRED_00XALCCHM086NEST!\n",
      "Done for this table!\n",
      "Successfully create and populate HBase for code FRED_00XALCFIM086NEST!\n",
      "Done for this table!\n",
      "Successfully create and populate HBase for code FRED_00XALCHRM086NEST!\n",
      "Done for this table!\n",
      "Successfully create and populate HBase for code FRED_00XAPFEEM086NEST!\n",
      "Done for this table!\n",
      "Successfully create and populate HBase for code FRED_00XE00EZ17M086NEST!\n",
      "Done for this table!\n",
      "Successfully create and populate HBase for code FRED_00XE00NOM086NEST!\n",
      "Done for this table!\n",
      "Successfully create and populate HBase for code FRED_00XEFDSEM086NEST!\n",
      "Done for this table!\n",
      "Successfully create and populate HBase for code FRED_00XESEHRM086NEST!\n",
      "Done for this table!\n",
      "Successfully create and populate HBase for code FRED_00XESEITM086NEST!\n",
      "Done for this table!\n"
     ]
    }
   ],
   "source": [
    "# read all downloaded CSV files, create HBase tables for each one\n",
    "# It took around 0.5 second to parse each CSV file into HBase table, so here\n",
    "# I only parsed 10 CSV files to demonstrate that it works\n",
    "\n",
    "import pandas as pd\n",
    "\n",
    "fred_codes_dir = \"/Users/sundeepblue/Desktop/fred_codes\"\n",
    "all_items = os.listdir(fred_codes_dir)\n",
    "how_many_to_parse = 10\n",
    "for f in all_items[:how_many_to_parse]:\n",
    "    if f.startswith(\"FRED\"):\n",
    "        code_name = f.split(\".\")[0]\n",
    "        csv_file_path = os.path.join(fred_codes_dir, f)\n",
    "        create_and_populate_hbase_table(code_name, csv_file_path)\n",
    "        "
   ]
  },
  {
   "cell_type": "markdown",
   "metadata": {},
   "source": [
    "# Create HBase table for S&P Index data"
   ]
  },
  {
   "cell_type": "code",
   "execution_count": 105,
   "metadata": {
    "collapsed": false
   },
   "outputs": [
    {
     "name": "stdout",
     "output_type": "stream",
     "text": [
      "Successfully create and populate HBase for code YAHOO_INDEX_GSPC!\n",
      "Done for this table!\n"
     ]
    }
   ],
   "source": [
    "gspc_code_dir = \"/Users/sundeepblue/Desktop/gspc_code\"\n",
    "csv_file_path = os.path.join(gspc_code_dir, \"YAHOO_INDEX_GSPC.csv\")\n",
    "hbase_table = create_and_populate_hbase_table(\"YAHOO_INDEX_GSPC\", csv_file_path)"
   ]
  },
  {
   "cell_type": "markdown",
   "metadata": {},
   "source": [
    "## Verify first 100 rows in the created HBase table"
   ]
  },
  {
   "cell_type": "code",
   "execution_count": 106,
   "metadata": {
    "collapsed": false
   },
   "outputs": [
    {
     "name": "stdout",
     "output_type": "stream",
     "text": [
      "row1 {'cf:DATE': '1950-01-03', 'cf:ADJUSTED_PRICE': '16.66'}\n",
      "row10 {'cf:DATE': '1950-01-16', 'cf:ADJUSTED_PRICE': '16.719999'}\n",
      "row100 {'cf:DATE': '1950-05-25', 'cf:ADJUSTED_PRICE': '18.690001'}\n",
      "row1000 {'cf:DATE': '1954-01-04', 'cf:ADJUSTED_PRICE': '24.950001'}\n",
      "row10000 {'cf:DATE': '1989-10-12', 'cf:ADJUSTED_PRICE': '355.390015'}\n",
      "row10001 {'cf:DATE': '1989-10-13', 'cf:ADJUSTED_PRICE': '333.649994'}\n",
      "row10002 {'cf:DATE': '1989-10-16', 'cf:ADJUSTED_PRICE': '342.850006'}\n",
      "row10003 {'cf:DATE': '1989-10-17', 'cf:ADJUSTED_PRICE': '341.160004'}\n",
      "row10004 {'cf:DATE': '1989-10-18', 'cf:ADJUSTED_PRICE': '341.76001'}\n",
      "row10005 {'cf:DATE': '1989-10-19', 'cf:ADJUSTED_PRICE': '347.130005'}\n",
      "row10006 {'cf:DATE': '1989-10-20', 'cf:ADJUSTED_PRICE': '347.160004'}\n",
      "row10007 {'cf:DATE': '1989-10-23', 'cf:ADJUSTED_PRICE': '344.829987'}\n",
      "row10008 {'cf:DATE': '1989-10-24', 'cf:ADJUSTED_PRICE': '343.700012'}\n",
      "row10009 {'cf:DATE': '1989-10-25', 'cf:ADJUSTED_PRICE': '342.5'}\n",
      "row1001 {'cf:DATE': '1954-01-05', 'cf:ADJUSTED_PRICE': '25.1'}\n",
      "row10010 {'cf:DATE': '1989-10-26', 'cf:ADJUSTED_PRICE': '337.929993'}\n",
      "row10011 {'cf:DATE': '1989-10-27', 'cf:ADJUSTED_PRICE': '335.059998'}\n",
      "row10012 {'cf:DATE': '1989-10-30', 'cf:ADJUSTED_PRICE': '335.070007'}\n",
      "row10013 {'cf:DATE': '1989-10-31', 'cf:ADJUSTED_PRICE': '340.359985'}\n",
      "row10014 {'cf:DATE': '1989-11-01', 'cf:ADJUSTED_PRICE': '341.200012'}\n",
      "row10015 {'cf:DATE': '1989-11-02', 'cf:ADJUSTED_PRICE': '338.480011'}\n",
      "row10016 {'cf:DATE': '1989-11-03', 'cf:ADJUSTED_PRICE': '337.619995'}\n",
      "row10017 {'cf:DATE': '1989-11-06', 'cf:ADJUSTED_PRICE': '332.609985'}\n",
      "row10018 {'cf:DATE': '1989-11-07', 'cf:ADJUSTED_PRICE': '334.809998'}\n",
      "row10019 {'cf:DATE': '1989-11-08', 'cf:ADJUSTED_PRICE': '338.149994'}\n",
      "row1002 {'cf:DATE': '1954-01-06', 'cf:ADJUSTED_PRICE': '25.139999'}\n",
      "row10020 {'cf:DATE': '1989-11-09', 'cf:ADJUSTED_PRICE': '336.570007'}\n",
      "row10021 {'cf:DATE': '1989-11-10', 'cf:ADJUSTED_PRICE': '339.100006'}\n",
      "row10022 {'cf:DATE': '1989-11-13', 'cf:ADJUSTED_PRICE': '339.549988'}\n",
      "row10023 {'cf:DATE': '1989-11-14', 'cf:ADJUSTED_PRICE': '337.98999'}\n",
      "row10024 {'cf:DATE': '1989-11-15', 'cf:ADJUSTED_PRICE': '340.540009'}\n",
      "row10025 {'cf:DATE': '1989-11-16', 'cf:ADJUSTED_PRICE': '340.579987'}\n",
      "row10026 {'cf:DATE': '1989-11-17', 'cf:ADJUSTED_PRICE': '341.609985'}\n",
      "row10027 {'cf:DATE': '1989-11-20', 'cf:ADJUSTED_PRICE': '339.350006'}\n",
      "row10028 {'cf:DATE': '1989-11-21', 'cf:ADJUSTED_PRICE': '339.589996'}\n",
      "row10029 {'cf:DATE': '1989-11-22', 'cf:ADJUSTED_PRICE': '341.910004'}\n",
      "row1003 {'cf:DATE': '1954-01-07', 'cf:ADJUSTED_PRICE': '25.059999'}\n",
      "row10030 {'cf:DATE': '1989-11-24', 'cf:ADJUSTED_PRICE': '343.970001'}\n",
      "row10031 {'cf:DATE': '1989-11-27', 'cf:ADJUSTED_PRICE': '345.609985'}\n",
      "row10032 {'cf:DATE': '1989-11-28', 'cf:ADJUSTED_PRICE': '345.769989'}\n",
      "row10033 {'cf:DATE': '1989-11-29', 'cf:ADJUSTED_PRICE': '343.600006'}\n",
      "row10034 {'cf:DATE': '1989-11-30', 'cf:ADJUSTED_PRICE': '345.98999'}\n",
      "row10035 {'cf:DATE': '1989-12-01', 'cf:ADJUSTED_PRICE': '350.630005'}\n",
      "row10036 {'cf:DATE': '1989-12-04', 'cf:ADJUSTED_PRICE': '351.410004'}\n",
      "row10037 {'cf:DATE': '1989-12-05', 'cf:ADJUSTED_PRICE': '349.579987'}\n",
      "row10038 {'cf:DATE': '1989-12-06', 'cf:ADJUSTED_PRICE': '348.549988'}\n",
      "row10039 {'cf:DATE': '1989-12-07', 'cf:ADJUSTED_PRICE': '347.589996'}\n",
      "row1004 {'cf:DATE': '1954-01-08', 'cf:ADJUSTED_PRICE': '24.93'}\n",
      "row10040 {'cf:DATE': '1989-12-08', 'cf:ADJUSTED_PRICE': '348.690002'}\n",
      "row10041 {'cf:DATE': '1989-12-11', 'cf:ADJUSTED_PRICE': '348.559998'}\n",
      "row10042 {'cf:DATE': '1989-12-12', 'cf:ADJUSTED_PRICE': '351.730011'}\n",
      "row10043 {'cf:DATE': '1989-12-13', 'cf:ADJUSTED_PRICE': '352.75'}\n",
      "row10044 {'cf:DATE': '1989-12-14', 'cf:ADJUSTED_PRICE': '350.929993'}\n",
      "row10045 {'cf:DATE': '1989-12-15', 'cf:ADJUSTED_PRICE': '350.140015'}\n",
      "row10046 {'cf:DATE': '1989-12-18', 'cf:ADJUSTED_PRICE': '343.690002'}\n",
      "row10047 {'cf:DATE': '1989-12-19', 'cf:ADJUSTED_PRICE': '342.459991'}\n",
      "row10048 {'cf:DATE': '1989-12-20', 'cf:ADJUSTED_PRICE': '342.839996'}\n",
      "row10049 {'cf:DATE': '1989-12-21', 'cf:ADJUSTED_PRICE': '344.779999'}\n",
      "row1005 {'cf:DATE': '1954-01-11', 'cf:ADJUSTED_PRICE': '24.799999'}\n",
      "row10050 {'cf:DATE': '1989-12-22', 'cf:ADJUSTED_PRICE': '347.420013'}\n",
      "row10051 {'cf:DATE': '1989-12-26', 'cf:ADJUSTED_PRICE': '346.809998'}\n",
      "row10052 {'cf:DATE': '1989-12-27', 'cf:ADJUSTED_PRICE': '348.809998'}\n",
      "row10053 {'cf:DATE': '1989-12-28', 'cf:ADJUSTED_PRICE': '350.670013'}\n",
      "row10054 {'cf:DATE': '1989-12-29', 'cf:ADJUSTED_PRICE': '353.399994'}\n",
      "row10055 {'cf:DATE': '1990-01-02', 'cf:ADJUSTED_PRICE': '359.690002'}\n",
      "row10056 {'cf:DATE': '1990-01-03', 'cf:ADJUSTED_PRICE': '358.76001'}\n",
      "row10057 {'cf:DATE': '1990-01-04', 'cf:ADJUSTED_PRICE': '355.670013'}\n",
      "row10058 {'cf:DATE': '1990-01-05', 'cf:ADJUSTED_PRICE': '352.200012'}\n",
      "row10059 {'cf:DATE': '1990-01-08', 'cf:ADJUSTED_PRICE': '353.790009'}\n",
      "row1006 {'cf:DATE': '1954-01-12', 'cf:ADJUSTED_PRICE': '24.93'}\n",
      "row10060 {'cf:DATE': '1990-01-09', 'cf:ADJUSTED_PRICE': '349.619995'}\n",
      "row10061 {'cf:DATE': '1990-01-10', 'cf:ADJUSTED_PRICE': '347.309998'}\n",
      "row10062 {'cf:DATE': '1990-01-11', 'cf:ADJUSTED_PRICE': '348.529999'}\n",
      "row10063 {'cf:DATE': '1990-01-12', 'cf:ADJUSTED_PRICE': '339.929993'}\n",
      "row10064 {'cf:DATE': '1990-01-15', 'cf:ADJUSTED_PRICE': '337.0'}\n",
      "row10065 {'cf:DATE': '1990-01-16', 'cf:ADJUSTED_PRICE': '340.75'}\n",
      "row10066 {'cf:DATE': '1990-01-17', 'cf:ADJUSTED_PRICE': '337.399994'}\n",
      "row10067 {'cf:DATE': '1990-01-18', 'cf:ADJUSTED_PRICE': '338.190002'}\n",
      "row10068 {'cf:DATE': '1990-01-19', 'cf:ADJUSTED_PRICE': '339.149994'}\n",
      "row10069 {'cf:DATE': '1990-01-22', 'cf:ADJUSTED_PRICE': '330.380005'}\n",
      "row1007 {'cf:DATE': '1954-01-13', 'cf:ADJUSTED_PRICE': '25.07'}\n",
      "row10070 {'cf:DATE': '1990-01-23', 'cf:ADJUSTED_PRICE': '331.609985'}\n",
      "row10071 {'cf:DATE': '1990-01-24', 'cf:ADJUSTED_PRICE': '330.26001'}\n",
      "row10072 {'cf:DATE': '1990-01-25', 'cf:ADJUSTED_PRICE': '326.079987'}\n",
      "row10073 {'cf:DATE': '1990-01-26', 'cf:ADJUSTED_PRICE': '325.799988'}\n",
      "row10074 {'cf:DATE': '1990-01-29', 'cf:ADJUSTED_PRICE': '325.200012'}\n",
      "row10075 {'cf:DATE': '1990-01-30', 'cf:ADJUSTED_PRICE': '322.980011'}\n",
      "row10076 {'cf:DATE': '1990-01-31', 'cf:ADJUSTED_PRICE': '329.079987'}\n",
      "row10077 {'cf:DATE': '1990-02-01', 'cf:ADJUSTED_PRICE': '328.790009'}\n",
      "row10078 {'cf:DATE': '1990-02-02', 'cf:ADJUSTED_PRICE': '330.920013'}\n",
      "row10079 {'cf:DATE': '1990-02-05', 'cf:ADJUSTED_PRICE': '331.850006'}\n",
      "row1008 {'cf:DATE': '1954-01-14', 'cf:ADJUSTED_PRICE': '25.190001'}\n",
      "row10080 {'cf:DATE': '1990-02-06', 'cf:ADJUSTED_PRICE': '329.660004'}\n",
      "row10081 {'cf:DATE': '1990-02-07', 'cf:ADJUSTED_PRICE': '333.75'}\n",
      "row10082 {'cf:DATE': '1990-02-08', 'cf:ADJUSTED_PRICE': '332.959991'}\n",
      "row10083 {'cf:DATE': '1990-02-09', 'cf:ADJUSTED_PRICE': '333.619995'}\n",
      "row10084 {'cf:DATE': '1990-02-12', 'cf:ADJUSTED_PRICE': '330.079987'}\n",
      "row10085 {'cf:DATE': '1990-02-13', 'cf:ADJUSTED_PRICE': '331.019989'}\n",
      "row10086 {'cf:DATE': '1990-02-14', 'cf:ADJUSTED_PRICE': '332.01001'}\n",
      "row10087 {'cf:DATE': '1990-02-15', 'cf:ADJUSTED_PRICE': '334.890015'}\n",
      "row10088 {'cf:DATE': '1990-02-16', 'cf:ADJUSTED_PRICE': '332.720001'}\n"
     ]
    }
   ],
   "source": [
    "# show first 100 rows in the HBase table\n",
    "rows_to_show = 100\n",
    "for key, data in hbase_table.scan():\n",
    "    if rows_to_show >= 0:\n",
    "        print key, data\n",
    "    rows_to_show -= 1"
   ]
  },
  {
   "cell_type": "code",
   "execution_count": null,
   "metadata": {
    "collapsed": true
   },
   "outputs": [],
   "source": [
    "# we can order the rows by row_key, but it is unnecessary here"
   ]
  }
 ],
 "metadata": {
  "kernelspec": {
   "display_name": "Python 2",
   "language": "python",
   "name": "python2"
  },
  "language_info": {
   "codemirror_mode": {
    "name": "ipython",
    "version": 2
   },
   "file_extension": ".py",
   "mimetype": "text/x-python",
   "name": "python",
   "nbconvert_exporter": "python",
   "pygments_lexer": "ipython2",
   "version": "2.7.12"
  }
 },
 "nbformat": 4,
 "nbformat_minor": 0
}
