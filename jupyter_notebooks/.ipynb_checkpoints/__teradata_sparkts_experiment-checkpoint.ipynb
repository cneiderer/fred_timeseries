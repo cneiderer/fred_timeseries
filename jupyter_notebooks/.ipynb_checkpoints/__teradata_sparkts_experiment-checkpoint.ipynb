{
 "cells": [
  {
   "cell_type": "code",
   "execution_count": 24,
   "metadata": {
    "collapsed": true
   },
   "outputs": [],
   "source": [
    "from datetime import datetime\n",
    "\n",
    "from pyspark import SparkContext, SQLContext\n",
    "from pyspark.sql import Row\n",
    "from pyspark.sql.types import StructType, StructField, TimestampType, DoubleType, StringType\n",
    "\n",
    "from sparkts.datetimeindex import uniform, BusinessDayFrequency\n",
    "from sparkts.timeseriesrdd import time_series_rdd_from_observations"
   ]
  },
  {
   "cell_type": "code",
   "execution_count": 10,
   "metadata": {
    "collapsed": true
   },
   "outputs": [],
   "source": [
    "def loadObservations(sparkContext, sqlContext, path):\n",
    "    textFile = sparkContext.textFile(path)\n",
    "    rowRdd = textFile.map(lineToRow)\n",
    "    schema = StructType([\n",
    "        StructField('timestamp', TimestampType(), nullable=True),\n",
    "        StructField('symbol', StringType(), nullable=True),\n",
    "        StructField('price', DoubleType(), nullable=True),\n",
    "    ])\n",
    "    return sqlContext.createDataFrame(rowRdd, schema);"
   ]
  },
  {
   "cell_type": "code",
   "execution_count": 11,
   "metadata": {
    "collapsed": true
   },
   "outputs": [],
   "source": [
    "def lineToRow(line):\n",
    "    (year, month, day, symbol, volume, price) = line.split(\"\\t\")\n",
    "    # Python 2.x compatible timestamp generation\n",
    "    dt = datetime(int(year), int(month), int(day))\n",
    "    return (dt, symbol, float(price))"
   ]
  },
  {
   "cell_type": "code",
   "execution_count": 12,
   "metadata": {
    "collapsed": true
   },
   "outputs": [],
   "source": [
    "#sc = SparkContext(appName=\"Stocks\")\n",
    "sqlContext = SQLContext(sc)"
   ]
  },
  {
   "cell_type": "code",
   "execution_count": 14,
   "metadata": {
    "collapsed": false
   },
   "outputs": [],
   "source": [
    "data_path = \"/Users/sundeepblue/spark-ts-examples-master/data/ticker.tsv\"\n",
    "tickerObs = loadObservations(sc, sqlContext, data_path)"
   ]
  },
  {
   "cell_type": "code",
   "execution_count": 15,
   "metadata": {
    "collapsed": false
   },
   "outputs": [
    {
     "data": {
      "text/plain": [
       "DataFrame[timestamp: timestamp, symbol: string, price: double]"
      ]
     },
     "execution_count": 15,
     "metadata": {},
     "output_type": "execute_result"
    }
   ],
   "source": [
    "tickerObs"
   ]
  },
  {
   "cell_type": "markdown",
   "metadata": {},
   "source": [
    "# The 'spark-ts' did not work due to a potential bug in \"BusinessDayFrequency\""
   ]
  },
  {
   "cell_type": "code",
   "execution_count": null,
   "metadata": {
    "collapsed": false,
    "scrolled": true
   },
   "outputs": [],
   "source": [
    "# Note:\n",
    "\n",
    "# It appeared that the sample code (https://github.com/sryza/spark-ts-examples/blob/master/python/Stocks.py) \n",
    "# provided by spark-ts does not work. I suspect there is still a bug in the function python \n",
    "# class 'BusinessDayFrequency', but the fix made by the spark-ts team was not yet pushed to the repository\n",
    "\n",
    "# See related posts by others who encountered the same issue:\n",
    "# https://groups.google.com/forum/#!topic/spark-ts/Nl2w2Sq1VIY\n",
    "# https://forums.databricks.com/questions/6575/how-can-i-use-spark-ts-spark-time-series-library-b.html\n",
    "\n",
    "# Create an daily DateTimeIndex over August and September 2015\n",
    "\n",
    "freq = BusinessDayFrequency(1, 1, sc) # ERROR will occur here showing \"JavaPackage object is not callable\"\n",
    "dtIndex = uniform(start='2015-08-03T00:00-07:00', end='2015-09-22T00:00-07:00', freq=freq, sc=sc)"
   ]
  },
  {
   "cell_type": "markdown",
   "metadata": {},
   "source": [
    "# Use a python library called \"statsmodels\" to manipulate stock/S&P index"
   ]
  },
  {
   "cell_type": "code",
   "execution_count": null,
   "metadata": {
    "collapsed": true
   },
   "outputs": [],
   "source": [
    "# The functionality of spark-ts is still very limited to process/predict stock price\n",
    "# https://github.com/sryza/spark-ts-examples\n",
    "# therefore I will use a python library called \"statsmodels\" to manipulate stock/S&P index.\n",
    "\n",
    "# see another jupyter notebook"
   ]
  }
 ],
 "metadata": {
  "kernelspec": {
   "display_name": "Python 2",
   "language": "python",
   "name": "python2"
  },
  "language_info": {
   "codemirror_mode": {
    "name": "ipython",
    "version": 2
   },
   "file_extension": ".py",
   "mimetype": "text/x-python",
   "name": "python",
   "nbconvert_exporter": "python",
   "pygments_lexer": "ipython2",
   "version": "2.7.11"
  }
 },
 "nbformat": 4,
 "nbformat_minor": 0
}
