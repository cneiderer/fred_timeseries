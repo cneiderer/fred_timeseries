{
 "cells": [
  {
   "cell_type": "markdown",
   "metadata": {
    "collapsed": false
   },
   "source": [
    "## Timeseries with spark-ts"
   ]
  },
  {
   "cell_type": "code",
   "execution_count": 2,
   "metadata": {
    "collapsed": true
   },
   "outputs": [],
   "source": [
    "from datetime import datetime\n",
    "\n",
    "from pyspark import SparkContext, SQLContext\n",
    "from pyspark.sql import Row\n",
    "from pyspark.sql.types import StructType, StructField, TimestampType, DoubleType, StringType\n",
    "\n",
    "from sparkts.datetimeindex import uniform, BusinessDayFrequency\n",
    "from sparkts.timeseriesrdd import time_series_rdd_from_observations\n",
    "\n",
    "def lineToRow(line):\n",
    "    (year, month, day, symbol, volume, price) = line.split(\"\\t\")\n",
    "    # Python 2.x compatible timestamp generation\n",
    "    dt = datetime(int(year), int(month), int(day))\n",
    "    return (dt, symbol, float(price))\n",
    "\n",
    "def loadObservations(sparkContext, sqlContext, path):\n",
    "    textFile = sparkContext.textFile(path)\n",
    "    rowRdd = textFile.map(lineToRow)\n",
    "    schema = StructType([\n",
    "        StructField('timestamp', TimestampType(), nullable=True),\n",
    "        StructField('symbol', StringType(), nullable=True),\n",
    "        StructField('price', DoubleType(), nullable=True),\n",
    "    ])\n",
    "    return sqlContext.createDataFrame(rowRdd, schema);"
   ]
  },
  {
   "cell_type": "code",
   "execution_count": 3,
   "metadata": {
    "collapsed": false
   },
   "outputs": [
    {
     "name": "stdout",
     "output_type": "stream",
     "text": [
      "--2016-10-12 15:28:24--  https://raw.githubusercontent.com/sryza/spark-ts-examples/master/data/ticker.tsv\n",
      "Resolving raw.githubusercontent.com... 151.101.12.133\n",
      "Connecting to raw.githubusercontent.com|151.101.12.133|:443... ^C\n"
     ]
    }
   ],
   "source": [
    "!wget https://raw.githubusercontent.com/sryza/spark-ts-examples/master/data/ticker.tsv"
   ]
  },
  {
   "cell_type": "code",
   "execution_count": 4,
   "metadata": {
    "collapsed": true
   },
   "outputs": [],
   "source": [
    "tickerObs = loadObservations(sc, sqlContext, \"ticker.tsv\")"
   ]
  },
  {
   "cell_type": "code",
   "execution_count": 82,
   "metadata": {
    "collapsed": false
   },
   "outputs": [
    {
     "name": "stdout",
     "output_type": "stream",
     "text": [
      "+---------------------+------+------+\n",
      "|timestamp            |symbol|price |\n",
      "+---------------------+------+------+\n",
      "|2015-08-14 00:00:00.0|ADP   |82.99 |\n",
      "|2015-09-14 00:00:00.0|NKE   |111.78|\n",
      "+---------------------+------+------+\n",
      "only showing top 2 rows\n",
      "\n"
     ]
    }
   ],
   "source": [
    "tickerObs.show(2, truncate=False)"
   ]
  },
  {
   "cell_type": "code",
   "execution_count": 92,
   "metadata": {
    "collapsed": false
   },
   "outputs": [],
   "source": [
    "# Create an daily DateTimeIndex over August and September 2015\n",
    "freq = BusinessDayFrequency(1, 1, sc)\n",
    "dtIndex = uniform(start='2015-08-03T00:00+01:00', end='2015-09-22T00:00+01:00', freq=freq, sc=sc)"
   ]
  },
  {
   "cell_type": "code",
   "execution_count": 93,
   "metadata": {
    "collapsed": false
   },
   "outputs": [
    {
     "data": {
      "text/plain": [
       "uniform,Europe/London,2015-08-03T00:00+01:00[Europe/London],37,businessDays 1 firstDayOfWeek 1"
      ]
     },
     "execution_count": 93,
     "metadata": {},
     "output_type": "execute_result"
    }
   ],
   "source": [
    "dtIndex"
   ]
  },
  {
   "cell_type": "code",
   "execution_count": 94,
   "metadata": {
    "collapsed": true
   },
   "outputs": [],
   "source": [
    "tickerTsrdd = time_series_rdd_from_observations(dtIndex, tickerObs, \"timestamp\", \"symbol\", \"price\")"
   ]
  },
  {
   "cell_type": "code",
   "execution_count": 95,
   "metadata": {
    "collapsed": false
   },
   "outputs": [
    {
     "data": {
      "text/plain": [
       "[(u'AAL',\n",
       "  array([ 41.71,  42.74,  42.96,  42.18,  41.49,  41.68,  42.7 ,  42.52,\n",
       "          42.67,  42.88,  43.95,  43.63,  43.53,  41.98,  39.75,  37.62,\n",
       "          37.5 ,  38.85,  39.03,  38.62,  38.98,  39.2 ,  41.51,  40.89,\n",
       "          40.6 ,    nan,  40.8 ,  41.  ,  41.21,  42.15,  42.29,  42.64,\n",
       "          43.06,  43.99,  43.49,  43.24,  41.19])),\n",
       " (u'AAPL',\n",
       "  array([ 118.44  ,  114.64  ,  115.4   ,  115.13  ,  115.52  ,  119.6901,\n",
       "          113.5499,  115.24  ,  115.15  ,  116.    ,  117.1601,  116.5   ,\n",
       "          115.01  ,  112.65  ,  105.76  ,  103.155 ,  103.74  ,  109.625 ,\n",
       "          112.92  ,  113.29  ,  112.76  ,  107.72  ,  112.34  ,  110.37  ,\n",
       "          109.27  ,       nan,  112.21  ,  110.15  ,  112.57  ,  114.017 ,\n",
       "          115.3   ,  116.28  ,  116.35  ,  113.92  ,  113.45  ,  115.23  ,\n",
       "          113.432 ])),\n",
       " (u'ADI',\n",
       "  array([ 58.67,  58.48,  60.7 ,  58.87,  59.61,  61.09,  59.38,  59.74,\n",
       "          59.  ,  58.84,  59.5 ,  57.9 ,  58.38,  53.82,  53.78,  51.67,\n",
       "          50.61,  54.22,  56.48,  56.45,  55.86,  53.55,  54.59,  55.17,\n",
       "          53.96,    nan,  57.77,  56.27,  56.01,  56.35,  57.56,  58.3 ,\n",
       "          58.45,  57.93,  56.67,  56.62,  55.18])),\n",
       " (u'AEP', array([ 57.07 ,  56.39 ,  56.66 ,  56.28 ,  56.79 ,  56.7  ,  56.86 ,\n",
       "          57.58 ,  57.54 ,  58.2  ,  58.36 ,  58.27 ,  58.81 ,  58.37 ,\n",
       "          57.29 ,  54.83 ,  53.03 ,  54.04 ,  54.89 ,  54.9  ,  54.29 ,\n",
       "          53.   ,  53.01 ,  53.34 ,  52.55 ,     nan,  54.07 ,  53.38 ,\n",
       "          53.37 ,  53.78 ,  53.69 ,  53.85 ,  54.605,  55.86 ,  55.48 ,\n",
       "          55.59 ,  54.71 ])),\n",
       " (u'AIZ',\n",
       "  array([ 76.33,  76.07,  76.67,  76.71,  77.11,  78.01,  79.14,  78.85,\n",
       "          79.57,  79.57,  79.47,  79.43,  78.95,  77.09,  74.9 ,  71.59,\n",
       "          71.94,  74.35,  75.04,  74.75,  74.35,  72.15,  73.09,  73.1 ,\n",
       "          72.43,    nan,  73.78,  73.29,  75.47,  76.82,  76.62,  77.8 ,\n",
       "          76.91,  76.65,  75.53,  76.39,  75.6 ])),\n",
       " (u'AKAM', array([ 75.75  ,  75.61  ,  76.03  ,  74.42  ,  74.53  ,  75.01  ,\n",
       "          72.96  ,  73.92  ,  73.84  ,  73.37  ,  73.57  ,  73.89  ,\n",
       "          73.06  ,  69.78  ,  68.0399,  66.52  ,  65.63  ,  68.17  ,\n",
       "          70.5   ,  71.9   ,  71.31  ,  70.43  ,  71.27  ,  73.26  ,\n",
       "          72.58  ,      nan,  74.32  ,  73.35  ,  74.55  ,  74.67  ,\n",
       "          74.55  ,  75.2   ,  74.82  ,  74.64  ,  71.95  ,  72.07  ,  70.61  ])),\n",
       " (u'AMZN',\n",
       "  array([ 534.59,  531.9 ,  537.01,  529.46,  522.62,  524.  ,  527.46,\n",
       "          525.91,  529.66,  531.52,  535.31,  535.02,  532.92,  515.78,\n",
       "          494.5 ,  463.37,  466.37,  500.98,  518.37,  518.01,  512.89,\n",
       "          496.54,  510.55,  504.72,  499.  ,     nan,  517.54,  516.89,\n",
       "          522.24,  529.44,  521.38,  522.37,  527.24,  538.87,  540.26,\n",
       "          548.54,  538.4 ])),\n",
       " (u'ANTM',\n",
       "  array([ 152.79,  152.52,  154.89,  152.45,  152.52,  152.39,  152.47,\n",
       "          149.56,  149.74,  149.26,  151.88,  153.34,  151.98,  147.87,\n",
       "          146.85,  140.59,  137.98,  142.25,  142.08,  140.55,  141.02,\n",
       "          137.98,  140.45,  142.96,  142.06,     nan,  146.39,  145.5 ,\n",
       "          143.91,  147.08,  145.83,  148.24,  151.15,  150.3 ,  146.93,\n",
       "          149.78,  148.66])),\n",
       " (u'ARG', array([ 102.57,  102.7 ,  102.96,  103.67,  103.81,  105.76,  105.25,\n",
       "          105.35,  105.71,  106.94,  106.39,  106.07,  104.86,  103.  ,\n",
       "           99.55,   95.51,   92.57,   95.23,   96.81,   97.19,   96.53,\n",
       "           94.02,   95.25,   96.25,   93.53,     nan,   95.15,   94.41,\n",
       "           94.8 ,   94.3 ,   93.55,   93.93,   95.15,   95.54,   93.16,\n",
       "           93.66,   92.36])),\n",
       " (u'BLL', array([ 67.35  ,  67.79  ,  68.26  ,  69.33  ,  69.38  ,  70.86  ,\n",
       "          70.16  ,  69.69  ,  70.36  ,  71.73  ,  71.66  ,  71.62  ,\n",
       "          70.64  ,  68.91  ,  67.23  ,  64.955 ,  63.64  ,  63.86  ,\n",
       "          65.78  ,  66.52  ,  65.92  ,  64.39  ,  64.89  ,  66.2   ,\n",
       "          64.01  ,      nan,  66.8711,  66.81  ,  66.86  ,  66.61  ,\n",
       "          65.86  ,  67.31  ,  67.83  ,  67.2   ,  66.97  ,  67.09  ,  64.87  ])),\n",
       " (u'CAT', array([ 77.25 ,  76.6  ,  76.885,  77.47 ,  77.26 ,  80.16 ,  78.05 ,\n",
       "          78.93 ,  77.75 ,  78.48 ,  78.56 ,  78.83 ,  77.38 ,  76.41 ,\n",
       "          75.02 ,  72.82 ,  72.08 ,  73.88 ,  75.65 ,  75.96 ,  76.44 ,\n",
       "          74.66 ,  76.11 ,  74.38 ,  73.11 ,     nan,  74.29 ,  72.97 ,\n",
       "          72.39 ,  72.62 ,  72.78 ,  74.59 ,  75.66 ,  74.105,  71.875,\n",
       "          72.21 ,  71.67 ])),\n",
       " (u'CERN',\n",
       "  array([ 70.9 ,  70.32,  67.3 ,  65.3 ,  63.59,  63.21,  62.81,  63.12,\n",
       "          62.89,  64.25,  64.54,  65.6 ,  65.  ,  63.27,  61.72,  60.64,\n",
       "          60.24,  61.63,  61.44,  63.13,  61.76,  59.87,  60.96,  60.81,\n",
       "          59.83,    nan,  62.38,  61.43,  61.81,  62.52,  61.75,  62.64,\n",
       "          63.39,  64.52,  63.24,  63.49,  62.92])),\n",
       " (u'COH', array([ 30.45 ,  31.4  ,  31.73 ,  31.55 ,  33.08 ,  33.06 ,  32.65 ,\n",
       "          31.19 ,  31.47 ,  31.93 ,  32.03 ,  32.63 ,  32.075,  31.2  ,\n",
       "          30.72 ,  28.69 ,  28.4  ,  29.42 ,  30.11 ,  29.96 ,  30.25 ,\n",
       "          29.6  ,  29.81 ,  29.85 ,  29.17 ,     nan,  30.15 ,  29.06 ,\n",
       "          29.51 ,  29.44 ,  28.99 ,  29.39 ,  29.92 ,  29.86 ,  29.09 ,\n",
       "          29.28 ,  28.92 ])),\n",
       " (u'COP', array([ 49.72  ,  49.88  ,  49.12  ,  50.307 ,  48.8492,  50.2   ,\n",
       "          50.41  ,  51.55  ,  50.1   ,  49.77  ,  49.57  ,  49.51  ,\n",
       "          47.69  ,  47.    ,  45.41  ,  42.96  ,  42.23  ,  43.42  ,\n",
       "          45.89  ,  46.82  ,  49.14  ,  47.76  ,  48.2   ,  48.18  ,\n",
       "          47.2   ,      nan,  48.46  ,  47.85  ,  48.44  ,  47.35  ,\n",
       "          46.78  ,  47.27  ,  49.47  ,  50.13  ,  48.375 ,  48.78  ,  48.61  ])),\n",
       " (u'CSCO',\n",
       "  array([ 28.36 ,  28.03 ,  28.27 ,  28.21 ,  28.15 ,  28.59 ,  28.03 ,\n",
       "          27.9  ,  28.7  ,  29.03 ,  28.825,  28.25 ,  27.8  ,  27.04 ,\n",
       "          26.47 ,  25.19 ,  24.62 ,  25.68 ,  26.17 ,  26.   ,  25.88 ,\n",
       "          25.12 ,  25.65 ,  25.9  ,  25.52 ,     nan,  26.3  ,  25.94 ,\n",
       "          26.26 ,  26.02 ,  25.69 ,  25.98 ,  26.07 ,  25.88 ,  25.54 ,\n",
       "          25.55 ,  25.14 ])),\n",
       " (u'CTXS', array([ 75.87  ,  76.06  ,  76.96  ,  75.72  ,  75.26  ,  76.13  ,\n",
       "          75.2   ,  76.42  ,  76.8   ,  77.55  ,  77.73  ,  78.09  ,\n",
       "          77.62  ,  75.86  ,  73.9895,  67.02  ,  66.2   ,  68.41  ,\n",
       "          69.59  ,  68.69  ,  68.11  ,  65.4   ,  67.39  ,  67.87  ,\n",
       "          67.89  ,      nan,  69.84  ,  68.93  ,  69.9   ,  70.46  ,\n",
       "          70.7   ,  72.25  ,  72.97  ,  73.09  ,  72.3   ,  72.86  ,  72.15  ])),\n",
       " (u'DISCK',\n",
       "  array([ 30.01,  30.06,  26.72,  27.97,  27.75,  27.96,  27.25,  27.49,\n",
       "          27.25,  27.12,  27.67,  27.75,  27.6 ,  26.27,  25.99,  24.86,\n",
       "          24.21,  25.1 ,  25.32,  25.71,  25.36,  25.23,  25.5 ,  25.84,\n",
       "          25.23,    nan,  25.81,  25.34,  25.46,  25.38,  24.82,  25.34,\n",
       "          25.93,  26.26,  26.24,  26.64,  25.97])),\n",
       " (u'DLTR', array([ 77.66  ,  77.8   ,  78.58  ,  77.6   ,  77.26  ,  78.11  ,\n",
       "          77.69  ,  77.32  ,  77.33  ,  77.78  ,  78.48  ,  79.37  ,\n",
       "          80.92  ,  80.38  ,  76.3799,  73.71  ,  73.16  ,  77.34  ,\n",
       "          76.79  ,  76.73  ,  76.26  ,  69.65  ,  67.59  ,  67.    ,\n",
       "          68.09  ,      nan,  68.79  ,  67.94  ,  66.06  ,  66.46  ,\n",
       "          65.34  ,  66.24  ,  67.71  ,  67.83  ,  66.65  ,  67.85  ,  69.18  ])),\n",
       " (u'EXPE', array([ 122.59 ,  124.56 ,  126.79 ,  121.6  ,  121.04 ,  121.49 ,\n",
       "          121.13 ,  120.78 ,  120.66 ,  121.65 ,  123.01 ,  123.32 ,\n",
       "          123.14 ,  118.7  ,  114.51 ,  108.34 ,  108.42 ,  115.24 ,\n",
       "          117.45 ,  116.51 ,  114.99 ,  110.365,  113.38 ,  112.89 ,\n",
       "          111.23 ,      nan,  114.46 ,  113.35 ,  115.94 ,  116.61 ,\n",
       "          115.75 ,  118.83 ,  124.68 ,  128.83 ,  126.49 ,  126.32 ,  124.88 ])),\n",
       " (u'F', array([ 14.95  ,  14.9   ,  14.8   ,  14.8351,  14.82  ,  14.9855,\n",
       "          14.7099,  14.68  ,  14.705 ,  14.77  ,  14.68  ,  14.83  ,\n",
       "          14.77  ,  14.41  ,  13.86  ,  13.185 ,  12.915 ,  13.22  ,\n",
       "          13.57  ,  13.721 ,  13.86  ,  13.71  ,  13.88  ,  13.83  ,\n",
       "          13.55  ,      nan,  13.66  ,  13.54  ,  13.73  ,  13.7   ,\n",
       "          13.775 ,  14.3   ,  14.65  ,  14.59  ,  14.26  ,  14.34  ,  13.91  ]))]"
      ]
     },
     "execution_count": 95,
     "metadata": {},
     "output_type": "execute_result"
    }
   ],
   "source": [
    "tickerTsrdd.take(20)"
   ]
  },
  {
   "cell_type": "code",
   "execution_count": 96,
   "metadata": {
    "collapsed": false
   },
   "outputs": [
    {
     "name": "stdout",
     "output_type": "stream",
     "text": [
      "104\n",
      "([0.99930539174187916], u'NFLX')\n",
      "([2.3701164736953166], u'DISCK')\n"
     ]
    }
   ],
   "source": [
    "tickerTsrdd.cache()\n",
    "\n",
    "# Count the number of series (number of symbols)\n",
    "print(tickerTsrdd.count())\n",
    "\n",
    "# Impute missing values using linear interpolation\n",
    "filled = tickerTsrdd.fill(\"linear\")\n",
    "\n",
    "# Compute return rates\n",
    "returnRates = filled.return_rates()\n",
    "\n",
    "# Durbin-Watson test for serial correlation, ported from TimeSeriesStatisticalTests.scala\n",
    "def dwtest(residuals):\n",
    "    residsSum = residuals[0] * residuals[0]\n",
    "    diffsSum = 0.0\n",
    "    i = 1\n",
    "    while i < len(residuals):\n",
    "        residsSum += residuals[i] * residuals[i]\n",
    "        diff = residuals[i] - residuals[i - 1]\n",
    "        diffsSum += diff * diff\n",
    "        i += 1\n",
    "    return diffsSum / residsSum\n",
    "\n",
    "# Compute Durbin-Watson stats for each series\n",
    "# Swap ticker symbol and stats so min and max compare the statistic value, not the\n",
    "# ticker names.\n",
    "dwStats = returnRates.map_series(lambda row: (row[0], [dwtest(row[1])])).map(lambda x: (x[1], x[0]))\n",
    "\n",
    "print(dwStats.min())\n",
    "print(dwStats.max())"
   ]
  },
  {
   "cell_type": "code",
   "execution_count": 97,
   "metadata": {
    "collapsed": false
   },
   "outputs": [
    {
     "data": {
      "text/plain": [
       "[(u'AAL',\n",
       "  array([ 0.02469432,  0.0051474 , -0.01815642, -0.01635846,  0.00457942,\n",
       "          0.02447217, -0.00421546,  0.00352775,  0.00492149,  0.02495336,\n",
       "         -0.007281  , -0.002292  , -0.03560763, -0.05312053, -0.05358491,\n",
       "         -0.00318979,  0.036     ,  0.0046332 , -0.01050474,  0.0093216 ,\n",
       "          0.00564392,  0.05892857, -0.01493616, -0.0070922 ,  0.00246305,\n",
       "          0.002457  ,  0.00490196,  0.00512195,  0.02281   ,  0.00332147,\n",
       "          0.00827619,  0.00984991,  0.02159777, -0.01136622, -0.00574845,\n",
       "         -0.04740981])),\n",
       " (u'AAPL',\n",
       "  array([-0.03208376,  0.00662945, -0.00233969,  0.00338748,  0.03609851,\n",
       "         -0.05130082,  0.01488421, -0.00078098,  0.00738168,  0.01000086,\n",
       "         -0.00563417, -0.0127897 , -0.02051995, -0.06116289, -0.02463124,\n",
       "          0.00567108,  0.05672836,  0.03005701,  0.00327666, -0.00467826,\n",
       "         -0.0446967 ,  0.04288897, -0.01753605, -0.00996648,  0.01345291,\n",
       "          0.01327434, -0.01835844,  0.02197004,  0.01285422,  0.01125271,\n",
       "          0.00849957,  0.000602  , -0.02088526, -0.0041257 ,  0.01568973,\n",
       "         -0.01560358]))]"
      ]
     },
     "execution_count": 97,
     "metadata": {},
     "output_type": "execute_result"
    }
   ],
   "source": [
    "returnRates.take(2)"
   ]
  },
  {
   "cell_type": "code",
   "execution_count": 98,
   "metadata": {
    "collapsed": false
   },
   "outputs": [
    {
     "data": {
      "text/plain": [
       "[(u'AAL',\n",
       "  array([ 41.71,  42.74,  42.96,  42.18,  41.49,  41.68,  42.7 ,  42.52,\n",
       "          42.67,  42.88,  43.95,  43.63,  43.53,  41.98,  39.75,  37.62,\n",
       "          37.5 ,  38.85,  39.03,  38.62,  38.98,  39.2 ,  41.51,  40.89,\n",
       "          40.6 ,    nan,  40.8 ,  41.  ,  41.21,  42.15,  42.29,  42.64,\n",
       "          43.06,  43.99,  43.49,  43.24,  41.19])),\n",
       " (u'AAPL',\n",
       "  array([ 118.44  ,  114.64  ,  115.4   ,  115.13  ,  115.52  ,  119.6901,\n",
       "          113.5499,  115.24  ,  115.15  ,  116.    ,  117.1601,  116.5   ,\n",
       "          115.01  ,  112.65  ,  105.76  ,  103.155 ,  103.74  ,  109.625 ,\n",
       "          112.92  ,  113.29  ,  112.76  ,  107.72  ,  112.34  ,  110.37  ,\n",
       "          109.27  ,       nan,  112.21  ,  110.15  ,  112.57  ,  114.017 ,\n",
       "          115.3   ,  116.28  ,  116.35  ,  113.92  ,  113.45  ,  115.23  ,\n",
       "          113.432 ]))]"
      ]
     },
     "execution_count": 98,
     "metadata": {},
     "output_type": "execute_result"
    }
   ],
   "source": [
    "tickerTsrdd.take(2)"
   ]
  },
  {
   "cell_type": "code",
   "execution_count": 99,
   "metadata": {
    "collapsed": true
   },
   "outputs": [],
   "source": [
    "from sparkts.models import ARIMA\n",
    "\n",
    "for ts in \n",
    "model = returnRates.map_series(lambda row: (row[0], [dwtest(row[1])])).map(lambda x: (x[1], x[0]))\n",
    "arimaModel = ARIMA.fitModel(1, 0, 1, ts)"
   ]
  },
  {
   "cell_type": "code",
   "execution_count": 102,
   "metadata": {
    "collapsed": false
   },
   "outputs": [],
   "source": [
    "arimaModel = ARIMA.fit_model(1, 0, 1, tickerTsrdd)"
   ]
  },
  {
   "cell_type": "code",
   "execution_count": 129,
   "metadata": {
    "collapsed": false
   },
   "outputs": [
    {
     "data": {
      "text/plain": [
       "array([ 0.02469432,  0.0051474 , -0.01815642, -0.01635846,  0.00457942,\n",
       "        0.02447217, -0.00421546,  0.00352775,  0.00492149,  0.02495336,\n",
       "       -0.007281  , -0.002292  , -0.03560763, -0.05312053, -0.05358491,\n",
       "       -0.00318979,  0.036     ,  0.0046332 , -0.01050474,  0.0093216 ,\n",
       "        0.00564392,  0.05892857, -0.01493616, -0.0070922 ,  0.00246305,\n",
       "        0.002457  ,  0.00490196,  0.00512195,  0.02281   ,  0.00332147,\n",
       "        0.00827619,  0.00984991,  0.02159777, -0.01136622, -0.00574845,\n",
       "       -0.04740981])"
      ]
     },
     "execution_count": 129,
     "metadata": {},
     "output_type": "execute_result"
    }
   ],
   "source": [
    "returnRates.collect()[0][1]"
   ]
  },
  {
   "cell_type": "code",
   "execution_count": 130,
   "metadata": {
    "collapsed": true
   },
   "outputs": [],
   "source": [
    "from pyspark.mllib.linalg import Vectors"
   ]
  },
  {
   "cell_type": "code",
   "execution_count": 131,
   "metadata": {
    "collapsed": true
   },
   "outputs": [],
   "source": [
    "ts = Vectors.dense(returnRates.collect()[0][1])"
   ]
  },
  {
   "cell_type": "code",
   "execution_count": 135,
   "metadata": {
    "collapsed": false
   },
   "outputs": [],
   "source": [
    "m = ARIMA.fit_model(1,0,1,ts, sc=sc) "
   ]
  },
  {
   "cell_type": "code",
   "execution_count": 136,
   "metadata": {
    "collapsed": false
   },
   "outputs": [
    {
     "data": {
      "text/plain": [
       "[-0.0012474547399206936, 0.2666755318221923, 0.0961795619837402]"
      ]
     },
     "execution_count": 136,
     "metadata": {},
     "output_type": "execute_result"
    }
   ],
   "source": [
    "m.coefficients"
   ]
  },
  {
   "cell_type": "code",
   "execution_count": 137,
   "metadata": {
    "collapsed": true
   },
   "outputs": [],
   "source": [
    "forecast = m.forecast(ts, 20)"
   ]
  },
  {
   "cell_type": "code",
   "execution_count": 140,
   "metadata": {
    "collapsed": true
   },
   "outputs": [],
   "source": [
    "%matplotlib inline"
   ]
  },
  {
   "cell_type": "code",
   "execution_count": 142,
   "metadata": {
    "collapsed": true
   },
   "outputs": [],
   "source": [
    "import matplotlib.pyplot as plt"
   ]
  },
  {
   "cell_type": "code",
   "execution_count": 157,
   "metadata": {
    "collapsed": false
   },
   "outputs": [
    {
     "data": {
      "text/plain": [
       "<matplotlib.legend.Legend at 0x115a44bd0>"
      ]
     },
     "execution_count": 157,
     "metadata": {},
     "output_type": "execute_result"
    },
    {
     "data": {
      "image/png": "[encoded data removed]",
      "text/plain": [
       "<matplotlib.figure.Figure at 0x1159d4850>"
      ]
     },
     "metadata": {},
     "output_type": "display_data"
    }
   ],
   "source": [
    "plt.plot(forecast.toArray(), label=\"Forecast\")\n",
    "plt.plot(ts.toArray(), label=\"Timeseries\")\n",
    "plt.legend(loc=\"best\")\n",
    "\n"
   ]
  },
  {
   "cell_type": "code",
   "execution_count": 152,
   "metadata": {
    "collapsed": false
   },
   "outputs": [
    {
     "data": {
      "text/plain": [
       "[(u'AAL',\n",
       "  DenseVector([0.0247, 0.0051, -0.0182, -0.0164, 0.0046, 0.0245, -0.0042, 0.0035, 0.0049, 0.025, -0.0073, -0.0023, -0.0356, -0.0531, -0.0536, -0.0032, 0.036, 0.0046, -0.0105, 0.0093, 0.0056, 0.0589, -0.0149, -0.0071, 0.0025, 0.0025, 0.0049, 0.0051, 0.0228, 0.0033, 0.0083, 0.0098, 0.0216, -0.0114, -0.0057, -0.0474])),\n",
       " (u'AAPL',\n",
       "  DenseVector([-0.0321, 0.0066, -0.0023, 0.0034, 0.0361, -0.0513, 0.0149, -0.0008, 0.0074, 0.01, -0.0056, -0.0128, -0.0205, -0.0612, -0.0246, 0.0057, 0.0567, 0.0301, 0.0033, -0.0047, -0.0447, 0.0429, -0.0175, -0.01, 0.0135, 0.0133, -0.0184, 0.022, 0.0129, 0.0113, 0.0085, 0.0006, -0.0209, -0.0041, 0.0157, -0.0156])),\n",
       " (u'ADI',\n",
       "  DenseVector([-0.0032, 0.038, -0.0301, 0.0126, 0.0248, -0.028, 0.0061, -0.0124, -0.0027, 0.0112, -0.0269, 0.0083, -0.0781, -0.0007, -0.0392, -0.0205, 0.0713, 0.0417, -0.0005, -0.0105, -0.0414, 0.0194, 0.0106, -0.0219, 0.0353, 0.0341, -0.026, -0.0046, 0.0061, 0.0215, 0.0129, 0.0026, -0.0089, -0.0218, -0.0009, -0.0254])),\n",
       " (u'AEP',\n",
       "  DenseVector([-0.0119, 0.0048, -0.0067, 0.0091, -0.0016, 0.0028, 0.0127, -0.0007, 0.0115, 0.0027, -0.0015, 0.0093, -0.0075, -0.0185, -0.0429, -0.0328, 0.019, 0.0157, 0.0002, -0.0111, -0.0238, 0.0002, 0.0062, -0.0148, 0.0145, 0.0143, -0.0128, -0.0002, 0.0077, -0.0017, 0.003, 0.014, 0.023, -0.0068, 0.002, -0.0158])),\n",
       " (u'AIZ',\n",
       "  DenseVector([-0.0034, 0.0079, 0.0005, 0.0052, 0.0117, 0.0145, -0.0037, 0.0091, 0.0, -0.0013, -0.0005, -0.006, -0.0236, -0.0284, -0.0442, 0.0049, 0.0335, 0.0093, -0.0039, -0.0054, -0.0296, 0.013, 0.0001, -0.0092, 0.0093, 0.0092, -0.0066, 0.0297, 0.0179, -0.0026, 0.0154, -0.0114, -0.0034, -0.0146, 0.0114, -0.0103])),\n",
       " (u'AKAM',\n",
       "  DenseVector([-0.0018, 0.0056, -0.0212, 0.0015, 0.0064, -0.0273, 0.0132, -0.0011, -0.0064, 0.0027, 0.0043, -0.0112, -0.0449, -0.0249, -0.0223, -0.0134, 0.0387, 0.0342, 0.0199, -0.0082, -0.0123, 0.0119, 0.0279, -0.0093, 0.012, 0.0118, -0.0131, 0.0164, 0.0016, -0.0016, 0.0087, -0.0051, -0.0024, -0.036, 0.0017, -0.0203])),\n",
       " (u'AMZN',\n",
       "  DenseVector([-0.005, 0.0096, -0.0141, -0.0129, 0.0026, 0.0066, -0.0029, 0.0071, 0.0035, 0.0071, -0.0005, -0.0039, -0.0322, -0.0413, -0.063, 0.0065, 0.0742, 0.0347, -0.0007, -0.0099, -0.0319, 0.0282, -0.0114, -0.0113, 0.0186, 0.0182, -0.0013, 0.0104, 0.0138, -0.0152, 0.0019, 0.0093, 0.0221, 0.0026, 0.0153, -0.0185])),\n",
       " (u'ANTM',\n",
       "  DenseVector([-0.0018, 0.0155, -0.0158, 0.0005, -0.0009, 0.0005, -0.0191, 0.0012, -0.0032, 0.0176, 0.0096, -0.0089, -0.027, -0.0069, -0.0426, -0.0186, 0.0309, -0.0012, -0.0108, 0.0033, -0.0216, 0.0179, 0.0179, -0.0063, 0.0152, 0.015, -0.0061, -0.0109, 0.022, -0.0085, 0.0165, 0.0196, -0.0056, -0.0224, 0.0194, -0.0075])),\n",
       " (u'ARG',\n",
       "  DenseVector([0.0013, 0.0025, 0.0069, 0.0014, 0.0188, -0.0048, 0.001, 0.0034, 0.0116, -0.0051, -0.003, -0.0114, -0.0177, -0.0335, -0.0406, -0.0308, 0.0287, 0.0166, 0.0039, -0.0068, -0.026, 0.0131, 0.0105, -0.0283, 0.0087, 0.0086, -0.0078, 0.0041, -0.0053, -0.008, 0.0041, 0.013, 0.0041, -0.0249, 0.0054, -0.0139])),\n",
       " (u'BLL',\n",
       "  DenseVector([0.0065, 0.0069, 0.0157, 0.0007, 0.0213, -0.0099, -0.0067, 0.0096, 0.0195, -0.001, -0.0006, -0.0137, -0.0245, -0.0244, -0.0338, -0.0202, 0.0035, 0.0301, 0.0112, -0.009, -0.0232, 0.0078, 0.0202, -0.0331, 0.0223, 0.0219, -0.0009, 0.0007, -0.0037, -0.0113, 0.022, 0.0077, -0.0093, -0.0034, 0.0018, -0.0331])),\n",
       " (u'CAT',\n",
       "  DenseVector([-0.0084, 0.0037, 0.0076, -0.0027, 0.0375, -0.0263, 0.0113, -0.0149, 0.0094, 0.001, 0.0034, -0.0184, -0.0125, -0.0182, -0.0293, -0.0102, 0.025, 0.024, 0.0041, 0.0063, -0.0233, 0.0194, -0.0227, -0.0171, 0.0081, 0.008, -0.0178, -0.0079, 0.0032, 0.0022, 0.0249, 0.0143, -0.0206, -0.0301, 0.0047, -0.0075])),\n",
       " (u'CERN',\n",
       "  DenseVector([-0.0082, -0.0429, -0.0297, -0.0262, -0.006, -0.0063, 0.0049, -0.0036, 0.0216, 0.0045, 0.0164, -0.0091, -0.0266, -0.0245, -0.0175, -0.0066, 0.0231, -0.0031, 0.0275, -0.0217, -0.0306, 0.0182, -0.0025, -0.0161, 0.0213, 0.0209, -0.0152, 0.0062, 0.0115, -0.0123, 0.0144, 0.012, 0.0178, -0.0198, 0.004, -0.009])),\n",
       " (u'COH',\n",
       "  DenseVector([0.0312, 0.0105, -0.0057, 0.0485, -0.0006, -0.0124, -0.0447, 0.009, 0.0146, 0.0031, 0.0187, -0.017, -0.0273, -0.0154, -0.0661, -0.0101, 0.0359, 0.0235, -0.005, 0.0097, -0.0215, 0.0071, 0.0013, -0.0228, 0.0168, 0.0165, -0.0362, 0.0155, -0.0024, -0.0153, 0.0138, 0.018, -0.002, -0.0258, 0.0065, -0.0123])),\n",
       " (u'COP',\n",
       "  DenseVector([0.0032, -0.0152, 0.0242, -0.029, 0.0277, 0.0042, 0.0226, -0.0281, -0.0066, -0.004, -0.0012, -0.0368, -0.0145, -0.0338, -0.054, -0.017, 0.0282, 0.0569, 0.0203, 0.0496, -0.0281, 0.0092, -0.0004, -0.0203, 0.0133, 0.0132, -0.0126, 0.0123, -0.0225, -0.012, 0.0105, 0.0465, 0.0133, -0.035, 0.0084, -0.0035])),\n",
       " (u'CSCO',\n",
       "  DenseVector([-0.0116, 0.0086, -0.0021, -0.0021, 0.0156, -0.0196, -0.0046, 0.0287, 0.0115, -0.0071, -0.0199, -0.0159, -0.0273, -0.0211, -0.0484, -0.0226, 0.0431, 0.0191, -0.0065, -0.0046, -0.0294, 0.0211, 0.0097, -0.0147, 0.0153, 0.0151, -0.0137, 0.0123, -0.0091, -0.0127, 0.0113, 0.0035, -0.0073, -0.0131, 0.0004, -0.016])),\n",
       " (u'CTXS',\n",
       "  DenseVector([0.0025, 0.0118, -0.0161, -0.0061, 0.0116, -0.0122, 0.0162, 0.005, 0.0098, 0.0023, 0.0046, -0.006, -0.0227, -0.0247, -0.0942, -0.0122, 0.0334, 0.0172, -0.0129, -0.0084, -0.0398, 0.0304, 0.0071, 0.0003, 0.0144, 0.0142, -0.013, 0.0141, 0.008, 0.0034, 0.0219, 0.01, 0.0016, -0.0108, 0.0077, -0.0097])),\n",
       " (u'DISCK',\n",
       "  DenseVector([0.0017, -0.1111, 0.0468, -0.0079, 0.0076, -0.0254, 0.0088, -0.0087, -0.0048, 0.0203, 0.0029, -0.0054, -0.0482, -0.0107, -0.0435, -0.0261, 0.0368, 0.0088, 0.0154, -0.0136, -0.0051, 0.0107, 0.0133, -0.0236, 0.0115, 0.0114, -0.0182, 0.0047, -0.0031, -0.0221, 0.021, 0.0233, 0.0127, -0.0008, 0.0152, -0.0252])),\n",
       " (u'DLTR',\n",
       "  DenseVector([0.0018, 0.01, -0.0125, -0.0044, 0.011, -0.0054, -0.0048, 0.0001, 0.0058, 0.009, 0.0113, 0.0195, -0.0067, -0.0498, -0.035, -0.0075, 0.0571, -0.0071, -0.0008, -0.0061, -0.0867, -0.0296, -0.0087, 0.0163, 0.0051, 0.0051, -0.0124, -0.0277, 0.0061, -0.0169, 0.0138, 0.0222, 0.0018, -0.0174, 0.018, 0.0196])),\n",
       " (u'EXPE',\n",
       "  DenseVector([0.0161, 0.0179, -0.0409, -0.0046, 0.0037, -0.003, -0.0029, -0.001, 0.0082, 0.0112, 0.0025, -0.0015, -0.0361, -0.0353, -0.0539, 0.0007, 0.0629, 0.0192, -0.008, -0.013, -0.0402, 0.0273, -0.0043, -0.0147, 0.0145, 0.0143, -0.0097, 0.0228, 0.0058, -0.0074, 0.0266, 0.0492, 0.0333, -0.0182, -0.0013, -0.0114])),\n",
       " (u'F',\n",
       "  DenseVector([-0.0033, -0.0067, 0.0024, -0.001, 0.0112, -0.0184, -0.002, 0.0017, 0.0044, -0.0061, 0.0102, -0.004, -0.0244, -0.0382, -0.0487, -0.0205, 0.0236, 0.0265, 0.0111, 0.0101, -0.0108, 0.0124, -0.0036, -0.0202, 0.0041, 0.004, -0.0088, 0.014, -0.0022, 0.0055, 0.0381, 0.0245, -0.0041, -0.0226, 0.0056, -0.03])),\n",
       " (u'FB',\n",
       "  DenseVector([-0.0008, 0.0253, -0.0137, -0.0086, -0.0016, -0.0056, 0.0061, -0.0081, 0.0106, -0.0052, 0.0132, 0.0015, -0.0498, -0.0497, -0.0461, 0.0111, 0.0505, 0.0291, 0.0143, -0.0174, -0.0246, 0.0305, -0.0199, 0.0019, 0.0071, 0.0071, 0.0103, 0.017, 0.0008, 0.0028, 0.0064, 0.0059, 0.0095, 0.0006, 0.0122, -0.0271])),\n",
       " (u'FISV',\n",
       "  DenseVector([0.0049, 0.009, -0.0168, 0.0053, 0.0152, -0.0089, 0.0055, 0.0071, 0.0047, 0.0059, 0.0019, -0.0053, -0.0154, -0.0401, -0.0408, -0.0165, 0.057, 0.0228, 0.0025, -0.0174, -0.0281, 0.0279, 0.0065, -0.0189, 0.0146, 0.0144, -0.0169, 0.0095, 0.0017, -0.01, 0.0175, 0.0069, 0.0034, -0.0122, 0.0148, -0.0174])),\n",
       " (u'FLR',\n",
       "  DenseVector([-0.0117, 0.0146, 0.0174, -0.0119, 0.0289, -0.0156, 0.0162, -0.0248, 0.0076, 0.0044, -0.0137, -0.0004, -0.0358, -0.0185, -0.0366, -0.0153, 0.0157, 0.0404, 0.0117, -0.0004, -0.0349, 0.0068, 0.0047, -0.0198, 0.0163, 0.016, -0.0138, 0.0099, 0.0076, -0.0027, -0.0042, 0.0118, -0.0176, -0.0309, 0.0069, -0.0172])),\n",
       " (u'FMC',\n",
       "  DenseVector([0.0052, -0.0047, 0.0122, -0.0347, 0.0393, -0.0185, -0.019, -0.0192, -0.0002, 0.0269, -0.0057, -0.0101, -0.0219, -0.0274, -0.0345, -0.067, 0.0007, 0.0501, 0.0024, -0.0021, -0.0435, 0.0301, 0.0146, -0.0194, 0.0099, 0.0098, -0.0229, 0.0, 0.0063, -0.031, -0.001, -0.0035, -0.0327, -0.0269, -0.0073, -0.012])),\n",
       " (u'FOSL',\n",
       "  DenseVector([-0.0076, 0.0002, 0.0045, -0.0005, 0.0039, -0.0374, -0.0232, 0.0117, 0.0005, 0.0164, -0.0029, -0.0037, -0.0221, -0.0033, -0.021, -0.0228, 0.0128, 0.0441, 0.0075, -0.0003, -0.0307, 0.0149, 0.0079, -0.0216, 0.0123, 0.0122, -0.0281, -0.0032, -0.0093, -0.0123, 0.0064, 0.0308, -0.0173, -0.0071, -0.0005, -0.0029])),\n",
       " (u'FOXA',\n",
       "  DenseVector([-0.0015, -0.0702, -0.0642, 0.0275, -0.001, -0.0199, 0.001, 0.0013, 0.0056, 0.0079, -0.0111, -0.0076, -0.0421, -0.0265, -0.0458, 0.0026, 0.0228, 0.0168, 0.0043, -0.019, -0.0288, 0.0132, -0.003, -0.0149, 0.011, 0.0108, -0.0211, 0.0011, -0.0023, -0.0049, 0.0095, 0.0064, 0.0015, -0.0176, 0.0053, -0.0038])),\n",
       " (u'GILD',\n",
       "  DenseVector([-0.0061, -0.0018, -0.0283, -0.0075, 0.0187, -0.0083, 0.0055, -0.009, 0.0035, 0.0071, 0.0055, -0.0073, -0.0329, -0.0628, -0.0444, 0.0189, 0.0429, 0.0096, -0.0019, -0.0251, -0.0341, 0.0274, -0.0226, 0.0015, 0.0139, 0.0137, -0.0103, 0.033, 0.0222, -0.0026, 0.0155, -0.0005, 0.0056, -0.0284, -0.0251, 0.0075])),\n",
       " (u'GOOG',\n",
       "  DenseVector([-0.0031, 0.0231, -0.0017, -0.0115, -0.0025, 0.0427, -0.0018, -0.0047, 0.001, 0.0057, -0.0072, 0.0073, -0.0213, -0.0531, -0.0373, -0.0128, 0.08, 0.0143, -0.0113, -0.0192, -0.0331, 0.0277, -0.0132, -0.0092, 0.0116, 0.0115, -0.0032, 0.0141, 0.0071, -0.004, 0.0191, 0.0013, 0.0116, -0.0219, 0.0099, -0.0201])),\n",
       " (u'HAS',\n",
       "  DenseVector([0.014, 0.0052, -0.0292, 0.0062, 0.0271, -0.0048, 0.0045, 0.0133, 0.002, -0.0012, -0.0029, -0.01, -0.0216, -0.0344, -0.0532, 0.0049, 0.0176, 0.0323, 0.0049, -0.0122, -0.0278, 0.0274, 0.0315, -0.0194, 0.0061, 0.0061, -0.0132, 0.01, 0.0095, 0.0108, 0.0193, 0.0148, -0.0341, -0.0058, 0.0012, -0.0207])),\n",
       " (u'HCA',\n",
       "  DenseVector([0.0126, -0.0186, -0.009, 0.0004, -0.0002, -0.0106, 0.0043, -0.0001, 0.0065, -0.0012, -0.0093, -0.0075, -0.0306, -0.0094, -0.0196, -0.0169, 0.0461, 0.0219, -0.0003, -0.0248, -0.0264, 0.0134, 0.0109, -0.0116, 0.0119, 0.0118, -0.0166, -0.0081, -0.007, 0.0032, 0.0104, -0.0076, 0.0099, -0.0385, -0.0057, 0.0052])),\n",
       " (u'HES',\n",
       "  DenseVector([-0.0024, -0.0281, 0.0152, -0.0155, 0.0453, -0.0092, 0.0261, -0.0106, 0.0054, -0.0052, 0.0073, -0.0419, -0.0173, -0.0135, -0.0733, -0.02, 0.0252, 0.0877, 0.0323, 0.0336, -0.0395, 0.0075, -0.0023, -0.0179, 0.0015, 0.0015, -0.0287, -0.0148, -0.0296, -0.0097, 0.0156, 0.0358, -0.0016, -0.0397, -0.0027, -0.022])),\n",
       " (u'INTC',\n",
       "  DenseVector([0.0028, -0.0003, -0.0038, -0.0045, 0.0263, -0.0226, 0.0169, -0.02, 0.0048, 0.0028, -0.0062, -0.019, -0.0282, -0.0356, -0.0124, -0.0145, 0.0553, 0.0154, 0.0253, 0.0042, -0.0245, 0.0273, 0.0168, -0.0193, 0.0172, 0.0169, -0.0088, 0.001, 0.0068, -0.0024, 0.0112, 0.0013, -0.002, -0.0232, 0.0052, -0.0173])),\n",
       " (u'JNJ',\n",
       "  DenseVector([-0.0023, 0.0074, -0.0145, -0.0023, 0.0095, -0.0076, -0.0034, -0.0019, 0.0031, 0.0106, -0.0051, -0.0004, -0.0052, -0.0332, -0.0266, -0.0241, 0.0476, 0.0132, -0.0118, -0.0124, -0.0199, 0.0137, -0.0085, -0.0131, 0.0137, 0.0135, -0.0174, 0.0054, 0.0024, 0.0038, 0.0117, 0.002, 0.003, -0.0156, -0.003, 0.0014])),\n",
       " (u'L',\n",
       "  DenseVector([0.0108, 0.0053, 0.0072, -0.0008, 0.0279, 0.0005, -0.0061, 0.0003, 0.0059, -0.0054, -0.001, -0.0083, -0.0172, -0.0193, -0.0256, -0.0213, 0.0124, 0.0201, -0.0003, -0.0019, -0.0198, 0.0095, 0.0122, -0.0107, 0.0071, 0.007, -0.0139, 0.0042, 0.0014, -0.0058, 0.0078, 0.0049, -0.0077, -0.0135, 0.0131, -0.0105])),\n",
       " (u'LB',\n",
       "  DenseVector([0.0122, 0.0151, -0.0316, -0.0016, 0.0209, -0.0104, -0.0171, -0.0048, 0.004, 0.0058, -0.0016, -0.0029, 0.0348, -0.0425, -0.0289, -0.0027, 0.0451, 0.0176, 0.01, 0.0032, -0.0005, 0.0244, 0.039, 0.0128, 0.0127, 0.0125, -0.0218, 0.0099, 0.0079, -0.0014, -0.0046, 0.0104, -0.0061, -0.0017, 0.003, -0.0054])),\n",
       " (u'MAT',\n",
       "  DenseVector([0.0049, 0.0137, -0.0131, 0.0084, 0.0316, -0.0102, -0.0034, -0.006, 0.0004, 0.0139, -0.0218, -0.017, 0.0111, -0.0079, -0.0505, 0.0, 0.0145, 0.0497, 0.0162, 0.0099, -0.0367, 0.016, 0.0074, -0.0121, 0.0039, 0.0039, -0.0083, -0.0022, -0.007, 0.0049, 0.0181, 0.0391, -0.0081, -0.0332, 0.0065, -0.0138])),\n",
       " (u'MET',\n",
       "  DenseVector([0.0038, -0.0075, -0.0002, -0.0106, 0.0264, -0.0247, -0.0147, 0.0035, 0.0072, -0.0047, -0.0044, -0.0116, -0.0319, -0.0451, -0.0415, -0.0187, 0.0478, 0.0309, -0.001, -0.0043, -0.0424, 0.0183, 0.0019, -0.0228, 0.0129, 0.0127, -0.0132, 0.0056, -0.0035, -0.007, 0.0237, 0.0051, -0.0363, -0.0264, 0.0084, -0.0151])),\n",
       " (u'MO',\n",
       "  DenseVector([0.0049, 0.01, 0.002, -0.0014, 0.0041, 0.0003, -0.0001, -0.0025, 0.0029, -0.0014, -0.009, -0.0067, -0.0013, -0.0146, -0.0319, -0.0061, 0.025, 0.0102, 0.0076, -0.0105, -0.0286, 0.0209, 0.0085, -0.0228, 0.0106, 0.0105, -0.0087, 0.0046, -0.0128, -0.0027, 0.0318, 0.0231, -0.0117, -0.0111, 0.0131, -0.0113])),\n",
       " (u'MON',\n",
       "  DenseVector([0.001, 0.0038, -0.0055, -0.0092, 0.0188, -0.006, 0.0067, 0.0007, -0.0009, 0.0022, -0.006, -0.0047, -0.0213, -0.0276, -0.0397, -0.0435, 0.0861, 0.0154, -0.0029, -0.0077, -0.0191, 0.015, -0.0027, -0.0122, -0.0027, -0.0027, -0.0211, 0.0056, -0.0135, -0.0254, 0.008, -0.0047, -0.0035, -0.0231, -0.0042, -0.0133])),\n",
       " (u'MS',\n",
       "  DenseVector([0.0044, 0.0013, -0.001, -0.009, 0.0132, -0.0307, -0.0082, 0.0043, 0.0077, 0.0029, -0.0094, -0.0093, -0.0334, -0.0544, -0.0573, -0.0155, 0.0485, 0.0309, -0.0077, 0.0112, -0.0393, 0.0215, 0.0, -0.0181, 0.0164, 0.0162, -0.0152, 0.0027, 0.0041, -0.0056, 0.0234, 0.0012, -0.017, -0.0303, 0.0103, -0.0273])),\n",
       " (u'MSFT',\n",
       "  DenseVector([0.0156, 0.0008, -0.0202, 0.0026, 0.0126, -0.0194, 0.0071, -0.0002, 0.0058, 0.0068, -0.0011, -0.014, -0.0185, -0.0586, -0.0323, -0.029, 0.0553, 0.0279, 0.001, -0.0097, -0.0391, 0.0368, 0.0032, -0.02, 0.0148, 0.0146, -0.0187, 0.0051, 0.0044, -0.0101, 0.0218, 0.0073, -0.0011, -0.0174, 0.0154, -0.0054])),\n",
       " (u'MU',\n",
       "  DenseVector([0.0005, -0.0053, -0.01, -0.015, 0.0206, -0.0499, 0.0173, -0.0269, -0.0433, 0.0175, -0.0488, -0.0299, -0.073, -0.0129, -0.0076, -0.0118, 0.0105, 0.0867, 0.0185, 0.0282, -0.036, 0.0297, 0.0184, 0.0145, 0.0208, 0.0204, -0.0331, 0.0147, -0.0233, -0.006, -0.0108, 0.0097, -0.0162, -0.0555, 0.0165, -0.0219])),\n",
       " (u'NEM',\n",
       "  DenseVector([-0.0012, -0.003, 0.0, -0.0135, 0.0509, 0.0059, 0.0645, -0.0358, -0.0086, 0.03, -0.0179, 0.0217, 0.0346, -0.0199, -0.071, -0.042, -0.0229, 0.0557, 0.0276, -0.0047, -0.0217, -0.0287, -0.0018, -0.0296, 0.0076, 0.0076, -0.0207, -0.0038, 0.0437, -0.0222, 0.0057, 0.0601, 0.0177, -0.0151, -0.0212, -0.0608])),\n",
       " (u'NFLX',\n",
       "  DenseVector([0.0769, 0.0207, 0.0221, -0.0232, -0.004, -0.0024, -0.0182, 0.0267, -0.0027, 0.016, -0.0108, -0.0154, -0.0788, -0.0758, -0.0681, 0.0479, 0.0853, 0.0675, 0.0001, -0.0216, -0.0796, -0.0046, -0.0415, -0.0225, -0.0196, -0.02, 0.0448, 0.003, -0.0198, -0.0187, 0.0363, 0.05, 0.0009, -0.0153, -0.0226, -0.0182])),\n",
       " (u'NKE',\n",
       "  DenseVector([0.0083, 0.0087, -0.0141, -0.005, 0.007, -0.0076, -0.0121, 0.0049, 0.006, 0.006, -0.0014, 0.001, -0.0231, -0.0483, -0.0283, -0.0032, 0.0507, 0.0359, -0.002, -0.0063, -0.0276, 0.0185, 0.0014, -0.0106, 0.0094, 0.0094, -0.0166, 0.0046, 0.0126, 0.0001, 0.0193, 0.014, -0.0021, -0.0052, 0.0167, -0.0058])),\n",
       " (u'ORCL',\n",
       "  DenseVector([-0.0015, -0.0003, -0.0081, 0.0058, 0.0086, -0.0175, 0.0026, 0.0005, 0.002, 0.0079, 0.003, -0.0073, -0.0228, -0.0269, -0.0402, -0.0169, 0.0406, -0.0027, 0.0171, -0.0096, -0.0288, 0.0203, 0.0038, -0.0168, 0.0196, 0.0192, -0.0157, 0.014, 0.0074, -0.0084, 0.0109, 0.0079, -0.0407, -0.0049, 0.0077, -0.0174])),\n",
       " (u'ORLY',\n",
       "  DenseVector([0.0077, 0.0033, -0.0122, 0.0136, 0.0132, -0.0002, -0.0016, 0.027, 0.0018, 0.0007, -0.0004, 0.0079, -0.0201, -0.0515, -0.0274, -0.0007, 0.0317, 0.016, -0.0076, -0.0038, -0.0347, 0.0341, -0.0072, -0.0138, 0.0082, 0.0081, 0.0031, 0.0084, 0.0191, -0.0064, 0.021, 0.0125, -0.0072, -0.0174, 0.002, -0.0077])),\n",
       " (u'PAYX',\n",
       "  DenseVector([0.0036, 0.0122, -0.0147, 0.0013, 0.0101, -0.0046, -0.0015, 0.0067, 0.0035, 0.0014, 0.0017, -0.0091, -0.0148, -0.034, -0.0372, -0.0243, 0.0396, 0.0141, -0.0066, -0.0065, -0.0269, 0.0237, 0.0047, -0.0087, 0.0143, 0.0141, -0.0053, -0.0009, 0.0091, -0.0088, 0.0146, 0.0067, 0.0089, -0.0034, 0.0026, -0.0133])),\n",
       " (u'PEG',\n",
       "  DenseVector([-0.0238, 0.0138, 0.0102, 0.02, -0.012, 0.0129, 0.0007, -0.0042, 0.0139, 0.0057, -0.0024, 0.0106, -0.0063, -0.0261, -0.034, -0.0219, 0.0133, 0.0156, -0.0097, -0.0073, -0.0321, 0.0003, 0.0105, -0.0257, 0.0098, 0.0097, -0.0118, 0.006, 0.0113, -0.0008, 0.0074, 0.0144, 0.0117, -0.0066, 0.0061, -0.0228])),\n",
       " (u'PKI',\n",
       "  DenseVector([0.0082, -0.0017, -0.0233, -0.0085, 0.0082, -0.0173, -0.0122, 0.005, 0.0034, -0.0034, 0.0042, -0.014, -0.0128, -0.0303, -0.0361, 0.0028, 0.0427, 0.0297, -0.0008, -0.016, -0.0464, 0.0241, 0.0086, -0.0127, 0.0092, 0.0091, -0.0178, 0.0019, 0.0105, -0.0042, 0.014, 0.0043, 0.0084, -0.0339, -0.0118, -0.0075])),\n",
       " (u'PX',\n",
       "  DenseVector([-0.0021, 0.0001, -0.0005, -0.001, 0.0198, -0.0126, -0.0049, 0.002, 0.0028, 0.0001, -0.0045, -0.0094, -0.0066, -0.028, -0.0284, -0.0232, 0.0114, 0.0101, 0.008, -0.0036, -0.0321, 0.0061, 0.0006, -0.015, 0.0139, 0.0137, 0.0003, 0.0085, -0.0042, -0.0033, 0.0125, 0.0165, -0.0037, -0.0182, 0.0015, -0.0175])),\n",
       " (u'RHT',\n",
       "  DenseVector([0.0098, 0.0138, -0.0311, -0.0012, 0.0206, -0.0217, -0.005, -0.0009, 0.0175, 0.0056, -0.0013, -0.0149, -0.0303, -0.0365, -0.0467, -0.0009, 0.0589, 0.0165, -0.0055, -0.0218, -0.0299, 0.0031, -0.009, -0.0141, 0.0172, 0.0169, -0.0191, 0.0099, 0.0024, -0.0105, 0.0281, -0.0106, 0.0055, -0.0043, 0.0235, -0.0005])),\n",
       " (u'ROST',\n",
       "  DenseVector([0.003, 0.0117, -0.0045, -0.0093, 0.0124, 0.0017, -0.0048, 0.0013, 0.0017, 0.0145, 0.0372, -0.0147, -0.0081, -0.095, -0.0322, -0.0242, 0.0362, 0.0153, -0.0056, -0.0158, -0.0237, 0.0206, 0.0006, -0.0008, 0.0137, 0.0135, -0.0074, 0.0089, 0.0044, -0.012, -0.0008, 0.0067, 0.0149, -0.0271, 0.0065, -0.0105])),\n",
       " (u'SPLS',\n",
       "  DenseVector([0.0042, 0.0155, -0.0257, -0.005, 0.0208, -0.0098, 0.0028, -0.0056, 0.0107, 0.0, -0.0056, -0.0021, -0.0057, -0.0178, -0.0232, -0.0171, 0.0068, 0.0293, 0.0018, 0.0338, -0.0366, 0.0321, -0.0234, -0.0145, 0.0217, 0.0212, -0.0148, -0.0086, 0.0, -0.0087, -0.0029, 0.0153, -0.0058, -0.0231, 0.003, -0.059])),\n",
       " (u'SRCL',\n",
       "  DenseVector([0.005, 0.0118, -0.01, 0.0077, 0.0094, -0.0001, 0.0035, 0.0013, 0.0039, 0.0075, 0.0111, 0.0001, -0.0111, -0.0218, -0.0376, -0.017, 0.0263, 0.0186, 0.0009, -0.0058, -0.0147, 0.0155, 0.0062, -0.0038, 0.0143, 0.0141, -0.0643, 0.0166, 0.0109, -0.0211, 0.0093, -0.0086, 0.0075, -0.0082, 0.015, -0.0059])),\n",
       " (u'SWKS',\n",
       "  DenseVector([-0.0441, 0.003, -0.0335, 0.0277, 0.0302, -0.0226, 0.0105, -0.0029, -0.006, 0.0208, -0.0577, 0.0179, -0.0549, -0.0409, 0.0182, 0.0006, 0.0694, 0.042, -0.0128, -0.0143, -0.0492, 0.0324, -0.0047, -0.0231, 0.0261, 0.0255, -0.0149, 0.0191, 0.001, 0.0152, 0.0241, -0.0015, -0.0085, -0.0151, -0.0017, -0.0282])),\n",
       " (u'SYMC',\n",
       "  DenseVector([-0.0027, 0.0214, -0.024, 0.0157, 0.0093, -0.0685, 0.0141, -0.0185, 0.0169, 0.012, -0.0096, 0.0097, -0.0233, -0.0178, -0.0458, -0.006, 0.0372, 0.0141, -0.0038, -0.0168, -0.0273, 0.0005, 0.0005, -0.015, 0.0112, 0.0111, -0.0224, 0.0188, -0.001, -0.0095, 0.0056, 0.002, 0.0063, 0.0047, 0.0045, -0.0205])),\n",
       " (u'UHS',\n",
       "  DenseVector([0.0036, -0.0156, -0.0101, 0.0013, 0.0039, -0.0129, 0.0051, 0.001, 0.006, 0.0164, -0.0001, 0.0037, -0.0334, -0.0014, -0.0574, -0.005, 0.0357, 0.0297, -0.0043, -0.0229, -0.0394, 0.0348, -0.0083, -0.0008, 0.0099, 0.0098, -0.0197, -0.0027, -0.0113, 0.0158, 0.0, 0.0075, 0.0203, -0.0127, 0.0125, 0.0021])),\n",
       " (u'USB',\n",
       "  DenseVector([0.0035, 0.0045, -0.005, -0.0018, 0.0195, -0.0133, -0.0112, 0.0038, 0.0115, 0.0013, 0.0024, -0.0092, -0.0271, -0.0304, -0.0472, -0.0238, 0.0407, 0.029, -0.0005, -0.0056, -0.0489, 0.0189, 0.0097, -0.021, 0.0107, 0.0106, -0.013, 0.0051, -0.0012, -0.0032, 0.0264, 0.0086, -0.0168, -0.0142, 0.011, -0.0099])),\n",
       " (u'V',\n",
       "  DenseVector([-0.0073, -0.0035, -0.0187, 0.0087, 0.0016, -0.0131, 0.0026, 0.0052, 0.0035, 0.003, -0.0001, 0.0001, -0.006, -0.0377, -0.0396, -0.0224, 0.0588, 0.0243, -0.0011, -0.0167, -0.0289, 0.0069, 0.0108, -0.0163, 0.0095, 0.0094, -0.0135, 0.0083, 0.0083, -0.0107, 0.0074, 0.0061, 0.0004, -0.0165, 0.0139, -0.0076])),\n",
       " (u'WAT',\n",
       "  DenseVector([0.0072, 0.0045, -0.0269, 0.0035, 0.0143, -0.0093, -0.0225, -0.0079, 0.0012, 0.0038, -0.0025, -0.0014, -0.0222, -0.0236, -0.0414, -0.0084, 0.0507, 0.0242, -0.0077, -0.0269, -0.0245, 0.0319, 0.0036, -0.0214, 0.0147, 0.0145, -0.0151, 0.0099, 0.0138, -0.0035, 0.0038, -0.0014, -0.0031, -0.0154, -0.0082, -0.0114])),\n",
       " (u'WFM',\n",
       "  DenseVector([0.0104, -0.0121, -0.0151, -0.0105, -0.0077, -0.007, 0.0088, -0.016, -0.0122, 0.0114, -0.0098, -0.0171, 0.0018, -0.0368, 0.0057, -0.0072, 0.0256, 0.0228, -0.0088, -0.0027, -0.0192, 0.0045, 0.0026, -0.0105, 0.0083, 0.0082, -0.0172, 0.0331, -0.0227, -0.0093, 0.0147, 0.0225, 0.0003, -0.0343, -0.0028, -0.0066])),\n",
       " (u'XLNX',\n",
       "  DenseVector([-0.0055, 0.025, 0.004, 0.0075, 0.0215, -0.0215, 0.009, -0.0096, 0.007, 0.011, -0.0221, -0.0107, -0.0292, -0.0208, -0.0233, -0.0172, 0.0634, 0.0247, 0.0002, -0.009, -0.0377, 0.0131, 0.0086, -0.0272, 0.0336, 0.0325, -0.0274, 0.0043, 0.0038, 0.0215, 0.0075, 0.0051, -0.0065, -0.0107, -0.0065, -0.0138])),\n",
       " (u'ADP',\n",
       "  DenseVector([0.0072, 0.0144, -0.0188, -0.0001, 0.0163, -0.0033, 0.0027, 0.011, 0.0065, 0.0206, -0.0001, -0.0026, -0.0208, -0.0421, -0.0372, -0.0362, 0.0582, 0.003, 0.0049, -0.0139, -0.0287, 0.0264, 0.0061, -0.0181, 0.0135, 0.0133, -0.0088, 0.0053, 0.005, -0.007, 0.0145, 0.0089, -0.002, -0.0053, 0.0115, -0.0091])),\n",
       " (u'ADSK',\n",
       "  DenseVector([0.0159, -0.0007, -0.0216, 0.0017, 0.0255, -0.0059, 0.0141, -0.0038, 0.0046, 0.0097, -0.0144, -0.0049, -0.0225, -0.0252, -0.0458, -0.0247, 0.0199, 0.0177, -0.0496, -0.0162, -0.027, 0.011, -0.0011, -0.0124, 0.0159, 0.0156, -0.0139, 0.0015, 0.0015, -0.0032, 0.0102, 0.006, -0.0026, -0.0064, 0.02, -0.0101])),\n",
       " (u'ALXN',\n",
       "  DenseVector([0.0073, 0.004, -0.0415, -0.0004, 0.0041, -0.0216, 0.0252, -0.0114, -0.0119, 0.0245, -0.0196, -0.0131, -0.0343, -0.0269, -0.0392, -0.0093, 0.0486, 0.0365, -0.0053, -0.0373, -0.0078, 0.0315, -0.0054, -0.0188, 0.0144, 0.0142, -0.0292, -0.0006, 0.0016, -0.0182, 0.0014, -0.0073, 0.0012, -0.0084, -0.0361, -0.0083])),\n",
       " (u'AMAT',\n",
       "  DenseVector([-0.0192, 0.0119, -0.0106, 0.0077, 0.0365, -0.0148, -0.0023, -0.0145, -0.024, 0.0234, -0.0294, -0.0054, -0.028, -0.0313, -0.0245, -0.0172, 0.027, 0.0459, 0.0031, 0.0059, -0.037, 0.0123, 0.0051, -0.0235, 0.011, 0.0109, -0.0172, 0.0065, -0.0039, 0.0065, 0.0205, 0.0157, -0.0093, -0.0056, -0.0182, -0.0345])),\n",
       " (u'AN',\n",
       "  DenseVector([-0.0016, 0.0111, -0.0155, -0.0041, 0.0111, -0.0106, -0.0026, 0.0038, -0.0013, 0.0051, 0.0268, -0.0109, -0.0173, -0.0304, -0.0193, -0.0005, 0.0248, 0.0196, 0.0028, -0.0114, -0.0294, 0.0074, -0.0103, -0.0095, 0.0122, 0.0121, -0.0007, -0.001, 0.0009, -0.0039, 0.0065, 0.0297, 0.0091, -0.017, 0.0143, -0.0192])),\n",
       " (u'BLK',\n",
       "  DenseVector([-0.0071, 0.0074, -0.0043, -0.0043, 0.0115, -0.017, -0.0087, -0.0039, 0.0067, 0.0038, -0.0014, -0.0169, -0.019, -0.031, -0.0264, -0.015, 0.0284, 0.0388, -0.0117, -0.0283, -0.0258, 0.0123, 0.0069, -0.0198, 0.0122, 0.012, -0.0149, 0.0144, 0.0071, -0.0083, 0.0239, 0.0174, -0.0053, -0.0093, 0.0122, -0.027])),\n",
       " (u'C',\n",
       "  DenseVector([0.001, 0.0043, -0.0109, -0.0033, 0.0143, -0.018, -0.013, 0.0065, 0.0051, 0.003, -0.0036, -0.0096, -0.0289, -0.0316, -0.0608, -0.0077, 0.0466, 0.0239, -0.0049, 0.0038, -0.0477, 0.0165, 0.0004, -0.0232, 0.0105, 0.0104, -0.0149, 0.0041, 0.0004, -0.0023, 0.0204, 0.0106, -0.0179, -0.0263, 0.0093, -0.0075])),\n",
       " (u'CMCSA',\n",
       "  DenseVector([-0.0074, -0.0467, -0.0176, 0.001, 0.0107, -0.0111, 0.0105, 0.0039, -0.0127, 0.0262, -0.0121, 0.0039, -0.0259, -0.0272, -0.0417, -0.0103, 0.0288, 0.0247, 0.0002, -0.0079, -0.0233, 0.0156, 0.0059, -0.0076, 0.0119, 0.0118, -0.0077, -0.0023, -0.0023, -0.0028, 0.0157, 0.0106, 0.0125, -0.0178, 0.008, -0.0029])),\n",
       " (u'CTL',\n",
       "  DenseVector([-0.0159, 0.0035, -0.0217, -0.0101, 0.0401, -0.0177, 0.0096, -0.0193, 0.0111, 0.005, -0.0106, 0.0089, -0.0233, -0.0209, -0.0461, -0.0274, 0.0485, 0.0131, 0.011, 0.0004, -0.0422, 0.0429, -0.0089, -0.022, 0.0147, 0.0145, 0.0004, -0.0063, -0.0194, -0.0072, 0.015, -0.0128, -0.0038, -0.0142, 0.0082, -0.0189])),\n",
       " (u'DO',\n",
       "  DenseVector([-0.0033, -0.0099, 0.064, -0.0135, 0.0864, -0.0167, 0.0221, -0.0358, -0.0449, 0.0113, 0.0103, -0.012, -0.0224, -0.0112, -0.0234, 0.0209, 0.0102, 0.0598, 0.0538, -0.0227, -0.043, -0.0207, 0.0297, -0.0398, 0.0107, 0.0106, -0.0089, 0.0103, -0.0214, 0.0041, 0.0104, 0.0291, -0.03, -0.0943, -0.0045, -0.0045])),\n",
       " (u'DOV',\n",
       "  DenseVector([0.0019, 0.0132, 0.0061, -0.0033, 0.034, -0.0244, 0.0036, -0.0045, -0.0062, 0.0064, -0.0064, -0.0189, -0.0253, -0.0229, -0.0314, -0.0332, 0.0402, 0.0302, 0.0062, 0.026, -0.0478, 0.0103, -0.0022, -0.0138, 0.0246, 0.024, -0.0167, -0.0028, 0.0038, -0.0096, 0.0227, 0.0119, -0.0087, -0.0112, -0.0128, -0.0163])),\n",
       " (u'DTE',\n",
       "  DenseVector([-0.0157, 0.0013, 0.0088, 0.017, -0.0078, 0.0068, 0.0227, 0.0017, 0.0063, 0.005, -0.0059, 0.0094, -0.0013, -0.0128, -0.0484, -0.033, 0.0171, 0.0139, -0.0015, -0.0098, -0.025, -0.0013, 0.0049, -0.0177, 0.0082, 0.0081, -0.0146, -0.0008, 0.0111, -0.0005, 0.0083, 0.0148, 0.0068, -0.0044, 0.0019, -0.0092])),\n",
       " (u'EFX',\n",
       "  DenseVector([0.0063, 0.0087, -0.0118, 0.0083, 0.0143, -0.0103, -0.0087, 0.0119, 0.0059, 0.0093, -0.0023, -0.0047, -0.0277, -0.023, -0.057, -0.0118, 0.04, 0.0249, -0.0037, -0.0054, -0.0275, 0.0246, 0.0072, -0.0125, 0.0124, 0.0123, -0.0095, -0.0068, 0.0016, -0.0021, 0.0168, -0.002, -0.0086, -0.0135, 0.0116, -0.005])),\n",
       " (u'EMC',\n",
       "  DenseVector([-0.0125, 0.0323, 0.013, 0.0015, 0.0028, -0.0298, -0.0049, 0.0, 0.0099, 0.0122, -0.0195, -0.0104, -0.0174, -0.0257, -0.0511, -0.045, 0.0657, 0.0347, -0.0024, -0.004, -0.0342, 0.005, 0.0012, -0.0199, 0.0122, 0.0121, -0.0138, -0.001, 0.0289, -0.0094, 0.0078, 0.0122, -0.006, -0.0251, 0.0029, -0.0164])),\n",
       " (u'EQIX',\n",
       "  DenseVector([-0.0101, 0.0015, -0.0016, 0.0014, -0.0011, -0.0024, 0.0033, 0.0067, 0.0077, 0.0004, 0.0102, -0.0064, -0.0197, -0.0309, -0.0582, -0.0173, 0.0386, 0.0205, 0.0099, 0.0037, -0.0256, 0.0269, 0.0166, -0.0166, 0.0174, 0.0171, 0.0062, 0.0147, 0.0157, 0.0003, 0.0012, 0.0018, -0.0017, -0.0157, 0.0228, -0.0122])),\n",
       " (u'FFIV',\n",
       "  DenseVector([0.0012, 0.0064, -0.0178, 0.0039, 0.0152, -0.0073, 0.0102, -0.0081, 0.0074, 0.0094, -0.0064, -0.0019, -0.0466, -0.032, -0.0411, 0.0, 0.0424, 0.0028, 0.0015, -0.0127, -0.0249, 0.022, 0.002, -0.0198, 0.0121, 0.0119, -0.015, -0.0013, -0.0131, -0.0091, 0.0092, 0.008, -0.0076, -0.0257, 0.0056, -0.0218])),\n",
       " (u'FLIR',\n",
       "  DenseVector([-0.0091, 0.0102, 0.0, 0.0104, 0.0296, -0.0213, -0.0198, -0.0081, 0.0033, 0.0008, -0.0064, -0.0112, -0.0143, -0.0287, -0.0435, -0.016, 0.0211, 0.0358, -0.0017, 0.0021, -0.0213, 0.0096, 0.0032, -0.0169, 0.0192, 0.0188, -0.0107, -0.0028, -0.0059, -0.0072, 0.0129, 0.0067, -0.0035, -0.0105, -0.0018, -0.0177])),\n",
       " (u'FSLR',\n",
       "  DenseVector([0.0185, 0.1667, -0.0139, 0.0172, 0.0269, -0.0381, 0.0086, -0.0148, 0.0078, 0.0045, -0.0021, -0.0327, -0.0406, -0.0551, -0.0367, 0.0177, 0.0385, 0.038, -0.0008, 0.0008, -0.0121, 0.0148, 0.0069, -0.028, 0.0231, 0.0226, -0.0281, 0.0103, 0.0118, -0.0531, 0.0082, 0.0253, -0.0176, -0.0339, -0.0042, -0.016])),\n",
       " (u'GMCR',\n",
       "  DenseVector([0.015, -0.0211, -0.2975, 0.0144, 0.0221, -0.0302, -0.0013, -0.0493, 0.0064, 0.0067, -0.0137, -0.0155, 0.019, -0.0052, 0.0231, 0.0129, 0.0115, 0.0272, 0.0022, 0.046, -0.0265, 0.0265, 0.0154, 0.0165, 0.0014, 0.0014, 0.0009, 0.0393, 0.0002, -0.0255, -0.0206, 0.0347, -0.0492, -0.0079, 0.0051, -0.0058])),\n",
       " (u'HAR',\n",
       "  DenseVector([0.0059, 0.0687, -0.0591, 0.0455, 0.0189, -0.0534, -0.0132, -0.0224, -0.0019, 0.0008, -0.0054, -0.0229, -0.0483, -0.0503, -0.0319, 0.0169, 0.0426, 0.0262, -0.003, -0.0185, -0.0281, 0.0203, 0.0073, -0.0172, 0.0256, 0.025, -0.0324, -0.0049, 0.008, -0.0097, 0.0375, 0.0162, 0.0042, -0.0175, -0.0011, -0.0386])),\n",
       " (u'HRS',\n",
       "  DenseVector([0.0005, 0.0091, -0.0013, -0.0183, 0.0389, -0.0199, 0.006, -0.0103, 0.0039, 0.0016, -0.0047, -0.0076, -0.0217, -0.0223, -0.0409, -0.0193, 0.0281, 0.0156, 0.0066, -0.0089, -0.0285, 0.0094, 0.0053, -0.0238, 0.0206, 0.0202, -0.019, -0.006, -0.0131, -0.0024, 0.0, 0.0085, 0.0015, -0.02, 0.0042, -0.0165])),\n",
       " (u'HSIC',\n",
       "  DenseVector([-0.0035, 0.004, -0.0129, -0.001, 0.0065, -0.0036, -0.0034, 0.0027, -0.0003, 0.0052, 0.0099, -0.0041, -0.0279, -0.0316, -0.0347, -0.0081, 0.0381, 0.0103, 0.0052, -0.0186, -0.0311, 0.0213, -0.0017, -0.0139, 0.0125, 0.0123, -0.0163, 0.0036, 0.0029, 0.0018, -0.0006, 0.0086, 0.0108, -0.0051, -0.0027, -0.0113])),\n",
       " (u'ISRG',\n",
       "  DenseVector([0.0005, 0.0082, -0.0132, 0.017, -0.0014, -0.0045, -0.0011, -0.0027, 0.0038, 0.0061, -0.0064, -0.0058, -0.0235, -0.0144, -0.0316, 0.0074, 0.0283, 0.014, -0.0026, -0.0064, -0.0146, 0.0151, 0.0051, -0.0104, 0.012, 0.0119, -0.0205, 0.0031, 0.0074, -0.0092, 0.0062, 0.0014, 0.0092, -0.0149, -0.0121, -0.0219])),\n",
       " (u'JWN',\n",
       "  DenseVector([0.0047, -0.0102, -0.0134, 0.0059, 0.0143, 0.0036, -0.0097, -0.0082, 0.0431, 0.0115, -0.004, 0.0001, -0.0126, -0.0316, -0.0422, -0.0107, 0.0343, -0.0056, -0.0003, -0.0063, -0.0169, 0.0176, 0.0075, -0.0078, 0.0104, 0.0103, -0.0169, 0.0082, -0.0024, -0.0056, 0.0092, 0.0062, 0.0003, -0.0062, 0.0069, -0.009])),\n",
       " (u'K',\n",
       "  DenseVector([0.0219, 0.0173, 0.0028, 0.001, 0.0012, 0.0028, -0.0043, 0.0, 0.0126, -0.0027, -0.0045, -0.0049, -0.003, -0.0185, -0.0253, -0.0099, 0.0284, 0.0063, -0.0049, -0.0112, -0.0084, 0.0157, 0.0085, -0.0111, 0.0068, 0.0068, -0.0196, 0.0024, 0.0101, -0.0037, 0.0106, 0.0139, 0.0072, -0.0208, 0.0037, -0.0097])),\n",
       " (u'LM',\n",
       "  DenseVector([-0.0022, -0.0131, -0.018, -0.0069, 0.0245, -0.0169, 0.0042, 0.0158, 0.0006, -0.0057, -0.0027, -0.0117, -0.0195, -0.0242, -0.0408, -0.0274, 0.0207, 0.0292, -0.0086, -0.0096, -0.0363, -0.0002, -0.008, -0.0203, 0.0202, 0.0198, -0.0086, -0.007, 0.0021, -0.0101, 0.0166, 0.0226, 0.0048, -0.0261, 0.0016, -0.0219])),\n",
       " (u'MDLZ',\n",
       "  DenseVector([0.0024, 0.0151, 0.0112, -0.015, 0.0065, -0.0067, 0.0093, -0.0112, 0.0103, -0.0061, -0.0011, -0.0204, -0.0268, -0.0182, -0.0287, -0.0155, 0.0212, 0.0139, 0.0007, -0.0103, -0.0319, 0.0307, 0.0229, -0.0157, 0.0043, 0.0043, -0.0219, 0.0093, 0.0071, -0.0094, 0.0168, 0.0012, 0.0158, -0.0194, -0.0005, -0.0201])),\n",
       " (u'NRG',\n",
       "  DenseVector([-0.0993, -0.0015, -0.0295, 0.009, 0.0125, -0.0312, 0.0681, -0.0102, 0.0236, 0.0207, -0.0118, -0.0019, -0.031, -0.0345, -0.0183, -0.0177, 0.0095, 0.0393, 0.0187, -0.0136, -0.0339, -0.0291, 0.0112, -0.0508, 0.0128, 0.0127, -0.0217, 0.0189, 0.0055, -0.0016, 0.0342, -0.0037, 0.0109, -0.0619, -0.0884, -0.0634])),\n",
       " (u'NTAP',\n",
       "  DenseVector([-0.0036, 0.0095, -0.0058, -0.0055, 0.0321, -0.0251, 0.0091, -0.0119, 0.0042, -0.0068, -0.0085, -0.0165, 0.0336, -0.0185, -0.0113, -0.0268, 0.0519, 0.0265, 0.0073, 0.0108, -0.0314, 0.0102, -0.0026, -0.0199, 0.015, 0.0148, -0.0117, 0.0077, 0.007, -0.0139, 0.0337, 0.0053, -0.0046, -0.0264, -0.0045, -0.0368])),\n",
       " (u'NWSA',\n",
       "  DenseVector([0.001, 0.0031, -0.0397, 0.0064, 0.017, -0.0272, 0.0115, 0.0758, -0.0007, 0.004, -0.0072, -0.0066, -0.0512, -0.0245, -0.0625, -0.0077, 0.0216, 0.0303, 0.0125, -0.0116, -0.0411, 0.0046, 0.0145, -0.0375, 0.0207, 0.0203, -0.0097, -0.0159, 0.0031, -0.0184, 0.0098, 0.0077, 0.0134, -0.022, 0.0008, -0.0108])),\n",
       " (u'OKE',\n",
       "  DenseVector([-0.0241, -0.0238, 0.0141, -0.0283, 0.0402, 0.0098, 0.0474, -0.0376, -0.0017, 0.0083, -0.0257, -0.0185, -0.0029, -0.0218, -0.0574, -0.0162, 0.0294, 0.0586, 0.0334, 0.0107, -0.0292, 0.0109, 0.0088, -0.0076, 0.0147, 0.0145, -0.0167, 0.0092, -0.0268, -0.0188, 0.0096, 0.0356, 0.0058, -0.0154, 0.0218, 0.0047])),\n",
       " (u'PFE',\n",
       "  DenseVector([-0.0008, -0.0081, -0.018, 0.0003, 0.0051, -0.0065, 0.0061, 0.0007, -0.0013, 0.0047, 0.0003, -0.0068, -0.0201, -0.0292, -0.0407, -0.0259, 0.0351, 0.0256, -0.0186, -0.0138, -0.0258, 0.0188, -0.0031, -0.0157, 0.0185, 0.0182, -0.0172, 0.0203, 0.0104, -0.0074, 0.0139, 0.0, 0.0093, -0.0176, -0.0149, -0.0046])),\n",
       " (u'PSX',\n",
       "  DenseVector([-0.0055, -0.0001, 0.0179, 0.0004, 0.0355, 0.0143, 0.0079, -0.0152, -0.0101, 0.0098, 0.0022, -0.0297, -0.0158, -0.0467, -0.0535, -0.0172, 0.0409, 0.0225, 0.0295, 0.0234, -0.019, 0.0132, -0.0014, -0.0166, 0.0178, 0.0175, 0.0094, 0.0046, -0.0054, -0.0294, 0.0129, -0.0005, 0.0016, -0.0115, 0.0115, -0.0145])),\n",
       " (u'TGT',\n",
       "  DenseVector([-0.0045, 0.0, -0.0061, -0.0074, 0.0001, -0.001, 0.0016, -0.0006, 0.0048, -0.0048, 0.0087, 0.0152, -0.0024, -0.0278, -0.04, -0.0179, 0.0394, 0.0134, 0.0018, -0.0041, -0.03, 0.0214, 0.0058, -0.013, 0.0129, 0.0127, -0.0158, -0.0013, 0.0105, -0.0094, 0.0089, 0.0086, -0.0062, -0.0179, 0.0215, -0.0029])),\n",
       " (u'TRIP',\n",
       "  DenseVector([-0.0057, -0.0056, -0.0236, -0.0236, 0.0133, -0.0085, -0.0157, -0.0245, 0.011, 0.0138, -0.0167, -0.0071, -0.0191, -0.0124, -0.0466, 0.0041, 0.0277, 0.0287, 0.0037, -0.0099, -0.0245, 0.0226, -0.0037, -0.0325, 0.0029, 0.0029, -0.0101, 0.0085, -0.0084, 0.013, 0.0335, -0.0023, -0.0001, -0.0179, -0.0038, -0.0173])),\n",
       " (u'TSCO',\n",
       "  DenseVector([0.0102, 0.0117, -0.0234, 0.0058, 0.0154, 0.0039, -0.0076, 0.0047, -0.0011, 0.0087, 0.0019, -0.0079, -0.0396, -0.0453, -0.0235, -0.0065, 0.0241, 0.0245, -0.0199, -0.0009, -0.0361, 0.0178, 0.0031, -0.0091, 0.0191, 0.0187, -0.0065, 0.0104, 0.0146, -0.021, 0.0045, 0.0169, -0.011, -0.0083, -0.016, -0.0245])),\n",
       " (u'TSN',\n",
       "  DenseVector([0.0409, -0.0042, 0.0155, -0.005, 0.0244, -0.0212, 0.0081, 0.0, 0.004, 0.0089, 0.0005, 0.0072, 0.0065, -0.0416, -0.0351, -0.0109, 0.0269, 0.038, 0.0059, -0.0077, -0.0208, 0.014, 0.0167, -0.0129, 0.0076, 0.0075, -0.0065, 0.0085, 0.0119, -0.0018, 0.0102, -0.0027, 0.0016, -0.0174, -0.0061, -0.0178])),\n",
       " (u'URBN',\n",
       "  DenseVector([-0.0006, 0.008, -0.0089, 0.0068, 0.0175, -0.0109, -0.007, -0.0071, -0.0006, -0.0028, -0.0211, -0.019, -0.022, -0.004, -0.0534, 0.0098, 0.033, 0.0346, 0.0081, -0.0061, -0.0117, 0.0095, 0.0143, -0.0042, -0.0016, -0.0016, -0.0106, -0.0121, 0.0003, -0.0036, -0.0169, 0.0205, -0.0155, -0.0124, 0.0166, -0.0234])),\n",
       " (u'UTX',\n",
       "  DenseVector([-0.0044, -0.0013, 0.0012, -0.007, 0.0124, -0.0087, 0.0003, -0.0031, 0.0034, 0.0058, 0.0014, -0.0119, -0.0242, -0.0294, -0.0219, -0.0243, 0.0311, 0.0176, 0.0009, -0.0176, -0.0201, 0.0168, 0.0067, -0.0125, 0.0114, 0.0112, -0.0099, -0.0034, 0.0082, -0.0051, 0.0094, 0.0128, -0.0042, -0.026, 0.0051, -0.0363])),\n",
       " (u'VRSN',\n",
       "  DenseVector([0.0035, 0.0027, -0.0063, 0.004, 0.0066, -0.0071, -0.002, -0.0014, 0.0067, 0.0013, -0.0035, -0.0049, -0.0203, -0.0194, -0.0276, -0.0003, 0.0328, 0.026, -0.0043, -0.0088, -0.0345, 0.0222, 0.0028, -0.0161, 0.0082, 0.0081, -0.0019, 0.0101, 0.0054, 0.0009, 0.0136, 0.0064, -0.0017, -0.0077, 0.0167, -0.0173])),\n",
       " (u'YUM',\n",
       "  DenseVector([0.0044, 0.0099, -0.0146, -0.0015, 0.0025, -0.0485, -0.0347, 0.0388, -0.0027, 0.0173, -0.01, 0.0226, -0.0498, -0.0254, -0.0325, -0.0132, 0.0472, 0.0334, -0.0069, -0.0246, -0.0086, 0.0149, -0.0005, -0.0162, 0.0179, 0.0176, -0.0088, -0.0139, 0.0191, -0.0059, 0.0182, 0.0078, -0.0017, -0.0339, 0.0041, -0.0144]))]"
      ]
     },
     "execution_count": 152,
     "metadata": {},
     "output_type": "execute_result"
    }
   ],
   "source": [
    "dwStats.collect()"
   ]
  },
  {
   "cell_type": "code",
   "execution_count": 163,
   "metadata": {
    "collapsed": false
   },
   "outputs": [],
   "source": [
    "import numpy as np\n",
    "import statsmodels.tsa.stattools as ts\n",
    "\n"
   ]
  },
  {
   "cell_type": "code",
   "execution_count": 180,
   "metadata": {
    "collapsed": false
   },
   "outputs": [
    {
     "data": {
      "text/plain": [
       "[(u'AAL',\n",
       "  array([ 0.02469432,  0.0051474 , -0.01815642, -0.01635846,  0.00457942,\n",
       "          0.02447217, -0.00421546,  0.00352775,  0.00492149,  0.02495336,\n",
       "         -0.007281  , -0.002292  , -0.03560763, -0.05312053, -0.05358491,\n",
       "         -0.00318979,  0.036     ,  0.0046332 , -0.01050474,  0.0093216 ,\n",
       "          0.00564392,  0.05892857, -0.01493616, -0.0070922 ,  0.00246305,\n",
       "          0.002457  ,  0.00490196,  0.00512195,  0.02281   ,  0.00332147,\n",
       "          0.00827619,  0.00984991,  0.02159777, -0.01136622, -0.00574845,\n",
       "         -0.04740981]))]"
      ]
     },
     "execution_count": 180,
     "metadata": {},
     "output_type": "execute_result"
    }
   ],
   "source": [
    "dwStats.take(1)"
   ]
  },
  {
   "cell_type": "markdown",
   "metadata": {},
   "source": [
    "## Augmented Dickey Fueller test"
   ]
  },
  {
   "cell_type": "code",
   "execution_count": 183,
   "metadata": {
    "collapsed": false
   },
   "outputs": [
    {
     "data": {
      "text/plain": [
       "[(u'AAL',\n",
       "  (-3.8435486776337977,\n",
       "   0.0024918958688509344,\n",
       "   0,\n",
       "   35,\n",
       "   {'1%': -3.6327426647230316,\n",
       "    '10%': -2.6130173469387756,\n",
       "    '5%': -2.9485102040816327},\n",
       "   -159.89607317623569)),\n",
       " (u'AAPL',\n",
       "  (-5.9263894376379227,\n",
       "   2.4380488197144194e-07,\n",
       "   0,\n",
       "   35,\n",
       "   {'1%': -3.6327426647230316,\n",
       "    '10%': -2.6130173469387756,\n",
       "    '5%': -2.9485102040816327},\n",
       "   -152.06956251179929))]"
      ]
     },
     "execution_count": 183,
     "metadata": {},
     "output_type": "execute_result"
    }
   ],
   "source": [
    "returnRates.map(lambda x: (x[0], ts.adfuller(x[1],1))).take(2)"
   ]
  },
  {
   "cell_type": "markdown",
   "metadata": {},
   "source": [
    "## Durbin Watson"
   ]
  },
  {
   "cell_type": "code",
   "execution_count": 186,
   "metadata": {
    "collapsed": false
   },
   "outputs": [
    {
     "data": {
      "text/plain": [
       "[(u'AAL', 1.2651505598339603), (u'AAPL', 1.9645069225856866)]"
      ]
     },
     "execution_count": 186,
     "metadata": {},
     "output_type": "execute_result"
    }
   ],
   "source": [
    "import statsmodels.api as sm\n",
    "returnRates.map(lambda x: (x[0], sm.stats.durbin_watson(x[1]))).take(2)"
   ]
  },
  {
   "cell_type": "markdown",
   "metadata": {},
   "source": [
    "## ARMA Model"
   ]
  },
  {
   "cell_type": "code",
   "execution_count": 200,
   "metadata": {
    "collapsed": true
   },
   "outputs": [],
   "source": [
    "arma_20 = returnRates.map(lambda x: (x[0], sm.tsa.ARMA(x[1], (2,0)).fit()))"
   ]
  },
  {
   "cell_type": "markdown",
   "metadata": {},
   "source": [
    "## Model Parameters"
   ]
  },
  {
   "cell_type": "code",
   "execution_count": 201,
   "metadata": {
    "collapsed": false
   },
   "outputs": [
    {
     "data": {
      "text/plain": [
       "[(u'AAL', array([ -3.00917458e-04,   3.70041833e-01,  -1.14481960e-01]))]"
      ]
     },
     "execution_count": 201,
     "metadata": {},
     "output_type": "execute_result"
    }
   ],
   "source": [
    "arma_20.map(lambda res_arma:(res_arma[0], res_arma[1].params) ).take(1)"
   ]
  },
  {
   "cell_type": "markdown",
   "metadata": {},
   "source": [
    "## Arima using statsmodels"
   ]
  },
  {
   "cell_type": "code",
   "execution_count": 198,
   "metadata": {
    "collapsed": true
   },
   "outputs": [],
   "source": [
    "arima_101 = returnRates.map(lambda x: (x[0], sm.tsa.ARIMA(x[1], (1,0,1)).fit()))"
   ]
  },
  {
   "cell_type": "code",
   "execution_count": 199,
   "metadata": {
    "collapsed": false
   },
   "outputs": [
    {
     "data": {
      "text/plain": [
       "[(u'AAL', array([-0.00037234,  0.22196278,  0.12971846]))]"
      ]
     },
     "execution_count": 199,
     "metadata": {},
     "output_type": "execute_result"
    }
   ],
   "source": [
    "arima_101.map(lambda res_arima:(res_arima[0], res_arima[1].params) ).take(1)"
   ]
  },
  {
   "cell_type": "markdown",
   "metadata": {},
   "source": [
    "## Using previous spark-ts implementation"
   ]
  },
  {
   "cell_type": "code",
   "execution_count": 192,
   "metadata": {
    "collapsed": false
   },
   "outputs": [
    {
     "data": {
      "text/plain": [
       "[-0.0012474547399206936, 0.2666755318221923, 0.0961795619837402]"
      ]
     },
     "execution_count": 192,
     "metadata": {},
     "output_type": "execute_result"
    }
   ],
   "source": [
    "m.coefficients"
   ]
  },
  {
   "cell_type": "code",
   "execution_count": null,
   "metadata": {
    "collapsed": true
   },
   "outputs": [],
   "source": []
  }
 ],
 "metadata": {
  "kernelspec": {
   "display_name": "Python 2",
   "language": "python",
   "name": "python2"
  },
  "language_info": {
   "codemirror_mode": {
    "name": "ipython",
    "version": 2
   },
   "file_extension": ".py",
   "mimetype": "text/x-python",
   "name": "python",
   "nbconvert_exporter": "python",
   "pygments_lexer": "ipython2",
   "version": "2.7.11"
  }
 },
 "nbformat": 4,
 "nbformat_minor": 0
}
