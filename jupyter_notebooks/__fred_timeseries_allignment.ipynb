{
 "cells": [
  {
   "cell_type": "code",
   "execution_count": 1,
   "metadata": {
    "collapsed": true
   },
   "outputs": [],
   "source": [
    "from datetime import datetime\n",
    "\n",
    "from pyspark import SparkContext, SQLContext\n",
    "from pyspark.sql import Row\n",
    "from pyspark.sql.types import StructType, StructField, TimestampType, DoubleType, StringType, IntegerType\n",
    "\n",
    "from sparkts.datetimeindex import uniform, BusinessDayFrequency\n",
    "from sparkts.timeseriesrdd import time_series_rdd_from_observations"
   ]
  },
  {
   "cell_type": "code",
   "execution_count": 2,
   "metadata": {
    "collapsed": true
   },
   "outputs": [],
   "source": [
    "import sparkts.datetimeindex as dt"
   ]
  },
  {
   "cell_type": "code",
   "execution_count": 3,
   "metadata": {
    "collapsed": false
   },
   "outputs": [
    {
     "data": {
      "text/plain": [
       "sparkts.datetimeindex.DayFrequency"
      ]
     },
     "execution_count": 3,
     "metadata": {},
     "output_type": "execute_result"
    }
   ],
   "source": [
    "dt.DayFrequency"
   ]
  },
  {
   "cell_type": "code",
   "execution_count": 4,
   "metadata": {
    "collapsed": false
   },
   "outputs": [],
   "source": [
    "def lineToRow(line):\n",
    "    (year, month, day, symbol, volume, price) = line.split(\"\\t\")\n",
    "    # Python 2.x compatible timestamp generation\n",
    "    dt = datetime(int(year), int(month), int(day))\n",
    "    return (dt, symbol, float(price))\n",
    "\n",
    "def loadObservations(sparkContext, sqlContext, path):\n",
    "    textFile = sparkContext.textFile(path)\n",
    "    rowRdd = textFile.map(lineToRow)\n",
    "    schema = StructType([\n",
    "        StructField('timestamp', TimestampType(), nullable=True),\n",
    "        StructField('symbol', StringType(), nullable=True),\n",
    "        StructField('price', DoubleType(), nullable=True),\n",
    "    ])\n",
    "    return sqlContext.createDataFrame(rowRdd, schema);"
   ]
  },
  {
   "cell_type": "code",
   "execution_count": 3,
   "metadata": {
    "collapsed": false
   },
   "outputs": [
    {
     "name": "stdout",
     "output_type": "stream",
     "text": [
      "--2016-10-06 17:14:18--  https://raw.githubusercontent.com/sryza/spark-ts-examples/master/data/ticker.tsv\n",
      "Resolving raw.githubusercontent.com... 151.101.60.133\n",
      "Connecting to raw.githubusercontent.com|151.101.60.133|:443... connected.\n",
      "HTTP request sent, awaiting response... 200 OK\n",
      "Length: 105146 (103K) [text/plain]\n",
      "Saving to: 'ticker.tsv.1'\n",
      "\n",
      "ticker.tsv.1        100%[=====================>] 102.68K  --.-KB/s   in 0.1s   \n",
      "\n",
      "2016-10-06 17:14:19 (719 KB/s) - 'ticker.tsv.1' saved [105146/105146]\n",
      "\n"
     ]
    }
   ],
   "source": [
    "!wget https://raw.githubusercontent.com/sryza/spark-ts-examples/master/data/ticker.tsv"
   ]
  },
  {
   "cell_type": "code",
   "execution_count": 4,
   "metadata": {
    "collapsed": false
   },
   "outputs": [],
   "source": [
    "tickerObs = loadObservations(sc, sqlContext, \"/Users/guillermobreto/Downloads/spark-timeseries/DOCS_REPO/spark-timeseries/ticker.tsv\")"
   ]
  },
  {
   "cell_type": "code",
   "execution_count": 24,
   "metadata": {
    "collapsed": false
   },
   "outputs": [
    {
     "data": {
      "text/plain": [
       "[Row(timestamp=datetime.datetime(2015, 8, 14, 0, 0)),\n",
       " Row(timestamp=datetime.datetime(2015, 9, 14, 0, 0)),\n",
       " Row(timestamp=datetime.datetime(2015, 9, 18, 0, 0))]"
      ]
     },
     "execution_count": 24,
     "metadata": {},
     "output_type": "execute_result"
    }
   ],
   "source": [
    "tickerObs.select(\"timestamp\").take(3)"
   ]
  },
  {
   "cell_type": "code",
   "execution_count": 252,
   "metadata": {
    "collapsed": false
   },
   "outputs": [
    {
     "name": "stdout",
     "output_type": "stream",
     "text": [
      "+---------------------+------+------+\n",
      "|timestamp            |symbol|price |\n",
      "+---------------------+------+------+\n",
      "|2015-08-14 00:00:00.0|ADP   |82.99 |\n",
      "|2015-09-14 00:00:00.0|NKE   |111.78|\n",
      "|2015-09-18 00:00:00.0|DO    |20.18 |\n",
      "+---------------------+------+------+\n",
      "only showing top 3 rows\n",
      "\n"
     ]
    }
   ],
   "source": [
    "tickerObs.show(3, truncate=False)"
   ]
  },
  {
   "cell_type": "code",
   "execution_count": 29,
   "metadata": {
    "collapsed": false
   },
   "outputs": [
    {
     "name": "stdout",
     "output_type": "stream",
     "text": [
      "root\n",
      " |-- timestamp: timestamp (nullable = true)\n",
      " |-- symbol: string (nullable = true)\n",
      " |-- price: double (nullable = true)\n",
      "\n"
     ]
    }
   ],
   "source": [
    "tickerObs.printSchema()"
   ]
  },
  {
   "cell_type": "code",
   "execution_count": 26,
   "metadata": {
    "collapsed": false
   },
   "outputs": [],
   "source": [
    "\n",
    "# Create an daily DateTimeIndex over August and September 2015\n",
    "freq = BusinessDayFrequency(1, 1, sc)\n",
    "dtIndex = uniform(start='2015-08-03T00:00-04:00', end='2015-09-22T00:00-04:00', freq=freq, sc=sc)\n",
    "\n"
   ]
  },
  {
   "cell_type": "code",
   "execution_count": 27,
   "metadata": {
    "collapsed": false
   },
   "outputs": [],
   "source": [
    "tickerTsrdd = time_series_rdd_from_observations(dtIndex, tickerObs, \"timestamp\", \"symbol\", \"price\")\n"
   ]
  },
  {
   "cell_type": "code",
   "execution_count": 28,
   "metadata": {
    "collapsed": false
   },
   "outputs": [
    {
     "data": {
      "text/plain": [
       "[(u'AAL',\n",
       "  array([ 41.71,  42.74,  42.96,  42.18,  41.49,  41.68,  42.7 ,  42.52,\n",
       "          42.67,  42.88,  43.95,  43.63,  43.53,  41.98,  39.75,  37.62,\n",
       "          37.5 ,  38.85,  39.03,  38.62,  38.98,  39.2 ,  41.51,  40.89,\n",
       "          40.6 ,    nan,  40.8 ,  41.  ,  41.21,  42.15,  42.29,  42.64,\n",
       "          43.06,  43.99,  43.49,  43.24,  41.19])),\n",
       " (u'AAPL',\n",
       "  array([ 118.44  ,  114.64  ,  115.4   ,  115.13  ,  115.52  ,  119.6901,\n",
       "          113.5499,  115.24  ,  115.15  ,  116.    ,  117.1601,  116.5   ,\n",
       "          115.01  ,  112.65  ,  105.76  ,  103.155 ,  103.74  ,  109.625 ,\n",
       "          112.92  ,  113.29  ,  112.76  ,  107.72  ,  112.34  ,  110.37  ,\n",
       "          109.27  ,       nan,  112.21  ,  110.15  ,  112.57  ,  114.017 ,\n",
       "          115.3   ,  116.28  ,  116.35  ,  113.92  ,  113.45  ,  115.23  ,\n",
       "          113.432 ]))]"
      ]
     },
     "execution_count": 28,
     "metadata": {},
     "output_type": "execute_result"
    }
   ],
   "source": [
    "tickerTsrdd.take(2)"
   ]
  },
  {
   "cell_type": "code",
   "execution_count": 11,
   "metadata": {
    "collapsed": false
   },
   "outputs": [
    {
     "name": "stdout",
     "output_type": "stream",
     "text": [
      "104\n"
     ]
    }
   ],
   "source": [
    "\n",
    "# Count the number of series (number of symbols)\n",
    "print(tickerTsrdd.count())\n",
    "\n",
    "# Impute missing values using linear interpolation\n",
    "filled = tickerTsrdd.fill(\"linear\")\n",
    "\n",
    "# Compute return rates\n",
    "returnRates = filled.return_rates()"
   ]
  },
  {
   "cell_type": "code",
   "execution_count": 12,
   "metadata": {
    "collapsed": false
   },
   "outputs": [
    {
     "data": {
      "text/plain": [
       "[(u'AAL',\n",
       "  array([ 41.71,  42.74,  42.96,  42.18,  41.49,  41.68,  42.7 ,  42.52,\n",
       "          42.67,  42.88,  43.95,  43.63,  43.53,  41.98,  39.75,  37.62,\n",
       "          37.5 ,  38.85,  39.03,  38.62,  38.98,  39.2 ,  41.51,  40.89,\n",
       "          40.6 ,  40.7 ,  40.8 ,  41.  ,  41.21,  42.15,  42.29,  42.64,\n",
       "          43.06,  43.99,  43.49,  43.24,  41.19])),\n",
       " (u'AAPL',\n",
       "  array([ 118.44  ,  114.64  ,  115.4   ,  115.13  ,  115.52  ,  119.6901,\n",
       "          113.5499,  115.24  ,  115.15  ,  116.    ,  117.1601,  116.5   ,\n",
       "          115.01  ,  112.65  ,  105.76  ,  103.155 ,  103.74  ,  109.625 ,\n",
       "          112.92  ,  113.29  ,  112.76  ,  107.72  ,  112.34  ,  110.37  ,\n",
       "          109.27  ,  110.74  ,  112.21  ,  110.15  ,  112.57  ,  114.017 ,\n",
       "          115.3   ,  116.28  ,  116.35  ,  113.92  ,  113.45  ,  115.23  ,\n",
       "          113.432 ]))]"
      ]
     },
     "execution_count": 12,
     "metadata": {},
     "output_type": "execute_result"
    }
   ],
   "source": [
    "filled.take(2)"
   ]
  },
  {
   "cell_type": "code",
   "execution_count": 12,
   "metadata": {
    "collapsed": false
   },
   "outputs": [
    {
     "name": "stdout",
     "output_type": "stream",
     "text": [
      "([0.99930539174187916], u'NFLX')\n",
      "([2.3701164736953166], u'DISCK')\n"
     ]
    }
   ],
   "source": [
    "# Durbin-Watson test for serial correlation, ported from TimeSeriesStatisticalTests.scala\n",
    "def dwtest(residuals):\n",
    "    residsSum = residuals[0] * residuals[0]\n",
    "    diffsSum = 0.0\n",
    "    i = 1\n",
    "    while i < len(residuals):\n",
    "        residsSum += residuals[i] * residuals[i]\n",
    "        diff = residuals[i] - residuals[i - 1]\n",
    "        diffsSum += diff * diff\n",
    "        i += 1\n",
    "    return diffsSum / residsSum\n",
    "\n",
    "# Compute Durbin-Watson stats for each series\n",
    "# Swap ticker symbol and stats so min and max compare the statistic value, not the\n",
    "# ticker names.\n",
    "dwStats = returnRates.map_series(lambda row: (row[0], [dwtest(row[1])])).map(lambda x: (x[1], x[0]))\n",
    "\n",
    "print(dwStats.min())\n",
    "print(dwStats.max())"
   ]
  },
  {
   "cell_type": "markdown",
   "metadata": {
    "collapsed": true
   },
   "source": [
    "# Get the data"
   ]
  },
  {
   "cell_type": "code",
   "execution_count": 5,
   "metadata": {
    "collapsed": false
   },
   "outputs": [
    {
     "name": "stdout",
     "output_type": "stream",
     "text": [
      "40809\n"
     ]
    }
   ],
   "source": [
    "rdd = sc.wholeTextFiles(\"/Users/guillermobreto/Downloads/fred_timeseries_project/data/fred_codes/\")\n",
    "print(rdd.count())\n",
    "from pyspark.sql.functions import explode\n",
    "import pyspark.sql.functions as f\n",
    "from pyspark.sql.functions import udf\n",
    "from datetime import datetime\n",
    "\n",
    "from pyspark import SparkContext, SQLContext\n",
    "from pyspark.sql import Row\n",
    "from pyspark.sql.types import StructType, StructField, TimestampType, DoubleType, StringType\n",
    "\n",
    "from sparkts.datetimeindex import uniform, BusinessDayFrequency\n",
    "from sparkts.timeseriesrdd import time_series_rdd_from_observations\n",
    "\n",
    "import numpy as np\n",
    "import pandas as pd"
   ]
  },
  {
   "cell_type": "code",
   "execution_count": 12,
   "metadata": {
    "collapsed": true
   },
   "outputs": [],
   "source": [
    "from sparkts.datetimeindex import DayFrequency"
   ]
  },
  {
   "cell_type": "code",
   "execution_count": 13,
   "metadata": {
    "collapsed": true
   },
   "outputs": [],
   "source": [
    "freq = DayFrequency(1,sc)"
   ]
  },
  {
   "cell_type": "code",
   "execution_count": 14,
   "metadata": {
    "collapsed": true
   },
   "outputs": [],
   "source": [
    "%matplotlib inline \n",
    "import matplotlib.pyplot as plt"
   ]
  },
  {
   "cell_type": "code",
   "execution_count": 15,
   "metadata": {
    "collapsed": false
   },
   "outputs": [],
   "source": [
    "#freq = BusinessDayFrequency(1, 1, sc)\n",
    "dtIndex = uniform(start='2005-02-01T00:00-05:00', end='2005-06-01T00:00-05:00', freq=freq, sc=sc)"
   ]
  },
  {
   "cell_type": "code",
   "execution_count": 16,
   "metadata": {
    "collapsed": true
   },
   "outputs": [],
   "source": [
    "rdd_df = rdd.map(lambda r: (r[0].split(\"/\")[-1].strip(\".csv\"),filter(None, r[1].split(\"\\n\")[1:]))).toDF([\"symbol\",\"v\"])\n"
   ]
  },
  {
   "cell_type": "code",
   "execution_count": 11,
   "metadata": {
    "collapsed": false
   },
   "outputs": [
    {
     "data": {
      "text/plain": [
       "40809"
      ]
     },
     "execution_count": 11,
     "metadata": {},
     "output_type": "execute_result"
    }
   ],
   "source": [
    "rdd_df.select(\"symbol\").distinct().count()"
   ]
  },
  {
   "cell_type": "code",
   "execution_count": 17,
   "metadata": {
    "collapsed": false
   },
   "outputs": [
    {
     "name": "stdout",
     "output_type": "stream",
     "text": [
      "+--------------------+--------------------+\n",
      "|              symbol|                   v|\n",
      "+--------------------+--------------------+\n",
      "|FRED_00XALCCHM086...|[2005-01-01,97.0,...|\n",
      "|FRED_00XALCFIM086...|[1996-01-01,71.22...|\n",
      "|FRED_00XALCHRM086...|[2004-12-01,81.32...|\n",
      "+--------------------+--------------------+\n",
      "only showing top 3 rows\n",
      "\n"
     ]
    }
   ],
   "source": [
    "rdd_df=rdd_df.limit(100)\n",
    "rdd_df.show(3)"
   ]
  },
  {
   "cell_type": "code",
   "execution_count": 18,
   "metadata": {
    "collapsed": false
   },
   "outputs": [
    {
     "data": {
      "text/plain": [
       "100"
      ]
     },
     "execution_count": 18,
     "metadata": {},
     "output_type": "execute_result"
    }
   ],
   "source": [
    "rdd_df.select(\"symbol\").distinct().count()"
   ]
  },
  {
   "cell_type": "code",
   "execution_count": 19,
   "metadata": {
    "collapsed": true
   },
   "outputs": [],
   "source": [
    "rdd_df_exp =  rdd_df.select([rdd_df.symbol,explode(rdd_df.v).alias(\"DATA-VALUE\")])"
   ]
  },
  {
   "cell_type": "code",
   "execution_count": 20,
   "metadata": {
    "collapsed": true
   },
   "outputs": [],
   "source": [
    "valueUdf = udf(lambda s: float(s.split(\",\")[1]), DoubleType())\n",
    "dateUdf = udf(lambda s: s.split(\",\")[0], StringType())\n",
    "new_df =rdd_df_exp.withColumn(\"Date\", (f.to_date(f.lit(dateUdf(rdd_df_exp[\"DATA-VALUE\"]))).cast(TimestampType())))\n",
    "new_df =new_df.withColumn(\"price\", valueUdf(new_df[\"DATA-VALUE\"]))"
   ]
  },
  {
   "cell_type": "code",
   "execution_count": 21,
   "metadata": {
    "collapsed": false
   },
   "outputs": [
    {
     "name": "stdout",
     "output_type": "stream",
     "text": [
      "+--------------------+---------------+--------------------+-----+\n",
      "|              symbol|     DATA-VALUE|                Date|price|\n",
      "+--------------------+---------------+--------------------+-----+\n",
      "|FRED_00XALCCHM086...|2005-01-01,97.0|2005-01-01 00:00:...| 97.0|\n",
      "|FRED_00XALCCHM086...|2005-02-01,97.3|2005-02-01 00:00:...| 97.3|\n",
      "|FRED_00XALCCHM086...|2005-03-01,97.4|2005-03-01 00:00:...| 97.4|\n",
      "+--------------------+---------------+--------------------+-----+\n",
      "only showing top 3 rows\n",
      "\n"
     ]
    }
   ],
   "source": [
    "new_df.show(3)"
   ]
  },
  {
   "cell_type": "code",
   "execution_count": 22,
   "metadata": {
    "collapsed": false
   },
   "outputs": [
    {
     "data": {
      "text/plain": [
       "100"
      ]
     },
     "execution_count": 22,
     "metadata": {},
     "output_type": "execute_result"
    }
   ],
   "source": [
    "new_df.select(\"symbol\").distinct().count()"
   ]
  },
  {
   "cell_type": "code",
   "execution_count": 23,
   "metadata": {
    "collapsed": true
   },
   "outputs": [],
   "source": [
    "freq = DayFrequency(1,sc)\n",
    "dtIndex = uniform(start='2015-01-01T00:00-05:00', end='2016-10-01T00:00-05:00', freq=freq, sc=sc)"
   ]
  },
  {
   "cell_type": "code",
   "execution_count": 24,
   "metadata": {
    "collapsed": false
   },
   "outputs": [],
   "source": [
    "dates = (\"2015-01-01\",  \"2016-10-01\")\n",
    "date_from, date_to = [f.to_date(f.lit(s)).cast(TimestampType()) for s in dates]\n",
    "df_filtered = new_df.where((new_df.Date > date_from) & (new_df.Date < date_to))"
   ]
  },
  {
   "cell_type": "code",
   "execution_count": 25,
   "metadata": {
    "collapsed": false
   },
   "outputs": [
    {
     "name": "stdout",
     "output_type": "stream",
     "text": [
      "+--------------------+-----------------+--------------------+------+\n",
      "|              symbol|       DATA-VALUE|                Date| price|\n",
      "+--------------------+-----------------+--------------------+------+\n",
      "|FRED_00XALCCHM086...| 2015-02-01,99.93|2015-02-01 00:00:...| 99.93|\n",
      "|FRED_00XALCCHM086...| 2015-03-01,100.4|2015-03-01 00:00:...| 100.4|\n",
      "|FRED_00XALCCHM086...|2015-04-01,100.13|2015-04-01 00:00:...|100.13|\n",
      "+--------------------+-----------------+--------------------+------+\n",
      "only showing top 3 rows\n",
      "\n"
     ]
    }
   ],
   "source": [
    "df_filtered.show(3)"
   ]
  },
  {
   "cell_type": "code",
   "execution_count": 26,
   "metadata": {
    "collapsed": true
   },
   "outputs": [],
   "source": [
    "df = df_filtered.select([\"symbol\", \"Date\", \"price\"])\n",
    "df = df.withColumnRenamed(\"Date\", \"timestamp\")"
   ]
  },
  {
   "cell_type": "code",
   "execution_count": 27,
   "metadata": {
    "collapsed": false
   },
   "outputs": [
    {
     "name": "stdout",
     "output_type": "stream",
     "text": [
      "+---------------------+---------------------+-----+\n",
      "|symbol               |timestamp            |price|\n",
      "+---------------------+---------------------+-----+\n",
      "|FRED_00XALCCHM086NEST|2015-02-01 00:00:00.0|99.93|\n",
      "|FRED_00XALCCHM086NEST|2015-03-01 00:00:00.0|100.4|\n",
      "+---------------------+---------------------+-----+\n",
      "only showing top 2 rows\n",
      "\n"
     ]
    }
   ],
   "source": [
    "df.show(2, truncate=False)"
   ]
  },
  {
   "cell_type": "code",
   "execution_count": 28,
   "metadata": {
    "collapsed": false
   },
   "outputs": [],
   "source": [
    "tickerTsrdd = time_series_rdd_from_observations(dtIndex, df, \"timestamp\", \"symbol\", \"price\")"
   ]
  },
  {
   "cell_type": "code",
   "execution_count": 29,
   "metadata": {
    "collapsed": false
   },
   "outputs": [
    {
     "data": {
      "text/plain": [
       "[(u'FRED_00XALCCHM086NEST',\n",
       "  array([    nan,     nan,     nan,     nan,     nan,     nan,     nan,\n",
       "             nan,     nan,     nan,     nan,     nan,     nan,     nan,\n",
       "             nan,     nan,     nan,     nan,     nan,     nan,     nan,\n",
       "             nan,     nan,     nan,     nan,     nan,     nan,     nan,\n",
       "             nan,     nan,     nan,   99.93,     nan,     nan,     nan,\n",
       "             nan,     nan,     nan,     nan,     nan,     nan,     nan,\n",
       "             nan,     nan,     nan,     nan,     nan,     nan,     nan,\n",
       "             nan,     nan,     nan,     nan,     nan,     nan,     nan,\n",
       "             nan,     nan,     nan,  100.4 ,     nan,     nan,     nan,\n",
       "             nan,     nan,     nan,     nan,     nan,     nan,     nan,\n",
       "             nan,     nan,     nan,     nan,     nan,     nan,     nan,\n",
       "             nan,     nan,     nan,     nan,     nan,     nan,     nan,\n",
       "             nan,     nan,     nan,     nan,     nan,     nan,  100.13,\n",
       "             nan,     nan,     nan,     nan,     nan,     nan,     nan,\n",
       "             nan,     nan,     nan,     nan,     nan,     nan,     nan,\n",
       "             nan,     nan,     nan,     nan,     nan,     nan,     nan,\n",
       "             nan,     nan,     nan,     nan,     nan,     nan,     nan,\n",
       "             nan,  100.2 ,     nan,     nan,     nan,     nan,     nan,\n",
       "             nan,     nan,     nan,     nan,     nan,     nan,     nan,\n",
       "             nan,     nan,     nan,     nan,     nan,     nan,     nan,\n",
       "             nan,     nan,     nan,     nan,     nan,     nan,     nan,\n",
       "             nan,     nan,     nan,     nan,  100.33,     nan,     nan,\n",
       "             nan,     nan,     nan,     nan,     nan,     nan,     nan,\n",
       "             nan,     nan,     nan,     nan,     nan,     nan,     nan,\n",
       "             nan,     nan,     nan,     nan,     nan,     nan,     nan,\n",
       "             nan,     nan,     nan,     nan,     nan,     nan,  100.13,\n",
       "             nan,     nan,     nan,     nan,     nan,     nan,     nan,\n",
       "             nan,     nan,     nan,     nan,     nan,     nan,     nan,\n",
       "             nan,     nan,     nan,     nan,     nan,     nan,     nan,\n",
       "             nan,     nan,     nan,     nan,     nan,     nan,     nan,\n",
       "             nan,     nan,   99.58,     nan,     nan,     nan,     nan,\n",
       "             nan,     nan,     nan,     nan,     nan,     nan,     nan,\n",
       "             nan,     nan,     nan,     nan,     nan,     nan,     nan,\n",
       "             nan,     nan,     nan,     nan,     nan,     nan,     nan,\n",
       "             nan,     nan,     nan,     nan,     nan,   99.93,     nan,\n",
       "             nan,     nan,     nan,     nan,     nan,     nan,     nan,\n",
       "             nan,     nan,     nan,     nan,     nan,     nan,     nan,\n",
       "             nan,     nan,     nan,     nan,     nan,     nan,     nan,\n",
       "             nan,     nan,     nan,     nan,     nan,     nan,     nan,\n",
       "           99.97,     nan,     nan,     nan,     nan,     nan,     nan,\n",
       "             nan,     nan,     nan,     nan,     nan,     nan,     nan,\n",
       "             nan,     nan,     nan,     nan,     nan,     nan,     nan,\n",
       "             nan,     nan,     nan,     nan,     nan,     nan,     nan,\n",
       "             nan,     nan,     nan,   99.62,     nan,     nan,     nan,\n",
       "             nan,     nan,     nan,     nan,     nan,     nan,     nan,\n",
       "             nan,     nan,     nan,     nan,     nan,     nan,     nan,\n",
       "             nan,     nan,     nan,     nan,     nan,     nan,     nan,\n",
       "             nan,     nan,     nan,     nan,     nan,   99.51,     nan,\n",
       "             nan,     nan,     nan,     nan,     nan,     nan,     nan,\n",
       "             nan,     nan,     nan,     nan,     nan,     nan,     nan,\n",
       "             nan,     nan,     nan,     nan,     nan,     nan,     nan,\n",
       "             nan,     nan,     nan,     nan,     nan,     nan,     nan,\n",
       "             nan,   98.79,     nan,     nan,     nan,     nan,     nan,\n",
       "             nan,     nan,     nan,     nan,     nan,     nan,     nan,\n",
       "             nan,     nan,     nan,     nan,     nan,     nan,     nan,\n",
       "             nan,     nan,     nan,     nan,     nan,     nan,     nan,\n",
       "             nan,     nan,     nan,     nan,   98.94,     nan,     nan,\n",
       "             nan,     nan,     nan,     nan,     nan,     nan,     nan,\n",
       "             nan,     nan,     nan,     nan,     nan,     nan,     nan,\n",
       "             nan,     nan,     nan,     nan,     nan,     nan,     nan,\n",
       "             nan,     nan,     nan,     nan,     nan,   99.33,     nan,\n",
       "             nan,     nan,     nan,     nan,     nan,     nan,     nan,\n",
       "             nan,     nan,     nan,     nan,     nan,     nan,     nan,\n",
       "             nan,     nan,     nan,     nan,     nan,     nan,     nan,\n",
       "             nan,     nan,     nan,     nan,     nan,     nan,     nan,\n",
       "             nan,   99.57,     nan,     nan,     nan,     nan,     nan,\n",
       "             nan,     nan,     nan,     nan,     nan,     nan,     nan,\n",
       "             nan,     nan,     nan,     nan,     nan,     nan,     nan,\n",
       "             nan,     nan,     nan,     nan,     nan,     nan,     nan,\n",
       "             nan,     nan,     nan,   99.71,     nan,     nan,     nan,\n",
       "             nan,     nan,     nan,     nan,     nan,     nan,     nan,\n",
       "             nan,     nan,     nan,     nan,     nan,     nan,     nan,\n",
       "             nan,     nan,     nan,     nan,     nan,     nan,     nan,\n",
       "             nan,     nan,     nan,     nan,     nan,     nan,   99.74,\n",
       "             nan,     nan,     nan,     nan,     nan,     nan,     nan,\n",
       "             nan,     nan,     nan,     nan,     nan,     nan,     nan,\n",
       "             nan,     nan,     nan,     nan,     nan,     nan,     nan,\n",
       "             nan,     nan,     nan,     nan,     nan,     nan,     nan,\n",
       "             nan,   99.66,     nan,     nan,     nan,     nan,     nan,\n",
       "             nan,     nan,     nan,     nan,     nan,     nan,     nan,\n",
       "             nan,     nan,     nan,     nan,     nan,     nan,     nan,\n",
       "             nan,     nan,     nan,     nan,     nan,     nan,     nan,\n",
       "             nan,     nan,     nan,     nan,   99.61,     nan,     nan,\n",
       "             nan,     nan,     nan,     nan,     nan,     nan,     nan,\n",
       "             nan,     nan,     nan,     nan,     nan,     nan,     nan,\n",
       "             nan,     nan,     nan,     nan,     nan,     nan,     nan,\n",
       "             nan,     nan,     nan,     nan,     nan,     nan,     nan,\n",
       "             nan,     nan,     nan,     nan,     nan,     nan,     nan,\n",
       "             nan,     nan,     nan,     nan,     nan,     nan,     nan,\n",
       "             nan,     nan,     nan,     nan,     nan,     nan,     nan,\n",
       "             nan,     nan,     nan,     nan,     nan,     nan,     nan,\n",
       "             nan,     nan,     nan])),\n",
       " (u'FRED_00XALCFIM086NEST',\n",
       "  array([    nan,     nan,     nan,     nan,     nan,     nan,     nan,\n",
       "             nan,     nan,     nan,     nan,     nan,     nan,     nan,\n",
       "             nan,     nan,     nan,     nan,     nan,     nan,     nan,\n",
       "             nan,     nan,     nan,     nan,     nan,     nan,     nan,\n",
       "             nan,     nan,     nan,   99.81,     nan,     nan,     nan,\n",
       "             nan,     nan,     nan,     nan,     nan,     nan,     nan,\n",
       "             nan,     nan,     nan,     nan,     nan,     nan,     nan,\n",
       "             nan,     nan,     nan,     nan,     nan,     nan,     nan,\n",
       "             nan,     nan,     nan,  100.22,     nan,     nan,     nan,\n",
       "             nan,     nan,     nan,     nan,     nan,     nan,     nan,\n",
       "             nan,     nan,     nan,     nan,     nan,     nan,     nan,\n",
       "             nan,     nan,     nan,     nan,     nan,     nan,     nan,\n",
       "             nan,     nan,     nan,     nan,     nan,     nan,  100.25,\n",
       "             nan,     nan,     nan,     nan,     nan,     nan,     nan,\n",
       "             nan,     nan,     nan,     nan,     nan,     nan,     nan,\n",
       "             nan,     nan,     nan,     nan,     nan,     nan,     nan,\n",
       "             nan,     nan,     nan,     nan,     nan,     nan,     nan,\n",
       "             nan,  100.13,     nan,     nan,     nan,     nan,     nan,\n",
       "             nan,     nan,     nan,     nan,     nan,     nan,     nan,\n",
       "             nan,     nan,     nan,     nan,     nan,     nan,     nan,\n",
       "             nan,     nan,     nan,     nan,     nan,     nan,     nan,\n",
       "             nan,     nan,     nan,     nan,  100.15,     nan,     nan,\n",
       "             nan,     nan,     nan,     nan,     nan,     nan,     nan,\n",
       "             nan,     nan,     nan,     nan,     nan,     nan,     nan,\n",
       "             nan,     nan,     nan,     nan,     nan,     nan,     nan,\n",
       "             nan,     nan,     nan,     nan,     nan,     nan,   99.8 ,\n",
       "             nan,     nan,     nan,     nan,     nan,     nan,     nan,\n",
       "             nan,     nan,     nan,     nan,     nan,     nan,     nan,\n",
       "             nan,     nan,     nan,     nan,     nan,     nan,     nan,\n",
       "             nan,     nan,     nan,     nan,     nan,     nan,     nan,\n",
       "             nan,     nan,   99.85,     nan,     nan,     nan,     nan,\n",
       "             nan,     nan,     nan,     nan,     nan,     nan,     nan,\n",
       "             nan,     nan,     nan,     nan,     nan,     nan,     nan,\n",
       "             nan,     nan,     nan,     nan,     nan,     nan,     nan,\n",
       "             nan,     nan,     nan,     nan,     nan,  100.01,     nan,\n",
       "             nan,     nan,     nan,     nan,     nan,     nan,     nan,\n",
       "             nan,     nan,     nan,     nan,     nan,     nan,     nan,\n",
       "             nan,     nan,     nan,     nan,     nan,     nan,     nan,\n",
       "             nan,     nan,     nan,     nan,     nan,     nan,     nan,\n",
       "          100.19,     nan,     nan,     nan,     nan,     nan,     nan,\n",
       "             nan,     nan,     nan,     nan,     nan,     nan,     nan,\n",
       "             nan,     nan,     nan,     nan,     nan,     nan,     nan,\n",
       "             nan,     nan,     nan,     nan,     nan,     nan,     nan,\n",
       "             nan,     nan,     nan,  100.15,     nan,     nan,     nan,\n",
       "             nan,     nan,     nan,     nan,     nan,     nan,     nan,\n",
       "             nan,     nan,     nan,     nan,     nan,     nan,     nan,\n",
       "             nan,     nan,     nan,     nan,     nan,     nan,     nan,\n",
       "             nan,     nan,     nan,     nan,     nan,   99.98,     nan,\n",
       "             nan,     nan,     nan,     nan,     nan,     nan,     nan,\n",
       "             nan,     nan,     nan,     nan,     nan,     nan,     nan,\n",
       "             nan,     nan,     nan,     nan,     nan,     nan,     nan,\n",
       "             nan,     nan,     nan,     nan,     nan,     nan,     nan,\n",
       "             nan,   99.48,     nan,     nan,     nan,     nan,     nan,\n",
       "             nan,     nan,     nan,     nan,     nan,     nan,     nan,\n",
       "             nan,     nan,     nan,     nan,     nan,     nan,     nan,\n",
       "             nan,     nan,     nan,     nan,     nan,     nan,     nan,\n",
       "             nan,     nan,     nan,     nan,   99.65,     nan,     nan,\n",
       "             nan,     nan,     nan,     nan,     nan,     nan,     nan,\n",
       "             nan,     nan,     nan,     nan,     nan,     nan,     nan,\n",
       "             nan,     nan,     nan,     nan,     nan,     nan,     nan,\n",
       "             nan,     nan,     nan,     nan,     nan,  100.18,     nan,\n",
       "             nan,     nan,     nan,     nan,     nan,     nan,     nan,\n",
       "             nan,     nan,     nan,     nan,     nan,     nan,     nan,\n",
       "             nan,     nan,     nan,     nan,     nan,     nan,     nan,\n",
       "             nan,     nan,     nan,     nan,     nan,     nan,     nan,\n",
       "             nan,  100.49,     nan,     nan,     nan,     nan,     nan,\n",
       "             nan,     nan,     nan,     nan,     nan,     nan,     nan,\n",
       "             nan,     nan,     nan,     nan,     nan,     nan,     nan,\n",
       "             nan,     nan,     nan,     nan,     nan,     nan,     nan,\n",
       "             nan,     nan,     nan,  100.41,     nan,     nan,     nan,\n",
       "             nan,     nan,     nan,     nan,     nan,     nan,     nan,\n",
       "             nan,     nan,     nan,     nan,     nan,     nan,     nan,\n",
       "             nan,     nan,     nan,     nan,     nan,     nan,     nan,\n",
       "             nan,     nan,     nan,     nan,     nan,     nan,  100.47,\n",
       "             nan,     nan,     nan,     nan,     nan,     nan,     nan,\n",
       "             nan,     nan,     nan,     nan,     nan,     nan,     nan,\n",
       "             nan,     nan,     nan,     nan,     nan,     nan,     nan,\n",
       "             nan,     nan,     nan,     nan,     nan,     nan,     nan,\n",
       "             nan,  100.22,     nan,     nan,     nan,     nan,     nan,\n",
       "             nan,     nan,     nan,     nan,     nan,     nan,     nan,\n",
       "             nan,     nan,     nan,     nan,     nan,     nan,     nan,\n",
       "             nan,     nan,     nan,     nan,     nan,     nan,     nan,\n",
       "             nan,     nan,     nan,     nan,  100.27,     nan,     nan,\n",
       "             nan,     nan,     nan,     nan,     nan,     nan,     nan,\n",
       "             nan,     nan,     nan,     nan,     nan,     nan,     nan,\n",
       "             nan,     nan,     nan,     nan,     nan,     nan,     nan,\n",
       "             nan,     nan,     nan,     nan,     nan,     nan,     nan,\n",
       "             nan,     nan,     nan,     nan,     nan,     nan,     nan,\n",
       "             nan,     nan,     nan,     nan,     nan,     nan,     nan,\n",
       "             nan,     nan,     nan,     nan,     nan,     nan,     nan,\n",
       "             nan,     nan,     nan,     nan,     nan,     nan,     nan,\n",
       "             nan,     nan,     nan])),\n",
       " (u'FRED_00XALCHRM086NEST',\n",
       "  array([    nan,     nan,     nan,     nan,     nan,     nan,     nan,\n",
       "             nan,     nan,     nan,     nan,     nan,     nan,     nan,\n",
       "             nan,     nan,     nan,     nan,     nan,     nan,     nan,\n",
       "             nan,     nan,     nan,     nan,     nan,     nan,     nan,\n",
       "             nan,     nan,     nan,   98.86,     nan,     nan,     nan,\n",
       "             nan,     nan,     nan,     nan,     nan,     nan,     nan,\n",
       "             nan,     nan,     nan,     nan,     nan,     nan,     nan,\n",
       "             nan,     nan,     nan,     nan,     nan,     nan,     nan,\n",
       "             nan,     nan,     nan,   99.77,     nan,     nan,     nan,\n",
       "             nan,     nan,     nan,     nan,     nan,     nan,     nan,\n",
       "             nan,     nan,     nan,     nan,     nan,     nan,     nan,\n",
       "             nan,     nan,     nan,     nan,     nan,     nan,     nan,\n",
       "             nan,     nan,     nan,     nan,     nan,     nan,  100.1 ,\n",
       "             nan,     nan,     nan,     nan,     nan,     nan,     nan,\n",
       "             nan,     nan,     nan,     nan,     nan,     nan,     nan,\n",
       "             nan,     nan,     nan,     nan,     nan,     nan,     nan,\n",
       "             nan,     nan,     nan,     nan,     nan,     nan,     nan,\n",
       "             nan,  100.7 ,     nan,     nan,     nan,     nan,     nan,\n",
       "             nan,     nan,     nan,     nan,     nan,     nan,     nan,\n",
       "             nan,     nan,     nan,     nan,     nan,     nan,     nan,\n",
       "             nan,     nan,     nan,     nan,     nan,     nan,     nan,\n",
       "             nan,     nan,     nan,     nan,  101.02,     nan,     nan,\n",
       "             nan,     nan,     nan,     nan,     nan,     nan,     nan,\n",
       "             nan,     nan,     nan,     nan,     nan,     nan,     nan,\n",
       "             nan,     nan,     nan,     nan,     nan,     nan,     nan,\n",
       "             nan,     nan,     nan,     nan,     nan,     nan,  100.86,\n",
       "             nan,     nan,     nan,     nan,     nan,     nan,     nan,\n",
       "             nan,     nan,     nan,     nan,     nan,     nan,     nan,\n",
       "             nan,     nan,     nan,     nan,     nan,     nan,     nan,\n",
       "             nan,     nan,     nan,     nan,     nan,     nan,     nan,\n",
       "             nan,     nan,  101.06,     nan,     nan,     nan,     nan,\n",
       "             nan,     nan,     nan,     nan,     nan,     nan,     nan,\n",
       "             nan,     nan,     nan,     nan,     nan,     nan,     nan,\n",
       "             nan,     nan,     nan,     nan,     nan,     nan,     nan,\n",
       "             nan,     nan,     nan,     nan,     nan,  100.37,     nan,\n",
       "             nan,     nan,     nan,     nan,     nan,     nan,     nan,\n",
       "             nan,     nan,     nan,     nan,     nan,     nan,     nan,\n",
       "             nan,     nan,     nan,     nan,     nan,     nan,     nan,\n",
       "             nan,     nan,     nan,     nan,     nan,     nan,     nan,\n",
       "          100.11,     nan,     nan,     nan,     nan,     nan,     nan,\n",
       "             nan,     nan,     nan,     nan,     nan,     nan,     nan,\n",
       "             nan,     nan,     nan,     nan,     nan,     nan,     nan,\n",
       "             nan,     nan,     nan,     nan,     nan,     nan,     nan,\n",
       "             nan,     nan,     nan,   99.5 ,     nan,     nan,     nan,\n",
       "             nan,     nan,     nan,     nan,     nan,     nan,     nan,\n",
       "             nan,     nan,     nan,     nan,     nan,     nan,     nan,\n",
       "             nan,     nan,     nan,     nan,     nan,     nan,     nan,\n",
       "             nan,     nan,     nan,     nan,     nan,   98.92,     nan,\n",
       "             nan,     nan,     nan,     nan,     nan,     nan,     nan,\n",
       "             nan,     nan,     nan,     nan,     nan,     nan,     nan,\n",
       "             nan,     nan,     nan,     nan,     nan,     nan,     nan,\n",
       "             nan,     nan,     nan,     nan,     nan,     nan,     nan,\n",
       "             nan,   98.49,     nan,     nan,     nan,     nan,     nan,\n",
       "             nan,     nan,     nan,     nan,     nan,     nan,     nan,\n",
       "             nan,     nan,     nan,     nan,     nan,     nan,     nan,\n",
       "             nan,     nan,     nan,     nan,     nan,     nan,     nan,\n",
       "             nan,     nan,     nan,     nan,   98.18,     nan,     nan,\n",
       "             nan,     nan,     nan,     nan,     nan,     nan,     nan,\n",
       "             nan,     nan,     nan,     nan,     nan,     nan,     nan,\n",
       "             nan,     nan,     nan,     nan,     nan,     nan,     nan,\n",
       "             nan,     nan,     nan,     nan,     nan,   98.71,     nan,\n",
       "             nan,     nan,     nan,     nan,     nan,     nan,     nan,\n",
       "             nan,     nan,     nan,     nan,     nan,     nan,     nan,\n",
       "             nan,     nan,     nan,     nan,     nan,     nan,     nan,\n",
       "             nan,     nan,     nan,     nan,     nan,     nan,     nan,\n",
       "             nan,   99.15,     nan,     nan,     nan,     nan,     nan,\n",
       "             nan,     nan,     nan,     nan,     nan,     nan,     nan,\n",
       "             nan,     nan,     nan,     nan,     nan,     nan,     nan,\n",
       "             nan,     nan,     nan,     nan,     nan,     nan,     nan,\n",
       "             nan,     nan,     nan,   99.41,     nan,     nan,     nan,\n",
       "             nan,     nan,     nan,     nan,     nan,     nan,     nan,\n",
       "             nan,     nan,     nan,     nan,     nan,     nan,     nan,\n",
       "             nan,     nan,     nan,     nan,     nan,     nan,     nan,\n",
       "             nan,     nan,     nan,     nan,     nan,     nan,   99.71,\n",
       "             nan,     nan,     nan,     nan,     nan,     nan,     nan,\n",
       "             nan,     nan,     nan,     nan,     nan,     nan,     nan,\n",
       "             nan,     nan,     nan,     nan,     nan,     nan,     nan,\n",
       "             nan,     nan,     nan,     nan,     nan,     nan,     nan,\n",
       "             nan,   99.64,     nan,     nan,     nan,     nan,     nan,\n",
       "             nan,     nan,     nan,     nan,     nan,     nan,     nan,\n",
       "             nan,     nan,     nan,     nan,     nan,     nan,     nan,\n",
       "             nan,     nan,     nan,     nan,     nan,     nan,     nan,\n",
       "             nan,     nan,     nan,     nan,   99.47,     nan,     nan,\n",
       "             nan,     nan,     nan,     nan,     nan,     nan,     nan,\n",
       "             nan,     nan,     nan,     nan,     nan,     nan,     nan,\n",
       "             nan,     nan,     nan,     nan,     nan,     nan,     nan,\n",
       "             nan,     nan,     nan,     nan,     nan,     nan,     nan,\n",
       "             nan,     nan,     nan,     nan,     nan,     nan,     nan,\n",
       "             nan,     nan,     nan,     nan,     nan,     nan,     nan,\n",
       "             nan,     nan,     nan,     nan,     nan,     nan,     nan,\n",
       "             nan,     nan,     nan,     nan,     nan,     nan,     nan,\n",
       "             nan,     nan,     nan]))]"
      ]
     },
     "execution_count": 29,
     "metadata": {},
     "output_type": "execute_result"
    }
   ],
   "source": [
    "tickerTsrdd.take(3)"
   ]
  },
  {
   "cell_type": "code",
   "execution_count": 30,
   "metadata": {
    "collapsed": true
   },
   "outputs": [],
   "source": [
    "filled = tickerTsrdd.fill(\"linear\")"
   ]
  },
  {
   "cell_type": "code",
   "execution_count": 31,
   "metadata": {
    "collapsed": false
   },
   "outputs": [
    {
     "data": {
      "text/plain": [
       "[(u'FRED_00XALCCHM086NEST',\n",
       "  array([          nan,           nan,           nan,           nan,\n",
       "                   nan,           nan,           nan,           nan,\n",
       "                   nan,           nan,           nan,           nan,\n",
       "                   nan,           nan,           nan,           nan,\n",
       "                   nan,           nan,           nan,           nan,\n",
       "                   nan,           nan,           nan,           nan,\n",
       "                   nan,           nan,           nan,           nan,\n",
       "                   nan,           nan,           nan,   99.93      ,\n",
       "           99.94678571,   99.96357143,   99.98035714,   99.99714286,\n",
       "          100.01392857,  100.03071429,  100.0475    ,  100.06428571,\n",
       "          100.08107143,  100.09785714,  100.11464286,  100.13142857,\n",
       "          100.14821429,  100.165     ,  100.18178571,  100.19857143,\n",
       "          100.21535714,  100.23214286,  100.24892857,  100.26571429,\n",
       "          100.2825    ,  100.29928571,  100.31607143,  100.33285714,\n",
       "          100.34964286,  100.36642857,  100.38321429,  100.4       ,\n",
       "          100.39129032,  100.38258065,  100.37387097,  100.36516129,\n",
       "          100.35645161,  100.34774194,  100.33903226,  100.33032258,\n",
       "          100.3216129 ,  100.31290323,  100.30419355,  100.29548387,\n",
       "          100.28677419,  100.27806452,  100.26935484,  100.26064516,\n",
       "          100.25193548,  100.24322581,  100.23451613,  100.22580645,\n",
       "          100.21709677,  100.2083871 ,  100.19967742,  100.19096774,\n",
       "          100.18225806,  100.17354839,  100.16483871,  100.15612903,\n",
       "          100.14741935,  100.13870968,  100.13      ,  100.13233333,\n",
       "          100.13466667,  100.137     ,  100.13933333,  100.14166667,\n",
       "          100.144     ,  100.14633333,  100.14866667,  100.151     ,\n",
       "          100.15333333,  100.15566667,  100.158     ,  100.16033333,\n",
       "          100.16266667,  100.165     ,  100.16733333,  100.16966667,\n",
       "          100.172     ,  100.17433333,  100.17666667,  100.179     ,\n",
       "          100.18133333,  100.18366667,  100.186     ,  100.18833333,\n",
       "          100.19066667,  100.193     ,  100.19533333,  100.19766667,\n",
       "          100.2       ,  100.20419355,  100.2083871 ,  100.21258065,\n",
       "          100.21677419,  100.22096774,  100.22516129,  100.22935484,\n",
       "          100.23354839,  100.23774194,  100.24193548,  100.24612903,\n",
       "          100.25032258,  100.25451613,  100.25870968,  100.26290323,\n",
       "          100.26709677,  100.27129032,  100.27548387,  100.27967742,\n",
       "          100.28387097,  100.28806452,  100.29225806,  100.29645161,\n",
       "          100.30064516,  100.30483871,  100.30903226,  100.31322581,\n",
       "          100.31741935,  100.3216129 ,  100.32580645,  100.33      ,\n",
       "          100.32333333,  100.31666667,  100.31      ,  100.30333333,\n",
       "          100.29666667,  100.29      ,  100.28333333,  100.27666667,\n",
       "          100.27      ,  100.26333333,  100.25666667,  100.25      ,\n",
       "          100.24333333,  100.23666667,  100.23      ,  100.22333333,\n",
       "          100.21666667,  100.21      ,  100.20333333,  100.19666667,\n",
       "          100.19      ,  100.18333333,  100.17666667,  100.17      ,\n",
       "          100.16333333,  100.15666667,  100.15      ,  100.14333333,\n",
       "          100.13666667,  100.13      ,  100.11225806,  100.09451613,\n",
       "          100.07677419,  100.05903226,  100.04129032,  100.02354839,\n",
       "          100.00580645,   99.98806452,   99.97032258,   99.95258065,\n",
       "           99.93483871,   99.91709677,   99.89935484,   99.8816129 ,\n",
       "           99.86387097,   99.84612903,   99.8283871 ,   99.81064516,\n",
       "           99.79290323,   99.77516129,   99.75741935,   99.73967742,\n",
       "           99.72193548,   99.70419355,   99.68645161,   99.66870968,\n",
       "           99.65096774,   99.63322581,   99.61548387,   99.59774194,\n",
       "           99.58      ,   99.59129032,   99.60258065,   99.61387097,\n",
       "           99.62516129,   99.63645161,   99.64774194,   99.65903226,\n",
       "           99.67032258,   99.6816129 ,   99.69290323,   99.70419355,\n",
       "           99.71548387,   99.72677419,   99.73806452,   99.74935484,\n",
       "           99.76064516,   99.77193548,   99.78322581,   99.79451613,\n",
       "           99.80580645,   99.81709677,   99.8283871 ,   99.83967742,\n",
       "           99.85096774,   99.86225806,   99.87354839,   99.88483871,\n",
       "           99.89612903,   99.90741935,   99.91870968,   99.93      ,\n",
       "           99.93133333,   99.93266667,   99.934     ,   99.93533333,\n",
       "           99.93666667,   99.938     ,   99.93933333,   99.94066667,\n",
       "           99.942     ,   99.94333333,   99.94466667,   99.946     ,\n",
       "           99.94733333,   99.94866667,   99.95      ,   99.95133333,\n",
       "           99.95266667,   99.954     ,   99.95533333,   99.95666667,\n",
       "           99.958     ,   99.95933333,   99.96066667,   99.962     ,\n",
       "           99.96333333,   99.96466667,   99.966     ,   99.96733333,\n",
       "           99.96866667,   99.97      ,   99.95870968,   99.94741935,\n",
       "           99.93612903,   99.92483871,   99.91354839,   99.90225806,\n",
       "           99.89096774,   99.87967742,   99.8683871 ,   99.85709677,\n",
       "           99.84580645,   99.83451613,   99.82322581,   99.81193548,\n",
       "           99.80064516,   99.78935484,   99.77806452,   99.76677419,\n",
       "           99.75548387,   99.74419355,   99.73290323,   99.7216129 ,\n",
       "           99.71032258,   99.69903226,   99.68774194,   99.67645161,\n",
       "           99.66516129,   99.65387097,   99.64258065,   99.63129032,\n",
       "           99.62      ,   99.61633333,   99.61266667,   99.609     ,\n",
       "           99.60533333,   99.60166667,   99.598     ,   99.59433333,\n",
       "           99.59066667,   99.587     ,   99.58333333,   99.57966667,\n",
       "           99.576     ,   99.57233333,   99.56866667,   99.565     ,\n",
       "           99.56133333,   99.55766667,   99.554     ,   99.55033333,\n",
       "           99.54666667,   99.543     ,   99.53933333,   99.53566667,\n",
       "           99.532     ,   99.52833333,   99.52466667,   99.521     ,\n",
       "           99.51733333,   99.51366667,   99.51      ,   99.48677419,\n",
       "           99.46354839,   99.44032258,   99.41709677,   99.39387097,\n",
       "           99.37064516,   99.34741935,   99.32419355,   99.30096774,\n",
       "           99.27774194,   99.25451613,   99.23129032,   99.20806452,\n",
       "           99.18483871,   99.1616129 ,   99.1383871 ,   99.11516129,\n",
       "           99.09193548,   99.06870968,   99.04548387,   99.02225806,\n",
       "           98.99903226,   98.97580645,   98.95258065,   98.92935484,\n",
       "           98.90612903,   98.88290323,   98.85967742,   98.83645161,\n",
       "           98.81322581,   98.79      ,   98.79483871,   98.79967742,\n",
       "           98.80451613,   98.80935484,   98.81419355,   98.81903226,\n",
       "           98.82387097,   98.82870968,   98.83354839,   98.8383871 ,\n",
       "           98.84322581,   98.84806452,   98.85290323,   98.85774194,\n",
       "           98.86258065,   98.86741935,   98.87225806,   98.87709677,\n",
       "           98.88193548,   98.88677419,   98.8916129 ,   98.89645161,\n",
       "           98.90129032,   98.90612903,   98.91096774,   98.91580645,\n",
       "           98.92064516,   98.92548387,   98.93032258,   98.93516129,\n",
       "           98.94      ,   98.95344828,   98.96689655,   98.98034483,\n",
       "           98.9937931 ,   99.00724138,   99.02068966,   99.03413793,\n",
       "           99.04758621,   99.06103448,   99.07448276,   99.08793103,\n",
       "           99.10137931,   99.11482759,   99.12827586,   99.14172414,\n",
       "           99.15517241,   99.16862069,   99.18206897,   99.19551724,\n",
       "           99.20896552,   99.22241379,   99.23586207,   99.24931034,\n",
       "           99.26275862,   99.2762069 ,   99.28965517,   99.30310345,\n",
       "           99.31655172,   99.33      ,   99.33774194,   99.34548387,\n",
       "           99.35322581,   99.36096774,   99.36870968,   99.37645161,\n",
       "           99.38419355,   99.39193548,   99.39967742,   99.40741935,\n",
       "           99.41516129,   99.42290323,   99.43064516,   99.4383871 ,\n",
       "           99.44612903,   99.45387097,   99.4616129 ,   99.46935484,\n",
       "           99.47709677,   99.48483871,   99.49258065,   99.50032258,\n",
       "           99.50806452,   99.51580645,   99.52354839,   99.53129032,\n",
       "           99.53903226,   99.54677419,   99.55451613,   99.56225806,\n",
       "           99.57      ,   99.57466667,   99.57933333,   99.584     ,\n",
       "           99.58866667,   99.59333333,   99.598     ,   99.60266667,\n",
       "           99.60733333,   99.612     ,   99.61666667,   99.62133333,\n",
       "           99.626     ,   99.63066667,   99.63533333,   99.64      ,\n",
       "           99.64466667,   99.64933333,   99.654     ,   99.65866667,\n",
       "           99.66333333,   99.668     ,   99.67266667,   99.67733333,\n",
       "           99.682     ,   99.68666667,   99.69133333,   99.696     ,\n",
       "           99.70066667,   99.70533333,   99.71      ,   99.71096774,\n",
       "           99.71193548,   99.71290323,   99.71387097,   99.71483871,\n",
       "           99.71580645,   99.71677419,   99.71774194,   99.71870968,\n",
       "           99.71967742,   99.72064516,   99.7216129 ,   99.72258065,\n",
       "           99.72354839,   99.72451613,   99.72548387,   99.72645161,\n",
       "           99.72741935,   99.7283871 ,   99.72935484,   99.73032258,\n",
       "           99.73129032,   99.73225806,   99.73322581,   99.73419355,\n",
       "           99.73516129,   99.73612903,   99.73709677,   99.73806452,\n",
       "           99.73903226,   99.74      ,   99.73733333,   99.73466667,\n",
       "           99.732     ,   99.72933333,   99.72666667,   99.724     ,\n",
       "           99.72133333,   99.71866667,   99.716     ,   99.71333333,\n",
       "           99.71066667,   99.708     ,   99.70533333,   99.70266667,\n",
       "           99.7       ,   99.69733333,   99.69466667,   99.692     ,\n",
       "           99.68933333,   99.68666667,   99.684     ,   99.68133333,\n",
       "           99.67866667,   99.676     ,   99.67333333,   99.67066667,\n",
       "           99.668     ,   99.66533333,   99.66266667,   99.66      ,\n",
       "           99.6583871 ,   99.65677419,   99.65516129,   99.65354839,\n",
       "           99.65193548,   99.65032258,   99.64870968,   99.64709677,\n",
       "           99.64548387,   99.64387097,   99.64225806,   99.64064516,\n",
       "           99.63903226,   99.63741935,   99.63580645,   99.63419355,\n",
       "           99.63258065,   99.63096774,   99.62935484,   99.62774194,\n",
       "           99.62612903,   99.62451613,   99.62290323,   99.62129032,\n",
       "           99.61967742,   99.61806452,   99.61645161,   99.61483871,\n",
       "           99.61322581,   99.6116129 ,   99.61      ,           nan,\n",
       "                   nan,           nan,           nan,           nan,\n",
       "                   nan,           nan,           nan,           nan,\n",
       "                   nan,           nan,           nan,           nan,\n",
       "                   nan,           nan,           nan,           nan,\n",
       "                   nan,           nan,           nan,           nan,\n",
       "                   nan,           nan,           nan,           nan,\n",
       "                   nan,           nan,           nan,           nan,\n",
       "                   nan,           nan,           nan,           nan,\n",
       "                   nan,           nan,           nan,           nan,\n",
       "                   nan,           nan,           nan,           nan,\n",
       "                   nan,           nan,           nan,           nan,\n",
       "                   nan,           nan,           nan,           nan,\n",
       "                   nan,           nan,           nan,           nan,\n",
       "                   nan,           nan,           nan,           nan,\n",
       "                   nan,           nan,           nan,           nan])),\n",
       " (u'FRED_00XALCFIM086NEST',\n",
       "  array([          nan,           nan,           nan,           nan,\n",
       "                   nan,           nan,           nan,           nan,\n",
       "                   nan,           nan,           nan,           nan,\n",
       "                   nan,           nan,           nan,           nan,\n",
       "                   nan,           nan,           nan,           nan,\n",
       "                   nan,           nan,           nan,           nan,\n",
       "                   nan,           nan,           nan,           nan,\n",
       "                   nan,           nan,           nan,   99.81      ,\n",
       "           99.82464286,   99.83928571,   99.85392857,   99.86857143,\n",
       "           99.88321429,   99.89785714,   99.9125    ,   99.92714286,\n",
       "           99.94178571,   99.95642857,   99.97107143,   99.98571429,\n",
       "          100.00035714,  100.015     ,  100.02964286,  100.04428571,\n",
       "          100.05892857,  100.07357143,  100.08821429,  100.10285714,\n",
       "          100.1175    ,  100.13214286,  100.14678571,  100.16142857,\n",
       "          100.17607143,  100.19071429,  100.20535714,  100.22      ,\n",
       "          100.22096774,  100.22193548,  100.22290323,  100.22387097,\n",
       "          100.22483871,  100.22580645,  100.22677419,  100.22774194,\n",
       "          100.22870968,  100.22967742,  100.23064516,  100.2316129 ,\n",
       "          100.23258065,  100.23354839,  100.23451613,  100.23548387,\n",
       "          100.23645161,  100.23741935,  100.2383871 ,  100.23935484,\n",
       "          100.24032258,  100.24129032,  100.24225806,  100.24322581,\n",
       "          100.24419355,  100.24516129,  100.24612903,  100.24709677,\n",
       "          100.24806452,  100.24903226,  100.25      ,  100.246     ,\n",
       "          100.242     ,  100.238     ,  100.234     ,  100.23      ,\n",
       "          100.226     ,  100.222     ,  100.218     ,  100.214     ,\n",
       "          100.21      ,  100.206     ,  100.202     ,  100.198     ,\n",
       "          100.194     ,  100.19      ,  100.186     ,  100.182     ,\n",
       "          100.178     ,  100.174     ,  100.17      ,  100.166     ,\n",
       "          100.162     ,  100.158     ,  100.154     ,  100.15      ,\n",
       "          100.146     ,  100.142     ,  100.138     ,  100.134     ,\n",
       "          100.13      ,  100.13064516,  100.13129032,  100.13193548,\n",
       "          100.13258065,  100.13322581,  100.13387097,  100.13451613,\n",
       "          100.13516129,  100.13580645,  100.13645161,  100.13709677,\n",
       "          100.13774194,  100.1383871 ,  100.13903226,  100.13967742,\n",
       "          100.14032258,  100.14096774,  100.1416129 ,  100.14225806,\n",
       "          100.14290323,  100.14354839,  100.14419355,  100.14483871,\n",
       "          100.14548387,  100.14612903,  100.14677419,  100.14741935,\n",
       "          100.14806452,  100.14870968,  100.14935484,  100.15      ,\n",
       "          100.13833333,  100.12666667,  100.115     ,  100.10333333,\n",
       "          100.09166667,  100.08      ,  100.06833333,  100.05666667,\n",
       "          100.045     ,  100.03333333,  100.02166667,  100.01      ,\n",
       "           99.99833333,   99.98666667,   99.975     ,   99.96333333,\n",
       "           99.95166667,   99.94      ,   99.92833333,   99.91666667,\n",
       "           99.905     ,   99.89333333,   99.88166667,   99.87      ,\n",
       "           99.85833333,   99.84666667,   99.835     ,   99.82333333,\n",
       "           99.81166667,   99.8       ,   99.8016129 ,   99.80322581,\n",
       "           99.80483871,   99.80645161,   99.80806452,   99.80967742,\n",
       "           99.81129032,   99.81290323,   99.81451613,   99.81612903,\n",
       "           99.81774194,   99.81935484,   99.82096774,   99.82258065,\n",
       "           99.82419355,   99.82580645,   99.82741935,   99.82903226,\n",
       "           99.83064516,   99.83225806,   99.83387097,   99.83548387,\n",
       "           99.83709677,   99.83870968,   99.84032258,   99.84193548,\n",
       "           99.84354839,   99.84516129,   99.84677419,   99.8483871 ,\n",
       "           99.85      ,   99.85516129,   99.86032258,   99.86548387,\n",
       "           99.87064516,   99.87580645,   99.88096774,   99.88612903,\n",
       "           99.89129032,   99.89645161,   99.9016129 ,   99.90677419,\n",
       "           99.91193548,   99.91709677,   99.92225806,   99.92741935,\n",
       "           99.93258065,   99.93774194,   99.94290323,   99.94806452,\n",
       "           99.95322581,   99.9583871 ,   99.96354839,   99.96870968,\n",
       "           99.97387097,   99.97903226,   99.98419355,   99.98935484,\n",
       "           99.99451613,   99.99967742,  100.00483871,  100.01      ,\n",
       "          100.016     ,  100.022     ,  100.028     ,  100.034     ,\n",
       "          100.04      ,  100.046     ,  100.052     ,  100.058     ,\n",
       "          100.064     ,  100.07      ,  100.076     ,  100.082     ,\n",
       "          100.088     ,  100.094     ,  100.1       ,  100.106     ,\n",
       "          100.112     ,  100.118     ,  100.124     ,  100.13      ,\n",
       "          100.136     ,  100.142     ,  100.148     ,  100.154     ,\n",
       "          100.16      ,  100.166     ,  100.172     ,  100.178     ,\n",
       "          100.184     ,  100.19      ,  100.18870968,  100.18741935,\n",
       "          100.18612903,  100.18483871,  100.18354839,  100.18225806,\n",
       "          100.18096774,  100.17967742,  100.1783871 ,  100.17709677,\n",
       "          100.17580645,  100.17451613,  100.17322581,  100.17193548,\n",
       "          100.17064516,  100.16935484,  100.16806452,  100.16677419,\n",
       "          100.16548387,  100.16419355,  100.16290323,  100.1616129 ,\n",
       "          100.16032258,  100.15903226,  100.15774194,  100.15645161,\n",
       "          100.15516129,  100.15387097,  100.15258065,  100.15129032,\n",
       "          100.15      ,  100.14433333,  100.13866667,  100.133     ,\n",
       "          100.12733333,  100.12166667,  100.116     ,  100.11033333,\n",
       "          100.10466667,  100.099     ,  100.09333333,  100.08766667,\n",
       "          100.082     ,  100.07633333,  100.07066667,  100.065     ,\n",
       "          100.05933333,  100.05366667,  100.048     ,  100.04233333,\n",
       "          100.03666667,  100.031     ,  100.02533333,  100.01966667,\n",
       "          100.014     ,  100.00833333,  100.00266667,   99.997     ,\n",
       "           99.99133333,   99.98566667,   99.98      ,   99.96387097,\n",
       "           99.94774194,   99.9316129 ,   99.91548387,   99.89935484,\n",
       "           99.88322581,   99.86709677,   99.85096774,   99.83483871,\n",
       "           99.81870968,   99.80258065,   99.78645161,   99.77032258,\n",
       "           99.75419355,   99.73806452,   99.72193548,   99.70580645,\n",
       "           99.68967742,   99.67354839,   99.65741935,   99.64129032,\n",
       "           99.62516129,   99.60903226,   99.59290323,   99.57677419,\n",
       "           99.56064516,   99.54451613,   99.5283871 ,   99.51225806,\n",
       "           99.49612903,   99.48      ,   99.48548387,   99.49096774,\n",
       "           99.49645161,   99.50193548,   99.50741935,   99.51290323,\n",
       "           99.5183871 ,   99.52387097,   99.52935484,   99.53483871,\n",
       "           99.54032258,   99.54580645,   99.55129032,   99.55677419,\n",
       "           99.56225806,   99.56774194,   99.57322581,   99.57870968,\n",
       "           99.58419355,   99.58967742,   99.59516129,   99.60064516,\n",
       "           99.60612903,   99.6116129 ,   99.61709677,   99.62258065,\n",
       "           99.62806452,   99.63354839,   99.63903226,   99.64451613,\n",
       "           99.65      ,   99.66827586,   99.68655172,   99.70482759,\n",
       "           99.72310345,   99.74137931,   99.75965517,   99.77793103,\n",
       "           99.7962069 ,   99.81448276,   99.83275862,   99.85103448,\n",
       "           99.86931034,   99.88758621,   99.90586207,   99.92413793,\n",
       "           99.94241379,   99.96068966,   99.97896552,   99.99724138,\n",
       "          100.01551724,  100.0337931 ,  100.05206897,  100.07034483,\n",
       "          100.08862069,  100.10689655,  100.12517241,  100.14344828,\n",
       "          100.16172414,  100.18      ,  100.19      ,  100.2       ,\n",
       "          100.21      ,  100.22      ,  100.23      ,  100.24      ,\n",
       "          100.25      ,  100.26      ,  100.27      ,  100.28      ,\n",
       "          100.29      ,  100.3       ,  100.31      ,  100.32      ,\n",
       "          100.33      ,  100.34      ,  100.35      ,  100.36      ,\n",
       "          100.37      ,  100.38      ,  100.39      ,  100.4       ,\n",
       "          100.41      ,  100.42      ,  100.43      ,  100.44      ,\n",
       "          100.45      ,  100.46      ,  100.47      ,  100.48      ,\n",
       "          100.49      ,  100.48733333,  100.48466667,  100.482     ,\n",
       "          100.47933333,  100.47666667,  100.474     ,  100.47133333,\n",
       "          100.46866667,  100.466     ,  100.46333333,  100.46066667,\n",
       "          100.458     ,  100.45533333,  100.45266667,  100.45      ,\n",
       "          100.44733333,  100.44466667,  100.442     ,  100.43933333,\n",
       "          100.43666667,  100.434     ,  100.43133333,  100.42866667,\n",
       "          100.426     ,  100.42333333,  100.42066667,  100.418     ,\n",
       "          100.41533333,  100.41266667,  100.41      ,  100.41193548,\n",
       "          100.41387097,  100.41580645,  100.41774194,  100.41967742,\n",
       "          100.4216129 ,  100.42354839,  100.42548387,  100.42741935,\n",
       "          100.42935484,  100.43129032,  100.43322581,  100.43516129,\n",
       "          100.43709677,  100.43903226,  100.44096774,  100.44290323,\n",
       "          100.44483871,  100.44677419,  100.44870968,  100.45064516,\n",
       "          100.45258065,  100.45451613,  100.45645161,  100.4583871 ,\n",
       "          100.46032258,  100.46225806,  100.46419355,  100.46612903,\n",
       "          100.46806452,  100.47      ,  100.46166667,  100.45333333,\n",
       "          100.445     ,  100.43666667,  100.42833333,  100.42      ,\n",
       "          100.41166667,  100.40333333,  100.395     ,  100.38666667,\n",
       "          100.37833333,  100.37      ,  100.36166667,  100.35333333,\n",
       "          100.345     ,  100.33666667,  100.32833333,  100.32      ,\n",
       "          100.31166667,  100.30333333,  100.295     ,  100.28666667,\n",
       "          100.27833333,  100.27      ,  100.26166667,  100.25333333,\n",
       "          100.245     ,  100.23666667,  100.22833333,  100.22      ,\n",
       "          100.2216129 ,  100.22322581,  100.22483871,  100.22645161,\n",
       "          100.22806452,  100.22967742,  100.23129032,  100.23290323,\n",
       "          100.23451613,  100.23612903,  100.23774194,  100.23935484,\n",
       "          100.24096774,  100.24258065,  100.24419355,  100.24580645,\n",
       "          100.24741935,  100.24903226,  100.25064516,  100.25225806,\n",
       "          100.25387097,  100.25548387,  100.25709677,  100.25870968,\n",
       "          100.26032258,  100.26193548,  100.26354839,  100.26516129,\n",
       "          100.26677419,  100.2683871 ,  100.27      ,           nan,\n",
       "                   nan,           nan,           nan,           nan,\n",
       "                   nan,           nan,           nan,           nan,\n",
       "                   nan,           nan,           nan,           nan,\n",
       "                   nan,           nan,           nan,           nan,\n",
       "                   nan,           nan,           nan,           nan,\n",
       "                   nan,           nan,           nan,           nan,\n",
       "                   nan,           nan,           nan,           nan,\n",
       "                   nan,           nan,           nan,           nan,\n",
       "                   nan,           nan,           nan,           nan,\n",
       "                   nan,           nan,           nan,           nan,\n",
       "                   nan,           nan,           nan,           nan,\n",
       "                   nan,           nan,           nan,           nan,\n",
       "                   nan,           nan,           nan,           nan,\n",
       "                   nan,           nan,           nan,           nan,\n",
       "                   nan,           nan,           nan,           nan]))]"
      ]
     },
     "execution_count": 31,
     "metadata": {},
     "output_type": "execute_result"
    }
   ],
   "source": [
    "filled.take(2)"
   ]
  },
  {
   "cell_type": "code",
   "execution_count": 32,
   "metadata": {
    "collapsed": true
   },
   "outputs": [],
   "source": [
    "previous = filled.fill(\"previous\")"
   ]
  },
  {
   "cell_type": "code",
   "execution_count": 33,
   "metadata": {
    "collapsed": false
   },
   "outputs": [
    {
     "data": {
      "text/plain": [
       "[(u'FRED_00XALCCHM086NEST',\n",
       "  array([          nan,           nan,           nan,           nan,\n",
       "                   nan,           nan,           nan,           nan,\n",
       "                   nan,           nan,           nan,           nan,\n",
       "                   nan,           nan,           nan,           nan,\n",
       "                   nan,           nan,           nan,           nan,\n",
       "                   nan,           nan,           nan,           nan,\n",
       "                   nan,           nan,           nan,           nan,\n",
       "                   nan,           nan,           nan,   99.93      ,\n",
       "           99.94678571,   99.96357143,   99.98035714,   99.99714286,\n",
       "          100.01392857,  100.03071429,  100.0475    ,  100.06428571,\n",
       "          100.08107143,  100.09785714,  100.11464286,  100.13142857,\n",
       "          100.14821429,  100.165     ,  100.18178571,  100.19857143,\n",
       "          100.21535714,  100.23214286,  100.24892857,  100.26571429,\n",
       "          100.2825    ,  100.29928571,  100.31607143,  100.33285714,\n",
       "          100.34964286,  100.36642857,  100.38321429,  100.4       ,\n",
       "          100.39129032,  100.38258065,  100.37387097,  100.36516129,\n",
       "          100.35645161,  100.34774194,  100.33903226,  100.33032258,\n",
       "          100.3216129 ,  100.31290323,  100.30419355,  100.29548387,\n",
       "          100.28677419,  100.27806452,  100.26935484,  100.26064516,\n",
       "          100.25193548,  100.24322581,  100.23451613,  100.22580645,\n",
       "          100.21709677,  100.2083871 ,  100.19967742,  100.19096774,\n",
       "          100.18225806,  100.17354839,  100.16483871,  100.15612903,\n",
       "          100.14741935,  100.13870968,  100.13      ,  100.13233333,\n",
       "          100.13466667,  100.137     ,  100.13933333,  100.14166667,\n",
       "          100.144     ,  100.14633333,  100.14866667,  100.151     ,\n",
       "          100.15333333,  100.15566667,  100.158     ,  100.16033333,\n",
       "          100.16266667,  100.165     ,  100.16733333,  100.16966667,\n",
       "          100.172     ,  100.17433333,  100.17666667,  100.179     ,\n",
       "          100.18133333,  100.18366667,  100.186     ,  100.18833333,\n",
       "          100.19066667,  100.193     ,  100.19533333,  100.19766667,\n",
       "          100.2       ,  100.20419355,  100.2083871 ,  100.21258065,\n",
       "          100.21677419,  100.22096774,  100.22516129,  100.22935484,\n",
       "          100.23354839,  100.23774194,  100.24193548,  100.24612903,\n",
       "          100.25032258,  100.25451613,  100.25870968,  100.26290323,\n",
       "          100.26709677,  100.27129032,  100.27548387,  100.27967742,\n",
       "          100.28387097,  100.28806452,  100.29225806,  100.29645161,\n",
       "          100.30064516,  100.30483871,  100.30903226,  100.31322581,\n",
       "          100.31741935,  100.3216129 ,  100.32580645,  100.33      ,\n",
       "          100.32333333,  100.31666667,  100.31      ,  100.30333333,\n",
       "          100.29666667,  100.29      ,  100.28333333,  100.27666667,\n",
       "          100.27      ,  100.26333333,  100.25666667,  100.25      ,\n",
       "          100.24333333,  100.23666667,  100.23      ,  100.22333333,\n",
       "          100.21666667,  100.21      ,  100.20333333,  100.19666667,\n",
       "          100.19      ,  100.18333333,  100.17666667,  100.17      ,\n",
       "          100.16333333,  100.15666667,  100.15      ,  100.14333333,\n",
       "          100.13666667,  100.13      ,  100.11225806,  100.09451613,\n",
       "          100.07677419,  100.05903226,  100.04129032,  100.02354839,\n",
       "          100.00580645,   99.98806452,   99.97032258,   99.95258065,\n",
       "           99.93483871,   99.91709677,   99.89935484,   99.8816129 ,\n",
       "           99.86387097,   99.84612903,   99.8283871 ,   99.81064516,\n",
       "           99.79290323,   99.77516129,   99.75741935,   99.73967742,\n",
       "           99.72193548,   99.70419355,   99.68645161,   99.66870968,\n",
       "           99.65096774,   99.63322581,   99.61548387,   99.59774194,\n",
       "           99.58      ,   99.59129032,   99.60258065,   99.61387097,\n",
       "           99.62516129,   99.63645161,   99.64774194,   99.65903226,\n",
       "           99.67032258,   99.6816129 ,   99.69290323,   99.70419355,\n",
       "           99.71548387,   99.72677419,   99.73806452,   99.74935484,\n",
       "           99.76064516,   99.77193548,   99.78322581,   99.79451613,\n",
       "           99.80580645,   99.81709677,   99.8283871 ,   99.83967742,\n",
       "           99.85096774,   99.86225806,   99.87354839,   99.88483871,\n",
       "           99.89612903,   99.90741935,   99.91870968,   99.93      ,\n",
       "           99.93133333,   99.93266667,   99.934     ,   99.93533333,\n",
       "           99.93666667,   99.938     ,   99.93933333,   99.94066667,\n",
       "           99.942     ,   99.94333333,   99.94466667,   99.946     ,\n",
       "           99.94733333,   99.94866667,   99.95      ,   99.95133333,\n",
       "           99.95266667,   99.954     ,   99.95533333,   99.95666667,\n",
       "           99.958     ,   99.95933333,   99.96066667,   99.962     ,\n",
       "           99.96333333,   99.96466667,   99.966     ,   99.96733333,\n",
       "           99.96866667,   99.97      ,   99.95870968,   99.94741935,\n",
       "           99.93612903,   99.92483871,   99.91354839,   99.90225806,\n",
       "           99.89096774,   99.87967742,   99.8683871 ,   99.85709677,\n",
       "           99.84580645,   99.83451613,   99.82322581,   99.81193548,\n",
       "           99.80064516,   99.78935484,   99.77806452,   99.76677419,\n",
       "           99.75548387,   99.74419355,   99.73290323,   99.7216129 ,\n",
       "           99.71032258,   99.69903226,   99.68774194,   99.67645161,\n",
       "           99.66516129,   99.65387097,   99.64258065,   99.63129032,\n",
       "           99.62      ,   99.61633333,   99.61266667,   99.609     ,\n",
       "           99.60533333,   99.60166667,   99.598     ,   99.59433333,\n",
       "           99.59066667,   99.587     ,   99.58333333,   99.57966667,\n",
       "           99.576     ,   99.57233333,   99.56866667,   99.565     ,\n",
       "           99.56133333,   99.55766667,   99.554     ,   99.55033333,\n",
       "           99.54666667,   99.543     ,   99.53933333,   99.53566667,\n",
       "           99.532     ,   99.52833333,   99.52466667,   99.521     ,\n",
       "           99.51733333,   99.51366667,   99.51      ,   99.48677419,\n",
       "           99.46354839,   99.44032258,   99.41709677,   99.39387097,\n",
       "           99.37064516,   99.34741935,   99.32419355,   99.30096774,\n",
       "           99.27774194,   99.25451613,   99.23129032,   99.20806452,\n",
       "           99.18483871,   99.1616129 ,   99.1383871 ,   99.11516129,\n",
       "           99.09193548,   99.06870968,   99.04548387,   99.02225806,\n",
       "           98.99903226,   98.97580645,   98.95258065,   98.92935484,\n",
       "           98.90612903,   98.88290323,   98.85967742,   98.83645161,\n",
       "           98.81322581,   98.79      ,   98.79483871,   98.79967742,\n",
       "           98.80451613,   98.80935484,   98.81419355,   98.81903226,\n",
       "           98.82387097,   98.82870968,   98.83354839,   98.8383871 ,\n",
       "           98.84322581,   98.84806452,   98.85290323,   98.85774194,\n",
       "           98.86258065,   98.86741935,   98.87225806,   98.87709677,\n",
       "           98.88193548,   98.88677419,   98.8916129 ,   98.89645161,\n",
       "           98.90129032,   98.90612903,   98.91096774,   98.91580645,\n",
       "           98.92064516,   98.92548387,   98.93032258,   98.93516129,\n",
       "           98.94      ,   98.95344828,   98.96689655,   98.98034483,\n",
       "           98.9937931 ,   99.00724138,   99.02068966,   99.03413793,\n",
       "           99.04758621,   99.06103448,   99.07448276,   99.08793103,\n",
       "           99.10137931,   99.11482759,   99.12827586,   99.14172414,\n",
       "           99.15517241,   99.16862069,   99.18206897,   99.19551724,\n",
       "           99.20896552,   99.22241379,   99.23586207,   99.24931034,\n",
       "           99.26275862,   99.2762069 ,   99.28965517,   99.30310345,\n",
       "           99.31655172,   99.33      ,   99.33774194,   99.34548387,\n",
       "           99.35322581,   99.36096774,   99.36870968,   99.37645161,\n",
       "           99.38419355,   99.39193548,   99.39967742,   99.40741935,\n",
       "           99.41516129,   99.42290323,   99.43064516,   99.4383871 ,\n",
       "           99.44612903,   99.45387097,   99.4616129 ,   99.46935484,\n",
       "           99.47709677,   99.48483871,   99.49258065,   99.50032258,\n",
       "           99.50806452,   99.51580645,   99.52354839,   99.53129032,\n",
       "           99.53903226,   99.54677419,   99.55451613,   99.56225806,\n",
       "           99.57      ,   99.57466667,   99.57933333,   99.584     ,\n",
       "           99.58866667,   99.59333333,   99.598     ,   99.60266667,\n",
       "           99.60733333,   99.612     ,   99.61666667,   99.62133333,\n",
       "           99.626     ,   99.63066667,   99.63533333,   99.64      ,\n",
       "           99.64466667,   99.64933333,   99.654     ,   99.65866667,\n",
       "           99.66333333,   99.668     ,   99.67266667,   99.67733333,\n",
       "           99.682     ,   99.68666667,   99.69133333,   99.696     ,\n",
       "           99.70066667,   99.70533333,   99.71      ,   99.71096774,\n",
       "           99.71193548,   99.71290323,   99.71387097,   99.71483871,\n",
       "           99.71580645,   99.71677419,   99.71774194,   99.71870968,\n",
       "           99.71967742,   99.72064516,   99.7216129 ,   99.72258065,\n",
       "           99.72354839,   99.72451613,   99.72548387,   99.72645161,\n",
       "           99.72741935,   99.7283871 ,   99.72935484,   99.73032258,\n",
       "           99.73129032,   99.73225806,   99.73322581,   99.73419355,\n",
       "           99.73516129,   99.73612903,   99.73709677,   99.73806452,\n",
       "           99.73903226,   99.74      ,   99.73733333,   99.73466667,\n",
       "           99.732     ,   99.72933333,   99.72666667,   99.724     ,\n",
       "           99.72133333,   99.71866667,   99.716     ,   99.71333333,\n",
       "           99.71066667,   99.708     ,   99.70533333,   99.70266667,\n",
       "           99.7       ,   99.69733333,   99.69466667,   99.692     ,\n",
       "           99.68933333,   99.68666667,   99.684     ,   99.68133333,\n",
       "           99.67866667,   99.676     ,   99.67333333,   99.67066667,\n",
       "           99.668     ,   99.66533333,   99.66266667,   99.66      ,\n",
       "           99.6583871 ,   99.65677419,   99.65516129,   99.65354839,\n",
       "           99.65193548,   99.65032258,   99.64870968,   99.64709677,\n",
       "           99.64548387,   99.64387097,   99.64225806,   99.64064516,\n",
       "           99.63903226,   99.63741935,   99.63580645,   99.63419355,\n",
       "           99.63258065,   99.63096774,   99.62935484,   99.62774194,\n",
       "           99.62612903,   99.62451613,   99.62290323,   99.62129032,\n",
       "           99.61967742,   99.61806452,   99.61645161,   99.61483871,\n",
       "           99.61322581,   99.6116129 ,   99.61      ,   99.61      ,\n",
       "           99.61      ,   99.61      ,   99.61      ,   99.61      ,\n",
       "           99.61      ,   99.61      ,   99.61      ,   99.61      ,\n",
       "           99.61      ,   99.61      ,   99.61      ,   99.61      ,\n",
       "           99.61      ,   99.61      ,   99.61      ,   99.61      ,\n",
       "           99.61      ,   99.61      ,   99.61      ,   99.61      ,\n",
       "           99.61      ,   99.61      ,   99.61      ,   99.61      ,\n",
       "           99.61      ,   99.61      ,   99.61      ,   99.61      ,\n",
       "           99.61      ,   99.61      ,   99.61      ,   99.61      ,\n",
       "           99.61      ,   99.61      ,   99.61      ,   99.61      ,\n",
       "           99.61      ,   99.61      ,   99.61      ,   99.61      ,\n",
       "           99.61      ,   99.61      ,   99.61      ,   99.61      ,\n",
       "           99.61      ,   99.61      ,   99.61      ,   99.61      ,\n",
       "           99.61      ,   99.61      ,   99.61      ,   99.61      ,\n",
       "           99.61      ,   99.61      ,   99.61      ,   99.61      ,\n",
       "           99.61      ,   99.61      ,   99.61      ,   99.61      ])),\n",
       " (u'FRED_00XALCFIM086NEST',\n",
       "  array([          nan,           nan,           nan,           nan,\n",
       "                   nan,           nan,           nan,           nan,\n",
       "                   nan,           nan,           nan,           nan,\n",
       "                   nan,           nan,           nan,           nan,\n",
       "                   nan,           nan,           nan,           nan,\n",
       "                   nan,           nan,           nan,           nan,\n",
       "                   nan,           nan,           nan,           nan,\n",
       "                   nan,           nan,           nan,   99.81      ,\n",
       "           99.82464286,   99.83928571,   99.85392857,   99.86857143,\n",
       "           99.88321429,   99.89785714,   99.9125    ,   99.92714286,\n",
       "           99.94178571,   99.95642857,   99.97107143,   99.98571429,\n",
       "          100.00035714,  100.015     ,  100.02964286,  100.04428571,\n",
       "          100.05892857,  100.07357143,  100.08821429,  100.10285714,\n",
       "          100.1175    ,  100.13214286,  100.14678571,  100.16142857,\n",
       "          100.17607143,  100.19071429,  100.20535714,  100.22      ,\n",
       "          100.22096774,  100.22193548,  100.22290323,  100.22387097,\n",
       "          100.22483871,  100.22580645,  100.22677419,  100.22774194,\n",
       "          100.22870968,  100.22967742,  100.23064516,  100.2316129 ,\n",
       "          100.23258065,  100.23354839,  100.23451613,  100.23548387,\n",
       "          100.23645161,  100.23741935,  100.2383871 ,  100.23935484,\n",
       "          100.24032258,  100.24129032,  100.24225806,  100.24322581,\n",
       "          100.24419355,  100.24516129,  100.24612903,  100.24709677,\n",
       "          100.24806452,  100.24903226,  100.25      ,  100.246     ,\n",
       "          100.242     ,  100.238     ,  100.234     ,  100.23      ,\n",
       "          100.226     ,  100.222     ,  100.218     ,  100.214     ,\n",
       "          100.21      ,  100.206     ,  100.202     ,  100.198     ,\n",
       "          100.194     ,  100.19      ,  100.186     ,  100.182     ,\n",
       "          100.178     ,  100.174     ,  100.17      ,  100.166     ,\n",
       "          100.162     ,  100.158     ,  100.154     ,  100.15      ,\n",
       "          100.146     ,  100.142     ,  100.138     ,  100.134     ,\n",
       "          100.13      ,  100.13064516,  100.13129032,  100.13193548,\n",
       "          100.13258065,  100.13322581,  100.13387097,  100.13451613,\n",
       "          100.13516129,  100.13580645,  100.13645161,  100.13709677,\n",
       "          100.13774194,  100.1383871 ,  100.13903226,  100.13967742,\n",
       "          100.14032258,  100.14096774,  100.1416129 ,  100.14225806,\n",
       "          100.14290323,  100.14354839,  100.14419355,  100.14483871,\n",
       "          100.14548387,  100.14612903,  100.14677419,  100.14741935,\n",
       "          100.14806452,  100.14870968,  100.14935484,  100.15      ,\n",
       "          100.13833333,  100.12666667,  100.115     ,  100.10333333,\n",
       "          100.09166667,  100.08      ,  100.06833333,  100.05666667,\n",
       "          100.045     ,  100.03333333,  100.02166667,  100.01      ,\n",
       "           99.99833333,   99.98666667,   99.975     ,   99.96333333,\n",
       "           99.95166667,   99.94      ,   99.92833333,   99.91666667,\n",
       "           99.905     ,   99.89333333,   99.88166667,   99.87      ,\n",
       "           99.85833333,   99.84666667,   99.835     ,   99.82333333,\n",
       "           99.81166667,   99.8       ,   99.8016129 ,   99.80322581,\n",
       "           99.80483871,   99.80645161,   99.80806452,   99.80967742,\n",
       "           99.81129032,   99.81290323,   99.81451613,   99.81612903,\n",
       "           99.81774194,   99.81935484,   99.82096774,   99.82258065,\n",
       "           99.82419355,   99.82580645,   99.82741935,   99.82903226,\n",
       "           99.83064516,   99.83225806,   99.83387097,   99.83548387,\n",
       "           99.83709677,   99.83870968,   99.84032258,   99.84193548,\n",
       "           99.84354839,   99.84516129,   99.84677419,   99.8483871 ,\n",
       "           99.85      ,   99.85516129,   99.86032258,   99.86548387,\n",
       "           99.87064516,   99.87580645,   99.88096774,   99.88612903,\n",
       "           99.89129032,   99.89645161,   99.9016129 ,   99.90677419,\n",
       "           99.91193548,   99.91709677,   99.92225806,   99.92741935,\n",
       "           99.93258065,   99.93774194,   99.94290323,   99.94806452,\n",
       "           99.95322581,   99.9583871 ,   99.96354839,   99.96870968,\n",
       "           99.97387097,   99.97903226,   99.98419355,   99.98935484,\n",
       "           99.99451613,   99.99967742,  100.00483871,  100.01      ,\n",
       "          100.016     ,  100.022     ,  100.028     ,  100.034     ,\n",
       "          100.04      ,  100.046     ,  100.052     ,  100.058     ,\n",
       "          100.064     ,  100.07      ,  100.076     ,  100.082     ,\n",
       "          100.088     ,  100.094     ,  100.1       ,  100.106     ,\n",
       "          100.112     ,  100.118     ,  100.124     ,  100.13      ,\n",
       "          100.136     ,  100.142     ,  100.148     ,  100.154     ,\n",
       "          100.16      ,  100.166     ,  100.172     ,  100.178     ,\n",
       "          100.184     ,  100.19      ,  100.18870968,  100.18741935,\n",
       "          100.18612903,  100.18483871,  100.18354839,  100.18225806,\n",
       "          100.18096774,  100.17967742,  100.1783871 ,  100.17709677,\n",
       "          100.17580645,  100.17451613,  100.17322581,  100.17193548,\n",
       "          100.17064516,  100.16935484,  100.16806452,  100.16677419,\n",
       "          100.16548387,  100.16419355,  100.16290323,  100.1616129 ,\n",
       "          100.16032258,  100.15903226,  100.15774194,  100.15645161,\n",
       "          100.15516129,  100.15387097,  100.15258065,  100.15129032,\n",
       "          100.15      ,  100.14433333,  100.13866667,  100.133     ,\n",
       "          100.12733333,  100.12166667,  100.116     ,  100.11033333,\n",
       "          100.10466667,  100.099     ,  100.09333333,  100.08766667,\n",
       "          100.082     ,  100.07633333,  100.07066667,  100.065     ,\n",
       "          100.05933333,  100.05366667,  100.048     ,  100.04233333,\n",
       "          100.03666667,  100.031     ,  100.02533333,  100.01966667,\n",
       "          100.014     ,  100.00833333,  100.00266667,   99.997     ,\n",
       "           99.99133333,   99.98566667,   99.98      ,   99.96387097,\n",
       "           99.94774194,   99.9316129 ,   99.91548387,   99.89935484,\n",
       "           99.88322581,   99.86709677,   99.85096774,   99.83483871,\n",
       "           99.81870968,   99.80258065,   99.78645161,   99.77032258,\n",
       "           99.75419355,   99.73806452,   99.72193548,   99.70580645,\n",
       "           99.68967742,   99.67354839,   99.65741935,   99.64129032,\n",
       "           99.62516129,   99.60903226,   99.59290323,   99.57677419,\n",
       "           99.56064516,   99.54451613,   99.5283871 ,   99.51225806,\n",
       "           99.49612903,   99.48      ,   99.48548387,   99.49096774,\n",
       "           99.49645161,   99.50193548,   99.50741935,   99.51290323,\n",
       "           99.5183871 ,   99.52387097,   99.52935484,   99.53483871,\n",
       "           99.54032258,   99.54580645,   99.55129032,   99.55677419,\n",
       "           99.56225806,   99.56774194,   99.57322581,   99.57870968,\n",
       "           99.58419355,   99.58967742,   99.59516129,   99.60064516,\n",
       "           99.60612903,   99.6116129 ,   99.61709677,   99.62258065,\n",
       "           99.62806452,   99.63354839,   99.63903226,   99.64451613,\n",
       "           99.65      ,   99.66827586,   99.68655172,   99.70482759,\n",
       "           99.72310345,   99.74137931,   99.75965517,   99.77793103,\n",
       "           99.7962069 ,   99.81448276,   99.83275862,   99.85103448,\n",
       "           99.86931034,   99.88758621,   99.90586207,   99.92413793,\n",
       "           99.94241379,   99.96068966,   99.97896552,   99.99724138,\n",
       "          100.01551724,  100.0337931 ,  100.05206897,  100.07034483,\n",
       "          100.08862069,  100.10689655,  100.12517241,  100.14344828,\n",
       "          100.16172414,  100.18      ,  100.19      ,  100.2       ,\n",
       "          100.21      ,  100.22      ,  100.23      ,  100.24      ,\n",
       "          100.25      ,  100.26      ,  100.27      ,  100.28      ,\n",
       "          100.29      ,  100.3       ,  100.31      ,  100.32      ,\n",
       "          100.33      ,  100.34      ,  100.35      ,  100.36      ,\n",
       "          100.37      ,  100.38      ,  100.39      ,  100.4       ,\n",
       "          100.41      ,  100.42      ,  100.43      ,  100.44      ,\n",
       "          100.45      ,  100.46      ,  100.47      ,  100.48      ,\n",
       "          100.49      ,  100.48733333,  100.48466667,  100.482     ,\n",
       "          100.47933333,  100.47666667,  100.474     ,  100.47133333,\n",
       "          100.46866667,  100.466     ,  100.46333333,  100.46066667,\n",
       "          100.458     ,  100.45533333,  100.45266667,  100.45      ,\n",
       "          100.44733333,  100.44466667,  100.442     ,  100.43933333,\n",
       "          100.43666667,  100.434     ,  100.43133333,  100.42866667,\n",
       "          100.426     ,  100.42333333,  100.42066667,  100.418     ,\n",
       "          100.41533333,  100.41266667,  100.41      ,  100.41193548,\n",
       "          100.41387097,  100.41580645,  100.41774194,  100.41967742,\n",
       "          100.4216129 ,  100.42354839,  100.42548387,  100.42741935,\n",
       "          100.42935484,  100.43129032,  100.43322581,  100.43516129,\n",
       "          100.43709677,  100.43903226,  100.44096774,  100.44290323,\n",
       "          100.44483871,  100.44677419,  100.44870968,  100.45064516,\n",
       "          100.45258065,  100.45451613,  100.45645161,  100.4583871 ,\n",
       "          100.46032258,  100.46225806,  100.46419355,  100.46612903,\n",
       "          100.46806452,  100.47      ,  100.46166667,  100.45333333,\n",
       "          100.445     ,  100.43666667,  100.42833333,  100.42      ,\n",
       "          100.41166667,  100.40333333,  100.395     ,  100.38666667,\n",
       "          100.37833333,  100.37      ,  100.36166667,  100.35333333,\n",
       "          100.345     ,  100.33666667,  100.32833333,  100.32      ,\n",
       "          100.31166667,  100.30333333,  100.295     ,  100.28666667,\n",
       "          100.27833333,  100.27      ,  100.26166667,  100.25333333,\n",
       "          100.245     ,  100.23666667,  100.22833333,  100.22      ,\n",
       "          100.2216129 ,  100.22322581,  100.22483871,  100.22645161,\n",
       "          100.22806452,  100.22967742,  100.23129032,  100.23290323,\n",
       "          100.23451613,  100.23612903,  100.23774194,  100.23935484,\n",
       "          100.24096774,  100.24258065,  100.24419355,  100.24580645,\n",
       "          100.24741935,  100.24903226,  100.25064516,  100.25225806,\n",
       "          100.25387097,  100.25548387,  100.25709677,  100.25870968,\n",
       "          100.26032258,  100.26193548,  100.26354839,  100.26516129,\n",
       "          100.26677419,  100.2683871 ,  100.27      ,  100.27      ,\n",
       "          100.27      ,  100.27      ,  100.27      ,  100.27      ,\n",
       "          100.27      ,  100.27      ,  100.27      ,  100.27      ,\n",
       "          100.27      ,  100.27      ,  100.27      ,  100.27      ,\n",
       "          100.27      ,  100.27      ,  100.27      ,  100.27      ,\n",
       "          100.27      ,  100.27      ,  100.27      ,  100.27      ,\n",
       "          100.27      ,  100.27      ,  100.27      ,  100.27      ,\n",
       "          100.27      ,  100.27      ,  100.27      ,  100.27      ,\n",
       "          100.27      ,  100.27      ,  100.27      ,  100.27      ,\n",
       "          100.27      ,  100.27      ,  100.27      ,  100.27      ,\n",
       "          100.27      ,  100.27      ,  100.27      ,  100.27      ,\n",
       "          100.27      ,  100.27      ,  100.27      ,  100.27      ,\n",
       "          100.27      ,  100.27      ,  100.27      ,  100.27      ,\n",
       "          100.27      ,  100.27      ,  100.27      ,  100.27      ,\n",
       "          100.27      ,  100.27      ,  100.27      ,  100.27      ,\n",
       "          100.27      ,  100.27      ,  100.27      ,  100.27      ])),\n",
       " (u'FRED_00XALCHRM086NEST',\n",
       "  array([          nan,           nan,           nan,           nan,\n",
       "                   nan,           nan,           nan,           nan,\n",
       "                   nan,           nan,           nan,           nan,\n",
       "                   nan,           nan,           nan,           nan,\n",
       "                   nan,           nan,           nan,           nan,\n",
       "                   nan,           nan,           nan,           nan,\n",
       "                   nan,           nan,           nan,           nan,\n",
       "                   nan,           nan,           nan,   98.86      ,\n",
       "           98.8925    ,   98.925     ,   98.9575    ,   98.99      ,\n",
       "           99.0225    ,   99.055     ,   99.0875    ,   99.12      ,\n",
       "           99.1525    ,   99.185     ,   99.2175    ,   99.25      ,\n",
       "           99.2825    ,   99.315     ,   99.3475    ,   99.38      ,\n",
       "           99.4125    ,   99.445     ,   99.4775    ,   99.51      ,\n",
       "           99.5425    ,   99.575     ,   99.6075    ,   99.64      ,\n",
       "           99.6725    ,   99.705     ,   99.7375    ,   99.77      ,\n",
       "           99.78064516,   99.79129032,   99.80193548,   99.81258065,\n",
       "           99.82322581,   99.83387097,   99.84451613,   99.85516129,\n",
       "           99.86580645,   99.87645161,   99.88709677,   99.89774194,\n",
       "           99.9083871 ,   99.91903226,   99.92967742,   99.94032258,\n",
       "           99.95096774,   99.9616129 ,   99.97225806,   99.98290323,\n",
       "           99.99354839,  100.00419355,  100.01483871,  100.02548387,\n",
       "          100.03612903,  100.04677419,  100.05741935,  100.06806452,\n",
       "          100.07870968,  100.08935484,  100.1       ,  100.12      ,\n",
       "          100.14      ,  100.16      ,  100.18      ,  100.2       ,\n",
       "          100.22      ,  100.24      ,  100.26      ,  100.28      ,\n",
       "          100.3       ,  100.32      ,  100.34      ,  100.36      ,\n",
       "          100.38      ,  100.4       ,  100.42      ,  100.44      ,\n",
       "          100.46      ,  100.48      ,  100.5       ,  100.52      ,\n",
       "          100.54      ,  100.56      ,  100.58      ,  100.6       ,\n",
       "          100.62      ,  100.64      ,  100.66      ,  100.68      ,\n",
       "          100.7       ,  100.71032258,  100.72064516,  100.73096774,\n",
       "          100.74129032,  100.7516129 ,  100.76193548,  100.77225806,\n",
       "          100.78258065,  100.79290323,  100.80322581,  100.81354839,\n",
       "          100.82387097,  100.83419355,  100.84451613,  100.85483871,\n",
       "          100.86516129,  100.87548387,  100.88580645,  100.89612903,\n",
       "          100.90645161,  100.91677419,  100.92709677,  100.93741935,\n",
       "          100.94774194,  100.95806452,  100.9683871 ,  100.97870968,\n",
       "          100.98903226,  100.99935484,  101.00967742,  101.02      ,\n",
       "          101.01466667,  101.00933333,  101.004     ,  100.99866667,\n",
       "          100.99333333,  100.988     ,  100.98266667,  100.97733333,\n",
       "          100.972     ,  100.96666667,  100.96133333,  100.956     ,\n",
       "          100.95066667,  100.94533333,  100.94      ,  100.93466667,\n",
       "          100.92933333,  100.924     ,  100.91866667,  100.91333333,\n",
       "          100.908     ,  100.90266667,  100.89733333,  100.892     ,\n",
       "          100.88666667,  100.88133333,  100.876     ,  100.87066667,\n",
       "          100.86533333,  100.86      ,  100.86645161,  100.87290323,\n",
       "          100.87935484,  100.88580645,  100.89225806,  100.89870968,\n",
       "          100.90516129,  100.9116129 ,  100.91806452,  100.92451613,\n",
       "          100.93096774,  100.93741935,  100.94387097,  100.95032258,\n",
       "          100.95677419,  100.96322581,  100.96967742,  100.97612903,\n",
       "          100.98258065,  100.98903226,  100.99548387,  101.00193548,\n",
       "          101.0083871 ,  101.01483871,  101.02129032,  101.02774194,\n",
       "          101.03419355,  101.04064516,  101.04709677,  101.05354839,\n",
       "          101.06      ,  101.03774194,  101.01548387,  100.99322581,\n",
       "          100.97096774,  100.94870968,  100.92645161,  100.90419355,\n",
       "          100.88193548,  100.85967742,  100.83741935,  100.81516129,\n",
       "          100.79290323,  100.77064516,  100.7483871 ,  100.72612903,\n",
       "          100.70387097,  100.6816129 ,  100.65935484,  100.63709677,\n",
       "          100.61483871,  100.59258065,  100.57032258,  100.54806452,\n",
       "          100.52580645,  100.50354839,  100.48129032,  100.45903226,\n",
       "          100.43677419,  100.41451613,  100.39225806,  100.37      ,\n",
       "          100.36133333,  100.35266667,  100.344     ,  100.33533333,\n",
       "          100.32666667,  100.318     ,  100.30933333,  100.30066667,\n",
       "          100.292     ,  100.28333333,  100.27466667,  100.266     ,\n",
       "          100.25733333,  100.24866667,  100.24      ,  100.23133333,\n",
       "          100.22266667,  100.214     ,  100.20533333,  100.19666667,\n",
       "          100.188     ,  100.17933333,  100.17066667,  100.162     ,\n",
       "          100.15333333,  100.14466667,  100.136     ,  100.12733333,\n",
       "          100.11866667,  100.11      ,  100.09032258,  100.07064516,\n",
       "          100.05096774,  100.03129032,  100.0116129 ,   99.99193548,\n",
       "           99.97225806,   99.95258065,   99.93290323,   99.91322581,\n",
       "           99.89354839,   99.87387097,   99.85419355,   99.83451613,\n",
       "           99.81483871,   99.79516129,   99.77548387,   99.75580645,\n",
       "           99.73612903,   99.71645161,   99.69677419,   99.67709677,\n",
       "           99.65741935,   99.63774194,   99.61806452,   99.5983871 ,\n",
       "           99.57870968,   99.55903226,   99.53935484,   99.51967742,\n",
       "           99.5       ,   99.48066667,   99.46133333,   99.442     ,\n",
       "           99.42266667,   99.40333333,   99.384     ,   99.36466667,\n",
       "           99.34533333,   99.326     ,   99.30666667,   99.28733333,\n",
       "           99.268     ,   99.24866667,   99.22933333,   99.21      ,\n",
       "           99.19066667,   99.17133333,   99.152     ,   99.13266667,\n",
       "           99.11333333,   99.094     ,   99.07466667,   99.05533333,\n",
       "           99.036     ,   99.01666667,   98.99733333,   98.978     ,\n",
       "           98.95866667,   98.93933333,   98.92      ,   98.90612903,\n",
       "           98.89225806,   98.8783871 ,   98.86451613,   98.85064516,\n",
       "           98.83677419,   98.82290323,   98.80903226,   98.79516129,\n",
       "           98.78129032,   98.76741935,   98.75354839,   98.73967742,\n",
       "           98.72580645,   98.71193548,   98.69806452,   98.68419355,\n",
       "           98.67032258,   98.65645161,   98.64258065,   98.62870968,\n",
       "           98.61483871,   98.60096774,   98.58709677,   98.57322581,\n",
       "           98.55935484,   98.54548387,   98.5316129 ,   98.51774194,\n",
       "           98.50387097,   98.49      ,   98.48      ,   98.47      ,\n",
       "           98.46      ,   98.45      ,   98.44      ,   98.43      ,\n",
       "           98.42      ,   98.41      ,   98.4       ,   98.39      ,\n",
       "           98.38      ,   98.37      ,   98.36      ,   98.35      ,\n",
       "           98.34      ,   98.33      ,   98.32      ,   98.31      ,\n",
       "           98.3       ,   98.29      ,   98.28      ,   98.27      ,\n",
       "           98.26      ,   98.25      ,   98.24      ,   98.23      ,\n",
       "           98.22      ,   98.21      ,   98.2       ,   98.19      ,\n",
       "           98.18      ,   98.19827586,   98.21655172,   98.23482759,\n",
       "           98.25310345,   98.27137931,   98.28965517,   98.30793103,\n",
       "           98.3262069 ,   98.34448276,   98.36275862,   98.38103448,\n",
       "           98.39931034,   98.41758621,   98.43586207,   98.45413793,\n",
       "           98.47241379,   98.49068966,   98.50896552,   98.52724138,\n",
       "           98.54551724,   98.5637931 ,   98.58206897,   98.60034483,\n",
       "           98.61862069,   98.63689655,   98.65517241,   98.67344828,\n",
       "           98.69172414,   98.71      ,   98.72419355,   98.7383871 ,\n",
       "           98.75258065,   98.76677419,   98.78096774,   98.79516129,\n",
       "           98.80935484,   98.82354839,   98.83774194,   98.85193548,\n",
       "           98.86612903,   98.88032258,   98.89451613,   98.90870968,\n",
       "           98.92290323,   98.93709677,   98.95129032,   98.96548387,\n",
       "           98.97967742,   98.99387097,   99.00806452,   99.02225806,\n",
       "           99.03645161,   99.05064516,   99.06483871,   99.07903226,\n",
       "           99.09322581,   99.10741935,   99.1216129 ,   99.13580645,\n",
       "           99.15      ,   99.15866667,   99.16733333,   99.176     ,\n",
       "           99.18466667,   99.19333333,   99.202     ,   99.21066667,\n",
       "           99.21933333,   99.228     ,   99.23666667,   99.24533333,\n",
       "           99.254     ,   99.26266667,   99.27133333,   99.28      ,\n",
       "           99.28866667,   99.29733333,   99.306     ,   99.31466667,\n",
       "           99.32333333,   99.332     ,   99.34066667,   99.34933333,\n",
       "           99.358     ,   99.36666667,   99.37533333,   99.384     ,\n",
       "           99.39266667,   99.40133333,   99.41      ,   99.41967742,\n",
       "           99.42935484,   99.43903226,   99.44870968,   99.4583871 ,\n",
       "           99.46806452,   99.47774194,   99.48741935,   99.49709677,\n",
       "           99.50677419,   99.51645161,   99.52612903,   99.53580645,\n",
       "           99.54548387,   99.55516129,   99.56483871,   99.57451613,\n",
       "           99.58419355,   99.59387097,   99.60354839,   99.61322581,\n",
       "           99.62290323,   99.63258065,   99.64225806,   99.65193548,\n",
       "           99.6616129 ,   99.67129032,   99.68096774,   99.69064516,\n",
       "           99.70032258,   99.71      ,   99.70766667,   99.70533333,\n",
       "           99.703     ,   99.70066667,   99.69833333,   99.696     ,\n",
       "           99.69366667,   99.69133333,   99.689     ,   99.68666667,\n",
       "           99.68433333,   99.682     ,   99.67966667,   99.67733333,\n",
       "           99.675     ,   99.67266667,   99.67033333,   99.668     ,\n",
       "           99.66566667,   99.66333333,   99.661     ,   99.65866667,\n",
       "           99.65633333,   99.654     ,   99.65166667,   99.64933333,\n",
       "           99.647     ,   99.64466667,   99.64233333,   99.64      ,\n",
       "           99.63451613,   99.62903226,   99.62354839,   99.61806452,\n",
       "           99.61258065,   99.60709677,   99.6016129 ,   99.59612903,\n",
       "           99.59064516,   99.58516129,   99.57967742,   99.57419355,\n",
       "           99.56870968,   99.56322581,   99.55774194,   99.55225806,\n",
       "           99.54677419,   99.54129032,   99.53580645,   99.53032258,\n",
       "           99.52483871,   99.51935484,   99.51387097,   99.5083871 ,\n",
       "           99.50290323,   99.49741935,   99.49193548,   99.48645161,\n",
       "           99.48096774,   99.47548387,   99.47      ,   99.47      ,\n",
       "           99.47      ,   99.47      ,   99.47      ,   99.47      ,\n",
       "           99.47      ,   99.47      ,   99.47      ,   99.47      ,\n",
       "           99.47      ,   99.47      ,   99.47      ,   99.47      ,\n",
       "           99.47      ,   99.47      ,   99.47      ,   99.47      ,\n",
       "           99.47      ,   99.47      ,   99.47      ,   99.47      ,\n",
       "           99.47      ,   99.47      ,   99.47      ,   99.47      ,\n",
       "           99.47      ,   99.47      ,   99.47      ,   99.47      ,\n",
       "           99.47      ,   99.47      ,   99.47      ,   99.47      ,\n",
       "           99.47      ,   99.47      ,   99.47      ,   99.47      ,\n",
       "           99.47      ,   99.47      ,   99.47      ,   99.47      ,\n",
       "           99.47      ,   99.47      ,   99.47      ,   99.47      ,\n",
       "           99.47      ,   99.47      ,   99.47      ,   99.47      ,\n",
       "           99.47      ,   99.47      ,   99.47      ,   99.47      ,\n",
       "           99.47      ,   99.47      ,   99.47      ,   99.47      ,\n",
       "           99.47      ,   99.47      ,   99.47      ,   99.47      ]))]"
      ]
     },
     "execution_count": 33,
     "metadata": {},
     "output_type": "execute_result"
    }
   ],
   "source": [
    "previous.take(3)"
   ]
  },
  {
   "cell_type": "code",
   "execution_count": 34,
   "metadata": {
    "collapsed": true
   },
   "outputs": [],
   "source": [
    "nearest = previous.fill(\"nearest\")"
   ]
  },
  {
   "cell_type": "code",
   "execution_count": 35,
   "metadata": {
    "collapsed": false
   },
   "outputs": [
    {
     "data": {
      "text/plain": [
       "[(u'FRED_00XALCCHM086NEST',\n",
       "  array([          nan,   99.93      ,   99.93      ,   99.93      ,\n",
       "           99.93      ,   99.93      ,   99.93      ,   99.93      ,\n",
       "           99.93      ,   99.93      ,   99.93      ,   99.93      ,\n",
       "           99.93      ,   99.93      ,   99.93      ,   99.93      ,\n",
       "           99.93      ,   99.93      ,   99.93      ,   99.93      ,\n",
       "           99.93      ,   99.93      ,   99.93      ,   99.93      ,\n",
       "           99.93      ,   99.93      ,   99.93      ,   99.93      ,\n",
       "           99.93      ,   99.93      ,   99.93      ,   99.93      ,\n",
       "           99.94678571,   99.96357143,   99.98035714,   99.99714286,\n",
       "          100.01392857,  100.03071429,  100.0475    ,  100.06428571,\n",
       "          100.08107143,  100.09785714,  100.11464286,  100.13142857,\n",
       "          100.14821429,  100.165     ,  100.18178571,  100.19857143,\n",
       "          100.21535714,  100.23214286,  100.24892857,  100.26571429,\n",
       "          100.2825    ,  100.29928571,  100.31607143,  100.33285714,\n",
       "          100.34964286,  100.36642857,  100.38321429,  100.4       ,\n",
       "          100.39129032,  100.38258065,  100.37387097,  100.36516129,\n",
       "          100.35645161,  100.34774194,  100.33903226,  100.33032258,\n",
       "          100.3216129 ,  100.31290323,  100.30419355,  100.29548387,\n",
       "          100.28677419,  100.27806452,  100.26935484,  100.26064516,\n",
       "          100.25193548,  100.24322581,  100.23451613,  100.22580645,\n",
       "          100.21709677,  100.2083871 ,  100.19967742,  100.19096774,\n",
       "          100.18225806,  100.17354839,  100.16483871,  100.15612903,\n",
       "          100.14741935,  100.13870968,  100.13      ,  100.13233333,\n",
       "          100.13466667,  100.137     ,  100.13933333,  100.14166667,\n",
       "          100.144     ,  100.14633333,  100.14866667,  100.151     ,\n",
       "          100.15333333,  100.15566667,  100.158     ,  100.16033333,\n",
       "          100.16266667,  100.165     ,  100.16733333,  100.16966667,\n",
       "          100.172     ,  100.17433333,  100.17666667,  100.179     ,\n",
       "          100.18133333,  100.18366667,  100.186     ,  100.18833333,\n",
       "          100.19066667,  100.193     ,  100.19533333,  100.19766667,\n",
       "          100.2       ,  100.20419355,  100.2083871 ,  100.21258065,\n",
       "          100.21677419,  100.22096774,  100.22516129,  100.22935484,\n",
       "          100.23354839,  100.23774194,  100.24193548,  100.24612903,\n",
       "          100.25032258,  100.25451613,  100.25870968,  100.26290323,\n",
       "          100.26709677,  100.27129032,  100.27548387,  100.27967742,\n",
       "          100.28387097,  100.28806452,  100.29225806,  100.29645161,\n",
       "          100.30064516,  100.30483871,  100.30903226,  100.31322581,\n",
       "          100.31741935,  100.3216129 ,  100.32580645,  100.33      ,\n",
       "          100.32333333,  100.31666667,  100.31      ,  100.30333333,\n",
       "          100.29666667,  100.29      ,  100.28333333,  100.27666667,\n",
       "          100.27      ,  100.26333333,  100.25666667,  100.25      ,\n",
       "          100.24333333,  100.23666667,  100.23      ,  100.22333333,\n",
       "          100.21666667,  100.21      ,  100.20333333,  100.19666667,\n",
       "          100.19      ,  100.18333333,  100.17666667,  100.17      ,\n",
       "          100.16333333,  100.15666667,  100.15      ,  100.14333333,\n",
       "          100.13666667,  100.13      ,  100.11225806,  100.09451613,\n",
       "          100.07677419,  100.05903226,  100.04129032,  100.02354839,\n",
       "          100.00580645,   99.98806452,   99.97032258,   99.95258065,\n",
       "           99.93483871,   99.91709677,   99.89935484,   99.8816129 ,\n",
       "           99.86387097,   99.84612903,   99.8283871 ,   99.81064516,\n",
       "           99.79290323,   99.77516129,   99.75741935,   99.73967742,\n",
       "           99.72193548,   99.70419355,   99.68645161,   99.66870968,\n",
       "           99.65096774,   99.63322581,   99.61548387,   99.59774194,\n",
       "           99.58      ,   99.59129032,   99.60258065,   99.61387097,\n",
       "           99.62516129,   99.63645161,   99.64774194,   99.65903226,\n",
       "           99.67032258,   99.6816129 ,   99.69290323,   99.70419355,\n",
       "           99.71548387,   99.72677419,   99.73806452,   99.74935484,\n",
       "           99.76064516,   99.77193548,   99.78322581,   99.79451613,\n",
       "           99.80580645,   99.81709677,   99.8283871 ,   99.83967742,\n",
       "           99.85096774,   99.86225806,   99.87354839,   99.88483871,\n",
       "           99.89612903,   99.90741935,   99.91870968,   99.93      ,\n",
       "           99.93133333,   99.93266667,   99.934     ,   99.93533333,\n",
       "           99.93666667,   99.938     ,   99.93933333,   99.94066667,\n",
       "           99.942     ,   99.94333333,   99.94466667,   99.946     ,\n",
       "           99.94733333,   99.94866667,   99.95      ,   99.95133333,\n",
       "           99.95266667,   99.954     ,   99.95533333,   99.95666667,\n",
       "           99.958     ,   99.95933333,   99.96066667,   99.962     ,\n",
       "           99.96333333,   99.96466667,   99.966     ,   99.96733333,\n",
       "           99.96866667,   99.97      ,   99.95870968,   99.94741935,\n",
       "           99.93612903,   99.92483871,   99.91354839,   99.90225806,\n",
       "           99.89096774,   99.87967742,   99.8683871 ,   99.85709677,\n",
       "           99.84580645,   99.83451613,   99.82322581,   99.81193548,\n",
       "           99.80064516,   99.78935484,   99.77806452,   99.76677419,\n",
       "           99.75548387,   99.74419355,   99.73290323,   99.7216129 ,\n",
       "           99.71032258,   99.69903226,   99.68774194,   99.67645161,\n",
       "           99.66516129,   99.65387097,   99.64258065,   99.63129032,\n",
       "           99.62      ,   99.61633333,   99.61266667,   99.609     ,\n",
       "           99.60533333,   99.60166667,   99.598     ,   99.59433333,\n",
       "           99.59066667,   99.587     ,   99.58333333,   99.57966667,\n",
       "           99.576     ,   99.57233333,   99.56866667,   99.565     ,\n",
       "           99.56133333,   99.55766667,   99.554     ,   99.55033333,\n",
       "           99.54666667,   99.543     ,   99.53933333,   99.53566667,\n",
       "           99.532     ,   99.52833333,   99.52466667,   99.521     ,\n",
       "           99.51733333,   99.51366667,   99.51      ,   99.48677419,\n",
       "           99.46354839,   99.44032258,   99.41709677,   99.39387097,\n",
       "           99.37064516,   99.34741935,   99.32419355,   99.30096774,\n",
       "           99.27774194,   99.25451613,   99.23129032,   99.20806452,\n",
       "           99.18483871,   99.1616129 ,   99.1383871 ,   99.11516129,\n",
       "           99.09193548,   99.06870968,   99.04548387,   99.02225806,\n",
       "           98.99903226,   98.97580645,   98.95258065,   98.92935484,\n",
       "           98.90612903,   98.88290323,   98.85967742,   98.83645161,\n",
       "           98.81322581,   98.79      ,   98.79483871,   98.79967742,\n",
       "           98.80451613,   98.80935484,   98.81419355,   98.81903226,\n",
       "           98.82387097,   98.82870968,   98.83354839,   98.8383871 ,\n",
       "           98.84322581,   98.84806452,   98.85290323,   98.85774194,\n",
       "           98.86258065,   98.86741935,   98.87225806,   98.87709677,\n",
       "           98.88193548,   98.88677419,   98.8916129 ,   98.89645161,\n",
       "           98.90129032,   98.90612903,   98.91096774,   98.91580645,\n",
       "           98.92064516,   98.92548387,   98.93032258,   98.93516129,\n",
       "           98.94      ,   98.95344828,   98.96689655,   98.98034483,\n",
       "           98.9937931 ,   99.00724138,   99.02068966,   99.03413793,\n",
       "           99.04758621,   99.06103448,   99.07448276,   99.08793103,\n",
       "           99.10137931,   99.11482759,   99.12827586,   99.14172414,\n",
       "           99.15517241,   99.16862069,   99.18206897,   99.19551724,\n",
       "           99.20896552,   99.22241379,   99.23586207,   99.24931034,\n",
       "           99.26275862,   99.2762069 ,   99.28965517,   99.30310345,\n",
       "           99.31655172,   99.33      ,   99.33774194,   99.34548387,\n",
       "           99.35322581,   99.36096774,   99.36870968,   99.37645161,\n",
       "           99.38419355,   99.39193548,   99.39967742,   99.40741935,\n",
       "           99.41516129,   99.42290323,   99.43064516,   99.4383871 ,\n",
       "           99.44612903,   99.45387097,   99.4616129 ,   99.46935484,\n",
       "           99.47709677,   99.48483871,   99.49258065,   99.50032258,\n",
       "           99.50806452,   99.51580645,   99.52354839,   99.53129032,\n",
       "           99.53903226,   99.54677419,   99.55451613,   99.56225806,\n",
       "           99.57      ,   99.57466667,   99.57933333,   99.584     ,\n",
       "           99.58866667,   99.59333333,   99.598     ,   99.60266667,\n",
       "           99.60733333,   99.612     ,   99.61666667,   99.62133333,\n",
       "           99.626     ,   99.63066667,   99.63533333,   99.64      ,\n",
       "           99.64466667,   99.64933333,   99.654     ,   99.65866667,\n",
       "           99.66333333,   99.668     ,   99.67266667,   99.67733333,\n",
       "           99.682     ,   99.68666667,   99.69133333,   99.696     ,\n",
       "           99.70066667,   99.70533333,   99.71      ,   99.71096774,\n",
       "           99.71193548,   99.71290323,   99.71387097,   99.71483871,\n",
       "           99.71580645,   99.71677419,   99.71774194,   99.71870968,\n",
       "           99.71967742,   99.72064516,   99.7216129 ,   99.72258065,\n",
       "           99.72354839,   99.72451613,   99.72548387,   99.72645161,\n",
       "           99.72741935,   99.7283871 ,   99.72935484,   99.73032258,\n",
       "           99.73129032,   99.73225806,   99.73322581,   99.73419355,\n",
       "           99.73516129,   99.73612903,   99.73709677,   99.73806452,\n",
       "           99.73903226,   99.74      ,   99.73733333,   99.73466667,\n",
       "           99.732     ,   99.72933333,   99.72666667,   99.724     ,\n",
       "           99.72133333,   99.71866667,   99.716     ,   99.71333333,\n",
       "           99.71066667,   99.708     ,   99.70533333,   99.70266667,\n",
       "           99.7       ,   99.69733333,   99.69466667,   99.692     ,\n",
       "           99.68933333,   99.68666667,   99.684     ,   99.68133333,\n",
       "           99.67866667,   99.676     ,   99.67333333,   99.67066667,\n",
       "           99.668     ,   99.66533333,   99.66266667,   99.66      ,\n",
       "           99.6583871 ,   99.65677419,   99.65516129,   99.65354839,\n",
       "           99.65193548,   99.65032258,   99.64870968,   99.64709677,\n",
       "           99.64548387,   99.64387097,   99.64225806,   99.64064516,\n",
       "           99.63903226,   99.63741935,   99.63580645,   99.63419355,\n",
       "           99.63258065,   99.63096774,   99.62935484,   99.62774194,\n",
       "           99.62612903,   99.62451613,   99.62290323,   99.62129032,\n",
       "           99.61967742,   99.61806452,   99.61645161,   99.61483871,\n",
       "           99.61322581,   99.6116129 ,   99.61      ,   99.61      ,\n",
       "           99.61      ,   99.61      ,   99.61      ,   99.61      ,\n",
       "           99.61      ,   99.61      ,   99.61      ,   99.61      ,\n",
       "           99.61      ,   99.61      ,   99.61      ,   99.61      ,\n",
       "           99.61      ,   99.61      ,   99.61      ,   99.61      ,\n",
       "           99.61      ,   99.61      ,   99.61      ,   99.61      ,\n",
       "           99.61      ,   99.61      ,   99.61      ,   99.61      ,\n",
       "           99.61      ,   99.61      ,   99.61      ,   99.61      ,\n",
       "           99.61      ,   99.61      ,   99.61      ,   99.61      ,\n",
       "           99.61      ,   99.61      ,   99.61      ,   99.61      ,\n",
       "           99.61      ,   99.61      ,   99.61      ,   99.61      ,\n",
       "           99.61      ,   99.61      ,   99.61      ,   99.61      ,\n",
       "           99.61      ,   99.61      ,   99.61      ,   99.61      ,\n",
       "           99.61      ,   99.61      ,   99.61      ,   99.61      ,\n",
       "           99.61      ,   99.61      ,   99.61      ,   99.61      ,\n",
       "           99.61      ,   99.61      ,   99.61      ,   99.61      ]))]"
      ]
     },
     "execution_count": 35,
     "metadata": {},
     "output_type": "execute_result"
    }
   ],
   "source": [
    "nearest.take(1)"
   ]
  },
  {
   "cell_type": "code",
   "execution_count": 36,
   "metadata": {
    "collapsed": true
   },
   "outputs": [],
   "source": [
    "rr = nearest.return_rates()"
   ]
  },
  {
   "cell_type": "code",
   "execution_count": 37,
   "metadata": {
    "collapsed": false
   },
   "outputs": [],
   "source": [
    "rr = rr.fill(\"linear\")"
   ]
  },
  {
   "cell_type": "code",
   "execution_count": 38,
   "metadata": {
    "collapsed": false
   },
   "outputs": [],
   "source": [
    "rr = rr.map(lambda ts: (ts[0], np.nan_to_num(ts[1])))"
   ]
  },
  {
   "cell_type": "code",
   "execution_count": 39,
   "metadata": {
    "collapsed": false
   },
   "outputs": [
    {
     "data": {
      "text/plain": [
       "[(u'FRED_00XALCCHM086NEST',\n",
       "  array([  0.00000000e+00,   0.00000000e+00,   0.00000000e+00,\n",
       "           0.00000000e+00,   0.00000000e+00,   0.00000000e+00,\n",
       "           0.00000000e+00,   0.00000000e+00,   0.00000000e+00,\n",
       "           0.00000000e+00,   0.00000000e+00,   0.00000000e+00,\n",
       "           0.00000000e+00,   0.00000000e+00,   0.00000000e+00,\n",
       "           0.00000000e+00,   0.00000000e+00,   0.00000000e+00,\n",
       "           0.00000000e+00,   0.00000000e+00,   0.00000000e+00,\n",
       "           0.00000000e+00,   0.00000000e+00,   0.00000000e+00,\n",
       "           0.00000000e+00,   0.00000000e+00,   0.00000000e+00,\n",
       "           0.00000000e+00,   0.00000000e+00,   0.00000000e+00,\n",
       "           0.00000000e+00,   1.67974725e-04,   1.67946514e-04,\n",
       "           1.67918313e-04,   1.67890121e-04,   1.67861939e-04,\n",
       "           1.67833766e-04,   1.67805603e-04,   1.67777449e-04,\n",
       "           1.67749304e-04,   1.67721169e-04,   1.67693043e-04,\n",
       "           1.67664927e-04,   1.67636820e-04,   1.67608723e-04,\n",
       "           1.67580635e-04,   1.67552556e-04,   1.67524487e-04,\n",
       "           1.67496427e-04,   1.67468377e-04,   1.67440336e-04,\n",
       "           1.67412304e-04,   1.67384282e-04,   1.67356269e-04,\n",
       "           1.67328266e-04,   1.67300272e-04,   1.67272287e-04,\n",
       "           1.67244312e-04,   1.67216346e-04,  -8.67497751e-05,\n",
       "          -8.67573013e-05,  -8.67648288e-05,  -8.67723575e-05,\n",
       "          -8.67798876e-05,  -8.67874190e-05,  -8.67949517e-05,\n",
       "          -8.68024858e-05,  -8.68100211e-05,  -8.68175577e-05,\n",
       "          -8.68250957e-05,  -8.68326349e-05,  -8.68401755e-05,\n",
       "          -8.68477174e-05,  -8.68552605e-05,  -8.68628050e-05,\n",
       "          -8.68703508e-05,  -8.68778979e-05,  -8.68854464e-05,\n",
       "          -8.68929961e-05,  -8.69005472e-05,  -8.69080995e-05,\n",
       "          -8.69156532e-05,  -8.69232082e-05,  -8.69307645e-05,\n",
       "          -8.69383221e-05,  -8.69458810e-05,  -8.69534413e-05,\n",
       "          -8.69610028e-05,  -8.69685657e-05,  -8.69761299e-05,\n",
       "           2.33030394e-05,   2.33024964e-05,   2.33019534e-05,\n",
       "           2.33014104e-05,   2.33008675e-05,   2.33003245e-05,\n",
       "           2.32997816e-05,   2.32992388e-05,   2.32986959e-05,\n",
       "           2.32981531e-05,   2.32976103e-05,   2.32970676e-05,\n",
       "           2.32965248e-05,   2.32959821e-05,   2.32954394e-05,\n",
       "           2.32948968e-05,   2.32943541e-05,   2.32938115e-05,\n",
       "           2.32932689e-05,   2.32927263e-05,   2.32921838e-05,\n",
       "           2.32916413e-05,   2.32910988e-05,   2.32905563e-05,\n",
       "           2.32900139e-05,   2.32894715e-05,   2.32889291e-05,\n",
       "           2.32883867e-05,   2.32878444e-05,   2.32873021e-05,\n",
       "           4.18517803e-05,   4.18500288e-05,   4.18482775e-05,\n",
       "           4.18465263e-05,   4.18447752e-05,   4.18430243e-05,\n",
       "           4.18412735e-05,   4.18395229e-05,   4.18377724e-05,\n",
       "           4.18360221e-05,   4.18342719e-05,   4.18325219e-05,\n",
       "           4.18307720e-05,   4.18290223e-05,   4.18272727e-05,\n",
       "           4.18255232e-05,   4.18237739e-05,   4.18220248e-05,\n",
       "           4.18202758e-05,   4.18185269e-05,   4.18167782e-05,\n",
       "           4.18150296e-05,   4.18132812e-05,   4.18115329e-05,\n",
       "           4.18097848e-05,   4.18080368e-05,   4.18062890e-05,\n",
       "           4.18045413e-05,   4.18027937e-05,   4.18010463e-05,\n",
       "           4.17992991e-05,  -6.64473903e-05,  -6.64518058e-05,\n",
       "          -6.64562220e-05,  -6.64606387e-05,  -6.64650560e-05,\n",
       "          -6.64694739e-05,  -6.64738924e-05,  -6.64783115e-05,\n",
       "          -6.64827311e-05,  -6.64871514e-05,  -6.64915722e-05,\n",
       "          -6.64959936e-05,  -6.65004156e-05,  -6.65048382e-05,\n",
       "          -6.65092614e-05,  -6.65136852e-05,  -6.65181096e-05,\n",
       "          -6.65225345e-05,  -6.65269601e-05,  -6.65313862e-05,\n",
       "          -6.65358129e-05,  -6.65402402e-05,  -6.65446681e-05,\n",
       "          -6.65490966e-05,  -6.65535257e-05,  -6.65579553e-05,\n",
       "          -6.65623856e-05,  -6.65668164e-05,  -6.65712479e-05,\n",
       "          -6.65756799e-05,  -1.77189009e-04,  -1.77220411e-04,\n",
       "          -1.77251823e-04,  -1.77283247e-04,  -1.77314682e-04,\n",
       "          -1.77346128e-04,  -1.77377585e-04,  -1.77409054e-04,\n",
       "          -1.77440533e-04,  -1.77472024e-04,  -1.77503526e-04,\n",
       "          -1.77535039e-04,  -1.77566563e-04,  -1.77598099e-04,\n",
       "          -1.77629645e-04,  -1.77661203e-04,  -1.77692772e-04,\n",
       "          -1.77724353e-04,  -1.77755944e-04,  -1.77787547e-04,\n",
       "          -1.77819161e-04,  -1.77850786e-04,  -1.77882423e-04,\n",
       "          -1.77914071e-04,  -1.77945730e-04,  -1.77977400e-04,\n",
       "          -1.78009082e-04,  -1.78040775e-04,  -1.78072479e-04,\n",
       "          -1.78104194e-04,  -1.78135921e-04,   1.13379419e-04,\n",
       "           1.13366566e-04,   1.13353715e-04,   1.13340868e-04,\n",
       "           1.13328023e-04,   1.13315181e-04,   1.13302342e-04,\n",
       "           1.13289506e-04,   1.13276673e-04,   1.13263843e-04,\n",
       "           1.13251016e-04,   1.13238192e-04,   1.13225370e-04,\n",
       "           1.13212552e-04,   1.13199736e-04,   1.13186923e-04,\n",
       "           1.13174114e-04,   1.13161307e-04,   1.13148503e-04,\n",
       "           1.13135701e-04,   1.13122903e-04,   1.13110108e-04,\n",
       "           1.13097315e-04,   1.13084526e-04,   1.13071739e-04,\n",
       "           1.13058955e-04,   1.13046175e-04,   1.13033397e-04,\n",
       "           1.13020621e-04,   1.13007849e-04,   1.12995080e-04,\n",
       "           1.33426732e-05,   1.33424952e-05,   1.33423172e-05,\n",
       "           1.33421391e-05,   1.33419611e-05,   1.33417831e-05,\n",
       "           1.33416051e-05,   1.33414271e-05,   1.33412491e-05,\n",
       "           1.33410712e-05,   1.33408932e-05,   1.33407152e-05,\n",
       "           1.33405372e-05,   1.33403593e-05,   1.33401813e-05,\n",
       "           1.33400033e-05,   1.33398254e-05,   1.33396474e-05,\n",
       "           1.33394695e-05,   1.33392916e-05,   1.33391136e-05,\n",
       "           1.33389357e-05,   1.33387578e-05,   1.33385798e-05,\n",
       "           1.33384019e-05,   1.33382240e-05,   1.33380461e-05,\n",
       "           1.33378682e-05,   1.33376903e-05,   1.33375124e-05,\n",
       "          -1.12937107e-04,  -1.12949863e-04,  -1.12962622e-04,\n",
       "          -1.12975384e-04,  -1.12988149e-04,  -1.13000917e-04,\n",
       "          -1.13013688e-04,  -1.13026461e-04,  -1.13039238e-04,\n",
       "          -1.13052017e-04,  -1.13064799e-04,  -1.13077584e-04,\n",
       "          -1.13090372e-04,  -1.13103163e-04,  -1.13115957e-04,\n",
       "          -1.13128753e-04,  -1.13141553e-04,  -1.13154355e-04,\n",
       "          -1.13167161e-04,  -1.13179969e-04,  -1.13192780e-04,\n",
       "          -1.13205594e-04,  -1.13218411e-04,  -1.13231231e-04,\n",
       "          -1.13244054e-04,  -1.13256880e-04,  -1.13269708e-04,\n",
       "          -1.13282540e-04,  -1.13295374e-04,  -1.13308211e-04,\n",
       "          -1.13321051e-04,  -3.68065315e-05,  -3.68078863e-05,\n",
       "          -3.68092411e-05,  -3.68105961e-05,  -3.68119512e-05,\n",
       "          -3.68133063e-05,  -3.68146616e-05,  -3.68160170e-05,\n",
       "          -3.68173724e-05,  -3.68187280e-05,  -3.68200837e-05,\n",
       "          -3.68214395e-05,  -3.68227953e-05,  -3.68241513e-05,\n",
       "          -3.68255074e-05,  -3.68268635e-05,  -3.68282198e-05,\n",
       "          -3.68295762e-05,  -3.68309326e-05,  -3.68322892e-05,\n",
       "          -3.68336459e-05,  -3.68350026e-05,  -3.68363595e-05,\n",
       "          -3.68377165e-05,  -3.68390735e-05,  -3.68404307e-05,\n",
       "          -3.68417880e-05,  -3.68431453e-05,  -3.68445028e-05,\n",
       "          -3.68458604e-05,  -2.33401733e-04,  -2.33456222e-04,\n",
       "          -2.33510737e-04,  -2.33565277e-04,  -2.33619842e-04,\n",
       "          -2.33674433e-04,  -2.33729050e-04,  -2.33783692e-04,\n",
       "          -2.33838359e-04,  -2.33893052e-04,  -2.33947771e-04,\n",
       "          -2.34002516e-04,  -2.34057286e-04,  -2.34112081e-04,\n",
       "          -2.34166902e-04,  -2.34221749e-04,  -2.34276622e-04,\n",
       "          -2.34331521e-04,  -2.34386445e-04,  -2.34441395e-04,\n",
       "          -2.34496370e-04,  -2.34551372e-04,  -2.34606399e-04,\n",
       "          -2.34661452e-04,  -2.34716531e-04,  -2.34771636e-04,\n",
       "          -2.34826766e-04,  -2.34881923e-04,  -2.34937105e-04,\n",
       "          -2.34992314e-04,  -2.35047548e-04,   4.89797518e-05,\n",
       "           4.89773529e-05,   4.89749542e-05,   4.89725558e-05,\n",
       "           4.89701576e-05,   4.89677596e-05,   4.89653619e-05,\n",
       "           4.89629644e-05,   4.89605672e-05,   4.89581701e-05,\n",
       "           4.89557734e-05,   4.89533768e-05,   4.89509805e-05,\n",
       "           4.89485844e-05,   4.89461886e-05,   4.89437929e-05,\n",
       "           4.89413976e-05,   4.89390024e-05,   4.89366075e-05,\n",
       "           4.89342128e-05,   4.89318184e-05,   4.89294242e-05,\n",
       "           4.89270302e-05,   4.89246365e-05,   4.89222430e-05,\n",
       "           4.89198497e-05,   4.89174567e-05,   4.89150639e-05,\n",
       "           4.89126713e-05,   4.89102790e-05,   4.89078869e-05,\n",
       "           1.35923548e-04,   1.35905076e-04,   1.35886608e-04,\n",
       "           1.35868145e-04,   1.35849688e-04,   1.35831235e-04,\n",
       "           1.35812787e-04,   1.35794345e-04,   1.35775907e-04,\n",
       "           1.35757474e-04,   1.35739047e-04,   1.35720624e-04,\n",
       "           1.35702207e-04,   1.35683794e-04,   1.35665387e-04,\n",
       "           1.35646984e-04,   1.35628586e-04,   1.35610194e-04,\n",
       "           1.35591806e-04,   1.35573423e-04,   1.35555046e-04,\n",
       "           1.35536673e-04,   1.35518305e-04,   1.35499943e-04,\n",
       "           1.35481585e-04,   1.35463232e-04,   1.35444884e-04,\n",
       "           1.35426542e-04,   1.35408204e-04,   7.79415633e-05,\n",
       "           7.79354889e-05,   7.79294154e-05,   7.79233429e-05,\n",
       "           7.79172713e-05,   7.79112007e-05,   7.79051310e-05,\n",
       "           7.78990623e-05,   7.78929945e-05,   7.78869277e-05,\n",
       "           7.78808618e-05,   7.78747968e-05,   7.78687328e-05,\n",
       "           7.78626697e-05,   7.78566076e-05,   7.78505464e-05,\n",
       "           7.78444862e-05,   7.78384269e-05,   7.78323685e-05,\n",
       "           7.78263111e-05,   7.78202547e-05,   7.78141991e-05,\n",
       "           7.78081446e-05,   7.78020909e-05,   7.77960382e-05,\n",
       "           7.77899865e-05,   7.77839357e-05,   7.77778858e-05,\n",
       "           7.77718369e-05,   7.77657889e-05,   7.77597418e-05,\n",
       "           4.68681999e-05,   4.68660034e-05,   4.68638071e-05,\n",
       "           4.68616110e-05,   4.68594151e-05,   4.68572194e-05,\n",
       "           4.68550239e-05,   4.68528286e-05,   4.68506335e-05,\n",
       "           4.68484386e-05,   4.68462439e-05,   4.68440495e-05,\n",
       "           4.68418552e-05,   4.68396611e-05,   4.68374673e-05,\n",
       "           4.68352737e-05,   4.68330802e-05,   4.68308870e-05,\n",
       "           4.68286939e-05,   4.68265011e-05,   4.68243085e-05,\n",
       "           4.68221161e-05,   4.68199239e-05,   4.68177319e-05,\n",
       "           4.68155401e-05,   4.68133485e-05,   4.68111571e-05,\n",
       "           4.68089659e-05,   4.68067749e-05,   4.68045842e-05,\n",
       "           9.70556549e-06,   9.70547130e-06,   9.70537710e-06,\n",
       "           9.70528291e-06,   9.70518872e-06,   9.70509453e-06,\n",
       "           9.70500034e-06,   9.70490615e-06,   9.70481197e-06,\n",
       "           9.70471779e-06,   9.70462361e-06,   9.70452943e-06,\n",
       "           9.70443525e-06,   9.70434108e-06,   9.70424690e-06,\n",
       "           9.70415273e-06,   9.70405856e-06,   9.70396439e-06,\n",
       "           9.70387023e-06,   9.70377606e-06,   9.70368190e-06,\n",
       "           9.70358774e-06,   9.70349358e-06,   9.70339942e-06,\n",
       "           9.70330527e-06,   9.70321112e-06,   9.70311696e-06,\n",
       "           9.70302281e-06,   9.70292867e-06,   9.70283452e-06,\n",
       "           9.70274038e-06,  -2.67361807e-05,  -2.67368956e-05,\n",
       "          -2.67376105e-05,  -2.67383254e-05,  -2.67390403e-05,\n",
       "          -2.67397553e-05,  -2.67404704e-05,  -2.67411854e-05,\n",
       "          -2.67419005e-05,  -2.67426157e-05,  -2.67433309e-05,\n",
       "          -2.67440461e-05,  -2.67447614e-05,  -2.67454767e-05,\n",
       "          -2.67461920e-05,  -2.67469074e-05,  -2.67476228e-05,\n",
       "          -2.67483383e-05,  -2.67490538e-05,  -2.67497693e-05,\n",
       "          -2.67504849e-05,  -2.67512005e-05,  -2.67519161e-05,\n",
       "          -2.67526318e-05,  -2.67533475e-05,  -2.67540633e-05,\n",
       "          -2.67547791e-05,  -2.67554949e-05,  -2.67562108e-05,\n",
       "          -2.67569267e-05,  -1.61840581e-05,  -1.61843200e-05,\n",
       "          -1.61845819e-05,  -1.61848439e-05,  -1.61851058e-05,\n",
       "          -1.61853678e-05,  -1.61856298e-05,  -1.61858917e-05,\n",
       "          -1.61861537e-05,  -1.61864157e-05,  -1.61866777e-05,\n",
       "          -1.61869397e-05,  -1.61872018e-05,  -1.61874638e-05,\n",
       "          -1.61877258e-05,  -1.61879879e-05,  -1.61882499e-05,\n",
       "          -1.61885120e-05,  -1.61887741e-05,  -1.61890361e-05,\n",
       "          -1.61892982e-05,  -1.61895603e-05,  -1.61898224e-05,\n",
       "          -1.61900845e-05,  -1.61903467e-05,  -1.61906088e-05,\n",
       "          -1.61908709e-05,  -1.61911331e-05,  -1.61913952e-05,\n",
       "          -1.61916574e-05,  -1.61919196e-05,   0.00000000e+00,\n",
       "           0.00000000e+00,   0.00000000e+00,   0.00000000e+00,\n",
       "           0.00000000e+00,   0.00000000e+00,   0.00000000e+00,\n",
       "           0.00000000e+00,   0.00000000e+00,   0.00000000e+00,\n",
       "           0.00000000e+00,   0.00000000e+00,   0.00000000e+00,\n",
       "           0.00000000e+00,   0.00000000e+00,   0.00000000e+00,\n",
       "           0.00000000e+00,   0.00000000e+00,   0.00000000e+00,\n",
       "           0.00000000e+00,   0.00000000e+00,   0.00000000e+00,\n",
       "           0.00000000e+00,   0.00000000e+00,   0.00000000e+00,\n",
       "           0.00000000e+00,   0.00000000e+00,   0.00000000e+00,\n",
       "           0.00000000e+00,   0.00000000e+00,   0.00000000e+00,\n",
       "           0.00000000e+00,   0.00000000e+00,   0.00000000e+00,\n",
       "           0.00000000e+00,   0.00000000e+00,   0.00000000e+00,\n",
       "           0.00000000e+00,   0.00000000e+00,   0.00000000e+00,\n",
       "           0.00000000e+00,   0.00000000e+00,   0.00000000e+00,\n",
       "           0.00000000e+00,   0.00000000e+00,   0.00000000e+00,\n",
       "           0.00000000e+00,   0.00000000e+00,   0.00000000e+00,\n",
       "           0.00000000e+00,   0.00000000e+00,   0.00000000e+00,\n",
       "           0.00000000e+00,   0.00000000e+00,   0.00000000e+00,\n",
       "           0.00000000e+00,   0.00000000e+00,   0.00000000e+00,\n",
       "           0.00000000e+00,   0.00000000e+00,   0.00000000e+00]))]"
      ]
     },
     "execution_count": 39,
     "metadata": {},
     "output_type": "execute_result"
    }
   ],
   "source": [
    "rr.take(1)"
   ]
  },
  {
   "cell_type": "code",
   "execution_count": 40,
   "metadata": {
    "collapsed": true
   },
   "outputs": [],
   "source": [
    "def moving_average(a, n=3) :\n",
    "    ret = np.cumsum(a, dtype=float)\n",
    "    ret[n:] = ret[n:] - ret[:-n]\n",
    "    return ret[n - 1:] / n\n",
    "\n",
    "\n",
    "def shifting(a, delta):\n",
    "    from scipy.ndimage.interpolation import shift\n",
    "    return shift(a, delta, cval=np.NaN)"
   ]
  },
  {
   "cell_type": "code",
   "execution_count": 41,
   "metadata": {
    "collapsed": false
   },
   "outputs": [],
   "source": [
    "ma = rr.map(lambda row:  (row[0], moving_average(row[1], 10)))"
   ]
  },
  {
   "cell_type": "code",
   "execution_count": 42,
   "metadata": {
    "collapsed": false
   },
   "outputs": [
    {
     "data": {
      "text/plain": [
       "[(u'FRED_00XALCCHM086NEST',\n",
       "  array([  0.00000000e+00,   0.00000000e+00,   0.00000000e+00,\n",
       "           0.00000000e+00,   0.00000000e+00,   0.00000000e+00,\n",
       "           0.00000000e+00,   0.00000000e+00,   0.00000000e+00,\n",
       "           0.00000000e+00,   0.00000000e+00,   0.00000000e+00,\n",
       "           0.00000000e+00,   0.00000000e+00,   0.00000000e+00,\n",
       "           0.00000000e+00,   0.00000000e+00,   0.00000000e+00,\n",
       "           0.00000000e+00,   0.00000000e+00,   0.00000000e+00,\n",
       "           0.00000000e+00,   1.67974725e-05,   3.35921240e-05,\n",
       "           5.03839553e-05,   6.71729674e-05,   8.39591613e-05,\n",
       "           1.00742538e-04,   1.17523098e-04,   1.34300843e-04,\n",
       "           1.51075773e-04,   1.67847890e-04,   1.67819722e-04,\n",
       "           1.67791563e-04,   1.67763414e-04,   1.67735274e-04,\n",
       "           1.67707144e-04,   1.67679023e-04,   1.67650911e-04,\n",
       "           1.67622809e-04,   1.67594716e-04,   1.67566633e-04,\n",
       "           1.67538559e-04,   1.67510495e-04,   1.67482440e-04,\n",
       "           1.67454394e-04,   1.67426358e-04,   1.67398331e-04,\n",
       "           1.67370313e-04,   1.67342305e-04,   1.41920490e-04,\n",
       "           1.16500726e-04,   9.10830130e-05,   6.56673490e-05,\n",
       "           4.02537333e-05,   1.48421648e-05,  -1.05673576e-05,\n",
       "          -3.59748349e-05,  -6.13802682e-05,  -8.67836586e-05,\n",
       "          -8.67911906e-05,  -8.67987240e-05,  -8.68062587e-05,\n",
       "          -8.68137946e-05,  -8.68213319e-05,  -8.68288705e-05,\n",
       "          -8.68364104e-05,  -8.68439517e-05,  -8.68514942e-05,\n",
       "          -8.68590380e-05,  -8.68665832e-05,  -8.68741296e-05,\n",
       "          -8.68816774e-05,  -8.68892265e-05,  -8.68967769e-05,\n",
       "          -8.69043286e-05,  -8.69118816e-05,  -8.69194359e-05,\n",
       "          -8.69269916e-05,  -8.69345485e-05,  -8.69421068e-05,\n",
       "          -7.59209929e-05,  -6.48991780e-05,  -5.38766618e-05,\n",
       "          -4.28534443e-05,  -3.18295254e-05,  -2.08049048e-05,\n",
       "          -9.77958252e-06,   1.24644164e-06,   1.22731678e-05,\n",
       "           2.33005961e-05,   2.33000532e-05,   2.32995103e-05,\n",
       "           2.32989675e-05,   2.32984246e-05,   2.32978818e-05,\n",
       "           2.32973390e-05,   2.32967963e-05,   2.32962536e-05,\n",
       "           2.32957109e-05,   2.32951682e-05,   2.32946255e-05,\n",
       "           2.32940829e-05,   2.32935403e-05,   2.32929977e-05,\n",
       "           2.32924552e-05,   2.32919127e-05,   2.32913702e-05,\n",
       "           2.32908277e-05,   2.32902852e-05,   2.32897428e-05,\n",
       "           2.51457025e-05,   2.70015412e-05,   2.88572591e-05,\n",
       "           3.07128561e-05,   3.25683322e-05,   3.44236875e-05,\n",
       "           3.62789219e-05,   3.81340355e-05,   3.99890283e-05,\n",
       "           4.18439003e-05,   4.18421495e-05,   4.18403988e-05,\n",
       "           4.18386483e-05,   4.18368979e-05,   4.18351476e-05,\n",
       "           4.18333975e-05,   4.18316475e-05,   4.18298977e-05,\n",
       "           4.18281481e-05,   4.18263985e-05,   4.18246492e-05,\n",
       "           4.18228999e-05,   4.18211508e-05,   4.18194019e-05,\n",
       "           4.18176531e-05,   4.18159045e-05,   4.18141560e-05,\n",
       "           4.18124076e-05,   4.18106594e-05,   4.18089114e-05,\n",
       "           4.18071635e-05,   3.09809215e-05,   2.01544128e-05,\n",
       "           9.32763728e-06,  -1.49940507e-06,  -1.23267143e-05,\n",
       "          -2.31542906e-05,  -3.39821340e-05,  -4.48102445e-05,\n",
       "          -5.56386223e-05,  -6.64672673e-05,  -6.64716855e-05,\n",
       "          -6.64761043e-05,  -6.64805236e-05,  -6.64849436e-05,\n",
       "          -6.64893641e-05,  -6.64937853e-05,  -6.64982070e-05,\n",
       "          -6.65026293e-05,  -6.65070522e-05,  -6.65114757e-05,\n",
       "          -6.65158997e-05,  -6.65203244e-05,  -6.65247496e-05,\n",
       "          -6.65291755e-05,  -6.65336019e-05,  -6.65380289e-05,\n",
       "          -6.65424565e-05,  -6.65468847e-05,  -6.65513135e-05,\n",
       "          -6.65557429e-05,  -7.76210625e-05,  -8.86890795e-05,\n",
       "          -9.97597950e-05,  -1.10833210e-04,  -1.21909326e-04,\n",
       "          -1.32988143e-04,  -1.44069663e-04,  -1.55153887e-04,\n",
       "          -1.66240815e-04,  -1.77330450e-04,  -1.77361901e-04,\n",
       "          -1.77393364e-04,  -1.77424838e-04,  -1.77456323e-04,\n",
       "          -1.77487820e-04,  -1.77519327e-04,  -1.77550846e-04,\n",
       "          -1.77582376e-04,  -1.77613917e-04,  -1.77645469e-04,\n",
       "          -1.77677033e-04,  -1.77708607e-04,  -1.77740193e-04,\n",
       "          -1.77771791e-04,  -1.77803399e-04,  -1.77835019e-04,\n",
       "          -1.77866650e-04,  -1.77898292e-04,  -1.77929945e-04,\n",
       "          -1.77961610e-04,  -1.77993286e-04,  -1.48870265e-04,\n",
       "          -1.19745367e-04,  -9.06185879e-05,  -6.14899282e-05,\n",
       "          -3.23593859e-05,  -3.22695955e-06,   2.59073522e-05,\n",
       "           5.50435507e-05,   8.41816374e-05,   1.13321614e-04,\n",
       "           1.13308774e-04,   1.13295936e-04,   1.13283102e-04,\n",
       "           1.13270270e-04,   1.13257441e-04,   1.13244615e-04,\n",
       "           1.13231793e-04,   1.13218973e-04,   1.13206156e-04,\n",
       "           1.13193341e-04,   1.13180530e-04,   1.13167722e-04,\n",
       "           1.13154916e-04,   1.13142114e-04,   1.13129314e-04,\n",
       "           1.13116517e-04,   1.13103723e-04,   1.13090932e-04,\n",
       "           1.13078144e-04,   1.13065359e-04,   1.13052577e-04,\n",
       "           1.03075833e-04,   9.31003510e-05,   8.31261302e-05,\n",
       "           7.31531702e-05,   6.31814707e-05,   5.32110316e-05,\n",
       "           4.32418525e-05,   3.32739330e-05,   2.33072730e-05,\n",
       "           1.33418722e-05,   1.33416941e-05,   1.33415161e-05,\n",
       "           1.33413382e-05,   1.33411602e-05,   1.33409822e-05,\n",
       "           1.33408042e-05,   1.33406262e-05,   1.33404483e-05,\n",
       "           1.33402703e-05,   1.33400923e-05,   1.33399144e-05,\n",
       "           1.33397364e-05,   1.33395585e-05,   1.33393805e-05,\n",
       "           1.33392026e-05,   1.33390247e-05,   1.33388467e-05,\n",
       "           1.33386688e-05,   1.33384909e-05,   1.33383130e-05,\n",
       "           7.10690934e-07,  -1.19181890e-05,  -2.45483270e-05,\n",
       "          -3.71797234e-05,  -4.98123785e-05,  -6.24462926e-05,\n",
       "          -7.50814659e-05,  -8.77178989e-05,  -1.00355592e-04,\n",
       "          -1.12994545e-04,  -1.13007314e-04,  -1.13020086e-04,\n",
       "          -1.13032861e-04,  -1.13045639e-04,  -1.13058420e-04,\n",
       "          -1.13071203e-04,  -1.13083990e-04,  -1.13096779e-04,\n",
       "          -1.13109571e-04,  -1.13122367e-04,  -1.13135165e-04,\n",
       "          -1.13147966e-04,  -1.13160770e-04,  -1.13173577e-04,\n",
       "          -1.13186386e-04,  -1.13199199e-04,  -1.13212014e-04,\n",
       "          -1.13224833e-04,  -1.13237654e-04,  -1.13250478e-04,\n",
       "          -1.13263305e-04,  -1.05623399e-04,  -9.79823467e-05,\n",
       "          -9.03401477e-05,  -8.26968019e-05,  -7.50523091e-05,\n",
       "          -6.74066689e-05,  -5.97598811e-05,  -5.21119454e-05,\n",
       "          -4.44628615e-05,  -3.68126292e-05,  -3.68139844e-05,\n",
       "          -3.68153397e-05,  -3.68166951e-05,  -3.68180506e-05,\n",
       "          -3.68194062e-05,  -3.68207620e-05,  -3.68221178e-05,\n",
       "          -3.68234737e-05,  -3.68248297e-05,  -3.68261858e-05,\n",
       "          -3.68275421e-05,  -3.68288984e-05,  -3.68302548e-05,\n",
       "          -3.68316113e-05,  -3.68329679e-05,  -3.68343246e-05,\n",
       "          -3.68356815e-05,  -3.68370384e-05,  -3.68383954e-05,\n",
       "          -3.68397525e-05,  -5.64965612e-05,  -7.61586832e-05,\n",
       "          -9.58261209e-05,  -1.15498877e-04,  -1.35176954e-04,\n",
       "          -1.54860354e-04,  -1.74549080e-04,  -1.94243135e-04,\n",
       "          -2.13942520e-04,  -2.33647240e-04,  -2.33701843e-04,\n",
       "          -2.33756473e-04,  -2.33811128e-04,  -2.33865808e-04,\n",
       "          -2.33920514e-04,  -2.33975246e-04,  -2.34030003e-04,\n",
       "          -2.34084786e-04,  -2.34139594e-04,  -2.34194429e-04,\n",
       "          -2.34249289e-04,  -2.34304174e-04,  -2.34359086e-04,\n",
       "          -2.34414023e-04,  -2.34468985e-04,  -2.34523974e-04,\n",
       "          -2.34578989e-04,  -2.34634029e-04,  -2.34689095e-04,\n",
       "          -2.34744187e-04,  -2.34799305e-04,  -2.06446192e-04,\n",
       "          -1.78087817e-04,  -1.49724176e-04,  -1.21355268e-04,\n",
       "          -9.29810884e-05,  -6.46016358e-05,  -3.62169074e-05,\n",
       "          -7.82690038e-06,   2.05683877e-05,   4.89689595e-05,\n",
       "           4.89665617e-05,   4.89641641e-05,   4.89617667e-05,\n",
       "           4.89593696e-05,   4.89569727e-05,   4.89545760e-05,\n",
       "           4.89521796e-05,   4.89497834e-05,   4.89473874e-05,\n",
       "           4.89449917e-05,   4.89425962e-05,   4.89402009e-05,\n",
       "           4.89378059e-05,   4.89354111e-05,   4.89330166e-05,\n",
       "           4.89306222e-05,   4.89282281e-05,   4.89258343e-05,\n",
       "           4.89234407e-05,   4.89210473e-05,   4.89186541e-05,\n",
       "           5.76180665e-05,   6.63158711e-05,   7.50120682e-05,\n",
       "           8.37066584e-05,   9.23996422e-05,   1.01091020e-04,\n",
       "           1.09780792e-04,   1.18468960e-04,   1.27155523e-04,\n",
       "           1.35840481e-04,   1.35822031e-04,   1.35803586e-04,\n",
       "           1.35785146e-04,   1.35766711e-04,   1.35748281e-04,\n",
       "           1.35729856e-04,   1.35711436e-04,   1.35693020e-04,\n",
       "           1.35674610e-04,   1.35656205e-04,   1.35637805e-04,\n",
       "           1.35619410e-04,   1.35601020e-04,   1.35582635e-04,\n",
       "           1.35564255e-04,   1.35545879e-04,   1.35527509e-04,\n",
       "           1.35509144e-04,   1.35490784e-04,   1.29727598e-04,\n",
       "           1.23965642e-04,   1.18204916e-04,   1.12445420e-04,\n",
       "           1.06687153e-04,   1.00930114e-04,   9.51743043e-05,\n",
       "           8.94197221e-05,   8.36663674e-05,   7.79142398e-05,\n",
       "           7.79081697e-05,   7.79021004e-05,   7.78960322e-05,\n",
       "           7.78899649e-05,   7.78838985e-05,   7.78778331e-05,\n",
       "           7.78717686e-05,   7.78657050e-05,   7.78596424e-05,\n",
       "           7.78535808e-05,   7.78475201e-05,   7.78414603e-05,\n",
       "           7.78354015e-05,   7.78293436e-05,   7.78232867e-05,\n",
       "           7.78172307e-05,   7.78111756e-05,   7.78051215e-05,\n",
       "           7.77990684e-05,   7.77930161e-05,   7.77869648e-05,\n",
       "           7.46923649e-05,   7.15981508e-05,   6.85043224e-05,\n",
       "           6.54108797e-05,   6.23178226e-05,   5.92251509e-05,\n",
       "           5.61328647e-05,   5.30409639e-05,   4.99494484e-05,\n",
       "           4.68583180e-05,   4.68561224e-05,   4.68539270e-05,\n",
       "           4.68517319e-05,   4.68495369e-05,   4.68473421e-05,\n",
       "           4.68451475e-05,   4.68429532e-05,   4.68407590e-05,\n",
       "           4.68385650e-05,   4.68363713e-05,   4.68341778e-05,\n",
       "           4.68319844e-05,   4.68297913e-05,   4.68275984e-05,\n",
       "           4.68254056e-05,   4.68232131e-05,   4.68210208e-05,\n",
       "           4.68188287e-05,   4.68166368e-05,   4.68144451e-05,\n",
       "           4.31025708e-05,   3.93909063e-05,   3.56794517e-05,\n",
       "           3.19682068e-05,   2.82571716e-05,   2.45463462e-05,\n",
       "           2.08357305e-05,   1.71253246e-05,   1.34151283e-05,\n",
       "           9.70514163e-06,   9.70504744e-06,   9.70495325e-06,\n",
       "           9.70485907e-06,   9.70476489e-06,   9.70467070e-06,\n",
       "           9.70457652e-06,   9.70448235e-06,   9.70438817e-06,\n",
       "           9.70429400e-06,   9.70419982e-06,   9.70410565e-06,\n",
       "           9.70401148e-06,   9.70391732e-06,   9.70382315e-06,\n",
       "           9.70372899e-06,   9.70363483e-06,   9.70354067e-06,\n",
       "           9.70344651e-06,   9.70335235e-06,   9.70325820e-06,\n",
       "           9.70316405e-06,   6.05918720e-06,   2.41514828e-06,\n",
       "          -1.22895270e-06,  -4.87311577e-06,  -8.51734091e-06,\n",
       "          -1.21616281e-05,  -1.58059775e-05,  -1.94503889e-05,\n",
       "          -2.30948624e-05,  -2.67393980e-05,  -2.67401130e-05,\n",
       "          -2.67408281e-05,  -2.67415431e-05,  -2.67422583e-05,\n",
       "          -2.67429734e-05,  -2.67436886e-05,  -2.67444039e-05,\n",
       "          -2.67451192e-05,  -2.67458345e-05,  -2.67465499e-05,\n",
       "          -2.67472653e-05,  -2.67479807e-05,  -2.67486962e-05,\n",
       "          -2.67494117e-05,  -2.67501272e-05,  -2.67508428e-05,\n",
       "          -2.67515584e-05,  -2.67522741e-05,  -2.67529898e-05,\n",
       "          -2.67537055e-05,  -2.56970629e-05,  -2.46403748e-05,\n",
       "          -2.35836414e-05,  -2.25268626e-05,  -2.14700384e-05,\n",
       "          -2.04131689e-05,  -1.93562540e-05,  -1.82992936e-05,\n",
       "          -1.72422879e-05,  -1.61852368e-05,  -1.61854988e-05,\n",
       "          -1.61857608e-05,  -1.61860228e-05,  -1.61862847e-05,\n",
       "          -1.61865467e-05,  -1.61868088e-05,  -1.61870708e-05,\n",
       "          -1.61873328e-05,  -1.61875948e-05,  -1.61878569e-05,\n",
       "          -1.61881189e-05,  -1.61883810e-05,  -1.61886431e-05,\n",
       "          -1.61889051e-05,  -1.61891672e-05,  -1.61894293e-05,\n",
       "          -1.61896914e-05,  -1.61899535e-05,  -1.61902156e-05,\n",
       "          -1.61904778e-05,  -1.61907399e-05,  -1.45717839e-05,\n",
       "          -1.29528016e-05,  -1.13337932e-05,  -9.71475851e-06,\n",
       "          -8.09569763e-06,  -6.47661053e-06,  -4.85749722e-06,\n",
       "          -3.23835770e-06,  -1.61919196e-06,   0.00000000e+00,\n",
       "           0.00000000e+00,   0.00000000e+00,   0.00000000e+00,\n",
       "           0.00000000e+00,   0.00000000e+00,   0.00000000e+00,\n",
       "           0.00000000e+00,   0.00000000e+00,   0.00000000e+00,\n",
       "           0.00000000e+00,   0.00000000e+00,   0.00000000e+00,\n",
       "           0.00000000e+00,   0.00000000e+00,   0.00000000e+00,\n",
       "           0.00000000e+00,   0.00000000e+00,   0.00000000e+00,\n",
       "           0.00000000e+00,   0.00000000e+00,   0.00000000e+00,\n",
       "           0.00000000e+00,   0.00000000e+00,   0.00000000e+00,\n",
       "           0.00000000e+00,   0.00000000e+00,   0.00000000e+00,\n",
       "           0.00000000e+00,   0.00000000e+00,   0.00000000e+00,\n",
       "           0.00000000e+00,   0.00000000e+00,   0.00000000e+00,\n",
       "           0.00000000e+00,   0.00000000e+00,   0.00000000e+00,\n",
       "           0.00000000e+00,   0.00000000e+00,   0.00000000e+00,\n",
       "           0.00000000e+00,   0.00000000e+00,   0.00000000e+00,\n",
       "           0.00000000e+00,   0.00000000e+00,   0.00000000e+00,\n",
       "           0.00000000e+00,   0.00000000e+00,   0.00000000e+00,\n",
       "           0.00000000e+00,   0.00000000e+00,   0.00000000e+00])),\n",
       " (u'FRED_00XALCFIM086NEST',\n",
       "  array([  0.00000000e+00,   0.00000000e+00,   0.00000000e+00,\n",
       "           0.00000000e+00,   0.00000000e+00,   0.00000000e+00,\n",
       "           0.00000000e+00,   0.00000000e+00,   0.00000000e+00,\n",
       "           0.00000000e+00,   0.00000000e+00,   0.00000000e+00,\n",
       "           0.00000000e+00,   0.00000000e+00,   0.00000000e+00,\n",
       "           0.00000000e+00,   0.00000000e+00,   0.00000000e+00,\n",
       "           0.00000000e+00,   0.00000000e+00,   0.00000000e+00,\n",
       "           0.00000000e+00,   1.46707315e-05,   2.93393111e-05,\n",
       "           4.40057393e-05,   5.86700167e-05,   7.33321441e-05,\n",
       "           8.79921220e-05,   1.02649951e-04,   1.17305632e-04,\n",
       "           1.31959165e-04,   1.46610552e-04,   1.46589060e-04,\n",
       "           1.46567575e-04,   1.46546096e-04,   1.46524623e-04,\n",
       "           1.46503157e-04,   1.46481697e-04,   1.46460243e-04,\n",
       "           1.46438796e-04,   1.46417355e-04,   1.46395920e-04,\n",
       "           1.46374491e-04,   1.46353069e-04,   1.46331653e-04,\n",
       "           1.46310243e-04,   1.46288839e-04,   1.46267442e-04,\n",
       "           1.46246051e-04,   1.46224666e-04,   1.32558192e-04,\n",
       "           1.18893848e-04,   1.05231636e-04,   9.15715535e-05,\n",
       "           7.79136006e-05,   6.42577766e-05,   5.06040807e-05,\n",
       "           3.69525124e-05,   2.33030712e-05,   9.65575621e-06,\n",
       "           9.65566297e-06,   9.65556974e-06,   9.65547651e-06,\n",
       "           9.65538329e-06,   9.65529006e-06,   9.65519684e-06,\n",
       "           9.65510361e-06,   9.65501039e-06,   9.65491718e-06,\n",
       "           9.65482396e-06,   9.65473075e-06,   9.65463753e-06,\n",
       "           9.65454432e-06,   9.65445111e-06,   9.65435790e-06,\n",
       "           9.65426470e-06,   9.65417149e-06,   9.65407829e-06,\n",
       "           9.65398509e-06,   9.65389189e-06,   9.65379870e-06,\n",
       "           4.69835195e-06,  -2.57244685e-07,  -5.21299122e-06,\n",
       "          -1.01688877e-05,  -1.51249341e-05,  -2.00811304e-05,\n",
       "          -2.50374766e-05,  -2.99939729e-05,  -3.49506191e-05,\n",
       "          -3.99074153e-05,  -3.99090080e-05,  -3.99106008e-05,\n",
       "          -3.99121937e-05,  -3.99137867e-05,  -3.99153799e-05,\n",
       "          -3.99169732e-05,  -3.99185666e-05,  -3.99201602e-05,\n",
       "          -3.99217539e-05,  -3.99233477e-05,  -3.99249416e-05,\n",
       "          -3.99265357e-05,  -3.99281299e-05,  -3.99297242e-05,\n",
       "          -3.99313187e-05,  -3.99329132e-05,  -3.99345079e-05,\n",
       "          -3.99361028e-05,  -3.99376977e-05,  -3.99392928e-05,\n",
       "          -3.53017576e-05,  -3.06640671e-05,  -2.60262212e-05,\n",
       "          -2.13882200e-05,  -1.67500635e-05,  -1.21117516e-05,\n",
       "          -7.47328433e-06,  -2.83466166e-06,   1.80411640e-06,\n",
       "           6.44304988e-06,   6.44300837e-06,   6.44296686e-06,\n",
       "           6.44292535e-06,   6.44288384e-06,   6.44284233e-06,\n",
       "           6.44280082e-06,   6.44275931e-06,   6.44271780e-06,\n",
       "           6.44267629e-06,   6.44263478e-06,   6.44259327e-06,\n",
       "           6.44255177e-06,   6.44251026e-06,   6.44246876e-06,\n",
       "           6.44242725e-06,   6.44238575e-06,   6.44234424e-06,\n",
       "           6.44230274e-06,   6.44226124e-06,   6.44221973e-06,\n",
       "           6.44217823e-06,  -5.85125115e-06,  -1.81460336e-05,\n",
       "          -3.04421693e-05,  -4.27396588e-05,  -5.50385023e-05,\n",
       "          -6.73387000e-05,  -7.96402524e-05,  -9.19431598e-05,\n",
       "          -1.04247422e-04,  -1.16553041e-04,  -1.16566627e-04,\n",
       "          -1.16580216e-04,  -1.16593809e-04,  -1.16607404e-04,\n",
       "          -1.16621003e-04,  -1.16634605e-04,  -1.16648210e-04,\n",
       "          -1.16661819e-04,  -1.16675430e-04,  -1.16689045e-04,\n",
       "          -1.16702663e-04,  -1.16716284e-04,  -1.16729908e-04,\n",
       "          -1.16743536e-04,  -1.16757167e-04,  -1.16770800e-04,\n",
       "          -1.16784437e-04,  -1.16798078e-04,  -1.16811721e-04,\n",
       "          -1.16825368e-04,  -1.03532835e-04,  -9.02389652e-05,\n",
       "          -7.69437575e-05,  -6.36472118e-05,  -5.03493277e-05,\n",
       "          -3.70501049e-05,  -2.37495431e-05,  -1.04476419e-05,\n",
       "           2.85559893e-06,   1.61601797e-05,   1.61599186e-05,\n",
       "           1.61596575e-05,   1.61593963e-05,   1.61591352e-05,\n",
       "           1.61588741e-05,   1.61586130e-05,   1.61583519e-05,\n",
       "           1.61580908e-05,   1.61578297e-05,   1.61575686e-05,\n",
       "           1.61573076e-05,   1.61570465e-05,   1.61567855e-05,\n",
       "           1.61565244e-05,   1.61562634e-05,   1.61560024e-05,\n",
       "           1.61557414e-05,   1.61554804e-05,   1.61552194e-05,\n",
       "           1.61549584e-05,   1.61546974e-05,   1.97081541e-05,\n",
       "           2.32613697e-05,   2.68143443e-05,   3.03670779e-05,\n",
       "           3.39195704e-05,   3.74718220e-05,   4.10238327e-05,\n",
       "           4.45756024e-05,   4.81271313e-05,   5.16784193e-05,\n",
       "           5.16757487e-05,   5.16730785e-05,   5.16704085e-05,\n",
       "           5.16677388e-05,   5.16650694e-05,   5.16624003e-05,\n",
       "           5.16597314e-05,   5.16570628e-05,   5.16543945e-05,\n",
       "           5.16517265e-05,   5.16490587e-05,   5.16463912e-05,\n",
       "           5.16437240e-05,   5.16410571e-05,   5.16383904e-05,\n",
       "           5.16357240e-05,   5.16330579e-05,   5.16303921e-05,\n",
       "           5.16277265e-05,   5.16250612e-05,   5.16223962e-05,\n",
       "           5.24583573e-05,   5.32942251e-05,   5.41299996e-05,\n",
       "           5.49656808e-05,   5.58012687e-05,   5.66367634e-05,\n",
       "           5.74721648e-05,   5.83074731e-05,   5.91426881e-05,\n",
       "           5.99778100e-05,   5.99742129e-05,   5.99706162e-05,\n",
       "           5.99670199e-05,   5.99634241e-05,   5.99598287e-05,\n",
       "           5.99562337e-05,   5.99526392e-05,   5.99490451e-05,\n",
       "           5.99454514e-05,   5.99418582e-05,   5.99382654e-05,\n",
       "           5.99346730e-05,   5.99310810e-05,   5.99274895e-05,\n",
       "           5.99238984e-05,   5.99203078e-05,   5.99167175e-05,\n",
       "           5.99131277e-05,   5.99095384e-05,   5.99059494e-05,\n",
       "           5.26258637e-05,   4.53461204e-05,   3.80667195e-05,\n",
       "           3.07876610e-05,   2.35089449e-05,   1.62305710e-05,\n",
       "           8.95253932e-06,   1.67484987e-06,  -5.60249742e-06,\n",
       "          -1.28795026e-05,  -1.28796685e-05,  -1.28798344e-05,\n",
       "          -1.28800003e-05,  -1.28801662e-05,  -1.28803321e-05,\n",
       "          -1.28804980e-05,  -1.28806639e-05,  -1.28808298e-05,\n",
       "          -1.28809957e-05,  -1.28811616e-05,  -1.28813276e-05,\n",
       "          -1.28814935e-05,  -1.28816594e-05,  -1.28818254e-05,\n",
       "          -1.28819913e-05,  -1.28821573e-05,  -1.28823232e-05,\n",
       "          -1.28824892e-05,  -1.28826551e-05,  -1.28828211e-05,\n",
       "          -1.28829871e-05,  -1.72529424e-05,  -2.16232014e-05,\n",
       "          -2.59937639e-05,  -3.03646301e-05,  -3.47358000e-05,\n",
       "          -3.91072736e-05,  -4.34790510e-05,  -4.78511321e-05,\n",
       "          -5.22235171e-05,  -5.65962059e-05,  -5.65994092e-05,\n",
       "          -5.66026129e-05,  -5.66058169e-05,  -5.66090213e-05,\n",
       "          -5.66122261e-05,  -5.66154312e-05,  -5.66186367e-05,\n",
       "          -5.66218425e-05,  -5.66250488e-05,  -5.66282553e-05,\n",
       "          -5.66314623e-05,  -5.66346696e-05,  -5.66378772e-05,\n",
       "          -5.66410853e-05,  -5.66442937e-05,  -5.66475024e-05,\n",
       "          -5.66507115e-05,  -5.66539210e-05,  -5.66571309e-05,\n",
       "          -5.66603411e-05,  -6.71280102e-05,  -7.75979612e-05,\n",
       "          -8.80701951e-05,  -9.85447127e-05,  -1.09021515e-04,\n",
       "          -1.19500602e-04,  -1.29981975e-04,  -1.40465635e-04,\n",
       "          -1.50951583e-04,  -1.61439819e-04,  -1.61465886e-04,\n",
       "          -1.61491962e-04,  -1.61518046e-04,  -1.61544138e-04,\n",
       "          -1.61570239e-04,  -1.61596348e-04,  -1.61622465e-04,\n",
       "          -1.61648591e-04,  -1.61674726e-04,  -1.61700869e-04,\n",
       "          -1.61727020e-04,  -1.61753180e-04,  -1.61779349e-04,\n",
       "          -1.61805525e-04,  -1.61831711e-04,  -1.61857904e-04,\n",
       "          -1.61884107e-04,  -1.61910317e-04,  -1.61936536e-04,\n",
       "          -1.61962764e-04,  -1.61989000e-04,  -1.40289367e-04,\n",
       "          -1.18587417e-04,  -9.68831499e-05,  -7.51765638e-05,\n",
       "          -5.34676583e-05,  -3.17564324e-05,  -1.00428854e-05,\n",
       "           1.16729837e-05,   3.33911758e-05,   5.51116917e-05,\n",
       "           5.51086546e-05,   5.51056178e-05,   5.51025813e-05,\n",
       "           5.50995452e-05,   5.50965094e-05,   5.50934739e-05,\n",
       "           5.50904388e-05,   5.50874040e-05,   5.50843696e-05,\n",
       "           5.50813354e-05,   5.50783017e-05,   5.50752682e-05,\n",
       "           5.50722351e-05,   5.50692023e-05,   5.50661699e-05,\n",
       "           5.50631377e-05,   5.50601060e-05,   5.50570745e-05,\n",
       "           5.50540434e-05,   5.50510126e-05,   5.50479822e-05,\n",
       "           6.78818724e-05,   8.07127028e-05,   9.35404746e-05,\n",
       "           1.06365189e-04,   1.19186847e-04,   1.32005450e-04,\n",
       "           1.44821000e-04,   1.57633497e-04,   1.70442942e-04,\n",
       "           1.83249337e-04,   1.83215763e-04,   1.83182201e-04,\n",
       "           1.83148652e-04,   1.83115114e-04,   1.83081589e-04,\n",
       "           1.83048077e-04,   1.83014576e-04,   1.82981088e-04,\n",
       "           1.82947612e-04,   1.82914148e-04,   1.82880697e-04,\n",
       "           1.82847257e-04,   1.82813830e-04,   1.82780416e-04,\n",
       "           1.82747013e-04,   1.82713623e-04,   1.82680244e-04,\n",
       "           1.82646879e-04,   1.82613525e-04,   1.74319191e-04,\n",
       "           1.66027200e-04,   1.57737552e-04,   1.49450245e-04,\n",
       "           1.41165278e-04,   1.32882651e-04,   1.24602362e-04,\n",
       "           1.16324410e-04,   1.08048794e-04,   9.97755133e-05,\n",
       "           9.97655591e-05,   9.97556070e-05,   9.97456568e-05,\n",
       "           9.97357086e-05,   9.97257624e-05,   9.97158181e-05,\n",
       "           9.97058759e-05,   9.96959356e-05,   9.96859973e-05,\n",
       "           9.96760610e-05,   9.96661267e-05,   9.96561943e-05,\n",
       "           9.96462640e-05,   9.96363356e-05,   9.96264092e-05,\n",
       "           9.96164847e-05,   9.96065623e-05,   9.95966418e-05,\n",
       "           9.95867233e-05,   9.95768068e-05,   9.95668922e-05,\n",
       "           8.69520770e-05,   7.43381835e-05,   6.17252115e-05,\n",
       "           4.91131609e-05,   3.65020313e-05,   2.38918227e-05,\n",
       "           1.12825348e-05,  -1.32583255e-06,  -1.39332796e-05,\n",
       "          -2.65398065e-05,  -2.65405109e-05,  -2.65412153e-05,\n",
       "          -2.65419198e-05,  -2.65426243e-05,  -2.65433288e-05,\n",
       "          -2.65440334e-05,  -2.65447380e-05,  -2.65454426e-05,\n",
       "          -2.65461473e-05,  -2.65468520e-05,  -2.65475568e-05,\n",
       "          -2.65482616e-05,  -2.65489664e-05,  -2.65496713e-05,\n",
       "          -2.65503762e-05,  -2.65510811e-05,  -2.65517861e-05,\n",
       "          -2.65524911e-05,  -2.65531962e-05,  -2.65539013e-05,\n",
       "          -2.19712476e-05,  -1.73885606e-05,  -1.28058403e-05,\n",
       "          -8.22308663e-06,  -3.64029960e-06,   9.42520794e-07,\n",
       "           5.52537456e-06,   1.01082617e-05,   1.46911822e-05,\n",
       "           1.92741361e-05,   1.92737646e-05,   1.92733931e-05,\n",
       "           1.92730217e-05,   1.92726502e-05,   1.92722788e-05,\n",
       "           1.92719074e-05,   1.92715360e-05,   1.92711646e-05,\n",
       "           1.92707932e-05,   1.92704219e-05,   1.92700505e-05,\n",
       "           1.92696792e-05,   1.92693079e-05,   1.92689366e-05,\n",
       "           1.92685653e-05,   1.92681941e-05,   1.92678228e-05,\n",
       "           1.92674516e-05,   1.92670803e-05,   1.92667091e-05,\n",
       "           1.92663379e-05,   9.04518719e-06,  -1.17661443e-06,\n",
       "          -1.13990671e-05,  -2.16221708e-05,  -3.18459258e-05,\n",
       "          -4.20703322e-05,  -5.22953900e-05,  -6.25210994e-05,\n",
       "          -7.27474605e-05,  -8.29744735e-05,  -8.29813588e-05,\n",
       "          -8.29882453e-05,  -8.29951329e-05,  -8.30020217e-05,\n",
       "          -8.30089116e-05,  -8.30158026e-05,  -8.30226948e-05,\n",
       "          -8.30295882e-05,  -8.30364826e-05,  -8.30433783e-05,\n",
       "          -8.30502751e-05,  -8.30571730e-05,  -8.30640720e-05,\n",
       "          -8.30709723e-05,  -8.30778736e-05,  -8.30847761e-05,\n",
       "          -8.30916798e-05,  -8.30985846e-05,  -8.31054905e-05,\n",
       "          -8.31123976e-05,  -7.31949030e-05,  -6.32767440e-05,\n",
       "          -5.33579204e-05,  -4.34384322e-05,  -3.35182793e-05,\n",
       "          -2.35974614e-05,  -1.36759786e-05,  -3.75383071e-06,\n",
       "           6.16898242e-06,   1.60924609e-05,   1.60922019e-05,\n",
       "           1.60919430e-05,   1.60916840e-05,   1.60914251e-05,\n",
       "           1.60911661e-05,   1.60909072e-05,   1.60906483e-05,\n",
       "           1.60903894e-05,   1.60901305e-05,   1.60898716e-05,\n",
       "           1.60896127e-05,   1.60893539e-05,   1.60890950e-05,\n",
       "           1.60888362e-05,   1.60885773e-05,   1.60883185e-05,\n",
       "           1.60880596e-05,   1.60878008e-05,   1.60875420e-05,\n",
       "           1.60872832e-05,   1.60870244e-05,   1.44782055e-05,\n",
       "           1.28694125e-05,   1.12606453e-05,   9.65190409e-06,\n",
       "           8.04318871e-06,   6.43449921e-06,   4.82583559e-06,\n",
       "           3.21719785e-06,   1.60858599e-06,   0.00000000e+00,\n",
       "           0.00000000e+00,   0.00000000e+00,   0.00000000e+00,\n",
       "           0.00000000e+00,   0.00000000e+00,   0.00000000e+00,\n",
       "           0.00000000e+00,   0.00000000e+00,   0.00000000e+00,\n",
       "           0.00000000e+00,   0.00000000e+00,   0.00000000e+00,\n",
       "           0.00000000e+00,   0.00000000e+00,   0.00000000e+00,\n",
       "           0.00000000e+00,   0.00000000e+00,   0.00000000e+00,\n",
       "           0.00000000e+00,   0.00000000e+00,   0.00000000e+00,\n",
       "           0.00000000e+00,   0.00000000e+00,   0.00000000e+00,\n",
       "           0.00000000e+00,   0.00000000e+00,   0.00000000e+00,\n",
       "           0.00000000e+00,   0.00000000e+00,   0.00000000e+00,\n",
       "           0.00000000e+00,   0.00000000e+00,   0.00000000e+00,\n",
       "           0.00000000e+00,   0.00000000e+00,   0.00000000e+00,\n",
       "           0.00000000e+00,   0.00000000e+00,   0.00000000e+00,\n",
       "           0.00000000e+00,   0.00000000e+00,   0.00000000e+00,\n",
       "           0.00000000e+00,   0.00000000e+00,   0.00000000e+00,\n",
       "           0.00000000e+00,   0.00000000e+00,   0.00000000e+00,\n",
       "           0.00000000e+00,   0.00000000e+00,   0.00000000e+00]))]"
      ]
     },
     "execution_count": 42,
     "metadata": {},
     "output_type": "execute_result"
    }
   ],
   "source": [
    "ma.take(2)"
   ]
  },
  {
   "cell_type": "code",
   "execution_count": 43,
   "metadata": {
    "collapsed": true
   },
   "outputs": [],
   "source": [
    "sh = rr.map(lambda row:  (row[0] + '_shift', np.nan_to_num(shifting(row[1], 1))))\n",
    "ma = rr.map(lambda row:  (row[0] + \"_mov_avg\", moving_average(row[1])))"
   ]
  },
  {
   "cell_type": "code",
   "execution_count": 44,
   "metadata": {
    "collapsed": false
   },
   "outputs": [
    {
     "data": {
      "text/plain": [
       "[(u'FRED_00XALCCHM086NEST_shift',\n",
       "  array([  0.00000000e+00,   2.46481046e-22,   3.76158192e-37,\n",
       "          -1.50463277e-36,   3.00926554e-36,  -2.40741243e-35,\n",
       "           4.81482486e-35,  -2.88889492e-34,   7.70371978e-34,\n",
       "          -3.08148791e-33,   1.23259516e-32,  -4.93038066e-32,\n",
       "           1.97215226e-31,  -3.94430453e-31,   3.15544362e-30,\n",
       "          -1.26217745e-29,   3.78653235e-29,  -1.00974196e-28,\n",
       "           4.03896783e-28,  -2.42338070e-27,   6.46234854e-27,\n",
       "          -2.58493941e-26,   1.03397577e-25,  -4.13590306e-25,\n",
       "           8.27180613e-25,  -6.61744490e-24,   1.32348898e-23,\n",
       "          -7.94093388e-23,   3.17637355e-22,  -1.27054942e-21,\n",
       "           5.08219768e-21,  -6.77626358e-21,   1.67974725e-04,\n",
       "           1.67946514e-04,   1.67918313e-04,   1.67890121e-04,\n",
       "           1.67861939e-04,   1.67833766e-04,   1.67805603e-04,\n",
       "           1.67777449e-04,   1.67749304e-04,   1.67721169e-04,\n",
       "           1.67693043e-04,   1.67664927e-04,   1.67636820e-04,\n",
       "           1.67608723e-04,   1.67580635e-04,   1.67552556e-04,\n",
       "           1.67524487e-04,   1.67496427e-04,   1.67468377e-04,\n",
       "           1.67440336e-04,   1.67412304e-04,   1.67384282e-04,\n",
       "           1.67356269e-04,   1.67328266e-04,   1.67300272e-04,\n",
       "           1.67272287e-04,   1.67244312e-04,   1.67216346e-04,\n",
       "          -8.67497751e-05,  -8.67573013e-05,  -8.67648288e-05,\n",
       "          -8.67723575e-05,  -8.67798876e-05,  -8.67874190e-05,\n",
       "          -8.67949517e-05,  -8.68024858e-05,  -8.68100211e-05,\n",
       "          -8.68175577e-05,  -8.68250957e-05,  -8.68326349e-05,\n",
       "          -8.68401755e-05,  -8.68477174e-05,  -8.68552605e-05,\n",
       "          -8.68628050e-05,  -8.68703508e-05,  -8.68778979e-05,\n",
       "          -8.68854464e-05,  -8.68929961e-05,  -8.69005472e-05,\n",
       "          -8.69080995e-05,  -8.69156532e-05,  -8.69232082e-05,\n",
       "          -8.69307645e-05,  -8.69383221e-05,  -8.69458810e-05,\n",
       "          -8.69534413e-05,  -8.69610028e-05,  -8.69685657e-05,\n",
       "          -8.69761299e-05,   2.33030394e-05,   2.33024964e-05,\n",
       "           2.33019534e-05,   2.33014104e-05,   2.33008675e-05,\n",
       "           2.33003245e-05,   2.32997816e-05,   2.32992388e-05,\n",
       "           2.32986959e-05,   2.32981531e-05,   2.32976103e-05,\n",
       "           2.32970676e-05,   2.32965248e-05,   2.32959821e-05,\n",
       "           2.32954394e-05,   2.32948968e-05,   2.32943541e-05,\n",
       "           2.32938115e-05,   2.32932689e-05,   2.32927263e-05,\n",
       "           2.32921838e-05,   2.32916413e-05,   2.32910988e-05,\n",
       "           2.32905563e-05,   2.32900139e-05,   2.32894715e-05,\n",
       "           2.32889291e-05,   2.32883867e-05,   2.32878444e-05,\n",
       "           2.32873021e-05,   4.18517803e-05,   4.18500288e-05,\n",
       "           4.18482775e-05,   4.18465263e-05,   4.18447752e-05,\n",
       "           4.18430243e-05,   4.18412735e-05,   4.18395229e-05,\n",
       "           4.18377724e-05,   4.18360221e-05,   4.18342719e-05,\n",
       "           4.18325219e-05,   4.18307720e-05,   4.18290223e-05,\n",
       "           4.18272727e-05,   4.18255232e-05,   4.18237739e-05,\n",
       "           4.18220248e-05,   4.18202758e-05,   4.18185269e-05,\n",
       "           4.18167782e-05,   4.18150296e-05,   4.18132812e-05,\n",
       "           4.18115329e-05,   4.18097848e-05,   4.18080368e-05,\n",
       "           4.18062890e-05,   4.18045413e-05,   4.18027937e-05,\n",
       "           4.18010463e-05,   4.17992991e-05,  -6.64473903e-05,\n",
       "          -6.64518058e-05,  -6.64562220e-05,  -6.64606387e-05,\n",
       "          -6.64650560e-05,  -6.64694739e-05,  -6.64738924e-05,\n",
       "          -6.64783115e-05,  -6.64827311e-05,  -6.64871514e-05,\n",
       "          -6.64915722e-05,  -6.64959936e-05,  -6.65004156e-05,\n",
       "          -6.65048382e-05,  -6.65092614e-05,  -6.65136852e-05,\n",
       "          -6.65181096e-05,  -6.65225345e-05,  -6.65269601e-05,\n",
       "          -6.65313862e-05,  -6.65358129e-05,  -6.65402402e-05,\n",
       "          -6.65446681e-05,  -6.65490966e-05,  -6.65535257e-05,\n",
       "          -6.65579553e-05,  -6.65623856e-05,  -6.65668164e-05,\n",
       "          -6.65712479e-05,  -6.65756799e-05,  -1.77189009e-04,\n",
       "          -1.77220411e-04,  -1.77251823e-04,  -1.77283247e-04,\n",
       "          -1.77314682e-04,  -1.77346128e-04,  -1.77377585e-04,\n",
       "          -1.77409054e-04,  -1.77440533e-04,  -1.77472024e-04,\n",
       "          -1.77503526e-04,  -1.77535039e-04,  -1.77566563e-04,\n",
       "          -1.77598099e-04,  -1.77629645e-04,  -1.77661203e-04,\n",
       "          -1.77692772e-04,  -1.77724353e-04,  -1.77755944e-04,\n",
       "          -1.77787547e-04,  -1.77819161e-04,  -1.77850786e-04,\n",
       "          -1.77882423e-04,  -1.77914071e-04,  -1.77945730e-04,\n",
       "          -1.77977400e-04,  -1.78009082e-04,  -1.78040775e-04,\n",
       "          -1.78072479e-04,  -1.78104194e-04,  -1.78135921e-04,\n",
       "           1.13379419e-04,   1.13366566e-04,   1.13353715e-04,\n",
       "           1.13340868e-04,   1.13328023e-04,   1.13315181e-04,\n",
       "           1.13302342e-04,   1.13289506e-04,   1.13276673e-04,\n",
       "           1.13263843e-04,   1.13251016e-04,   1.13238192e-04,\n",
       "           1.13225370e-04,   1.13212552e-04,   1.13199736e-04,\n",
       "           1.13186923e-04,   1.13174114e-04,   1.13161307e-04,\n",
       "           1.13148503e-04,   1.13135701e-04,   1.13122903e-04,\n",
       "           1.13110108e-04,   1.13097315e-04,   1.13084526e-04,\n",
       "           1.13071739e-04,   1.13058955e-04,   1.13046175e-04,\n",
       "           1.13033397e-04,   1.13020621e-04,   1.13007849e-04,\n",
       "           1.12995080e-04,   1.33426732e-05,   1.33424952e-05,\n",
       "           1.33423172e-05,   1.33421391e-05,   1.33419611e-05,\n",
       "           1.33417831e-05,   1.33416051e-05,   1.33414271e-05,\n",
       "           1.33412491e-05,   1.33410712e-05,   1.33408932e-05,\n",
       "           1.33407152e-05,   1.33405372e-05,   1.33403593e-05,\n",
       "           1.33401813e-05,   1.33400033e-05,   1.33398254e-05,\n",
       "           1.33396474e-05,   1.33394695e-05,   1.33392916e-05,\n",
       "           1.33391136e-05,   1.33389357e-05,   1.33387578e-05,\n",
       "           1.33385798e-05,   1.33384019e-05,   1.33382240e-05,\n",
       "           1.33380461e-05,   1.33378682e-05,   1.33376903e-05,\n",
       "           1.33375124e-05,  -1.12937107e-04,  -1.12949863e-04,\n",
       "          -1.12962622e-04,  -1.12975384e-04,  -1.12988149e-04,\n",
       "          -1.13000917e-04,  -1.13013688e-04,  -1.13026461e-04,\n",
       "          -1.13039238e-04,  -1.13052017e-04,  -1.13064799e-04,\n",
       "          -1.13077584e-04,  -1.13090372e-04,  -1.13103163e-04,\n",
       "          -1.13115957e-04,  -1.13128753e-04,  -1.13141553e-04,\n",
       "          -1.13154355e-04,  -1.13167161e-04,  -1.13179969e-04,\n",
       "          -1.13192780e-04,  -1.13205594e-04,  -1.13218411e-04,\n",
       "          -1.13231231e-04,  -1.13244054e-04,  -1.13256880e-04,\n",
       "          -1.13269708e-04,  -1.13282540e-04,  -1.13295374e-04,\n",
       "          -1.13308211e-04,  -1.13321051e-04,  -3.68065315e-05,\n",
       "          -3.68078863e-05,  -3.68092411e-05,  -3.68105961e-05,\n",
       "          -3.68119512e-05,  -3.68133063e-05,  -3.68146616e-05,\n",
       "          -3.68160170e-05,  -3.68173724e-05,  -3.68187280e-05,\n",
       "          -3.68200837e-05,  -3.68214395e-05,  -3.68227953e-05,\n",
       "          -3.68241513e-05,  -3.68255074e-05,  -3.68268635e-05,\n",
       "          -3.68282198e-05,  -3.68295762e-05,  -3.68309326e-05,\n",
       "          -3.68322892e-05,  -3.68336459e-05,  -3.68350026e-05,\n",
       "          -3.68363595e-05,  -3.68377165e-05,  -3.68390735e-05,\n",
       "          -3.68404307e-05,  -3.68417880e-05,  -3.68431453e-05,\n",
       "          -3.68445028e-05,  -3.68458604e-05,  -2.33401733e-04,\n",
       "          -2.33456222e-04,  -2.33510737e-04,  -2.33565277e-04,\n",
       "          -2.33619842e-04,  -2.33674433e-04,  -2.33729050e-04,\n",
       "          -2.33783692e-04,  -2.33838359e-04,  -2.33893052e-04,\n",
       "          -2.33947771e-04,  -2.34002516e-04,  -2.34057286e-04,\n",
       "          -2.34112081e-04,  -2.34166902e-04,  -2.34221749e-04,\n",
       "          -2.34276622e-04,  -2.34331521e-04,  -2.34386445e-04,\n",
       "          -2.34441395e-04,  -2.34496370e-04,  -2.34551372e-04,\n",
       "          -2.34606399e-04,  -2.34661452e-04,  -2.34716531e-04,\n",
       "          -2.34771636e-04,  -2.34826766e-04,  -2.34881923e-04,\n",
       "          -2.34937105e-04,  -2.34992314e-04,  -2.35047548e-04,\n",
       "           4.89797518e-05,   4.89773529e-05,   4.89749542e-05,\n",
       "           4.89725558e-05,   4.89701576e-05,   4.89677596e-05,\n",
       "           4.89653619e-05,   4.89629644e-05,   4.89605672e-05,\n",
       "           4.89581701e-05,   4.89557734e-05,   4.89533768e-05,\n",
       "           4.89509805e-05,   4.89485844e-05,   4.89461886e-05,\n",
       "           4.89437929e-05,   4.89413976e-05,   4.89390024e-05,\n",
       "           4.89366075e-05,   4.89342128e-05,   4.89318184e-05,\n",
       "           4.89294242e-05,   4.89270302e-05,   4.89246365e-05,\n",
       "           4.89222430e-05,   4.89198497e-05,   4.89174567e-05,\n",
       "           4.89150639e-05,   4.89126713e-05,   4.89102790e-05,\n",
       "           4.89078869e-05,   1.35923548e-04,   1.35905076e-04,\n",
       "           1.35886608e-04,   1.35868145e-04,   1.35849688e-04,\n",
       "           1.35831235e-04,   1.35812787e-04,   1.35794345e-04,\n",
       "           1.35775907e-04,   1.35757474e-04,   1.35739047e-04,\n",
       "           1.35720624e-04,   1.35702207e-04,   1.35683794e-04,\n",
       "           1.35665387e-04,   1.35646984e-04,   1.35628586e-04,\n",
       "           1.35610194e-04,   1.35591806e-04,   1.35573423e-04,\n",
       "           1.35555046e-04,   1.35536673e-04,   1.35518305e-04,\n",
       "           1.35499943e-04,   1.35481585e-04,   1.35463232e-04,\n",
       "           1.35444884e-04,   1.35426542e-04,   1.35408204e-04,\n",
       "           7.79415633e-05,   7.79354889e-05,   7.79294154e-05,\n",
       "           7.79233429e-05,   7.79172713e-05,   7.79112007e-05,\n",
       "           7.79051310e-05,   7.78990623e-05,   7.78929945e-05,\n",
       "           7.78869277e-05,   7.78808618e-05,   7.78747968e-05,\n",
       "           7.78687328e-05,   7.78626697e-05,   7.78566076e-05,\n",
       "           7.78505464e-05,   7.78444862e-05,   7.78384269e-05,\n",
       "           7.78323685e-05,   7.78263111e-05,   7.78202547e-05,\n",
       "           7.78141991e-05,   7.78081446e-05,   7.78020909e-05,\n",
       "           7.77960382e-05,   7.77899865e-05,   7.77839357e-05,\n",
       "           7.77778858e-05,   7.77718369e-05,   7.77657889e-05,\n",
       "           7.77597418e-05,   4.68681999e-05,   4.68660034e-05,\n",
       "           4.68638071e-05,   4.68616110e-05,   4.68594151e-05,\n",
       "           4.68572194e-05,   4.68550239e-05,   4.68528286e-05,\n",
       "           4.68506335e-05,   4.68484386e-05,   4.68462439e-05,\n",
       "           4.68440495e-05,   4.68418552e-05,   4.68396611e-05,\n",
       "           4.68374673e-05,   4.68352737e-05,   4.68330802e-05,\n",
       "           4.68308870e-05,   4.68286939e-05,   4.68265011e-05,\n",
       "           4.68243085e-05,   4.68221161e-05,   4.68199239e-05,\n",
       "           4.68177319e-05,   4.68155401e-05,   4.68133485e-05,\n",
       "           4.68111571e-05,   4.68089659e-05,   4.68067749e-05,\n",
       "           4.68045842e-05,   9.70556549e-06,   9.70547130e-06,\n",
       "           9.70537710e-06,   9.70528291e-06,   9.70518872e-06,\n",
       "           9.70509453e-06,   9.70500034e-06,   9.70490615e-06,\n",
       "           9.70481197e-06,   9.70471779e-06,   9.70462361e-06,\n",
       "           9.70452943e-06,   9.70443525e-06,   9.70434108e-06,\n",
       "           9.70424690e-06,   9.70415273e-06,   9.70405856e-06,\n",
       "           9.70396439e-06,   9.70387023e-06,   9.70377606e-06,\n",
       "           9.70368190e-06,   9.70358774e-06,   9.70349358e-06,\n",
       "           9.70339942e-06,   9.70330527e-06,   9.70321112e-06,\n",
       "           9.70311696e-06,   9.70302281e-06,   9.70292867e-06,\n",
       "           9.70283452e-06,   9.70274038e-06,  -2.67361807e-05,\n",
       "          -2.67368956e-05,  -2.67376105e-05,  -2.67383254e-05,\n",
       "          -2.67390403e-05,  -2.67397553e-05,  -2.67404704e-05,\n",
       "          -2.67411854e-05,  -2.67419005e-05,  -2.67426157e-05,\n",
       "          -2.67433309e-05,  -2.67440461e-05,  -2.67447614e-05,\n",
       "          -2.67454767e-05,  -2.67461920e-05,  -2.67469074e-05,\n",
       "          -2.67476228e-05,  -2.67483383e-05,  -2.67490538e-05,\n",
       "          -2.67497693e-05,  -2.67504849e-05,  -2.67512005e-05,\n",
       "          -2.67519161e-05,  -2.67526318e-05,  -2.67533475e-05,\n",
       "          -2.67540633e-05,  -2.67547791e-05,  -2.67554949e-05,\n",
       "          -2.67562108e-05,  -2.67569267e-05,  -1.61840581e-05,\n",
       "          -1.61843200e-05,  -1.61845819e-05,  -1.61848439e-05,\n",
       "          -1.61851058e-05,  -1.61853678e-05,  -1.61856298e-05,\n",
       "          -1.61858917e-05,  -1.61861537e-05,  -1.61864157e-05,\n",
       "          -1.61866777e-05,  -1.61869397e-05,  -1.61872018e-05,\n",
       "          -1.61874638e-05,  -1.61877258e-05,  -1.61879879e-05,\n",
       "          -1.61882499e-05,  -1.61885120e-05,  -1.61887741e-05,\n",
       "          -1.61890361e-05,  -1.61892982e-05,  -1.61895603e-05,\n",
       "          -1.61898224e-05,  -1.61900845e-05,  -1.61903467e-05,\n",
       "          -1.61906088e-05,  -1.61908709e-05,  -1.61911331e-05,\n",
       "          -1.61913952e-05,  -1.61916574e-05,  -1.61919196e-05,\n",
       "           7.41153829e-22,  -3.44107135e-22,   8.60267837e-23,\n",
       "          -2.81241408e-23,   3.92910791e-24,  -2.58493941e-24,\n",
       "           1.29246971e-25,  -1.09859925e-25,   4.84676140e-26,\n",
       "          -1.05013164e-26,   2.01948392e-27,  -8.58280665e-28,\n",
       "           1.89326617e-28,  -4.41762107e-29,   1.49883572e-29,\n",
       "          -1.57772181e-30,   1.13398755e-30,  -3.69778549e-31,\n",
       "           3.69778549e-32,  -2.38815313e-32,   3.27408091e-33,\n",
       "          -1.44444746e-33,   4.33334237e-34,  -7.82409040e-35,\n",
       "           1.12847458e-35,  -7.52316385e-36,   2.25694915e-36,\n",
       "          -5.52482345e-37,   4.11423023e-38,  -2.35098870e-38,\n",
       "           1.17549435e-38,  -2.75506488e-39,   5.05095229e-40,\n",
       "          -1.77931274e-40,   5.45273258e-41,  -2.15239444e-42,\n",
       "           5.91908471e-42,  -1.03135567e-42,   2.46628530e-43,\n",
       "          -6.44597294e-44,   2.03188277e-44,  -5.25486924e-45,\n",
       "           1.13855500e-45,  -3.83167549e-46,   6.56858655e-47,\n",
       "          -2.18952885e-47,   7.18439154e-48,  -1.71056941e-48,\n",
       "           2.45894353e-49,  -1.55020353e-49,   2.40548824e-50,\n",
       "          -1.06910588e-50,   2.17162133e-51,  -7.51715075e-52,\n",
       "           1.61827551e-52,  -2.61012179e-53,   2.08809743e-53,\n",
       "          -3.26265223e-54,   4.89397835e-55,  -2.03915765e-55]))]"
      ]
     },
     "execution_count": 44,
     "metadata": {},
     "output_type": "execute_result"
    }
   ],
   "source": [
    "sh.take(1)"
   ]
  },
  {
   "cell_type": "code",
   "execution_count": 45,
   "metadata": {
    "collapsed": false
   },
   "outputs": [],
   "source": [
    "total = sc.union([rr, ma, sh])"
   ]
  },
  {
   "cell_type": "code",
   "execution_count": 46,
   "metadata": {
    "collapsed": false
   },
   "outputs": [],
   "source": [
    "lenghts = total.map(lambda ts: len(ts[1]))"
   ]
  },
  {
   "cell_type": "code",
   "execution_count": 47,
   "metadata": {
    "collapsed": false
   },
   "outputs": [],
   "source": [
    "colLength = np.array(lenghts.collect())"
   ]
  },
  {
   "cell_type": "code",
   "execution_count": 48,
   "metadata": {
    "collapsed": false
   },
   "outputs": [
    {
     "data": {
      "text/plain": [
       "637"
      ]
     },
     "execution_count": 48,
     "metadata": {},
     "output_type": "execute_result"
    }
   ],
   "source": [
    "colLength.min()"
   ]
  },
  {
   "cell_type": "code",
   "execution_count": 49,
   "metadata": {
    "collapsed": false
   },
   "outputs": [
    {
     "data": {
      "text/plain": [
       "87"
      ]
     },
     "execution_count": 49,
     "metadata": {},
     "output_type": "execute_result"
    }
   ],
   "source": [
    "total.count()"
   ]
  },
  {
   "cell_type": "code",
   "execution_count": 50,
   "metadata": {
    "collapsed": false
   },
   "outputs": [],
   "source": [
    "from pyspark.mllib.linalg import Vectors\n",
    "total_df = total.map(lambda x: Row(symbol=x[0], feat=Vectors.dense(x[1]))).map(lambda x: [x[1], x[0]]).toDF([\"symbol\",\"feat\"])"
   ]
  },
  {
   "cell_type": "code",
   "execution_count": 51,
   "metadata": {
    "collapsed": false
   },
   "outputs": [
    {
     "name": "stdout",
     "output_type": "stream",
     "text": [
      "+--------------------+--------------------+\n",
      "|              symbol|                feat|\n",
      "+--------------------+--------------------+\n",
      "|FRED_00XALCCHM086...|[0.0,0.0,0.0,0.0,...|\n",
      "|FRED_00XALCFIM086...|[0.0,0.0,0.0,0.0,...|\n",
      "|FRED_00XALCHRM086...|[0.0,0.0,0.0,0.0,...|\n",
      "+--------------------+--------------------+\n",
      "only showing top 3 rows\n",
      "\n"
     ]
    }
   ],
   "source": [
    "total_df.show(3)"
   ]
  },
  {
   "cell_type": "code",
   "execution_count": 52,
   "metadata": {
    "collapsed": false
   },
   "outputs": [],
   "source": [
    "udfToArray = udf(lambda s: len(s), IntegerType())"
   ]
  },
  {
   "cell_type": "code",
   "execution_count": 53,
   "metadata": {
    "collapsed": false
   },
   "outputs": [
    {
     "name": "stdout",
     "output_type": "stream",
     "text": [
      "root\n",
      " |-- symbol: string (nullable = true)\n",
      " |-- feat: vector (nullable = true)\n",
      "\n"
     ]
    }
   ],
   "source": [
    "total_df.printSchema()"
   ]
  },
  {
   "cell_type": "code",
   "execution_count": 54,
   "metadata": {
    "collapsed": false
   },
   "outputs": [],
   "source": [
    "total_df= total_df.withColumn(\"length\",udfToArray(total_df.feat) )"
   ]
  },
  {
   "cell_type": "code",
   "execution_count": 55,
   "metadata": {
    "collapsed": false
   },
   "outputs": [
    {
     "name": "stdout",
     "output_type": "stream",
     "text": [
      "+--------------------+--------------------+------+\n",
      "|              symbol|                feat|length|\n",
      "+--------------------+--------------------+------+\n",
      "|FRED_00XALCCHM086...|[0.0,0.0,0.0,0.0,...|   639|\n",
      "|FRED_00XALCFIM086...|[0.0,0.0,0.0,0.0,...|   639|\n",
      "+--------------------+--------------------+------+\n",
      "only showing top 2 rows\n",
      "\n"
     ]
    }
   ],
   "source": [
    "total_df.show(2)"
   ]
  },
  {
   "cell_type": "code",
   "execution_count": 56,
   "metadata": {
    "collapsed": true
   },
   "outputs": [],
   "source": [
    "total_df_clean = total_df.filter(\"length=639\")"
   ]
  },
  {
   "cell_type": "code",
   "execution_count": 57,
   "metadata": {
    "collapsed": false
   },
   "outputs": [],
   "source": [
    "limited =  total_df_clean.map(lambda ts: [ts[0], filter(None,[float(l) for l in ts[1].toArray()])])"
   ]
  },
  {
   "cell_type": "code",
   "execution_count": 58,
   "metadata": {
    "collapsed": false
   },
   "outputs": [],
   "source": [
    "ts = limited.toDF([\"Symbol\", \"ts\"])"
   ]
  },
  {
   "cell_type": "code",
   "execution_count": 59,
   "metadata": {
    "collapsed": false
   },
   "outputs": [
    {
     "name": "stdout",
     "output_type": "stream",
     "text": [
      "+--------------------+--------------------+\n",
      "|              Symbol|                  ts|\n",
      "+--------------------+--------------------+\n",
      "|FRED_00XALCCHM086...|[1.67974725164832...|\n",
      "+--------------------+--------------------+\n",
      "only showing top 1 row\n",
      "\n"
     ]
    }
   ],
   "source": [
    "ts.show(1)"
   ]
  },
  {
   "cell_type": "code",
   "execution_count": 60,
   "metadata": {
    "collapsed": false
   },
   "outputs": [],
   "source": [
    "ts_exploded = ts.select([ts.Symbol,explode(ts.ts).alias(\"values\")])"
   ]
  },
  {
   "cell_type": "code",
   "execution_count": 61,
   "metadata": {
    "collapsed": false
   },
   "outputs": [
    {
     "name": "stdout",
     "output_type": "stream",
     "text": [
      "+--------------------+--------------------+\n",
      "|              Symbol|              values|\n",
      "+--------------------+--------------------+\n",
      "|FRED_00XALCCHM086...|1.679747251648322...|\n",
      "|FRED_00XALCCHM086...| 1.67946514395112E-4|\n",
      "|FRED_00XALCCHM086...|1.679183130998129...|\n",
      "|FRED_00XALCCHM086...|1.678901212738281...|\n",
      "|FRED_00XALCCHM086...|1.678619389124946...|\n",
      "|FRED_00XALCCHM086...|1.678337660111495...|\n",
      "|FRED_00XALCCHM086...|1.678056025649077...|\n",
      "|FRED_00XALCCHM086...|1.677774485691063...|\n",
      "|FRED_00XALCCHM086...|1.677493040188604...|\n",
      "|FRED_00XALCCHM086...|1.677211689095070...|\n",
      "+--------------------+--------------------+\n",
      "only showing top 10 rows\n",
      "\n"
     ]
    }
   ],
   "source": [
    "ts_exploded.show(10)"
   ]
  },
  {
   "cell_type": "code",
   "execution_count": 63,
   "metadata": {
    "collapsed": true
   },
   "outputs": [],
   "source": [
    "from pyspark.sql.functions import monotonicallyIncreasingId\n",
    "\n",
    "# This will return a new DF with all the columns + id\n",
    "res = ts_exploded.withColumn(\"index\", monotonicallyIncreasingId())"
   ]
  },
  {
   "cell_type": "code",
   "execution_count": 64,
   "metadata": {
    "collapsed": false
   },
   "outputs": [
    {
     "name": "stdout",
     "output_type": "stream",
     "text": [
      "+--------------------+--------------------+-----+\n",
      "|              Symbol|              values|index|\n",
      "+--------------------+--------------------+-----+\n",
      "|FRED_00XALCCHM086...|1.679747251648322...|    0|\n",
      "|FRED_00XALCCHM086...| 1.67946514395112E-4|    1|\n",
      "|FRED_00XALCCHM086...|1.679183130998129...|    2|\n",
      "|FRED_00XALCCHM086...|1.678901212738281...|    3|\n",
      "|FRED_00XALCCHM086...|1.678619389124946...|    4|\n",
      "|FRED_00XALCCHM086...|1.678337660111495...|    5|\n",
      "|FRED_00XALCCHM086...|1.678056025649077...|    6|\n",
      "|FRED_00XALCCHM086...|1.677774485691063...|    7|\n",
      "|FRED_00XALCCHM086...|1.677493040188604...|    8|\n",
      "|FRED_00XALCCHM086...|1.677211689095070...|    9|\n",
      "+--------------------+--------------------+-----+\n",
      "only showing top 10 rows\n",
      "\n"
     ]
    }
   ],
   "source": [
    "res.show(10)"
   ]
  },
  {
   "cell_type": "code",
   "execution_count": 65,
   "metadata": {
    "collapsed": false
   },
   "outputs": [],
   "source": [
    "pivoted = res.groupBy(\"index\").pivot(\"Symbol\").sum(\"values\")"
   ]
  },
  {
   "cell_type": "code",
   "execution_count": 71,
   "metadata": {
    "collapsed": false
   },
   "outputs": [
    {
     "ename": "AnalysisException",
     "evalue": "u\"Could not resolve window function 'row_number'. Note that, using window functions currently requires a HiveContext;\"",
     "output_type": "error",
     "traceback": [
      "\u001b[0;31m---------------------------------------------------------------------------\u001b[0m",
      "\u001b[0;31mAnalysisException\u001b[0m                         Traceback (most recent call last)",
      "\u001b[0;32m<ipython-input-71-b4df363f5eda>\u001b[0m in \u001b[0;36m<module>\u001b[0;34m()\u001b[0m\n\u001b[1;32m      6\u001b[0m            \u001b[0;34m.\u001b[0m\u001b[0morderBy\u001b[0m\u001b[0;34m(\u001b[0m\u001b[0mf\u001b[0m\u001b[0;34m.\u001b[0m\u001b[0mcol\u001b[0m\u001b[0;34m(\u001b[0m\u001b[0;34m\"index\"\u001b[0m\u001b[0;34m)\u001b[0m\u001b[0;34m.\u001b[0m\u001b[0mdesc\u001b[0m\u001b[0;34m(\u001b[0m\u001b[0;34m)\u001b[0m\u001b[0;34m)\u001b[0m\u001b[0;34m\u001b[0m\u001b[0m\n\u001b[1;32m      7\u001b[0m             )\n\u001b[0;32m----> 8\u001b[0;31m      \u001b[0;34m.\u001b[0m\u001b[0malias\u001b[0m\u001b[0;34m(\u001b[0m\u001b[0;34m\"rank\"\u001b[0m\u001b[0;34m)\u001b[0m\u001b[0;34m\u001b[0m\u001b[0m\n\u001b[0m\u001b[1;32m      9\u001b[0m     )\n",
      "\u001b[0;32m/Users/guillermobreto/Downloads/spark-1.6.1/python/pyspark/sql/dataframe.pyc\u001b[0m in \u001b[0;36mselect\u001b[0;34m(self, *cols)\u001b[0m\n\u001b[1;32m    860\u001b[0m         \u001b[0;34m[\u001b[0m\u001b[0mRow\u001b[0m\u001b[0;34m(\u001b[0m\u001b[0mname\u001b[0m\u001b[0;34m=\u001b[0m\u001b[0;34mu'Alice'\u001b[0m\u001b[0;34m,\u001b[0m \u001b[0mage\u001b[0m\u001b[0;34m=\u001b[0m\u001b[0;36m12\u001b[0m\u001b[0;34m)\u001b[0m\u001b[0;34m,\u001b[0m \u001b[0mRow\u001b[0m\u001b[0;34m(\u001b[0m\u001b[0mname\u001b[0m\u001b[0;34m=\u001b[0m\u001b[0;34mu'Bob'\u001b[0m\u001b[0;34m,\u001b[0m \u001b[0mage\u001b[0m\u001b[0;34m=\u001b[0m\u001b[0;36m15\u001b[0m\u001b[0;34m)\u001b[0m\u001b[0;34m]\u001b[0m\u001b[0;34m\u001b[0m\u001b[0m\n\u001b[1;32m    861\u001b[0m         \"\"\"\n\u001b[0;32m--> 862\u001b[0;31m         \u001b[0mjdf\u001b[0m \u001b[0;34m=\u001b[0m \u001b[0mself\u001b[0m\u001b[0;34m.\u001b[0m\u001b[0m_jdf\u001b[0m\u001b[0;34m.\u001b[0m\u001b[0mselect\u001b[0m\u001b[0;34m(\u001b[0m\u001b[0mself\u001b[0m\u001b[0;34m.\u001b[0m\u001b[0m_jcols\u001b[0m\u001b[0;34m(\u001b[0m\u001b[0;34m*\u001b[0m\u001b[0mcols\u001b[0m\u001b[0;34m)\u001b[0m\u001b[0;34m)\u001b[0m\u001b[0;34m\u001b[0m\u001b[0m\n\u001b[0m\u001b[1;32m    863\u001b[0m         \u001b[0;32mreturn\u001b[0m \u001b[0mDataFrame\u001b[0m\u001b[0;34m(\u001b[0m\u001b[0mjdf\u001b[0m\u001b[0;34m,\u001b[0m \u001b[0mself\u001b[0m\u001b[0;34m.\u001b[0m\u001b[0msql_ctx\u001b[0m\u001b[0;34m)\u001b[0m\u001b[0;34m\u001b[0m\u001b[0m\n\u001b[1;32m    864\u001b[0m \u001b[0;34m\u001b[0m\u001b[0m\n",
      "\u001b[0;32m/Users/guillermobreto/Downloads/spark-1.6.1/python/lib/py4j-0.9-src.zip/py4j/java_gateway.py\u001b[0m in \u001b[0;36m__call__\u001b[0;34m(self, *args)\u001b[0m\n\u001b[1;32m    811\u001b[0m         \u001b[0manswer\u001b[0m \u001b[0;34m=\u001b[0m \u001b[0mself\u001b[0m\u001b[0;34m.\u001b[0m\u001b[0mgateway_client\u001b[0m\u001b[0;34m.\u001b[0m\u001b[0msend_command\u001b[0m\u001b[0;34m(\u001b[0m\u001b[0mcommand\u001b[0m\u001b[0;34m)\u001b[0m\u001b[0;34m\u001b[0m\u001b[0m\n\u001b[1;32m    812\u001b[0m         return_value = get_return_value(\n\u001b[0;32m--> 813\u001b[0;31m             answer, self.gateway_client, self.target_id, self.name)\n\u001b[0m\u001b[1;32m    814\u001b[0m \u001b[0;34m\u001b[0m\u001b[0m\n\u001b[1;32m    815\u001b[0m         \u001b[0;32mfor\u001b[0m \u001b[0mtemp_arg\u001b[0m \u001b[0;32min\u001b[0m \u001b[0mtemp_args\u001b[0m\u001b[0;34m:\u001b[0m\u001b[0;34m\u001b[0m\u001b[0m\n",
      "\u001b[0;32m/Users/guillermobreto/Downloads/spark-1.6.1/python/pyspark/sql/utils.pyc\u001b[0m in \u001b[0;36mdeco\u001b[0;34m(*a, **kw)\u001b[0m\n\u001b[1;32m     49\u001b[0m                                              e.java_exception.getStackTrace()))\n\u001b[1;32m     50\u001b[0m             \u001b[0;32mif\u001b[0m \u001b[0ms\u001b[0m\u001b[0;34m.\u001b[0m\u001b[0mstartswith\u001b[0m\u001b[0;34m(\u001b[0m\u001b[0;34m'org.apache.spark.sql.AnalysisException: '\u001b[0m\u001b[0;34m)\u001b[0m\u001b[0;34m:\u001b[0m\u001b[0;34m\u001b[0m\u001b[0m\n\u001b[0;32m---> 51\u001b[0;31m                 \u001b[0;32mraise\u001b[0m \u001b[0mAnalysisException\u001b[0m\u001b[0;34m(\u001b[0m\u001b[0ms\u001b[0m\u001b[0;34m.\u001b[0m\u001b[0msplit\u001b[0m\u001b[0;34m(\u001b[0m\u001b[0;34m': '\u001b[0m\u001b[0;34m,\u001b[0m \u001b[0;36m1\u001b[0m\u001b[0;34m)\u001b[0m\u001b[0;34m[\u001b[0m\u001b[0;36m1\u001b[0m\u001b[0;34m]\u001b[0m\u001b[0;34m,\u001b[0m \u001b[0mstackTrace\u001b[0m\u001b[0;34m)\u001b[0m\u001b[0;34m\u001b[0m\u001b[0m\n\u001b[0m\u001b[1;32m     52\u001b[0m             \u001b[0;32mif\u001b[0m \u001b[0ms\u001b[0m\u001b[0;34m.\u001b[0m\u001b[0mstartswith\u001b[0m\u001b[0;34m(\u001b[0m\u001b[0;34m'java.lang.IllegalArgumentException: '\u001b[0m\u001b[0;34m)\u001b[0m\u001b[0;34m:\u001b[0m\u001b[0;34m\u001b[0m\u001b[0m\n\u001b[1;32m     53\u001b[0m                 \u001b[0;32mraise\u001b[0m \u001b[0mIllegalArgumentException\u001b[0m\u001b[0;34m(\u001b[0m\u001b[0ms\u001b[0m\u001b[0;34m.\u001b[0m\u001b[0msplit\u001b[0m\u001b[0;34m(\u001b[0m\u001b[0;34m': '\u001b[0m\u001b[0;34m,\u001b[0m \u001b[0;36m1\u001b[0m\u001b[0;34m)\u001b[0m\u001b[0;34m[\u001b[0m\u001b[0;36m1\u001b[0m\u001b[0;34m]\u001b[0m\u001b[0;34m,\u001b[0m \u001b[0mstackTrace\u001b[0m\u001b[0;34m)\u001b[0m\u001b[0;34m\u001b[0m\u001b[0m\n",
      "\u001b[0;31mAnalysisException\u001b[0m: u\"Could not resolve window function 'row_number'. Note that, using window functions currently requires a HiveContext;\""
     ]
    }
   ],
   "source": [
    "from pyspark.sql.window import Window\n",
    "ranked = res.select(\"Symbol\", \"index\", \"values\",\n",
    "     f.rowNumber()\n",
    "     .over(Window\n",
    "           .partitionBy(\"Symbol\")\n",
    "           .orderBy(f.col(\"index\").desc())\n",
    "            )\n",
    "     .alias(\"rank\")\n",
    "    )"
   ]
  },
  {
   "cell_type": "code",
   "execution_count": 68,
   "metadata": {
    "collapsed": false
   },
   "outputs": [
    {
     "name": "stdout",
     "output_type": "stream",
     "text": [
      "+-----+---------------------+---------------------------+\n",
      "|index|FRED_00XALCCHM086NEST|FRED_00XALCCHM086NEST_shift|\n",
      "+-----+---------------------+---------------------------+\n",
      "|   31| -8.67723575407319...|                       null|\n",
      "|  231| 1.333929155022950...|                       null|\n",
      "|  431| 4.685502386259088E-5|                       null|\n",
      "|  631|                 null|                       null|\n",
      "|  831|                 null|                       null|\n",
      "| 1031|                 null|                       null|\n",
      "| 1231|                 null|                       null|\n",
      "| 1431|                 null|                       null|\n",
      "| 1631|                 null|                       null|\n",
      "| 1831|                 null|                       null|\n",
      "| 2031|                 null|                       null|\n",
      "| 2231|                 null|                       null|\n",
      "| 2431|                 null|                       null|\n",
      "| 2631|                 null|                       null|\n",
      "| 2831|                 null|                       null|\n",
      "| 3031|                 null|                       null|\n",
      "| 3231|                 null|                       null|\n",
      "| 3431|                 null|                       null|\n",
      "| 3631|                 null|                       null|\n",
      "| 3831|                 null|                       null|\n",
      "+-----+---------------------+---------------------------+\n",
      "only showing top 20 rows\n",
      "\n"
     ]
    }
   ],
   "source": [
    "pivoted.select([\"index\",\"FRED_00XALCCHM086NEST\",\"FRED_00XALCCHM086NEST_shift\"]).show()"
   ]
  },
  {
   "cell_type": "code",
   "execution_count": 334,
   "metadata": {
    "collapsed": false
   },
   "outputs": [],
   "source": [
    "import datetime\n",
    "import pandas as pd\n",
    "import pandas.io.data\n",
    "from pandas import Series, DataFrame\n",
    "import matplotlib.pyplot as plt\n",
    "import matplotlib as mpl\n",
    "import numpy as np\n",
    "#from sklearn.ensemble import RandomForestClassifier\n",
    "%matplotlib inline\n",
    "plt.rcParams['figure.figsize'] = (10.0, 8.0)\n"
   ]
  },
  {
   "cell_type": "code",
   "execution_count": 335,
   "metadata": {
    "collapsed": true
   },
   "outputs": [],
   "source": [
    "start = datetime.datetime(2008, 1, 1)\n",
    "end = datetime.datetime(2014, 8, 15)\n",
    "#trim_start = '2000-01-01'\n",
    "#trim_end = '2014-08-15'\n"
   ]
  },
  {
   "cell_type": "code",
   "execution_count": 336,
   "metadata": {
    "collapsed": true
   },
   "outputs": [],
   "source": [
    "sp =  pd.io.data.get_data_yahoo('^GSPC', start, end)\n",
    "#sp.head(10)"
   ]
  },
  {
   "cell_type": "code",
   "execution_count": 337,
   "metadata": {
    "collapsed": false
   },
   "outputs": [
    {
     "data": {
      "text/plain": [
       "Index([u'Open_SP500', u'High_SP500', u'Low_SP500', u'Close_SP500',\n",
       "       u'Volume_SP500', u'AdjClose_SP500', u'Return_SP500'],\n",
       "      dtype='object')"
      ]
     },
     "execution_count": 337,
     "metadata": {},
     "output_type": "execute_result"
    }
   ],
   "source": [
    "sp.columns.values[-1] = 'AdjClose'\n",
    "sp.columns = sp.columns + '_SP500'\n",
    "sp['Return_SP500'] = sp['AdjClose_SP500'].pct_change()\n",
    "sp.columns"
   ]
  },
  {
   "cell_type": "code",
   "execution_count": 338,
   "metadata": {
    "collapsed": false
   },
   "outputs": [
    {
     "data": {
      "text/html": [
       "<div>\n",
       "<table border=\"1\" class=\"dataframe\">\n",
       "  <thead>\n",
       "    <tr style=\"text-align: right;\">\n",
       "      <th></th>\n",
       "      <th>Open_SP500</th>\n",
       "      <th>High_SP500</th>\n",
       "      <th>Low_SP500</th>\n",
       "      <th>Close_SP500</th>\n",
       "      <th>Volume_SP500</th>\n",
       "      <th>AdjClose_SP500</th>\n",
       "      <th>Return_SP500</th>\n",
       "    </tr>\n",
       "    <tr>\n",
       "      <th>Date</th>\n",
       "      <th></th>\n",
       "      <th></th>\n",
       "      <th></th>\n",
       "      <th></th>\n",
       "      <th></th>\n",
       "      <th></th>\n",
       "      <th></th>\n",
       "    </tr>\n",
       "  </thead>\n",
       "  <tbody>\n",
       "    <tr>\n",
       "      <th>2008-01-02</th>\n",
       "      <td>1467.969971</td>\n",
       "      <td>1471.770020</td>\n",
       "      <td>1442.069946</td>\n",
       "      <td>1447.160034</td>\n",
       "      <td>3452650000</td>\n",
       "      <td>1447.160034</td>\n",
       "      <td>NaN</td>\n",
       "    </tr>\n",
       "    <tr>\n",
       "      <th>2008-01-03</th>\n",
       "      <td>1447.550049</td>\n",
       "      <td>1456.800049</td>\n",
       "      <td>1443.729980</td>\n",
       "      <td>1447.160034</td>\n",
       "      <td>3429500000</td>\n",
       "      <td>1447.160034</td>\n",
       "      <td>0.000000</td>\n",
       "    </tr>\n",
       "    <tr>\n",
       "      <th>2008-01-04</th>\n",
       "      <td>1444.010010</td>\n",
       "      <td>1444.010010</td>\n",
       "      <td>1411.189941</td>\n",
       "      <td>1411.630005</td>\n",
       "      <td>4166000000</td>\n",
       "      <td>1411.630005</td>\n",
       "      <td>-0.024552</td>\n",
       "    </tr>\n",
       "    <tr>\n",
       "      <th>2008-01-07</th>\n",
       "      <td>1414.069946</td>\n",
       "      <td>1423.869995</td>\n",
       "      <td>1403.449951</td>\n",
       "      <td>1416.180054</td>\n",
       "      <td>4221260000</td>\n",
       "      <td>1416.180054</td>\n",
       "      <td>0.003223</td>\n",
       "    </tr>\n",
       "    <tr>\n",
       "      <th>2008-01-08</th>\n",
       "      <td>1415.709961</td>\n",
       "      <td>1430.280029</td>\n",
       "      <td>1388.300049</td>\n",
       "      <td>1390.189941</td>\n",
       "      <td>4705390000</td>\n",
       "      <td>1390.189941</td>\n",
       "      <td>-0.018352</td>\n",
       "    </tr>\n",
       "  </tbody>\n",
       "</table>\n",
       "</div>"
      ],
      "text/plain": [
       "             Open_SP500   High_SP500    Low_SP500  Close_SP500  Volume_SP500  \\\n",
       "Date                                                                           \n",
       "2008-01-02  1467.969971  1471.770020  1442.069946  1447.160034    3452650000   \n",
       "2008-01-03  1447.550049  1456.800049  1443.729980  1447.160034    3429500000   \n",
       "2008-01-04  1444.010010  1444.010010  1411.189941  1411.630005    4166000000   \n",
       "2008-01-07  1414.069946  1423.869995  1403.449951  1416.180054    4221260000   \n",
       "2008-01-08  1415.709961  1430.280029  1388.300049  1390.189941    4705390000   \n",
       "\n",
       "            AdjClose_SP500  Return_SP500  \n",
       "Date                                      \n",
       "2008-01-02     1447.160034           NaN  \n",
       "2008-01-03     1447.160034      0.000000  \n",
       "2008-01-04     1411.630005     -0.024552  \n",
       "2008-01-07     1416.180054      0.003223  \n",
       "2008-01-08     1390.189941     -0.018352  "
      ]
     },
     "execution_count": 338,
     "metadata": {},
     "output_type": "execute_result"
    }
   ],
   "source": []
  },
  {
   "cell_type": "code",
   "execution_count": 339,
   "metadata": {
    "collapsed": true
   },
   "outputs": [],
   "source": [
    "nasdaq =  pd.io.data.get_data_yahoo('^IXIC', start, end)\n",
    "#nasdaq.head()"
   ]
  },
  {
   "cell_type": "code",
   "execution_count": 340,
   "metadata": {
    "collapsed": false
   },
   "outputs": [
    {
     "data": {
      "text/plain": [
       "Index([u'Open_Nasdaq', u'High_Nasdaq', u'Low_Nasdaq', u'Close_Nasdaq',\n",
       "       u'Volume_Nasdaq', u'AdjClose_Nasdaq', u'Return_Nasdaq'],\n",
       "      dtype='object')"
      ]
     },
     "execution_count": 340,
     "metadata": {},
     "output_type": "execute_result"
    }
   ],
   "source": [
    "nasdaq.columns.values[-1] = 'AdjClose'\n",
    "nasdaq.columns = nasdaq.columns + '_Nasdaq'\n",
    "nasdaq['Return_Nasdaq'] = nasdaq['AdjClose_Nasdaq'].pct_change()\n",
    "nasdaq.columns"
   ]
  },
  {
   "cell_type": "code",
   "execution_count": 341,
   "metadata": {
    "collapsed": true
   },
   "outputs": [],
   "source": [
    "treasury =  pd.io.data.get_data_yahoo('^FVX', start, end)\n"
   ]
  },
  {
   "cell_type": "code",
   "execution_count": 342,
   "metadata": {
    "collapsed": false
   },
   "outputs": [
    {
     "data": {
      "text/plain": [
       "Index([u'Open_Treasury', u'High_Treasury', u'Low_Treasury', u'Close_Treasury',\n",
       "       u'Volume_Treasury', u'AdjClose_Treasury', u'Return_Treasury'],\n",
       "      dtype='object')"
      ]
     },
     "execution_count": 342,
     "metadata": {},
     "output_type": "execute_result"
    }
   ],
   "source": [
    "treasury.columns.values[-1] = 'AdjClose'\n",
    "treasury.columns = treasury.columns + '_Treasury'\n",
    "treasury['Return_Treasury'] = treasury['AdjClose_Treasury'].pct_change()\n",
    "treasury.columns"
   ]
  },
  {
   "cell_type": "code",
   "execution_count": 343,
   "metadata": {
    "collapsed": true
   },
   "outputs": [],
   "source": [
    "datasets = [sp, nasdaq, treasury]"
   ]
  },
  {
   "cell_type": "code",
   "execution_count": 344,
   "metadata": {
    "collapsed": true
   },
   "outputs": [],
   "source": [
    "\n",
    "to_be_merged = [nasdaq[['Return_Nasdaq']],\n",
    "                treasury[['Return_Treasury']],\n",
    "]\n",
    "                \n",
    "finance = sp[['Return_SP500']].join(to_be_merged, how = 'outer')"
   ]
  },
  {
   "cell_type": "code",
   "execution_count": 345,
   "metadata": {
    "collapsed": false
   },
   "outputs": [
    {
     "data": {
      "text/html": [
       "<div>\n",
       "<table border=\"1\" class=\"dataframe\">\n",
       "  <thead>\n",
       "    <tr style=\"text-align: right;\">\n",
       "      <th></th>\n",
       "      <th>Return_SP500</th>\n",
       "      <th>Return_Nasdaq</th>\n",
       "      <th>Return_Treasury</th>\n",
       "    </tr>\n",
       "    <tr>\n",
       "      <th>Date</th>\n",
       "      <th></th>\n",
       "      <th></th>\n",
       "      <th></th>\n",
       "    </tr>\n",
       "  </thead>\n",
       "  <tbody>\n",
       "    <tr>\n",
       "      <th>2008-01-02</th>\n",
       "      <td>NaN</td>\n",
       "      <td>NaN</td>\n",
       "      <td>NaN</td>\n",
       "    </tr>\n",
       "    <tr>\n",
       "      <th>2008-01-03</th>\n",
       "      <td>0.000000</td>\n",
       "      <td>-0.002663</td>\n",
       "      <td>-0.002140</td>\n",
       "    </tr>\n",
       "    <tr>\n",
       "      <th>2008-01-04</th>\n",
       "      <td>-0.024552</td>\n",
       "      <td>-0.037665</td>\n",
       "      <td>-0.029105</td>\n",
       "    </tr>\n",
       "    <tr>\n",
       "      <th>2008-01-07</th>\n",
       "      <td>0.003223</td>\n",
       "      <td>-0.002072</td>\n",
       "      <td>-0.003787</td>\n",
       "    </tr>\n",
       "    <tr>\n",
       "      <th>2008-01-08</th>\n",
       "      <td>-0.018352</td>\n",
       "      <td>-0.023585</td>\n",
       "      <td>0.000000</td>\n",
       "    </tr>\n",
       "  </tbody>\n",
       "</table>\n",
       "</div>"
      ],
      "text/plain": [
       "            Return_SP500  Return_Nasdaq  Return_Treasury\n",
       "Date                                                    \n",
       "2008-01-02           NaN            NaN              NaN\n",
       "2008-01-03      0.000000      -0.002663        -0.002140\n",
       "2008-01-04     -0.024552      -0.037665        -0.029105\n",
       "2008-01-07      0.003223      -0.002072        -0.003787\n",
       "2008-01-08     -0.018352      -0.023585         0.000000"
      ]
     },
     "execution_count": 345,
     "metadata": {},
     "output_type": "execute_result"
    }
   ],
   "source": [
    "finance.head()"
   ]
  },
  {
   "cell_type": "code",
   "execution_count": null,
   "metadata": {
    "collapsed": true
   },
   "outputs": [],
   "source": []
  }
 ],
 "metadata": {
  "kernelspec": {
   "display_name": "Python 2",
   "language": "python",
   "name": "python2"
  },
  "language_info": {
   "codemirror_mode": {
    "name": "ipython",
    "version": 2
   },
   "file_extension": ".py",
   "mimetype": "text/x-python",
   "name": "python",
   "nbconvert_exporter": "python",
   "pygments_lexer": "ipython2",
   "version": "2.7.11"
  }
 },
 "nbformat": 4,
 "nbformat_minor": 0
}
