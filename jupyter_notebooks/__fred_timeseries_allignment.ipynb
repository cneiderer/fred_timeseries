{
 "cells": [
  {
   "cell_type": "code",
   "execution_count": 1,
   "metadata": {
    "collapsed": true
   },
   "outputs": [],
   "source": [
    "from datetime import datetime\n",
    "\n",
    "from pyspark import SparkContext, SQLContext\n",
    "from pyspark.sql import Row\n",
    "from pyspark.sql.types import StructType, StructField, TimestampType, DoubleType, StringType\n",
    "\n",
    "from sparkts.datetimeindex import uniform, BusinessDayFrequency\n",
    "from sparkts.timeseriesrdd import time_series_rdd_from_observations"
   ]
  },
  {
   "cell_type": "code",
   "execution_count": 242,
   "metadata": {
    "collapsed": true
   },
   "outputs": [],
   "source": [
    "import sparkts.datetimeindex as dt"
   ]
  },
  {
   "cell_type": "code",
   "execution_count": null,
   "metadata": {
    "collapsed": true
   },
   "outputs": [],
   "source": [
    "dt.DayFrequency"
   ]
  },
  {
   "cell_type": "code",
   "execution_count": 3,
   "metadata": {
    "collapsed": false
   },
   "outputs": [],
   "source": [
    "def lineToRow(line):\n",
    "    (year, month, day, symbol, volume, price) = line.split(\"\\t\")\n",
    "    # Python 2.x compatible timestamp generation\n",
    "    dt = datetime(int(year), int(month), int(day))\n",
    "    return (dt, symbol, float(price))\n",
    "\n",
    "def loadObservations(sparkContext, sqlContext, path):\n",
    "    textFile = sparkContext.textFile(path)\n",
    "    rowRdd = textFile.map(lineToRow)\n",
    "    schema = StructType([\n",
    "        StructField('timestamp', TimestampType(), nullable=True),\n",
    "        StructField('symbol', StringType(), nullable=True),\n",
    "        StructField('price', DoubleType(), nullable=True),\n",
    "    ])\n",
    "    return sqlContext.createDataFrame(rowRdd, schema);"
   ]
  },
  {
   "cell_type": "code",
   "execution_count": 3,
   "metadata": {
    "collapsed": false
   },
   "outputs": [
    {
     "name": "stdout",
     "output_type": "stream",
     "text": [
      "--2016-10-06 17:14:18--  https://raw.githubusercontent.com/sryza/spark-ts-examples/master/data/ticker.tsv\n",
      "Resolving raw.githubusercontent.com... 151.101.60.133\n",
      "Connecting to raw.githubusercontent.com|151.101.60.133|:443... connected.\n",
      "HTTP request sent, awaiting response... 200 OK\n",
      "Length: 105146 (103K) [text/plain]\n",
      "Saving to: 'ticker.tsv.1'\n",
      "\n",
      "ticker.tsv.1        100%[=====================>] 102.68K  --.-KB/s   in 0.1s   \n",
      "\n",
      "2016-10-06 17:14:19 (719 KB/s) - 'ticker.tsv.1' saved [105146/105146]\n",
      "\n"
     ]
    }
   ],
   "source": [
    "!wget https://raw.githubusercontent.com/sryza/spark-ts-examples/master/data/ticker.tsv"
   ]
  },
  {
   "cell_type": "code",
   "execution_count": 4,
   "metadata": {
    "collapsed": false
   },
   "outputs": [],
   "source": [
    "tickerObs = loadObservations(sc, sqlContext, \"/Users/guillermobreto/Downloads/spark-timeseries/DOCS_REPO/spark-timeseries/ticker.tsv\")"
   ]
  },
  {
   "cell_type": "code",
   "execution_count": 24,
   "metadata": {
    "collapsed": false
   },
   "outputs": [
    {
     "data": {
      "text/plain": [
       "[Row(timestamp=datetime.datetime(2015, 8, 14, 0, 0)),\n",
       " Row(timestamp=datetime.datetime(2015, 9, 14, 0, 0)),\n",
       " Row(timestamp=datetime.datetime(2015, 9, 18, 0, 0))]"
      ]
     },
     "execution_count": 24,
     "metadata": {},
     "output_type": "execute_result"
    }
   ],
   "source": [
    "tickerObs.select(\"timestamp\").take(3)"
   ]
  },
  {
   "cell_type": "code",
   "execution_count": 252,
   "metadata": {
    "collapsed": false
   },
   "outputs": [
    {
     "name": "stdout",
     "output_type": "stream",
     "text": [
      "+---------------------+------+------+\n",
      "|timestamp            |symbol|price |\n",
      "+---------------------+------+------+\n",
      "|2015-08-14 00:00:00.0|ADP   |82.99 |\n",
      "|2015-09-14 00:00:00.0|NKE   |111.78|\n",
      "|2015-09-18 00:00:00.0|DO    |20.18 |\n",
      "+---------------------+------+------+\n",
      "only showing top 3 rows\n",
      "\n"
     ]
    }
   ],
   "source": [
    "tickerObs.show(3, truncate=False)"
   ]
  },
  {
   "cell_type": "code",
   "execution_count": 29,
   "metadata": {
    "collapsed": false
   },
   "outputs": [
    {
     "name": "stdout",
     "output_type": "stream",
     "text": [
      "root\n",
      " |-- timestamp: timestamp (nullable = true)\n",
      " |-- symbol: string (nullable = true)\n",
      " |-- price: double (nullable = true)\n",
      "\n"
     ]
    }
   ],
   "source": [
    "tickerObs.printSchema()"
   ]
  },
  {
   "cell_type": "code",
   "execution_count": 26,
   "metadata": {
    "collapsed": false
   },
   "outputs": [],
   "source": [
    "\n",
    "# Create an daily DateTimeIndex over August and September 2015\n",
    "freq = BusinessDayFrequency(1, 1, sc)\n",
    "dtIndex = uniform(start='2015-08-03T00:00-04:00', end='2015-09-22T00:00-04:00', freq=freq, sc=sc)\n",
    "\n"
   ]
  },
  {
   "cell_type": "code",
   "execution_count": 27,
   "metadata": {
    "collapsed": false
   },
   "outputs": [],
   "source": [
    "tickerTsrdd = time_series_rdd_from_observations(dtIndex, tickerObs, \"timestamp\", \"symbol\", \"price\")\n"
   ]
  },
  {
   "cell_type": "code",
   "execution_count": 28,
   "metadata": {
    "collapsed": false
   },
   "outputs": [
    {
     "data": {
      "text/plain": [
       "[(u'AAL',\n",
       "  array([ 41.71,  42.74,  42.96,  42.18,  41.49,  41.68,  42.7 ,  42.52,\n",
       "          42.67,  42.88,  43.95,  43.63,  43.53,  41.98,  39.75,  37.62,\n",
       "          37.5 ,  38.85,  39.03,  38.62,  38.98,  39.2 ,  41.51,  40.89,\n",
       "          40.6 ,    nan,  40.8 ,  41.  ,  41.21,  42.15,  42.29,  42.64,\n",
       "          43.06,  43.99,  43.49,  43.24,  41.19])),\n",
       " (u'AAPL',\n",
       "  array([ 118.44  ,  114.64  ,  115.4   ,  115.13  ,  115.52  ,  119.6901,\n",
       "          113.5499,  115.24  ,  115.15  ,  116.    ,  117.1601,  116.5   ,\n",
       "          115.01  ,  112.65  ,  105.76  ,  103.155 ,  103.74  ,  109.625 ,\n",
       "          112.92  ,  113.29  ,  112.76  ,  107.72  ,  112.34  ,  110.37  ,\n",
       "          109.27  ,       nan,  112.21  ,  110.15  ,  112.57  ,  114.017 ,\n",
       "          115.3   ,  116.28  ,  116.35  ,  113.92  ,  113.45  ,  115.23  ,\n",
       "          113.432 ]))]"
      ]
     },
     "execution_count": 28,
     "metadata": {},
     "output_type": "execute_result"
    }
   ],
   "source": [
    "tickerTsrdd.take(2)"
   ]
  },
  {
   "cell_type": "code",
   "execution_count": 11,
   "metadata": {
    "collapsed": false
   },
   "outputs": [
    {
     "name": "stdout",
     "output_type": "stream",
     "text": [
      "104\n"
     ]
    }
   ],
   "source": [
    "\n",
    "# Count the number of series (number of symbols)\n",
    "print(tickerTsrdd.count())\n",
    "\n",
    "# Impute missing values using linear interpolation\n",
    "filled = tickerTsrdd.fill(\"linear\")\n",
    "\n",
    "# Compute return rates\n",
    "returnRates = filled.return_rates()"
   ]
  },
  {
   "cell_type": "code",
   "execution_count": 12,
   "metadata": {
    "collapsed": false
   },
   "outputs": [
    {
     "data": {
      "text/plain": [
       "[(u'AAL',\n",
       "  array([ 41.71,  42.74,  42.96,  42.18,  41.49,  41.68,  42.7 ,  42.52,\n",
       "          42.67,  42.88,  43.95,  43.63,  43.53,  41.98,  39.75,  37.62,\n",
       "          37.5 ,  38.85,  39.03,  38.62,  38.98,  39.2 ,  41.51,  40.89,\n",
       "          40.6 ,  40.7 ,  40.8 ,  41.  ,  41.21,  42.15,  42.29,  42.64,\n",
       "          43.06,  43.99,  43.49,  43.24,  41.19])),\n",
       " (u'AAPL',\n",
       "  array([ 118.44  ,  114.64  ,  115.4   ,  115.13  ,  115.52  ,  119.6901,\n",
       "          113.5499,  115.24  ,  115.15  ,  116.    ,  117.1601,  116.5   ,\n",
       "          115.01  ,  112.65  ,  105.76  ,  103.155 ,  103.74  ,  109.625 ,\n",
       "          112.92  ,  113.29  ,  112.76  ,  107.72  ,  112.34  ,  110.37  ,\n",
       "          109.27  ,  110.74  ,  112.21  ,  110.15  ,  112.57  ,  114.017 ,\n",
       "          115.3   ,  116.28  ,  116.35  ,  113.92  ,  113.45  ,  115.23  ,\n",
       "          113.432 ]))]"
      ]
     },
     "execution_count": 12,
     "metadata": {},
     "output_type": "execute_result"
    }
   ],
   "source": [
    "filled.take(2)"
   ]
  },
  {
   "cell_type": "code",
   "execution_count": 12,
   "metadata": {
    "collapsed": false
   },
   "outputs": [
    {
     "name": "stdout",
     "output_type": "stream",
     "text": [
      "([0.99930539174187916], u'NFLX')\n",
      "([2.3701164736953166], u'DISCK')\n"
     ]
    }
   ],
   "source": [
    "# Durbin-Watson test for serial correlation, ported from TimeSeriesStatisticalTests.scala\n",
    "def dwtest(residuals):\n",
    "    residsSum = residuals[0] * residuals[0]\n",
    "    diffsSum = 0.0\n",
    "    i = 1\n",
    "    while i < len(residuals):\n",
    "        residsSum += residuals[i] * residuals[i]\n",
    "        diff = residuals[i] - residuals[i - 1]\n",
    "        diffsSum += diff * diff\n",
    "        i += 1\n",
    "    return diffsSum / residsSum\n",
    "\n",
    "# Compute Durbin-Watson stats for each series\n",
    "# Swap ticker symbol and stats so min and max compare the statistic value, not the\n",
    "# ticker names.\n",
    "dwStats = returnRates.map_series(lambda row: (row[0], [dwtest(row[1])])).map(lambda x: (x[1], x[0]))\n",
    "\n",
    "print(dwStats.min())\n",
    "print(dwStats.max())"
   ]
  },
  {
   "cell_type": "code",
   "execution_count": 40,
   "metadata": {
    "collapsed": true
   },
   "outputs": [],
   "source": [
    "from sparkts.models import ARIMA"
   ]
  },
  {
   "cell_type": "code",
   "execution_count": 44,
   "metadata": {
    "collapsed": false
   },
   "outputs": [
    {
     "data": {
      "text/plain": [
       "sparkts.timeseriesrdd.TimeSeriesRDD"
      ]
     },
     "execution_count": 44,
     "metadata": {},
     "output_type": "execute_result"
    }
   ],
   "source": [
    "type(tickerTsrdd)"
   ]
  },
  {
   "cell_type": "code",
   "execution_count": 42,
   "metadata": {
    "collapsed": false
   },
   "outputs": [],
   "source": [
    "arima_model = tickerTsrdd.map(lambda ts: ARIMA.fit_model(ts))"
   ]
  },
  {
   "cell_type": "code",
   "execution_count": 45,
   "metadata": {
    "collapsed": false
   },
   "outputs": [
    {
     "data": {
      "text/plain": [
       "u'/Users/guillermobreto/Downloads/spark-timeseries/python'"
      ]
     },
     "execution_count": 45,
     "metadata": {},
     "output_type": "execute_result"
    }
   ],
   "source": [
    "pwd"
   ]
  },
  {
   "cell_type": "code",
   "execution_count": 46,
   "metadata": {
    "collapsed": true
   },
   "outputs": [],
   "source": [
    "mv /Users/guillermobreto/Downloads/FRED-datasets-codes.csv ."
   ]
  },
  {
   "cell_type": "code",
   "execution_count": 47,
   "metadata": {
    "collapsed": false
   },
   "outputs": [
    {
     "name": "stdout",
     "output_type": "stream",
     "text": [
      "FRED/CGBD1819M,\"Unemployment Rate - College Graduates - Bachelor's Degree, 18 to 19 years, Men\"\r\n",
      "FRED/DOTSRG3Q086SBEA,Personal consumption expenditures: Other services (chain-type price index)\r\n",
      "FRED/Y804RL1Q225SBEA,Real imports of services: Transport\r\n",
      "FRED/FYFSGDA188S,Federal Surplus or Deficit [-] as Percent of Gross Domestic Product\r\n",
      "FRED/SMS16000001000000001,All Employees: Mining and Logging in Idaho\r\n",
      "FRED/CGRA1819,\"Unemployment Rate - College Graduates - Bachelor's Degree and Higher, 18 to 19 years\"\r\n",
      "FRED/CGBDUM1819,\"Unemployment Level - College Graduates - Bachelor's Degree, 18 to 19 years, Men\"\r\n",
      "FRED/SMU26198046562200001A,\"All Employees: Health Care: Hospitals in Detroit-Livonia-Dearborn, MI (MD)\"\r\n",
      "FRED/SMU29000004322000001,All Employees: Utilities in Missouri\r\n",
      "FRED/PORT933MFGN,\"Manufacturing Employment in Portsmouth, NH-ME (NECTA)\"\r\n"
     ]
    }
   ],
   "source": [
    "!head FRED-datasets-codes.csv"
   ]
  },
  {
   "cell_type": "code",
   "execution_count": 8,
   "metadata": {
    "collapsed": false
   },
   "outputs": [],
   "source": [
    "import graphlab as gl"
   ]
  },
  {
   "cell_type": "code",
   "execution_count": 9,
   "metadata": {
    "collapsed": false
   },
   "outputs": [
    {
     "name": "stderr",
     "output_type": "stream",
     "text": [
      "[INFO] graphlab.cython.cy_server: GraphLab Create v2.0.1 started. Logging: /tmp/graphlab_server_1476120295.log\n"
     ]
    },
    {
     "name": "stdout",
     "output_type": "stream",
     "text": [
      "This non-commercial license of GraphLab Create for academic use is assigned to kevglynn@gmail.com and will expire on May 03, 2017.\n"
     ]
    },
    {
     "data": {
      "text/html": [
       "<pre>Finished parsing file /Users/guillermobreto/Downloads/spark-timeseries/python/FRED-datasets-codes.csv</pre>"
      ],
      "text/plain": [
       "Finished parsing file /Users/guillermobreto/Downloads/spark-timeseries/python/FRED-datasets-codes.csv"
      ]
     },
     "metadata": {},
     "output_type": "display_data"
    },
    {
     "data": {
      "text/html": [
       "<pre>Parsing completed. Parsed 100 lines in 0.248338 secs.</pre>"
      ],
      "text/plain": [
       "Parsing completed. Parsed 100 lines in 0.248338 secs."
      ]
     },
     "metadata": {},
     "output_type": "display_data"
    },
    {
     "name": "stdout",
     "output_type": "stream",
     "text": [
      "------------------------------------------------------\n",
      "Inferred types from first 100 line(s) of file as \n",
      "column_type_hints=[str,str]\n",
      "If parsing fails due to incorrect types, you can correct\n",
      "the inferred type list above and pass it to read_csv in\n",
      "the column_type_hints argument\n",
      "------------------------------------------------------\n"
     ]
    },
    {
     "data": {
      "text/html": [
       "<pre>Finished parsing file /Users/guillermobreto/Downloads/spark-timeseries/python/FRED-datasets-codes.csv</pre>"
      ],
      "text/plain": [
       "Finished parsing file /Users/guillermobreto/Downloads/spark-timeseries/python/FRED-datasets-codes.csv"
      ]
     },
     "metadata": {},
     "output_type": "display_data"
    },
    {
     "data": {
      "text/html": [
       "<pre>Parsing completed. Parsed 194824 lines in 0.34975 secs.</pre>"
      ],
      "text/plain": [
       "Parsing completed. Parsed 194824 lines in 0.34975 secs."
      ]
     },
     "metadata": {},
     "output_type": "display_data"
    }
   ],
   "source": [
    "metadata = gl.SFrame.read_csv(\"FRED-datasets-codes.csv\", header=False)"
   ]
  },
  {
   "cell_type": "code",
   "execution_count": 10,
   "metadata": {
    "collapsed": false
   },
   "outputs": [],
   "source": [
    "metadata[\"dataset_code\"] = metadata[\"X1\"].apply(lambda code: code.split(\"/\")[1])"
   ]
  },
  {
   "cell_type": "code",
   "execution_count": 11,
   "metadata": {
    "collapsed": false
   },
   "outputs": [
    {
     "data": {
      "text/html": [
       "<div style=\"max-height:1000px;max-width:1500px;overflow:auto;\"><table frame=\"box\" rules=\"cols\">\n",
       "    <tr>\n",
       "        <th style=\"padding-left: 1em; padding-right: 1em; text-align: center\">X1</th>\n",
       "        <th style=\"padding-left: 1em; padding-right: 1em; text-align: center\">X2</th>\n",
       "        <th style=\"padding-left: 1em; padding-right: 1em; text-align: center\">dataset_code</th>\n",
       "    </tr>\n",
       "    <tr>\n",
       "        <td style=\"padding-left: 1em; padding-right: 1em; text-align: center; vertical-align: top\">FRED/CGBD1819M</td>\n",
       "        <td style=\"padding-left: 1em; padding-right: 1em; text-align: center; vertical-align: top\">Unemployment Rate -<br>College Graduates - ...</td>\n",
       "        <td style=\"padding-left: 1em; padding-right: 1em; text-align: center; vertical-align: top\">CGBD1819M</td>\n",
       "    </tr>\n",
       "    <tr>\n",
       "        <td style=\"padding-left: 1em; padding-right: 1em; text-align: center; vertical-align: top\">FRED/DOTSRG3Q086SBEA</td>\n",
       "        <td style=\"padding-left: 1em; padding-right: 1em; text-align: center; vertical-align: top\">Personal consumption<br>expenditures: Other ...</td>\n",
       "        <td style=\"padding-left: 1em; padding-right: 1em; text-align: center; vertical-align: top\">DOTSRG3Q086SBEA</td>\n",
       "    </tr>\n",
       "    <tr>\n",
       "        <td style=\"padding-left: 1em; padding-right: 1em; text-align: center; vertical-align: top\">FRED/Y804RL1Q225SBEA</td>\n",
       "        <td style=\"padding-left: 1em; padding-right: 1em; text-align: center; vertical-align: top\">Real imports of services:<br>Transport ...</td>\n",
       "        <td style=\"padding-left: 1em; padding-right: 1em; text-align: center; vertical-align: top\">Y804RL1Q225SBEA</td>\n",
       "    </tr>\n",
       "    <tr>\n",
       "        <td style=\"padding-left: 1em; padding-right: 1em; text-align: center; vertical-align: top\">FRED/FYFSGDA188S</td>\n",
       "        <td style=\"padding-left: 1em; padding-right: 1em; text-align: center; vertical-align: top\">Federal Surplus or<br>Deficit [-] as Percen ...</td>\n",
       "        <td style=\"padding-left: 1em; padding-right: 1em; text-align: center; vertical-align: top\">FYFSGDA188S</td>\n",
       "    </tr>\n",
       "    <tr>\n",
       "        <td style=\"padding-left: 1em; padding-right: 1em; text-align: center; vertical-align: top\">FRED/SMS16000001000000001</td>\n",
       "        <td style=\"padding-left: 1em; padding-right: 1em; text-align: center; vertical-align: top\">All Employees: Mining and<br>Logging in Idaho ...</td>\n",
       "        <td style=\"padding-left: 1em; padding-right: 1em; text-align: center; vertical-align: top\">SMS16000001000000001</td>\n",
       "    </tr>\n",
       "</table>\n",
       "[5 rows x 3 columns]<br/>\n",
       "</div>"
      ],
      "text/plain": [
       "Columns:\n",
       "\tX1\tstr\n",
       "\tX2\tstr\n",
       "\tdataset_code\tstr\n",
       "\n",
       "Rows: 5\n",
       "\n",
       "Data:\n",
       "+---------------------------+-------------------------------+\n",
       "|             X1            |               X2              |\n",
       "+---------------------------+-------------------------------+\n",
       "|       FRED/CGBD1819M      | Unemployment Rate - Colleg... |\n",
       "|    FRED/DOTSRG3Q086SBEA   | Personal consumption expen... |\n",
       "|    FRED/Y804RL1Q225SBEA   | Real imports of services: ... |\n",
       "|      FRED/FYFSGDA188S     | Federal Surplus or Deficit... |\n",
       "| FRED/SMS16000001000000001 | All Employees: Mining and ... |\n",
       "+---------------------------+-------------------------------+\n",
       "+----------------------+\n",
       "|     dataset_code     |\n",
       "+----------------------+\n",
       "|      CGBD1819M       |\n",
       "|   DOTSRG3Q086SBEA    |\n",
       "|   Y804RL1Q225SBEA    |\n",
       "|     FYFSGDA188S      |\n",
       "| SMS16000001000000001 |\n",
       "+----------------------+\n",
       "[5 rows x 3 columns]"
      ]
     },
     "execution_count": 11,
     "metadata": {},
     "output_type": "execute_result"
    }
   ],
   "source": [
    "metadata.head(5)"
   ]
  },
  {
   "cell_type": "code",
   "execution_count": 12,
   "metadata": {
    "collapsed": false
   },
   "outputs": [
    {
     "data": {
      "text/html": [
       "<div style=\"max-height:1000px;max-width:1500px;overflow:auto;\"><table frame=\"box\" rules=\"cols\">\n",
       "    <tr>\n",
       "        <th style=\"padding-left: 1em; padding-right: 1em; text-align: center\">X1</th>\n",
       "        <th style=\"padding-left: 1em; padding-right: 1em; text-align: center\">X2</th>\n",
       "        <th style=\"padding-left: 1em; padding-right: 1em; text-align: center\">dataset_code</th>\n",
       "    </tr>\n",
       "    <tr>\n",
       "        <td style=\"padding-left: 1em; padding-right: 1em; text-align: center; vertical-align: top\">FRED/EXPEF54171ALLEST</td>\n",
       "        <td style=\"padding-left: 1em; padding-right: 1em; text-align: center; vertical-align: top\">Total Expense for<br>Research and Development ...</td>\n",
       "        <td style=\"padding-left: 1em; padding-right: 1em; text-align: center; vertical-align: top\">EXPEF54171ALLEST</td>\n",
       "    </tr>\n",
       "</table>\n",
       "[? rows x 3 columns]<br/>Note: Only the head of the SFrame is printed. This SFrame is lazily evaluated.<br/>You can use sf.materialize() to force materialization.\n",
       "</div>"
      ],
      "text/plain": [
       "Columns:\n",
       "\tX1\tstr\n",
       "\tX2\tstr\n",
       "\tdataset_code\tstr\n",
       "\n",
       "Rows: Unknown\n",
       "\n",
       "Data:\n",
       "+-----------------------+-------------------------------+------------------+\n",
       "|           X1          |               X2              |   dataset_code   |\n",
       "+-----------------------+-------------------------------+------------------+\n",
       "| FRED/EXPEF54171ALLEST | Total Expense for Research... | EXPEF54171ALLEST |\n",
       "+-----------------------+-------------------------------+------------------+\n",
       "[? rows x 3 columns]\n",
       "Note: Only the head of the SFrame is printed. This SFrame is lazily evaluated.\n",
       "You can use sf.materialize() to force materialization."
      ]
     },
     "execution_count": 12,
     "metadata": {},
     "output_type": "execute_result"
    }
   ],
   "source": [
    "metadata[metadata[\"dataset_code\"]==\"EXPEF54171ALLEST\"]"
   ]
  },
  {
   "cell_type": "markdown",
   "metadata": {
    "collapsed": true
   },
   "source": [
    "# Get the data"
   ]
  },
  {
   "cell_type": "code",
   "execution_count": 58,
   "metadata": {
    "collapsed": true
   },
   "outputs": [],
   "source": [
    "mkdir fred_data"
   ]
  },
  {
   "cell_type": "code",
   "execution_count": 59,
   "metadata": {
    "collapsed": false
   },
   "outputs": [
    {
     "name": "stdout",
     "output_type": "stream",
     "text": [
      "/Users/guillermobreto/Downloads/spark-timeseries/python/fred_data\n"
     ]
    }
   ],
   "source": [
    "cd fred_data/"
   ]
  },
  {
   "cell_type": "code",
   "execution_count": 10,
   "metadata": {
    "collapsed": false
   },
   "outputs": [],
   "source": [
    "import subprocess\n",
    "from subprocess import Popen\n",
    "\n",
    "url = 'https://www.quandl.com/api/v3/datasets.csv?database_code=FRED&per_page=100&sort_by=id&page='\n",
    "location = '/Users/guillermobreto/Downloads/spark-timeseries/python/fred_data'\n",
    "\n",
    "for ts in range(500,1000):\n",
    "    \n",
    "    args = ['wget', '-r', '-l', '1', '-p', '-P', location, url + str(ts)]\n",
    "    p = Popen(args, stdout=subprocess.PIPE)\n",
    "    stdout, stderr = p.communicate()"
   ]
  },
  {
   "cell_type": "code",
   "execution_count": 5,
   "metadata": {
    "collapsed": false
   },
   "outputs": [
    {
     "name": "stdout",
     "output_type": "stream",
     "text": [
      "The file /Users/guillermobreto/Downloads/spark-timeseries/fred_data does not exist.\r\n"
     ]
    }
   ],
   "source": [
    "!open ../fred_data/"
   ]
  },
  {
   "cell_type": "code",
   "execution_count": 1,
   "metadata": {
    "collapsed": false
   },
   "outputs": [
    {
     "data": {
      "text/plain": [
       "u'/Users/guillermobreto/Downloads/spark-timeseries/python'"
      ]
     },
     "execution_count": 1,
     "metadata": {},
     "output_type": "execute_result"
    }
   ],
   "source": [
    "pwd"
   ]
  },
  {
   "cell_type": "code",
   "execution_count": 13,
   "metadata": {
    "collapsed": false
   },
   "outputs": [],
   "source": [
    "df = sqlContext.read.format('com.databricks.spark.csv').options(header='true', inferschema='true').load('./fred_data/www.quandl.com/api/v3/')"
   ]
  },
  {
   "cell_type": "code",
   "execution_count": 14,
   "metadata": {
    "collapsed": false
   },
   "outputs": [
    {
     "name": "stdout",
     "output_type": "stream",
     "text": [
      "+--------+-------------------+-------------+---------------------------------------------------------------------------------------------------------------------------------------------------------------------------------------------------------+---------------------------------------------------------------------------------------------------------------------------------------------------------------------------------+-----------------------+---------------------+---------------------+-----------------+---------+-----------+-------+-----------+\n",
      "|id      |dataset_code       |database_code|name                                                                                                                                                                                                     |description                                                                                                                                                                      |refreshed_at           |newest_available_date|oldest_available_date|column_names     |frequency|type       |premium|database_id|\n",
      "+--------+-------------------+-------------+---------------------------------------------------------------------------------------------------------------------------------------------------------------------------------------------------------+---------------------------------------------------------------------------------------------------------------------------------------------------------------------------------+-----------------------+---------------------+---------------------+-----------------+---------+-----------+-------+-----------+\n",
      "|10919628|EXPEF54171ALLEST   |FRED         |Total Expense for Research and Development In The Physical, Engineering, and Life Sciences, All Establishments, Employer Firms                                                                           |Millions of Dollars Not Seasonally Adjusted, For further information, please refer to the US Census Bureau's Annual Services release, online at http://www.census.gov/services/. |2016-04-11 14:33:21 UTC|2014-01-01           |2003-01-01           |[\"DATE\", \"VALUE\"]|annual   |Time Series|false  |118        |\n",
      "|10919629|EXPEF54181ALLEST   |FRED         |Total Expense for Advertising Agencies, All Establishments, Employer Firms                                                                                                                               |Millions of Dollars Not Seasonally Adjusted, For further information, please refer to the US Census Bureau's Annual Services release, online at http://www.census.gov/services/. |2016-04-10 21:05:50 UTC|2014-01-01           |2003-01-01           |[\"DATE\", \"VALUE\"]|annual   |Time Series|false  |118        |\n",
      "|10919630|REVEF54181ALLEST   |FRED         |Total Revenue for Advertising Agencies, All Establishments, Employer Firms                                                                                                                               |Millions of Dollars Not Seasonally Adjusted, For further information, please refer to the US Census Bureau's Annual Services release, online at http://www.census.gov/services/. |2016-04-11 00:00:16 UTC|2014-01-01           |1998-01-01           |[\"DATE\", \"VALUE\"]|annual   |Time Series|false  |118        |\n",
      "|10919631|RPCHCIEF5171ALLEST |FRED         |Breakdown of Revenue by Type of Customer: Household Consumers and Individual Users for Wired Telecommunications Carriers, All Establishments, Employer Firms                                             |Millions of Dollars Not Seasonally Adjusted, For further information, please refer to the US Census Bureau's Annual Services release, online at http://www.census.gov/services/. |2016-04-11 14:34:45 UTC|2014-01-01           |2010-01-01           |[\"DATE\", \"VALUE\"]|annual   |Time Series|false  |118        |\n",
      "|10919632|REVEF484122TAXABL  |FRED         |Total Revenue for General Freight Trucking, Long-Distance, Less Than Truckload, Establishments Subject To Federal Income Tax, Employer Firms                                                             |Millions of Dollars Not Seasonally Adjusted, For further information, please refer to the US Census Bureau's Annual Services release, online at http://www.census.gov/services/. |2016-04-10 23:59:35 UTC|2014-01-01           |1998-01-01           |[\"DATE\", \"VALUE\"]|annual   |Time Series|false  |118        |\n",
      "|10919633|REVDITEF518ALLEST  |FRED         |Sources of Revenue: Data Processing, Information Technology (IT) Infrastructure Provisioning, and Hosting Services for Data Processing, Hosting, and Related Services, All Establishments, Employer Firms|Millions of Dollars Not Seasonally Adjusted, For further information, please refer to the US Census Bureau's Annual Services release, online at http://www.census.gov/services/. |2016-04-10 23:59:34 UTC|2014-01-01           |2010-01-01           |[\"DATE\", \"VALUE\"]|annual   |Time Series|false  |118        |\n",
      "|10919634|REVEF52392ALLEST   |FRED         |Total Revenue for Portfolio Management, All Establishments, Employer Firms                                                                                                                               |Millions of Dollars Not Seasonally Adjusted, For further information, please refer to the US Census Bureau's Annual Services release, online at http://www.census.gov/services/. |2016-04-10 21:33:15 UTC|2014-01-01           |1998-01-01           |[\"DATE\", \"VALUE\"]|annual   |Time Series|false  |118        |\n",
      "|10919635|EXPDACEF523ALLEST  |FRED         |Depreciation and Amortization Charges for Securities, Commodity Contracts, and Other Financial Investments and Related Activities, All Establishments, Employer Firms                                    |Millions of Dollars Not Seasonally Adjusted, For further information, please refer to the US Census Bureau's Annual Services release, online at http://www.census.gov/services/. |2016-04-10 21:05:48 UTC|2014-01-01           |2009-01-01           |[\"DATE\", \"VALUE\"]|annual   |Time Series|false  |118        |\n",
      "|10919636|EXPDACEF523XALLEST |FRED         |Depreciation and Amortization Charges for Securities, Commodity Contracts, and Other Financial Investments and Related Activities, All Establishments, Employer Firms                                    |Millions of Dollars Not Seasonally Adjusted, For further information, please refer to the US Census Bureau's Annual Services release, online at http://www.census.gov/services/. |2016-04-11 14:16:20 UTC|2007-01-01           |2005-01-01           |[\"DATE\", \"VALUE\"]|annual   |Time Series|false  |118        |\n",
      "|10919637|REVPITEF56152ALLEST|FRED         |Sources of Revenue: Pre-Packaged Tours - International Travel for Tour Operators, All Establishments, Employer Firms                                                                                     |Millions of Dollars Not Seasonally Adjusted, For further information, please refer to the US Census Bureau's Annual Services release, online at http://www.census.gov/services/. |2016-04-10 19:31:57 UTC|2014-01-01           |2010-01-01           |[\"DATE\", \"VALUE\"]|annual   |Time Series|false  |118        |\n",
      "+--------+-------------------+-------------+---------------------------------------------------------------------------------------------------------------------------------------------------------------------------------------------------------+---------------------------------------------------------------------------------------------------------------------------------------------------------------------------------+-----------------------+---------------------+---------------------+-----------------+---------+-----------+-------+-----------+\n",
      "only showing top 10 rows\n",
      "\n"
     ]
    }
   ],
   "source": [
    "df.show(10, truncate=False)"
   ]
  },
  {
   "cell_type": "code",
   "execution_count": 8,
   "metadata": {
    "collapsed": false
   },
   "outputs": [
    {
     "name": "stdout",
     "output_type": "stream",
     "text": [
      "root\n",
      " |-- id: integer (nullable = true)\n",
      " |-- dataset_code: string (nullable = true)\n",
      " |-- database_code: string (nullable = true)\n",
      " |-- name: string (nullable = true)\n",
      " |-- description: string (nullable = true)\n",
      " |-- refreshed_at: string (nullable = true)\n",
      " |-- newest_available_date: string (nullable = true)\n",
      " |-- oldest_available_date: string (nullable = true)\n",
      " |-- column_names: string (nullable = true)\n",
      " |-- frequency: string (nullable = true)\n",
      " |-- type: string (nullable = true)\n",
      " |-- premium: boolean (nullable = true)\n",
      " |-- database_id: integer (nullable = true)\n",
      "\n"
     ]
    }
   ],
   "source": [
    "df.printSchema()"
   ]
  },
  {
   "cell_type": "code",
   "execution_count": 9,
   "metadata": {
    "collapsed": false
   },
   "outputs": [
    {
     "data": {
      "text/plain": [
       "10500"
      ]
     },
     "execution_count": 9,
     "metadata": {},
     "output_type": "execute_result"
    }
   ],
   "source": [
    "df.select(\"dataset_code\").distinct().count()"
   ]
  },
  {
   "cell_type": "code",
   "execution_count": 16,
   "metadata": {
    "collapsed": false
   },
   "outputs": [
    {
     "name": "stdout",
     "output_type": "stream",
     "text": [
      "+---------------------+-----------------+\n",
      "|newest_available_date|     column_names|\n",
      "+---------------------+-----------------+\n",
      "|           2014-01-01|[\"DATE\", \"VALUE\"]|\n",
      "|           2014-01-01|[\"DATE\", \"VALUE\"]|\n",
      "|           2014-01-01|[\"DATE\", \"VALUE\"]|\n",
      "|           2014-01-01|[\"DATE\", \"VALUE\"]|\n",
      "|           2014-01-01|[\"DATE\", \"VALUE\"]|\n",
      "|           2014-01-01|[\"DATE\", \"VALUE\"]|\n",
      "|           2014-01-01|[\"DATE\", \"VALUE\"]|\n",
      "|           2014-01-01|[\"DATE\", \"VALUE\"]|\n",
      "|           2007-01-01|[\"DATE\", \"VALUE\"]|\n",
      "|           2014-01-01|[\"DATE\", \"VALUE\"]|\n",
      "|           2014-01-01|[\"DATE\", \"VALUE\"]|\n",
      "|           2014-01-01|[\"DATE\", \"VALUE\"]|\n",
      "|           2014-01-01|[\"DATE\", \"VALUE\"]|\n",
      "|           2014-01-01|[\"DATE\", \"VALUE\"]|\n",
      "|           2014-01-01|[\"DATE\", \"VALUE\"]|\n",
      "|           2014-01-01|[\"DATE\", \"VALUE\"]|\n",
      "|           2014-01-01|[\"DATE\", \"VALUE\"]|\n",
      "|           2014-01-01|[\"DATE\", \"VALUE\"]|\n",
      "|           2014-01-01|[\"DATE\", \"VALUE\"]|\n",
      "|           2014-01-01|[\"DATE\", \"VALUE\"]|\n",
      "+---------------------+-----------------+\n",
      "only showing top 20 rows\n",
      "\n"
     ]
    }
   ],
   "source": [
    "df.select([\"newest_available_date\",\"column_names\"]).show()"
   ]
  },
  {
   "cell_type": "code",
   "execution_count": 17,
   "metadata": {
    "collapsed": false
   },
   "outputs": [
    {
     "name": "stdout",
     "output_type": "stream",
     "text": [
      "FRED/CGBD1819M,\"Unemployment Rate - College Graduates - Bachelor's Degree, 18 to 19 years, Men\"\r\n",
      "FRED/DOTSRG3Q086SBEA,Personal consumption expenditures: Other services (chain-type price index)\r\n",
      "FRED/Y804RL1Q225SBEA,Real imports of services: Transport\r\n",
      "FRED/FYFSGDA188S,Federal Surplus or Deficit [-] as Percent of Gross Domestic Product\r\n",
      "FRED/SMS16000001000000001,All Employees: Mining and Logging in Idaho\r\n",
      "FRED/CGRA1819,\"Unemployment Rate - College Graduates - Bachelor's Degree and Higher, 18 to 19 years\"\r\n",
      "FRED/CGBDUM1819,\"Unemployment Level - College Graduates - Bachelor's Degree, 18 to 19 years, Men\"\r\n",
      "FRED/SMU26198046562200001A,\"All Employees: Health Care: Hospitals in Detroit-Livonia-Dearborn, MI (MD)\"\r\n",
      "FRED/SMU29000004322000001,All Employees: Utilities in Missouri\r\n",
      "FRED/PORT933MFGN,\"Manufacturing Employment in Portsmouth, NH-ME (NECTA)\"\r\n"
     ]
    }
   ],
   "source": [
    "!head /Users/guillermobreto/Downloads/fred_timeseries_project/data/FRED-datasets-codes.csv"
   ]
  },
  {
   "cell_type": "code",
   "execution_count": 27,
   "metadata": {
    "collapsed": true
   },
   "outputs": [],
   "source": [
    "df = sqlContext.read.format('com.databricks.spark.csv').\\\n",
    "options(header='true', inferschema='true').\\\n",
    "load('/Users/guillermobreto/Downloads/fred_timeseries_project/data/fred_codes/FRED_DOTSRG3Q086SBEA.csv')"
   ]
  },
  {
   "cell_type": "code",
   "execution_count": 28,
   "metadata": {
    "collapsed": false
   },
   "outputs": [
    {
     "name": "stdout",
     "output_type": "stream",
     "text": [
      "+----------+-----+\n",
      "|      DATE|VALUE|\n",
      "+----------+-----+\n",
      "|1947-01-01|8.341|\n",
      "|1947-04-01|8.392|\n",
      "|1947-07-01|8.619|\n",
      "|1947-10-01|8.737|\n",
      "+----------+-----+\n",
      "only showing top 4 rows\n",
      "\n"
     ]
    }
   ],
   "source": [
    "df.show(4)"
   ]
  },
  {
   "cell_type": "code",
   "execution_count": 29,
   "metadata": {
    "collapsed": true
   },
   "outputs": [],
   "source": [
    "import pyspark.sql.functions as f"
   ]
  },
  {
   "cell_type": "code",
   "execution_count": 31,
   "metadata": {
    "collapsed": false
   },
   "outputs": [],
   "source": [
    "df = df.withColumn(\"name\", f.lit(\"DOTSRG3Q086SBEA\"))"
   ]
  },
  {
   "cell_type": "code",
   "execution_count": 32,
   "metadata": {
    "collapsed": false
   },
   "outputs": [
    {
     "name": "stdout",
     "output_type": "stream",
     "text": [
      "+----------+-----+---------------+\n",
      "|      DATE|VALUE|           name|\n",
      "+----------+-----+---------------+\n",
      "|1947-01-01|8.341|DOTSRG3Q086SBEA|\n",
      "|1947-04-01|8.392|DOTSRG3Q086SBEA|\n",
      "|1947-07-01|8.619|DOTSRG3Q086SBEA|\n",
      "+----------+-----+---------------+\n",
      "only showing top 3 rows\n",
      "\n"
     ]
    }
   ],
   "source": [
    "df.show(3)"
   ]
  },
  {
   "cell_type": "code",
   "execution_count": 261,
   "metadata": {
    "collapsed": false
   },
   "outputs": [
    {
     "name": "stdout",
     "output_type": "stream",
     "text": [
      "40809\n"
     ]
    }
   ],
   "source": [
    "rdd = sc.wholeTextFiles(\"/Users/guillermobreto/Downloads/fred_timeseries_project/data/fred_codes/\")\n",
    "print(rdd.count())\n",
    "from pyspark.sql.functions import explode\n",
    "import pyspark.sql.functions as f\n",
    "from pyspark.sql.functions import udf\n",
    "from datetime import datetime\n",
    "\n",
    "from pyspark import SparkContext, SQLContext\n",
    "from pyspark.sql import Row\n",
    "from pyspark.sql.types import StructType, StructField, TimestampType, DoubleType, StringType\n",
    "\n",
    "from sparkts.datetimeindex import uniform, BusinessDayFrequency\n",
    "from sparkts.timeseriesrdd import time_series_rdd_from_observations\n",
    "\n",
    "import numpy as np\n",
    "import pandas as pd\n",
    "\n",
    "\n",
    "rdd_df = rdd.map(lambda r: (r[0].split(\"_\")[2].strip(\".csv\"),filter(None, r[1].split(\"\\n\")[1:]))).toDF([\"symbol\",\"v\"])\n",
    "\n",
    "\n",
    "\n",
    "def grabValue(tup):\n",
    "    if isinstance(tuple(tup), tuple):\n",
    "        return float(tup.split(\",\")[1])\n",
    "    else:\n",
    "        return np.nan\n",
    "\n",
    "def grabDate(tup):\n",
    "    if isinstance(tuple(tup), tuple):\n",
    "        return pd.to_datetime(tup.split(\",\")[0])\n",
    "    else:\n",
    "        return np.nan\n",
    "    \n",
    "def to_tuple(tup):\n",
    "    if len(tup)>5:\n",
    "        return tup.split(\",\")\n",
    "    else:\n",
    "        return [\"This is not working\", \"for Now\"]\n",
    "\n",
    " \n",
    "udfgrabValue=udf(grabValue, DoubleType())\n",
    "udfgrabDate=udf(grabDate, TimestampType())\n",
    "udfto_tuple=udf(to_tuple, ArrayType(StringType()))\n",
    "\n",
    "\n",
    "rdd_df_exp =  rdd_df.select([rdd_df.symbol,explode(rdd_df.v).alias(\"DATA-VALUE\")])\n",
    "rdd_df_exp = rdd_df_exp.withColumn(\"price\", udfgrabValue(\"DATA-VALUE\"))\n",
    "rdd_df_exp = rdd_df_exp.withColumn(\"timestamp\", udfgrabDate(\"DATA-VALUE\"))\n",
    "df = rdd_df_exp.select([\"timestamp\", \"symbol\", \"price\"])\n",
    "dates = (\"2003-01-01\",  \"2016-09-01\")\n",
    "date_from, date_to = [f.to_date(f.lit(s)).cast(TimestampType()) for s in dates]\n",
    "df_filtered = df.where((df.timestamp > date_from) & (df.timestamp < date_to))\n",
    "tickerTsrdd = time_series_rdd_from_observations(dtIndex, df_filtered, \"timestamp\", \"symbol\", \"price\")\n",
    "\n"
   ]
  },
  {
   "cell_type": "code",
   "execution_count": 80,
   "metadata": {
    "collapsed": false
   },
   "outputs": [
    {
     "name": "stdout",
     "output_type": "stream",
     "text": [
      "DW_test-Copy1.ipynb      \u001b[34mbuild\u001b[m\u001b[m/                   \u001b[34msparkts\u001b[m\u001b[m/\r\n",
      "DW_test.ipynb            \u001b[34mdist\u001b[m\u001b[m/                    \u001b[34msparkts.egg-info\u001b[m\u001b[m/\r\n",
      "FRED-datasets-codes.csv  \u001b[34mfred_data\u001b[m\u001b[m/               ticker.tsv\r\n",
      "MANIFEST.in              setup.py                 ticker.tsv.1\r\n",
      "Makefile                 \u001b[34msource\u001b[m\u001b[m/\r\n"
     ]
    }
   ],
   "source": [
    "ls"
   ]
  },
  {
   "cell_type": "code",
   "execution_count": null,
   "metadata": {
    "collapsed": false
   },
   "outputs": [],
   "source": [
    "rdd.count()"
   ]
  },
  {
   "cell_type": "code",
   "execution_count": 5,
   "metadata": {
    "collapsed": true
   },
   "outputs": [],
   "source": [
    "rdd =  sc.wholeTextFiles(\"/Users/guillermobreto/Desktop/sample_2/\")\n",
    "rdd.count()"
   ]
  },
  {
   "cell_type": "code",
   "execution_count": 6,
   "metadata": {
    "collapsed": false
   },
   "outputs": [
    {
     "data": {
      "text/plain": [
       "2"
      ]
     },
     "execution_count": 6,
     "metadata": {},
     "output_type": "execute_result"
    }
   ],
   "source": [
    "rdd.count()"
   ]
  },
  {
   "cell_type": "code",
   "execution_count": 7,
   "metadata": {
    "collapsed": false
   },
   "outputs": [
    {
     "name": "stdout",
     "output_type": "stream",
     "text": [
      "+--------------------+--------------------+\n",
      "|                  _1|                  _2|\n",
      "+--------------------+--------------------+\n",
      "|file:/Users/guill...|DATE,VALUE\n",
      "2005-0...|\n",
      "|file:/Users/guill...|DATE,VALUE\n",
      "1996-0...|\n",
      "+--------------------+--------------------+\n",
      "\n"
     ]
    }
   ],
   "source": [
    "rdd.toDF().show()"
   ]
  },
  {
   "cell_type": "code",
   "execution_count": 55,
   "metadata": {
    "collapsed": false
   },
   "outputs": [
    {
     "name": "stdout",
     "output_type": "stream",
     "text": [
      "+---------------------------------------------------------------------------------------------------------------------------------------------------------------------------------------------------------------------------------------------------------------------------------------------------------------------------------------------------------------------------------------------------------------------------------------------------------------------------------------------------------------------------------------------------------------------------------------------------------------------------------------------------------------------------------------------------------------------------------------------------------------------------------------------------------------------------------------------------------------------------------------------------------------------------------------------------------------------------------------------------------------------------------------------------------------------------------------------------------------------------------------------------------------------------------------------------------------------------------------------------------------------------------------------------------------------------------------------------------------------------------------------------------------------------------------------------------------------------------------------------------------------------------------------------------------------------------------------------------------------------------------------------------------------------------------------------------------------------------------------------------------------------------------------------------------------------------------------------------------------------------------------------------------------------------------------------------------------------------------------------------------------------------------------------------------------------------------------------------------------------------------------------------------------------------------------------------------------------------------------------------------------------------------------------------------------------------------------------------------------------------------------------------------------------------------------------------------------------------------------------------------------------------------------------------------------------------------------------------------------------------------------------------------------------------------------------------------------------------------------------------------------------------------------------------------------------------------------------------------------------------------------------------------------------------------------------------------------------------------------------------------------------------------------------------------------------------------------------------------------------------------------------------------------------------------------------------------------------------------------------------------------------------------------------------------------------------------------------------------------------------------------------------------------------------------------------------------------------------------------------------------------------------------------------------------------------------------------------------------------------------------------------------------------------------------------------------------------------------------------------------------------------------------------------------------------------------------------------------------------------------------------------------------------------------------------------------------------------------------------------------------------------------------------------------------------------------------------------------------------------------------------------------------------------------------------------------------------------------------------------------------------------------------------------------------------------------------------------------------------------------------------------+\n",
      "|val                                                                                                                                                                                                                                                                                                                                                                                                                                                                                                                                                                                                                                                                                                                                                                                                                                                                                                                                                                                                                                                                                                                                                                                                                                                                                                                                                                                                                                                                                                                                                                                                                                                                                                                                                                                                                                                                                                                                                                                                                                                                                                                                                                                                                                                                                                                                                                                                                                                                                                                                                                                                                                                                                                                                                                                                                                                                                                                                                                                                                                                                                                                                                                                                                                                                                                                                                                                                                                                                                                                                                                                                                                                                                                                                                                                                                                                                                                                                                                                                                                                                                                                                                                                                                                                                                                                                                                                                |\n",
      "+---------------------------------------------------------------------------------------------------------------------------------------------------------------------------------------------------------------------------------------------------------------------------------------------------------------------------------------------------------------------------------------------------------------------------------------------------------------------------------------------------------------------------------------------------------------------------------------------------------------------------------------------------------------------------------------------------------------------------------------------------------------------------------------------------------------------------------------------------------------------------------------------------------------------------------------------------------------------------------------------------------------------------------------------------------------------------------------------------------------------------------------------------------------------------------------------------------------------------------------------------------------------------------------------------------------------------------------------------------------------------------------------------------------------------------------------------------------------------------------------------------------------------------------------------------------------------------------------------------------------------------------------------------------------------------------------------------------------------------------------------------------------------------------------------------------------------------------------------------------------------------------------------------------------------------------------------------------------------------------------------------------------------------------------------------------------------------------------------------------------------------------------------------------------------------------------------------------------------------------------------------------------------------------------------------------------------------------------------------------------------------------------------------------------------------------------------------------------------------------------------------------------------------------------------------------------------------------------------------------------------------------------------------------------------------------------------------------------------------------------------------------------------------------------------------------------------------------------------------------------------------------------------------------------------------------------------------------------------------------------------------------------------------------------------------------------------------------------------------------------------------------------------------------------------------------------------------------------------------------------------------------------------------------------------------------------------------------------------------------------------------------------------------------------------------------------------------------------------------------------------------------------------------------------------------------------------------------------------------------------------------------------------------------------------------------------------------------------------------------------------------------------------------------------------------------------------------------------------------------------------------------------------------------------------------------------------------------------------------------------------------------------------------------------------------------------------------------------------------------------------------------------------------------------------------------------------------------------------------------------------------------------------------------------------------------------------------------------------------------------------------------------------+\n",
      "|DATE,VALUE\n",
      "2005-01-01,97.0\n",
      "2005-02-01,97.3\n",
      "2005-03-01,97.4\n",
      "2005-04-01,98.2\n",
      "2005-05-01,98.2\n",
      "2005-06-01,97.9\n",
      "2005-07-01,97.3\n",
      "2005-08-01,97.4\n",
      "2005-09-01,97.8\n",
      "2005-10-01,98.6\n",
      "2005-11-01,98.4\n",
      "2005-12-01,98.3\n",
      "2006-01-01,98.2\n",
      "2006-02-01,98.4\n",
      "2006-03-01,98.4\n",
      "2006-04-01,99.2\n",
      "2006-05-01,99.3\n",
      "2006-06-01,99.3\n",
      "2006-07-01,98.6\n",
      "2006-08-01,98.7\n",
      "2006-09-01,98.5\n",
      "2006-10-01,98.9\n",
      "2006-11-01,98.8\n",
      "2006-12-01,98.8\n",
      "2007-01-01,98.2\n",
      "2007-02-01,98.5\n",
      "2007-03-01,98.6\n",
      "2007-04-01,99.7\n",
      "2007-05-01,99.8\n",
      "2007-06-01,99.9\n",
      "2007-07-01,99.3\n",
      "2007-08-01,99.2\n",
      "2007-09-01,99.3\n",
      "2007-10-01,100.2\n",
      "2007-11-01,100.6\n",
      "2007-12-01,100.8\n",
      "2008-01-01,100.8\n",
      "2008-02-01,100.7\n",
      "2008-03-01,101.0\n",
      "2008-04-01,101.9\n",
      "2008-05-01,102.5\n",
      "2008-06-01,102.8\n",
      "2008-07-01,102.6\n",
      "2008-08-01,102.3\n",
      "2008-09-01,102.1\n",
      "2008-10-01,102.7\n",
      "2008-11-01,101.7\n",
      "2008-12-01,101.1\n",
      "2009-01-01,100.6\n",
      "2009-02-01,100.6\n",
      "2009-03-01,100.3\n",
      "2009-04-01,101.3\n",
      "2009-05-01,101.2\n",
      "2009-06-01,101.4\n",
      "2009-07-01,101.0\n",
      "2009-08-01,101.2\n",
      "2009-09-01,100.9\n",
      "2009-10-01,101.6\n",
      "2009-11-01,101.5\n",
      "2009-12-01,101.2\n",
      "2010-01-01,101.4\n",
      "2010-02-01,101.4\n",
      "2010-03-01,101.7\n",
      "2010-04-01,102.5\n",
      "2010-05-01,102.2\n",
      "2010-06-01,101.9\n",
      "2010-07-01,101.4\n",
      "2010-08-01,101.4\n",
      "2010-09-01,101.2\n",
      "2010-10-01,101.8\n",
      "2010-11-01,101.7\n",
      "2010-12-01,101.7\n",
      "2011-01-01,101.4\n",
      "2011-02-01,101.8\n",
      "2011-03-01,102.6\n",
      "2011-04-01,102.6\n",
      "2011-05-01,102.5\n",
      "2011-06-01,102.4\n",
      "2011-07-01,101.5\n",
      "2011-08-01,100.9\n",
      "2011-09-01,101.5\n",
      "2011-10-01,101.4\n",
      "2011-11-01,100.9\n",
      "2011-12-01,101.1\n",
      "2012-01-01,100.4\n",
      "2012-02-01,100.6\n",
      "2012-03-01,101.4\n",
      "2012-04-01,101.5\n",
      "2012-05-01,101.2\n",
      "2012-06-01,101.0\n",
      "2012-07-01,100.7\n",
      "2012-08-01,100.4\n",
      "2012-09-01,101.1\n",
      "2012-10-01,101.2\n",
      "2012-11-01,100.7\n",
      "2012-12-01,100.8\n",
      "2013-01-01,100.3\n",
      "2013-02-01,100.6\n",
      "2013-03-01,101.0\n",
      "2013-04-01,101.0\n",
      "2013-05-01,101.0\n",
      "2013-06-01,101.1\n",
      "2013-07-01,101.2\n",
      "2013-08-01,100.8\n",
      "2013-09-01,101.3\n",
      "2013-10-01,101.1\n",
      "2013-11-01,100.8\n",
      "2013-12-01,101.0\n",
      "2014-01-01,100.4\n",
      "2014-02-01,100.4\n",
      "2014-03-01,100.9\n",
      "2014-04-01,101.1\n",
      "2014-05-01,101.1\n",
      "2014-06-01,101.0\n",
      "2014-07-01,101.0\n",
      "2014-08-01,100.8\n",
      "2014-09-01,101.2\n",
      "2014-10-01,101.2\n",
      "2014-11-01,100.9\n",
      "2014-12-01,100.9\n",
      "2015-01-01,100.29\n",
      "2015-02-01,99.93\n",
      "2015-03-01,100.4\n",
      "2015-04-01,100.13\n",
      "2015-05-01,100.2\n",
      "2015-06-01,100.33\n",
      "2015-07-01,100.13\n",
      "2015-08-01,99.58\n",
      "2015-09-01,99.93\n",
      "2015-10-01,99.97\n",
      "2015-11-01,99.62\n",
      "2015-12-01,99.51\n",
      "2016-01-01,98.79\n",
      "2016-02-01,98.94\n",
      "2016-03-01,99.33\n",
      "2016-04-01,99.57\n",
      "2016-05-01,99.71\n",
      "2016-06-01,99.74\n",
      "2016-07-01,99.66\n",
      "2016-08-01,99.61\n",
      "                                                                                                                                                                                                                                                                                                                                                                                                                                                                                                                                                                                                                                                                                                                                                                                                                                                                                                                                                                                                                                                                                                                                                                                                                                                                                                                                                                                                                                                                                                                                                                                                                                                                                                                                                                                                                                                                                                                                         |\n",
      "|DATE,VALUE\n",
      "1996-01-01,71.22\n",
      "1996-02-01,71.56\n",
      "1996-03-01,71.71\n",
      "1996-04-01,71.86\n",
      "1996-05-01,72.08\n",
      "1996-06-01,72.06\n",
      "1996-07-01,72.04\n",
      "1996-08-01,71.79\n",
      "1996-09-01,71.91\n",
      "1996-10-01,72.02\n",
      "1996-11-01,71.84\n",
      "1996-12-01,71.93\n",
      "1997-01-01,71.79\n",
      "1997-02-01,71.89\n",
      "1997-03-01,72.18\n",
      "1997-04-01,72.44\n",
      "1997-05-01,72.65\n",
      "1997-06-01,72.75\n",
      "1997-07-01,72.75\n",
      "1997-08-01,72.92\n",
      "1997-09-01,73.02\n",
      "1997-10-01,73.14\n",
      "1997-11-01,73.08\n",
      "1997-12-01,73.09\n",
      "1998-01-01,73.08\n",
      "1998-02-01,73.06\n",
      "1998-03-01,73.28\n",
      "1998-04-01,73.67\n",
      "1998-05-01,73.79\n",
      "1998-06-01,73.92\n",
      "1998-07-01,73.55\n",
      "1998-08-01,73.69\n",
      "1998-09-01,74.0\n",
      "1998-10-01,73.92\n",
      "1998-11-01,73.69\n",
      "1998-12-01,73.66\n",
      "1999-01-01,73.48\n",
      "1999-02-01,73.71\n",
      "1999-03-01,73.92\n",
      "1999-04-01,74.54\n",
      "1999-05-01,74.77\n",
      "1999-06-01,74.75\n",
      "1999-07-01,74.52\n",
      "1999-08-01,74.64\n",
      "1999-09-01,74.97\n",
      "1999-10-01,75.07\n",
      "1999-11-01,75.02\n",
      "1999-12-01,75.32\n",
      "2000-01-01,75.14\n",
      "2000-02-01,75.72\n",
      "2000-03-01,76.3\n",
      "2000-04-01,76.43\n",
      "2000-05-01,76.75\n",
      "2000-06-01,77.07\n",
      "2000-07-01,76.69\n",
      "2000-08-01,76.78\n",
      "2000-09-01,77.64\n",
      "2000-10-01,77.7\n",
      "2000-11-01,77.6\n",
      "2000-12-01,77.44\n",
      "2001-01-01,77.27\n",
      "2001-02-01,77.8\n",
      "2001-03-01,78.22\n",
      "2001-04-01,78.64\n",
      "2001-05-01,79.39\n",
      "2001-06-01,79.45\n",
      "2001-07-01,78.77\n",
      "2001-08-01,78.93\n",
      "2001-09-01,79.66\n",
      "2001-10-01,79.6\n",
      "2001-11-01,79.33\n",
      "2001-12-01,79.27\n",
      "2002-01-01,79.67\n",
      "2002-02-01,79.83\n",
      "2002-03-01,80.33\n",
      "2002-04-01,80.67\n",
      "2002-05-01,80.86\n",
      "2002-06-01,80.66\n",
      "2002-07-01,80.41\n",
      "2002-08-01,80.38\n",
      "2002-09-01,80.74\n",
      "2002-10-01,80.97\n",
      "2002-11-01,80.73\n",
      "2002-12-01,80.73\n",
      "2003-01-01,80.83\n",
      "2003-02-01,81.54\n",
      "2003-03-01,81.83\n",
      "2003-04-01,81.81\n",
      "2003-05-01,81.69\n",
      "2003-06-01,81.6\n",
      "2003-07-01,81.18\n",
      "2003-08-01,81.34\n",
      "2003-09-01,81.76\n",
      "2003-10-01,81.69\n",
      "2003-11-01,81.61\n",
      "2003-12-01,81.7\n",
      "2004-01-01,81.41\n",
      "2004-02-01,81.87\n",
      "2004-03-01,82.19\n",
      "2004-04-01,82.21\n",
      "2004-05-01,82.32\n",
      "2004-06-01,82.27\n",
      "2004-07-01,82.09\n",
      "2004-08-01,82.31\n",
      "2004-09-01,82.68\n",
      "2004-10-01,83.0\n",
      "2004-11-01,82.58\n",
      "2004-12-01,82.58\n",
      "2005-01-01,82.05\n",
      "2005-02-01,82.61\n",
      "2005-03-01,82.97\n",
      "2005-04-01,83.22\n",
      "2005-05-01,82.89\n",
      "2005-06-01,83.11\n",
      "2005-07-01,82.82\n",
      "2005-08-01,83.09\n",
      "2005-09-01,83.63\n",
      "2005-10-01,83.6\n",
      "2005-11-01,83.3\n",
      "2005-12-01,83.38\n",
      "2006-01-01,82.99\n",
      "2006-02-01,83.66\n",
      "2006-03-01,83.9\n",
      "2006-04-01,84.37\n",
      "2006-05-01,84.29\n",
      "2006-06-01,84.31\n",
      "2006-07-01,83.9\n",
      "2006-08-01,84.17\n",
      "2006-09-01,84.25\n",
      "2006-10-01,84.39\n",
      "2006-11-01,84.39\n",
      "2006-12-01,84.42\n",
      "2007-01-01,84.07\n",
      "2007-02-01,84.62\n",
      "2007-03-01,85.28\n",
      "2007-04-01,85.69\n",
      "2007-05-01,85.41\n",
      "2007-06-01,85.55\n",
      "2007-07-01,85.29\n",
      "2007-08-01,85.29\n",
      "2007-09-01,85.68\n",
      "2007-10-01,85.94\n",
      "2007-11-01,86.27\n",
      "2007-12-01,86.06\n",
      "2008-01-01,86.88\n",
      "2008-02-01,87.3\n",
      "2008-03-01,88.22\n",
      "2008-04-01,88.38\n",
      "2008-05-01,88.87\n",
      "2008-06-01,89.19\n",
      "2008-07-01,88.92\n",
      "2008-08-01,89.18\n",
      "2008-09-01,89.68\n",
      "2008-10-01,89.65\n",
      "2008-11-01,89.15\n",
      "2008-12-01,88.85\n",
      "2009-01-01,88.75\n",
      "2009-02-01,89.38\n",
      "2009-03-01,89.73\n",
      "2009-04-01,89.92\n",
      "2009-05-01,89.85\n",
      "2009-06-01,90.26\n",
      "2009-07-01,89.59\n",
      "2009-08-01,90.0\n",
      "2009-09-01,90.31\n",
      "2009-10-01,89.64\n",
      "2009-11-01,89.82\n",
      "2009-12-01,89.98\n",
      "2010-01-01,89.94\n",
      "2010-02-01,90.28\n",
      "2010-03-01,90.87\n",
      "2010-04-01,91.15\n",
      "2010-05-01,90.96\n",
      "2010-06-01,91.19\n",
      "2010-07-01,90.56\n",
      "2010-08-01,90.93\n",
      "2010-09-01,91.37\n",
      "2010-10-01,91.77\n",
      "2010-11-01,91.99\n",
      "2010-12-01,92.51\n",
      "2011-01-01,92.85\n",
      "2011-02-01,93.62\n",
      "2011-03-01,94.2\n",
      "2011-04-01,94.4\n",
      "2011-05-01,94.25\n",
      "2011-06-01,94.5\n",
      "2011-07-01,94.07\n",
      "2011-08-01,94.28\n",
      "2011-09-01,94.69\n",
      "2011-10-01,94.86\n",
      "2011-11-01,95.06\n",
      "2011-12-01,95.01\n",
      "2012-01-01,95.55\n",
      "2012-02-01,96.28\n",
      "2012-03-01,96.78\n",
      "2012-04-01,97.02\n",
      "2012-05-01,96.85\n",
      "2012-06-01,96.97\n",
      "2012-07-01,96.7\n",
      "2012-08-01,97.06\n",
      "2012-09-01,97.66\n",
      "2012-10-01,97.93\n",
      "2012-11-01,97.84\n",
      "2012-12-01,98.07\n",
      "2013-01-01,97.96\n",
      "2013-02-01,98.59\n",
      "2013-03-01,99.12\n",
      "2013-04-01,99.31\n",
      "2013-05-01,99.3\n",
      "2013-06-01,99.25\n",
      "2013-07-01,99.22\n",
      "2013-08-01,99.09\n",
      "2013-09-01,99.49\n",
      "2013-10-01,99.63\n",
      "2013-11-01,99.59\n",
      "2013-12-01,99.98\n",
      "2014-01-01,99.74\n",
      "2014-02-01,100.04\n",
      "2014-03-01,100.3\n",
      "2014-04-01,100.43\n",
      "2014-05-01,100.11\n",
      "2014-06-01,100.08\n",
      "2014-07-01,99.95\n",
      "2014-08-01,100.13\n",
      "2014-09-01,100.8\n",
      "2014-10-01,100.59\n",
      "2014-11-01,100.44\n",
      "2014-12-01,100.29\n",
      "2015-01-01,99.45\n",
      "2015-02-01,99.81\n",
      "2015-03-01,100.22\n",
      "2015-04-01,100.25\n",
      "2015-05-01,100.13\n",
      "2015-06-01,100.15\n",
      "2015-07-01,99.8\n",
      "2015-08-01,99.85\n",
      "2015-09-01,100.01\n",
      "2015-10-01,100.19\n",
      "2015-11-01,100.15\n",
      "2015-12-01,99.98\n",
      "2016-01-01,99.48\n",
      "2016-02-01,99.65\n",
      "2016-03-01,100.18\n",
      "2016-04-01,100.49\n",
      "2016-05-01,100.41\n",
      "2016-06-01,100.47\n",
      "2016-07-01,100.22\n",
      "2016-08-01,100.27\n",
      "|\n",
      "+---------------------------------------------------------------------------------------------------------------------------------------------------------------------------------------------------------------------------------------------------------------------------------------------------------------------------------------------------------------------------------------------------------------------------------------------------------------------------------------------------------------------------------------------------------------------------------------------------------------------------------------------------------------------------------------------------------------------------------------------------------------------------------------------------------------------------------------------------------------------------------------------------------------------------------------------------------------------------------------------------------------------------------------------------------------------------------------------------------------------------------------------------------------------------------------------------------------------------------------------------------------------------------------------------------------------------------------------------------------------------------------------------------------------------------------------------------------------------------------------------------------------------------------------------------------------------------------------------------------------------------------------------------------------------------------------------------------------------------------------------------------------------------------------------------------------------------------------------------------------------------------------------------------------------------------------------------------------------------------------------------------------------------------------------------------------------------------------------------------------------------------------------------------------------------------------------------------------------------------------------------------------------------------------------------------------------------------------------------------------------------------------------------------------------------------------------------------------------------------------------------------------------------------------------------------------------------------------------------------------------------------------------------------------------------------------------------------------------------------------------------------------------------------------------------------------------------------------------------------------------------------------------------------------------------------------------------------------------------------------------------------------------------------------------------------------------------------------------------------------------------------------------------------------------------------------------------------------------------------------------------------------------------------------------------------------------------------------------------------------------------------------------------------------------------------------------------------------------------------------------------------------------------------------------------------------------------------------------------------------------------------------------------------------------------------------------------------------------------------------------------------------------------------------------------------------------------------------------------------------------------------------------------------------------------------------------------------------------------------------------------------------------------------------------------------------------------------------------------------------------------------------------------------------------------------------------------------------------------------------------------------------------------------------------------------------------------------------------------------------------------------------------+\n",
      "\n"
     ]
    }
   ],
   "source": [
    "rdd.toDF([\"key\",\"val\"]).select(\"val\").show(truncate=False)"
   ]
  },
  {
   "cell_type": "code",
   "execution_count": 56,
   "metadata": {
    "collapsed": true
   },
   "outputs": [],
   "source": [
    "ele = rdd.toDF([\"key\",\"val\"])"
   ]
  },
  {
   "cell_type": "code",
   "execution_count": 59,
   "metadata": {
    "collapsed": false
   },
   "outputs": [
    {
     "name": "stdout",
     "output_type": "stream",
     "text": [
      "+--------------------+--------------------+\n",
      "|                 key|                 val|\n",
      "+--------------------+--------------------+\n",
      "|file:/Users/guill...|DATE,VALUE\n",
      "2005-0...|\n",
      "|file:/Users/guill...|DATE,VALUE\n",
      "1996-0...|\n",
      "+--------------------+--------------------+\n",
      "\n"
     ]
    }
   ],
   "source": [
    "ele.show(2)"
   ]
  },
  {
   "cell_type": "code",
   "execution_count": 8,
   "metadata": {
    "collapsed": true
   },
   "outputs": [],
   "source": [
    "from pyspark.sql.functions import explode"
   ]
  },
  {
   "cell_type": "code",
   "execution_count": 9,
   "metadata": {
    "collapsed": false
   },
   "outputs": [],
   "source": [
    "import pyspark.sql.functions as f"
   ]
  },
  {
   "cell_type": "code",
   "execution_count": 10,
   "metadata": {
    "collapsed": false
   },
   "outputs": [],
   "source": [
    "rdd_df = rdd.map(lambda r: (r[0].split(\"_\")[2].strip(\".csv\"),filter(None, r[1].split(\"\\n\")[1:]))).toDF([\"symbol\",\"v\"])"
   ]
  },
  {
   "cell_type": "code",
   "execution_count": 11,
   "metadata": {
    "collapsed": false
   },
   "outputs": [],
   "source": [
    "rdd_df_exp =  rdd_df.select([rdd_df.symbol,explode(rdd_df.v).alias(\"DATA-VALUE\")])\n"
   ]
  },
  {
   "cell_type": "code",
   "execution_count": 12,
   "metadata": {
    "collapsed": false
   },
   "outputs": [
    {
     "name": "stdout",
     "output_type": "stream",
     "text": [
      "+----------------+---------------+\n",
      "|          symbol|     DATA-VALUE|\n",
      "+----------------+---------------+\n",
      "|00XALCCHM086NEST|2005-01-01,97.0|\n",
      "|00XALCCHM086NEST|2005-02-01,97.3|\n",
      "+----------------+---------------+\n",
      "only showing top 2 rows\n",
      "\n"
     ]
    }
   ],
   "source": [
    "rdd_df_exp.show(2)"
   ]
  },
  {
   "cell_type": "code",
   "execution_count": 13,
   "metadata": {
    "collapsed": false
   },
   "outputs": [
    {
     "data": {
      "text/plain": [
       "2"
      ]
     },
     "execution_count": 13,
     "metadata": {},
     "output_type": "execute_result"
    }
   ],
   "source": [
    "rdd_df_exp.select(\"symbol\").distinct().count()"
   ]
  },
  {
   "cell_type": "code",
   "execution_count": 169,
   "metadata": {
    "collapsed": true
   },
   "outputs": [],
   "source": [
    "import pandas as pd"
   ]
  },
  {
   "cell_type": "code",
   "execution_count": 19,
   "metadata": {
    "collapsed": false
   },
   "outputs": [],
   "source": [
    "from pyspark.sql.functions import udf\n",
    "from pyspark.sql.types import DoubleType, TimestampType, ArrayType\n",
    "\n",
    "import numpy as np\n",
    "import pandas as pd\n",
    "def grabValue(tup):\n",
    "    if isinstance(tuple(tup), tuple):\n",
    "        return float(tup.split(\",\")[1])\n",
    "    else:\n",
    "        return np.nan\n",
    "\n",
    "def grabDate(tup):\n",
    "    if isinstance(tuple(tup), tuple):\n",
    "        return pd.to_datetime(tup.split(\",\")[0])\n",
    "    else:\n",
    "        return np.nan\n",
    "    \n",
    "def to_tuple(tup):\n",
    "    if len(tup)>5:\n",
    "        return tup.split(\",\")\n",
    "    else:\n",
    "        return [\"This is not working\", \"for Now\"]\n",
    "\n",
    " \n",
    "udfgrabValue=udf(grabValue, DoubleType())\n",
    "udfgrabDate=udf(grabDate, TimestampType())\n",
    "udfto_tuple=udf(to_tuple, ArrayType(StringType()))\n",
    "\n",
    "\n",
    "rdd_df_exp =  rdd_df.select([rdd_df.symbol,explode(rdd_df.v).alias(\"DATA-VALUE\")])\n",
    "\n"
   ]
  },
  {
   "cell_type": "code",
   "execution_count": 20,
   "metadata": {
    "collapsed": false
   },
   "outputs": [
    {
     "name": "stdout",
     "output_type": "stream",
     "text": [
      "root\n",
      " |-- symbol: string (nullable = true)\n",
      " |-- DATA-VALUE: string (nullable = true)\n",
      "\n"
     ]
    }
   ],
   "source": [
    "rdd_df_exp.printSchema()"
   ]
  },
  {
   "cell_type": "code",
   "execution_count": 21,
   "metadata": {
    "collapsed": false
   },
   "outputs": [],
   "source": [
    "rdd_df_exp = rdd_df_exp.withColumn(\"price\", udfgrabValue(\"DATA-VALUE\"))\n",
    "rdd_df_exp = rdd_df_exp.withColumn(\"timestamp\", udfgrabDate(\"DATA-VALUE\"))\n",
    "\n"
   ]
  },
  {
   "cell_type": "code",
   "execution_count": 22,
   "metadata": {
    "collapsed": false
   },
   "outputs": [
    {
     "name": "stdout",
     "output_type": "stream",
     "text": [
      "+----------------+---------------+-----+--------------------+\n",
      "|          symbol|     DATA-VALUE|price|           timestamp|\n",
      "+----------------+---------------+-----+--------------------+\n",
      "|00XALCCHM086NEST|2005-01-01,97.0| 97.0|2005-01-01 00:00:...|\n",
      "|00XALCCHM086NEST|2005-02-01,97.3| 97.3|2005-02-01 00:00:...|\n",
      "|00XALCCHM086NEST|2005-03-01,97.4| 97.4|2005-03-01 00:00:...|\n",
      "+----------------+---------------+-----+--------------------+\n",
      "only showing top 3 rows\n",
      "\n"
     ]
    }
   ],
   "source": [
    "rdd_df_exp.show(3)"
   ]
  },
  {
   "cell_type": "code",
   "execution_count": 23,
   "metadata": {
    "collapsed": false
   },
   "outputs": [
    {
     "data": {
      "text/plain": [
       "[Row(symbol=u'00XALCCHM086NEST', DATA-VALUE=u'2005-01-01,97.0', price=97.0, timestamp=datetime.datetime(2005, 1, 1, 0, 0)),\n",
       " Row(symbol=u'00XALCCHM086NEST', DATA-VALUE=u'2005-02-01,97.3', price=97.3, timestamp=datetime.datetime(2005, 2, 1, 0, 0)),\n",
       " Row(symbol=u'00XALCCHM086NEST', DATA-VALUE=u'2005-03-01,97.4', price=97.4, timestamp=datetime.datetime(2005, 3, 1, 0, 0)),\n",
       " Row(symbol=u'00XALCCHM086NEST', DATA-VALUE=u'2005-04-01,98.2', price=98.2, timestamp=datetime.datetime(2005, 4, 1, 0, 0)),\n",
       " Row(symbol=u'00XALCCHM086NEST', DATA-VALUE=u'2005-05-01,98.2', price=98.2, timestamp=datetime.datetime(2005, 5, 1, 0, 0)),\n",
       " Row(symbol=u'00XALCCHM086NEST', DATA-VALUE=u'2005-06-01,97.9', price=97.9, timestamp=datetime.datetime(2005, 6, 1, 0, 0)),\n",
       " Row(symbol=u'00XALCCHM086NEST', DATA-VALUE=u'2005-07-01,97.3', price=97.3, timestamp=datetime.datetime(2005, 7, 1, 0, 0)),\n",
       " Row(symbol=u'00XALCCHM086NEST', DATA-VALUE=u'2005-08-01,97.4', price=97.4, timestamp=datetime.datetime(2005, 8, 1, 0, 0)),\n",
       " Row(symbol=u'00XALCCHM086NEST', DATA-VALUE=u'2005-09-01,97.8', price=97.8, timestamp=datetime.datetime(2005, 9, 1, 0, 0)),\n",
       " Row(symbol=u'00XALCCHM086NEST', DATA-VALUE=u'2005-10-01,98.6', price=98.6, timestamp=datetime.datetime(2005, 10, 1, 0, 0)),\n",
       " Row(symbol=u'00XALCCHM086NEST', DATA-VALUE=u'2005-11-01,98.4', price=98.4, timestamp=datetime.datetime(2005, 11, 1, 0, 0)),\n",
       " Row(symbol=u'00XALCCHM086NEST', DATA-VALUE=u'2005-12-01,98.3', price=98.3, timestamp=datetime.datetime(2005, 12, 1, 0, 0)),\n",
       " Row(symbol=u'00XALCCHM086NEST', DATA-VALUE=u'2006-01-01,98.2', price=98.2, timestamp=datetime.datetime(2006, 1, 1, 0, 0)),\n",
       " Row(symbol=u'00XALCCHM086NEST', DATA-VALUE=u'2006-02-01,98.4', price=98.4, timestamp=datetime.datetime(2006, 2, 1, 0, 0)),\n",
       " Row(symbol=u'00XALCCHM086NEST', DATA-VALUE=u'2006-03-01,98.4', price=98.4, timestamp=datetime.datetime(2006, 3, 1, 0, 0)),\n",
       " Row(symbol=u'00XALCCHM086NEST', DATA-VALUE=u'2006-04-01,99.2', price=99.2, timestamp=datetime.datetime(2006, 4, 1, 0, 0)),\n",
       " Row(symbol=u'00XALCCHM086NEST', DATA-VALUE=u'2006-05-01,99.3', price=99.3, timestamp=datetime.datetime(2006, 5, 1, 0, 0)),\n",
       " Row(symbol=u'00XALCCHM086NEST', DATA-VALUE=u'2006-06-01,99.3', price=99.3, timestamp=datetime.datetime(2006, 6, 1, 0, 0)),\n",
       " Row(symbol=u'00XALCCHM086NEST', DATA-VALUE=u'2006-07-01,98.6', price=98.6, timestamp=datetime.datetime(2006, 7, 1, 0, 0)),\n",
       " Row(symbol=u'00XALCCHM086NEST', DATA-VALUE=u'2006-08-01,98.7', price=98.7, timestamp=datetime.datetime(2006, 8, 1, 0, 0)),\n",
       " Row(symbol=u'00XALCCHM086NEST', DATA-VALUE=u'2006-09-01,98.5', price=98.5, timestamp=datetime.datetime(2006, 9, 1, 0, 0)),\n",
       " Row(symbol=u'00XALCCHM086NEST', DATA-VALUE=u'2006-10-01,98.9', price=98.9, timestamp=datetime.datetime(2006, 10, 1, 0, 0)),\n",
       " Row(symbol=u'00XALCCHM086NEST', DATA-VALUE=u'2006-11-01,98.8', price=98.8, timestamp=datetime.datetime(2006, 11, 1, 0, 0)),\n",
       " Row(symbol=u'00XALCCHM086NEST', DATA-VALUE=u'2006-12-01,98.8', price=98.8, timestamp=datetime.datetime(2006, 12, 1, 0, 0)),\n",
       " Row(symbol=u'00XALCCHM086NEST', DATA-VALUE=u'2007-01-01,98.2', price=98.2, timestamp=datetime.datetime(2007, 1, 1, 0, 0)),\n",
       " Row(symbol=u'00XALCCHM086NEST', DATA-VALUE=u'2007-02-01,98.5', price=98.5, timestamp=datetime.datetime(2007, 2, 1, 0, 0)),\n",
       " Row(symbol=u'00XALCCHM086NEST', DATA-VALUE=u'2007-03-01,98.6', price=98.6, timestamp=datetime.datetime(2007, 3, 1, 0, 0)),\n",
       " Row(symbol=u'00XALCCHM086NEST', DATA-VALUE=u'2007-04-01,99.7', price=99.7, timestamp=datetime.datetime(2007, 4, 1, 0, 0)),\n",
       " Row(symbol=u'00XALCCHM086NEST', DATA-VALUE=u'2007-05-01,99.8', price=99.8, timestamp=datetime.datetime(2007, 5, 1, 0, 0)),\n",
       " Row(symbol=u'00XALCCHM086NEST', DATA-VALUE=u'2007-06-01,99.9', price=99.9, timestamp=datetime.datetime(2007, 6, 1, 0, 0)),\n",
       " Row(symbol=u'00XALCCHM086NEST', DATA-VALUE=u'2007-07-01,99.3', price=99.3, timestamp=datetime.datetime(2007, 7, 1, 0, 0)),\n",
       " Row(symbol=u'00XALCCHM086NEST', DATA-VALUE=u'2007-08-01,99.2', price=99.2, timestamp=datetime.datetime(2007, 8, 1, 0, 0)),\n",
       " Row(symbol=u'00XALCCHM086NEST', DATA-VALUE=u'2007-09-01,99.3', price=99.3, timestamp=datetime.datetime(2007, 9, 1, 0, 0)),\n",
       " Row(symbol=u'00XALCCHM086NEST', DATA-VALUE=u'2007-10-01,100.2', price=100.2, timestamp=datetime.datetime(2007, 10, 1, 0, 0)),\n",
       " Row(symbol=u'00XALCCHM086NEST', DATA-VALUE=u'2007-11-01,100.6', price=100.6, timestamp=datetime.datetime(2007, 11, 1, 0, 0)),\n",
       " Row(symbol=u'00XALCCHM086NEST', DATA-VALUE=u'2007-12-01,100.8', price=100.8, timestamp=datetime.datetime(2007, 12, 1, 0, 0)),\n",
       " Row(symbol=u'00XALCCHM086NEST', DATA-VALUE=u'2008-01-01,100.8', price=100.8, timestamp=datetime.datetime(2008, 1, 1, 0, 0)),\n",
       " Row(symbol=u'00XALCCHM086NEST', DATA-VALUE=u'2008-02-01,100.7', price=100.7, timestamp=datetime.datetime(2008, 2, 1, 0, 0)),\n",
       " Row(symbol=u'00XALCCHM086NEST', DATA-VALUE=u'2008-03-01,101.0', price=101.0, timestamp=datetime.datetime(2008, 3, 1, 0, 0)),\n",
       " Row(symbol=u'00XALCCHM086NEST', DATA-VALUE=u'2008-04-01,101.9', price=101.9, timestamp=datetime.datetime(2008, 4, 1, 0, 0)),\n",
       " Row(symbol=u'00XALCCHM086NEST', DATA-VALUE=u'2008-05-01,102.5', price=102.5, timestamp=datetime.datetime(2008, 5, 1, 0, 0)),\n",
       " Row(symbol=u'00XALCCHM086NEST', DATA-VALUE=u'2008-06-01,102.8', price=102.8, timestamp=datetime.datetime(2008, 6, 1, 0, 0)),\n",
       " Row(symbol=u'00XALCCHM086NEST', DATA-VALUE=u'2008-07-01,102.6', price=102.6, timestamp=datetime.datetime(2008, 7, 1, 0, 0)),\n",
       " Row(symbol=u'00XALCCHM086NEST', DATA-VALUE=u'2008-08-01,102.3', price=102.3, timestamp=datetime.datetime(2008, 8, 1, 0, 0)),\n",
       " Row(symbol=u'00XALCCHM086NEST', DATA-VALUE=u'2008-09-01,102.1', price=102.1, timestamp=datetime.datetime(2008, 9, 1, 0, 0)),\n",
       " Row(symbol=u'00XALCCHM086NEST', DATA-VALUE=u'2008-10-01,102.7', price=102.7, timestamp=datetime.datetime(2008, 10, 1, 0, 0)),\n",
       " Row(symbol=u'00XALCCHM086NEST', DATA-VALUE=u'2008-11-01,101.7', price=101.7, timestamp=datetime.datetime(2008, 11, 1, 0, 0)),\n",
       " Row(symbol=u'00XALCCHM086NEST', DATA-VALUE=u'2008-12-01,101.1', price=101.1, timestamp=datetime.datetime(2008, 12, 1, 0, 0)),\n",
       " Row(symbol=u'00XALCCHM086NEST', DATA-VALUE=u'2009-01-01,100.6', price=100.6, timestamp=datetime.datetime(2009, 1, 1, 0, 0)),\n",
       " Row(symbol=u'00XALCCHM086NEST', DATA-VALUE=u'2009-02-01,100.6', price=100.6, timestamp=datetime.datetime(2009, 2, 1, 0, 0)),\n",
       " Row(symbol=u'00XALCCHM086NEST', DATA-VALUE=u'2009-03-01,100.3', price=100.3, timestamp=datetime.datetime(2009, 3, 1, 0, 0)),\n",
       " Row(symbol=u'00XALCCHM086NEST', DATA-VALUE=u'2009-04-01,101.3', price=101.3, timestamp=datetime.datetime(2009, 4, 1, 0, 0)),\n",
       " Row(symbol=u'00XALCCHM086NEST', DATA-VALUE=u'2009-05-01,101.2', price=101.2, timestamp=datetime.datetime(2009, 5, 1, 0, 0)),\n",
       " Row(symbol=u'00XALCCHM086NEST', DATA-VALUE=u'2009-06-01,101.4', price=101.4, timestamp=datetime.datetime(2009, 6, 1, 0, 0)),\n",
       " Row(symbol=u'00XALCCHM086NEST', DATA-VALUE=u'2009-07-01,101.0', price=101.0, timestamp=datetime.datetime(2009, 7, 1, 0, 0)),\n",
       " Row(symbol=u'00XALCCHM086NEST', DATA-VALUE=u'2009-08-01,101.2', price=101.2, timestamp=datetime.datetime(2009, 8, 1, 0, 0)),\n",
       " Row(symbol=u'00XALCCHM086NEST', DATA-VALUE=u'2009-09-01,100.9', price=100.9, timestamp=datetime.datetime(2009, 9, 1, 0, 0)),\n",
       " Row(symbol=u'00XALCCHM086NEST', DATA-VALUE=u'2009-10-01,101.6', price=101.6, timestamp=datetime.datetime(2009, 10, 1, 0, 0)),\n",
       " Row(symbol=u'00XALCCHM086NEST', DATA-VALUE=u'2009-11-01,101.5', price=101.5, timestamp=datetime.datetime(2009, 11, 1, 0, 0)),\n",
       " Row(symbol=u'00XALCCHM086NEST', DATA-VALUE=u'2009-12-01,101.2', price=101.2, timestamp=datetime.datetime(2009, 12, 1, 0, 0)),\n",
       " Row(symbol=u'00XALCCHM086NEST', DATA-VALUE=u'2010-01-01,101.4', price=101.4, timestamp=datetime.datetime(2010, 1, 1, 0, 0)),\n",
       " Row(symbol=u'00XALCCHM086NEST', DATA-VALUE=u'2010-02-01,101.4', price=101.4, timestamp=datetime.datetime(2010, 2, 1, 0, 0)),\n",
       " Row(symbol=u'00XALCCHM086NEST', DATA-VALUE=u'2010-03-01,101.7', price=101.7, timestamp=datetime.datetime(2010, 3, 1, 0, 0)),\n",
       " Row(symbol=u'00XALCCHM086NEST', DATA-VALUE=u'2010-04-01,102.5', price=102.5, timestamp=datetime.datetime(2010, 4, 1, 0, 0)),\n",
       " Row(symbol=u'00XALCCHM086NEST', DATA-VALUE=u'2010-05-01,102.2', price=102.2, timestamp=datetime.datetime(2010, 5, 1, 0, 0)),\n",
       " Row(symbol=u'00XALCCHM086NEST', DATA-VALUE=u'2010-06-01,101.9', price=101.9, timestamp=datetime.datetime(2010, 6, 1, 0, 0)),\n",
       " Row(symbol=u'00XALCCHM086NEST', DATA-VALUE=u'2010-07-01,101.4', price=101.4, timestamp=datetime.datetime(2010, 7, 1, 0, 0)),\n",
       " Row(symbol=u'00XALCCHM086NEST', DATA-VALUE=u'2010-08-01,101.4', price=101.4, timestamp=datetime.datetime(2010, 8, 1, 0, 0)),\n",
       " Row(symbol=u'00XALCCHM086NEST', DATA-VALUE=u'2010-09-01,101.2', price=101.2, timestamp=datetime.datetime(2010, 9, 1, 0, 0)),\n",
       " Row(symbol=u'00XALCCHM086NEST', DATA-VALUE=u'2010-10-01,101.8', price=101.8, timestamp=datetime.datetime(2010, 10, 1, 0, 0)),\n",
       " Row(symbol=u'00XALCCHM086NEST', DATA-VALUE=u'2010-11-01,101.7', price=101.7, timestamp=datetime.datetime(2010, 11, 1, 0, 0)),\n",
       " Row(symbol=u'00XALCCHM086NEST', DATA-VALUE=u'2010-12-01,101.7', price=101.7, timestamp=datetime.datetime(2010, 12, 1, 0, 0)),\n",
       " Row(symbol=u'00XALCCHM086NEST', DATA-VALUE=u'2011-01-01,101.4', price=101.4, timestamp=datetime.datetime(2011, 1, 1, 0, 0)),\n",
       " Row(symbol=u'00XALCCHM086NEST', DATA-VALUE=u'2011-02-01,101.8', price=101.8, timestamp=datetime.datetime(2011, 2, 1, 0, 0)),\n",
       " Row(symbol=u'00XALCCHM086NEST', DATA-VALUE=u'2011-03-01,102.6', price=102.6, timestamp=datetime.datetime(2011, 3, 1, 0, 0)),\n",
       " Row(symbol=u'00XALCCHM086NEST', DATA-VALUE=u'2011-04-01,102.6', price=102.6, timestamp=datetime.datetime(2011, 4, 1, 0, 0)),\n",
       " Row(symbol=u'00XALCCHM086NEST', DATA-VALUE=u'2011-05-01,102.5', price=102.5, timestamp=datetime.datetime(2011, 5, 1, 0, 0)),\n",
       " Row(symbol=u'00XALCCHM086NEST', DATA-VALUE=u'2011-06-01,102.4', price=102.4, timestamp=datetime.datetime(2011, 6, 1, 0, 0)),\n",
       " Row(symbol=u'00XALCCHM086NEST', DATA-VALUE=u'2011-07-01,101.5', price=101.5, timestamp=datetime.datetime(2011, 7, 1, 0, 0)),\n",
       " Row(symbol=u'00XALCCHM086NEST', DATA-VALUE=u'2011-08-01,100.9', price=100.9, timestamp=datetime.datetime(2011, 8, 1, 0, 0)),\n",
       " Row(symbol=u'00XALCCHM086NEST', DATA-VALUE=u'2011-09-01,101.5', price=101.5, timestamp=datetime.datetime(2011, 9, 1, 0, 0)),\n",
       " Row(symbol=u'00XALCCHM086NEST', DATA-VALUE=u'2011-10-01,101.4', price=101.4, timestamp=datetime.datetime(2011, 10, 1, 0, 0)),\n",
       " Row(symbol=u'00XALCCHM086NEST', DATA-VALUE=u'2011-11-01,100.9', price=100.9, timestamp=datetime.datetime(2011, 11, 1, 0, 0)),\n",
       " Row(symbol=u'00XALCCHM086NEST', DATA-VALUE=u'2011-12-01,101.1', price=101.1, timestamp=datetime.datetime(2011, 12, 1, 0, 0)),\n",
       " Row(symbol=u'00XALCCHM086NEST', DATA-VALUE=u'2012-01-01,100.4', price=100.4, timestamp=datetime.datetime(2012, 1, 1, 0, 0)),\n",
       " Row(symbol=u'00XALCCHM086NEST', DATA-VALUE=u'2012-02-01,100.6', price=100.6, timestamp=datetime.datetime(2012, 2, 1, 0, 0)),\n",
       " Row(symbol=u'00XALCCHM086NEST', DATA-VALUE=u'2012-03-01,101.4', price=101.4, timestamp=datetime.datetime(2012, 3, 1, 0, 0)),\n",
       " Row(symbol=u'00XALCCHM086NEST', DATA-VALUE=u'2012-04-01,101.5', price=101.5, timestamp=datetime.datetime(2012, 4, 1, 0, 0)),\n",
       " Row(symbol=u'00XALCCHM086NEST', DATA-VALUE=u'2012-05-01,101.2', price=101.2, timestamp=datetime.datetime(2012, 5, 1, 0, 0)),\n",
       " Row(symbol=u'00XALCCHM086NEST', DATA-VALUE=u'2012-06-01,101.0', price=101.0, timestamp=datetime.datetime(2012, 6, 1, 0, 0)),\n",
       " Row(symbol=u'00XALCCHM086NEST', DATA-VALUE=u'2012-07-01,100.7', price=100.7, timestamp=datetime.datetime(2012, 7, 1, 0, 0)),\n",
       " Row(symbol=u'00XALCCHM086NEST', DATA-VALUE=u'2012-08-01,100.4', price=100.4, timestamp=datetime.datetime(2012, 8, 1, 0, 0)),\n",
       " Row(symbol=u'00XALCCHM086NEST', DATA-VALUE=u'2012-09-01,101.1', price=101.1, timestamp=datetime.datetime(2012, 9, 1, 0, 0)),\n",
       " Row(symbol=u'00XALCCHM086NEST', DATA-VALUE=u'2012-10-01,101.2', price=101.2, timestamp=datetime.datetime(2012, 10, 1, 0, 0)),\n",
       " Row(symbol=u'00XALCCHM086NEST', DATA-VALUE=u'2012-11-01,100.7', price=100.7, timestamp=datetime.datetime(2012, 11, 1, 0, 0)),\n",
       " Row(symbol=u'00XALCCHM086NEST', DATA-VALUE=u'2012-12-01,100.8', price=100.8, timestamp=datetime.datetime(2012, 12, 1, 0, 0)),\n",
       " Row(symbol=u'00XALCCHM086NEST', DATA-VALUE=u'2013-01-01,100.3', price=100.3, timestamp=datetime.datetime(2013, 1, 1, 0, 0)),\n",
       " Row(symbol=u'00XALCCHM086NEST', DATA-VALUE=u'2013-02-01,100.6', price=100.6, timestamp=datetime.datetime(2013, 2, 1, 0, 0)),\n",
       " Row(symbol=u'00XALCCHM086NEST', DATA-VALUE=u'2013-03-01,101.0', price=101.0, timestamp=datetime.datetime(2013, 3, 1, 0, 0)),\n",
       " Row(symbol=u'00XALCCHM086NEST', DATA-VALUE=u'2013-04-01,101.0', price=101.0, timestamp=datetime.datetime(2013, 4, 1, 0, 0)),\n",
       " Row(symbol=u'00XALCCHM086NEST', DATA-VALUE=u'2013-05-01,101.0', price=101.0, timestamp=datetime.datetime(2013, 5, 1, 0, 0)),\n",
       " Row(symbol=u'00XALCCHM086NEST', DATA-VALUE=u'2013-06-01,101.1', price=101.1, timestamp=datetime.datetime(2013, 6, 1, 0, 0)),\n",
       " Row(symbol=u'00XALCCHM086NEST', DATA-VALUE=u'2013-07-01,101.2', price=101.2, timestamp=datetime.datetime(2013, 7, 1, 0, 0)),\n",
       " Row(symbol=u'00XALCCHM086NEST', DATA-VALUE=u'2013-08-01,100.8', price=100.8, timestamp=datetime.datetime(2013, 8, 1, 0, 0)),\n",
       " Row(symbol=u'00XALCCHM086NEST', DATA-VALUE=u'2013-09-01,101.3', price=101.3, timestamp=datetime.datetime(2013, 9, 1, 0, 0)),\n",
       " Row(symbol=u'00XALCCHM086NEST', DATA-VALUE=u'2013-10-01,101.1', price=101.1, timestamp=datetime.datetime(2013, 10, 1, 0, 0)),\n",
       " Row(symbol=u'00XALCCHM086NEST', DATA-VALUE=u'2013-11-01,100.8', price=100.8, timestamp=datetime.datetime(2013, 11, 1, 0, 0)),\n",
       " Row(symbol=u'00XALCCHM086NEST', DATA-VALUE=u'2013-12-01,101.0', price=101.0, timestamp=datetime.datetime(2013, 12, 1, 0, 0)),\n",
       " Row(symbol=u'00XALCCHM086NEST', DATA-VALUE=u'2014-01-01,100.4', price=100.4, timestamp=datetime.datetime(2014, 1, 1, 0, 0)),\n",
       " Row(symbol=u'00XALCCHM086NEST', DATA-VALUE=u'2014-02-01,100.4', price=100.4, timestamp=datetime.datetime(2014, 2, 1, 0, 0)),\n",
       " Row(symbol=u'00XALCCHM086NEST', DATA-VALUE=u'2014-03-01,100.9', price=100.9, timestamp=datetime.datetime(2014, 3, 1, 0, 0)),\n",
       " Row(symbol=u'00XALCCHM086NEST', DATA-VALUE=u'2014-04-01,101.1', price=101.1, timestamp=datetime.datetime(2014, 4, 1, 0, 0)),\n",
       " Row(symbol=u'00XALCCHM086NEST', DATA-VALUE=u'2014-05-01,101.1', price=101.1, timestamp=datetime.datetime(2014, 5, 1, 0, 0)),\n",
       " Row(symbol=u'00XALCCHM086NEST', DATA-VALUE=u'2014-06-01,101.0', price=101.0, timestamp=datetime.datetime(2014, 6, 1, 0, 0)),\n",
       " Row(symbol=u'00XALCCHM086NEST', DATA-VALUE=u'2014-07-01,101.0', price=101.0, timestamp=datetime.datetime(2014, 7, 1, 0, 0)),\n",
       " Row(symbol=u'00XALCCHM086NEST', DATA-VALUE=u'2014-08-01,100.8', price=100.8, timestamp=datetime.datetime(2014, 8, 1, 0, 0)),\n",
       " Row(symbol=u'00XALCCHM086NEST', DATA-VALUE=u'2014-09-01,101.2', price=101.2, timestamp=datetime.datetime(2014, 9, 1, 0, 0)),\n",
       " Row(symbol=u'00XALCCHM086NEST', DATA-VALUE=u'2014-10-01,101.2', price=101.2, timestamp=datetime.datetime(2014, 10, 1, 0, 0)),\n",
       " Row(symbol=u'00XALCCHM086NEST', DATA-VALUE=u'2014-11-01,100.9', price=100.9, timestamp=datetime.datetime(2014, 11, 1, 0, 0)),\n",
       " Row(symbol=u'00XALCCHM086NEST', DATA-VALUE=u'2014-12-01,100.9', price=100.9, timestamp=datetime.datetime(2014, 12, 1, 0, 0)),\n",
       " Row(symbol=u'00XALCCHM086NEST', DATA-VALUE=u'2015-01-01,100.29', price=100.29, timestamp=datetime.datetime(2015, 1, 1, 0, 0)),\n",
       " Row(symbol=u'00XALCCHM086NEST', DATA-VALUE=u'2015-02-01,99.93', price=99.93, timestamp=datetime.datetime(2015, 2, 1, 0, 0)),\n",
       " Row(symbol=u'00XALCCHM086NEST', DATA-VALUE=u'2015-03-01,100.4', price=100.4, timestamp=datetime.datetime(2015, 3, 1, 0, 0)),\n",
       " Row(symbol=u'00XALCCHM086NEST', DATA-VALUE=u'2015-04-01,100.13', price=100.13, timestamp=datetime.datetime(2015, 4, 1, 0, 0)),\n",
       " Row(symbol=u'00XALCCHM086NEST', DATA-VALUE=u'2015-05-01,100.2', price=100.2, timestamp=datetime.datetime(2015, 5, 1, 0, 0)),\n",
       " Row(symbol=u'00XALCCHM086NEST', DATA-VALUE=u'2015-06-01,100.33', price=100.33, timestamp=datetime.datetime(2015, 6, 1, 0, 0)),\n",
       " Row(symbol=u'00XALCCHM086NEST', DATA-VALUE=u'2015-07-01,100.13', price=100.13, timestamp=datetime.datetime(2015, 7, 1, 0, 0)),\n",
       " Row(symbol=u'00XALCCHM086NEST', DATA-VALUE=u'2015-08-01,99.58', price=99.58, timestamp=datetime.datetime(2015, 8, 1, 0, 0)),\n",
       " Row(symbol=u'00XALCCHM086NEST', DATA-VALUE=u'2015-09-01,99.93', price=99.93, timestamp=datetime.datetime(2015, 9, 1, 0, 0)),\n",
       " Row(symbol=u'00XALCCHM086NEST', DATA-VALUE=u'2015-10-01,99.97', price=99.97, timestamp=datetime.datetime(2015, 10, 1, 0, 0)),\n",
       " Row(symbol=u'00XALCCHM086NEST', DATA-VALUE=u'2015-11-01,99.62', price=99.62, timestamp=datetime.datetime(2015, 11, 1, 0, 0)),\n",
       " Row(symbol=u'00XALCCHM086NEST', DATA-VALUE=u'2015-12-01,99.51', price=99.51, timestamp=datetime.datetime(2015, 12, 1, 0, 0)),\n",
       " Row(symbol=u'00XALCCHM086NEST', DATA-VALUE=u'2016-01-01,98.79', price=98.79, timestamp=datetime.datetime(2016, 1, 1, 0, 0)),\n",
       " Row(symbol=u'00XALCCHM086NEST', DATA-VALUE=u'2016-02-01,98.94', price=98.94, timestamp=datetime.datetime(2016, 2, 1, 0, 0)),\n",
       " Row(symbol=u'00XALCCHM086NEST', DATA-VALUE=u'2016-03-01,99.33', price=99.33, timestamp=datetime.datetime(2016, 3, 1, 0, 0)),\n",
       " Row(symbol=u'00XALCCHM086NEST', DATA-VALUE=u'2016-04-01,99.57', price=99.57, timestamp=datetime.datetime(2016, 4, 1, 0, 0)),\n",
       " Row(symbol=u'00XALCCHM086NEST', DATA-VALUE=u'2016-05-01,99.71', price=99.71, timestamp=datetime.datetime(2016, 5, 1, 0, 0)),\n",
       " Row(symbol=u'00XALCCHM086NEST', DATA-VALUE=u'2016-06-01,99.74', price=99.74, timestamp=datetime.datetime(2016, 6, 1, 0, 0)),\n",
       " Row(symbol=u'00XALCCHM086NEST', DATA-VALUE=u'2016-07-01,99.66', price=99.66, timestamp=datetime.datetime(2016, 7, 1, 0, 0)),\n",
       " Row(symbol=u'00XALCCHM086NEST', DATA-VALUE=u'2016-08-01,99.61', price=99.61, timestamp=datetime.datetime(2016, 8, 1, 0, 0)),\n",
       " Row(symbol=u'00XALCFIM086NEST', DATA-VALUE=u'1996-01-01,71.22', price=71.22, timestamp=datetime.datetime(1996, 1, 1, 0, 0)),\n",
       " Row(symbol=u'00XALCFIM086NEST', DATA-VALUE=u'1996-02-01,71.56', price=71.56, timestamp=datetime.datetime(1996, 2, 1, 0, 0)),\n",
       " Row(symbol=u'00XALCFIM086NEST', DATA-VALUE=u'1996-03-01,71.71', price=71.71, timestamp=datetime.datetime(1996, 3, 1, 0, 0)),\n",
       " Row(symbol=u'00XALCFIM086NEST', DATA-VALUE=u'1996-04-01,71.86', price=71.86, timestamp=datetime.datetime(1996, 4, 1, 0, 0)),\n",
       " Row(symbol=u'00XALCFIM086NEST', DATA-VALUE=u'1996-05-01,72.08', price=72.08, timestamp=datetime.datetime(1996, 5, 1, 0, 0)),\n",
       " Row(symbol=u'00XALCFIM086NEST', DATA-VALUE=u'1996-06-01,72.06', price=72.06, timestamp=datetime.datetime(1996, 6, 1, 0, 0)),\n",
       " Row(symbol=u'00XALCFIM086NEST', DATA-VALUE=u'1996-07-01,72.04', price=72.04, timestamp=datetime.datetime(1996, 7, 1, 0, 0)),\n",
       " Row(symbol=u'00XALCFIM086NEST', DATA-VALUE=u'1996-08-01,71.79', price=71.79, timestamp=datetime.datetime(1996, 8, 1, 0, 0)),\n",
       " Row(symbol=u'00XALCFIM086NEST', DATA-VALUE=u'1996-09-01,71.91', price=71.91, timestamp=datetime.datetime(1996, 9, 1, 0, 0)),\n",
       " Row(symbol=u'00XALCFIM086NEST', DATA-VALUE=u'1996-10-01,72.02', price=72.02, timestamp=datetime.datetime(1996, 10, 1, 0, 0)),\n",
       " Row(symbol=u'00XALCFIM086NEST', DATA-VALUE=u'1996-11-01,71.84', price=71.84, timestamp=datetime.datetime(1996, 11, 1, 0, 0)),\n",
       " Row(symbol=u'00XALCFIM086NEST', DATA-VALUE=u'1996-12-01,71.93', price=71.93, timestamp=datetime.datetime(1996, 12, 1, 0, 0)),\n",
       " Row(symbol=u'00XALCFIM086NEST', DATA-VALUE=u'1997-01-01,71.79', price=71.79, timestamp=datetime.datetime(1997, 1, 1, 0, 0)),\n",
       " Row(symbol=u'00XALCFIM086NEST', DATA-VALUE=u'1997-02-01,71.89', price=71.89, timestamp=datetime.datetime(1997, 2, 1, 0, 0)),\n",
       " Row(symbol=u'00XALCFIM086NEST', DATA-VALUE=u'1997-03-01,72.18', price=72.18, timestamp=datetime.datetime(1997, 3, 1, 0, 0)),\n",
       " Row(symbol=u'00XALCFIM086NEST', DATA-VALUE=u'1997-04-01,72.44', price=72.44, timestamp=datetime.datetime(1997, 4, 1, 0, 0)),\n",
       " Row(symbol=u'00XALCFIM086NEST', DATA-VALUE=u'1997-05-01,72.65', price=72.65, timestamp=datetime.datetime(1997, 5, 1, 0, 0)),\n",
       " Row(symbol=u'00XALCFIM086NEST', DATA-VALUE=u'1997-06-01,72.75', price=72.75, timestamp=datetime.datetime(1997, 6, 1, 0, 0)),\n",
       " Row(symbol=u'00XALCFIM086NEST', DATA-VALUE=u'1997-07-01,72.75', price=72.75, timestamp=datetime.datetime(1997, 7, 1, 0, 0)),\n",
       " Row(symbol=u'00XALCFIM086NEST', DATA-VALUE=u'1997-08-01,72.92', price=72.92, timestamp=datetime.datetime(1997, 8, 1, 0, 0)),\n",
       " Row(symbol=u'00XALCFIM086NEST', DATA-VALUE=u'1997-09-01,73.02', price=73.02, timestamp=datetime.datetime(1997, 9, 1, 0, 0)),\n",
       " Row(symbol=u'00XALCFIM086NEST', DATA-VALUE=u'1997-10-01,73.14', price=73.14, timestamp=datetime.datetime(1997, 10, 1, 0, 0)),\n",
       " Row(symbol=u'00XALCFIM086NEST', DATA-VALUE=u'1997-11-01,73.08', price=73.08, timestamp=datetime.datetime(1997, 11, 1, 0, 0)),\n",
       " Row(symbol=u'00XALCFIM086NEST', DATA-VALUE=u'1997-12-01,73.09', price=73.09, timestamp=datetime.datetime(1997, 12, 1, 0, 0)),\n",
       " Row(symbol=u'00XALCFIM086NEST', DATA-VALUE=u'1998-01-01,73.08', price=73.08, timestamp=datetime.datetime(1998, 1, 1, 0, 0)),\n",
       " Row(symbol=u'00XALCFIM086NEST', DATA-VALUE=u'1998-02-01,73.06', price=73.06, timestamp=datetime.datetime(1998, 2, 1, 0, 0)),\n",
       " Row(symbol=u'00XALCFIM086NEST', DATA-VALUE=u'1998-03-01,73.28', price=73.28, timestamp=datetime.datetime(1998, 3, 1, 0, 0)),\n",
       " Row(symbol=u'00XALCFIM086NEST', DATA-VALUE=u'1998-04-01,73.67', price=73.67, timestamp=datetime.datetime(1998, 4, 1, 0, 0)),\n",
       " Row(symbol=u'00XALCFIM086NEST', DATA-VALUE=u'1998-05-01,73.79', price=73.79, timestamp=datetime.datetime(1998, 5, 1, 0, 0)),\n",
       " Row(symbol=u'00XALCFIM086NEST', DATA-VALUE=u'1998-06-01,73.92', price=73.92, timestamp=datetime.datetime(1998, 6, 1, 0, 0)),\n",
       " Row(symbol=u'00XALCFIM086NEST', DATA-VALUE=u'1998-07-01,73.55', price=73.55, timestamp=datetime.datetime(1998, 7, 1, 0, 0)),\n",
       " Row(symbol=u'00XALCFIM086NEST', DATA-VALUE=u'1998-08-01,73.69', price=73.69, timestamp=datetime.datetime(1998, 8, 1, 0, 0)),\n",
       " Row(symbol=u'00XALCFIM086NEST', DATA-VALUE=u'1998-09-01,74.0', price=74.0, timestamp=datetime.datetime(1998, 9, 1, 0, 0)),\n",
       " Row(symbol=u'00XALCFIM086NEST', DATA-VALUE=u'1998-10-01,73.92', price=73.92, timestamp=datetime.datetime(1998, 10, 1, 0, 0)),\n",
       " Row(symbol=u'00XALCFIM086NEST', DATA-VALUE=u'1998-11-01,73.69', price=73.69, timestamp=datetime.datetime(1998, 11, 1, 0, 0)),\n",
       " Row(symbol=u'00XALCFIM086NEST', DATA-VALUE=u'1998-12-01,73.66', price=73.66, timestamp=datetime.datetime(1998, 12, 1, 0, 0)),\n",
       " Row(symbol=u'00XALCFIM086NEST', DATA-VALUE=u'1999-01-01,73.48', price=73.48, timestamp=datetime.datetime(1999, 1, 1, 0, 0)),\n",
       " Row(symbol=u'00XALCFIM086NEST', DATA-VALUE=u'1999-02-01,73.71', price=73.71, timestamp=datetime.datetime(1999, 2, 1, 0, 0)),\n",
       " Row(symbol=u'00XALCFIM086NEST', DATA-VALUE=u'1999-03-01,73.92', price=73.92, timestamp=datetime.datetime(1999, 3, 1, 0, 0)),\n",
       " Row(symbol=u'00XALCFIM086NEST', DATA-VALUE=u'1999-04-01,74.54', price=74.54, timestamp=datetime.datetime(1999, 4, 1, 0, 0)),\n",
       " Row(symbol=u'00XALCFIM086NEST', DATA-VALUE=u'1999-05-01,74.77', price=74.77, timestamp=datetime.datetime(1999, 5, 1, 0, 0)),\n",
       " Row(symbol=u'00XALCFIM086NEST', DATA-VALUE=u'1999-06-01,74.75', price=74.75, timestamp=datetime.datetime(1999, 6, 1, 0, 0)),\n",
       " Row(symbol=u'00XALCFIM086NEST', DATA-VALUE=u'1999-07-01,74.52', price=74.52, timestamp=datetime.datetime(1999, 7, 1, 0, 0)),\n",
       " Row(symbol=u'00XALCFIM086NEST', DATA-VALUE=u'1999-08-01,74.64', price=74.64, timestamp=datetime.datetime(1999, 8, 1, 0, 0)),\n",
       " Row(symbol=u'00XALCFIM086NEST', DATA-VALUE=u'1999-09-01,74.97', price=74.97, timestamp=datetime.datetime(1999, 9, 1, 0, 0)),\n",
       " Row(symbol=u'00XALCFIM086NEST', DATA-VALUE=u'1999-10-01,75.07', price=75.07, timestamp=datetime.datetime(1999, 10, 1, 0, 0)),\n",
       " Row(symbol=u'00XALCFIM086NEST', DATA-VALUE=u'1999-11-01,75.02', price=75.02, timestamp=datetime.datetime(1999, 11, 1, 0, 0)),\n",
       " Row(symbol=u'00XALCFIM086NEST', DATA-VALUE=u'1999-12-01,75.32', price=75.32, timestamp=datetime.datetime(1999, 12, 1, 0, 0)),\n",
       " Row(symbol=u'00XALCFIM086NEST', DATA-VALUE=u'2000-01-01,75.14', price=75.14, timestamp=datetime.datetime(2000, 1, 1, 0, 0)),\n",
       " Row(symbol=u'00XALCFIM086NEST', DATA-VALUE=u'2000-02-01,75.72', price=75.72, timestamp=datetime.datetime(2000, 2, 1, 0, 0)),\n",
       " Row(symbol=u'00XALCFIM086NEST', DATA-VALUE=u'2000-03-01,76.3', price=76.3, timestamp=datetime.datetime(2000, 3, 1, 0, 0)),\n",
       " Row(symbol=u'00XALCFIM086NEST', DATA-VALUE=u'2000-04-01,76.43', price=76.43, timestamp=datetime.datetime(2000, 4, 1, 0, 0)),\n",
       " Row(symbol=u'00XALCFIM086NEST', DATA-VALUE=u'2000-05-01,76.75', price=76.75, timestamp=datetime.datetime(2000, 5, 1, 0, 0)),\n",
       " Row(symbol=u'00XALCFIM086NEST', DATA-VALUE=u'2000-06-01,77.07', price=77.07, timestamp=datetime.datetime(2000, 6, 1, 0, 0)),\n",
       " Row(symbol=u'00XALCFIM086NEST', DATA-VALUE=u'2000-07-01,76.69', price=76.69, timestamp=datetime.datetime(2000, 7, 1, 0, 0)),\n",
       " Row(symbol=u'00XALCFIM086NEST', DATA-VALUE=u'2000-08-01,76.78', price=76.78, timestamp=datetime.datetime(2000, 8, 1, 0, 0)),\n",
       " Row(symbol=u'00XALCFIM086NEST', DATA-VALUE=u'2000-09-01,77.64', price=77.64, timestamp=datetime.datetime(2000, 9, 1, 0, 0)),\n",
       " Row(symbol=u'00XALCFIM086NEST', DATA-VALUE=u'2000-10-01,77.7', price=77.7, timestamp=datetime.datetime(2000, 10, 1, 0, 0)),\n",
       " Row(symbol=u'00XALCFIM086NEST', DATA-VALUE=u'2000-11-01,77.6', price=77.6, timestamp=datetime.datetime(2000, 11, 1, 0, 0)),\n",
       " Row(symbol=u'00XALCFIM086NEST', DATA-VALUE=u'2000-12-01,77.44', price=77.44, timestamp=datetime.datetime(2000, 12, 1, 0, 0)),\n",
       " Row(symbol=u'00XALCFIM086NEST', DATA-VALUE=u'2001-01-01,77.27', price=77.27, timestamp=datetime.datetime(2001, 1, 1, 0, 0)),\n",
       " Row(symbol=u'00XALCFIM086NEST', DATA-VALUE=u'2001-02-01,77.8', price=77.8, timestamp=datetime.datetime(2001, 2, 1, 0, 0)),\n",
       " Row(symbol=u'00XALCFIM086NEST', DATA-VALUE=u'2001-03-01,78.22', price=78.22, timestamp=datetime.datetime(2001, 3, 1, 0, 0)),\n",
       " Row(symbol=u'00XALCFIM086NEST', DATA-VALUE=u'2001-04-01,78.64', price=78.64, timestamp=datetime.datetime(2001, 4, 1, 0, 0)),\n",
       " Row(symbol=u'00XALCFIM086NEST', DATA-VALUE=u'2001-05-01,79.39', price=79.39, timestamp=datetime.datetime(2001, 5, 1, 0, 0)),\n",
       " Row(symbol=u'00XALCFIM086NEST', DATA-VALUE=u'2001-06-01,79.45', price=79.45, timestamp=datetime.datetime(2001, 6, 1, 0, 0)),\n",
       " Row(symbol=u'00XALCFIM086NEST', DATA-VALUE=u'2001-07-01,78.77', price=78.77, timestamp=datetime.datetime(2001, 7, 1, 0, 0)),\n",
       " Row(symbol=u'00XALCFIM086NEST', DATA-VALUE=u'2001-08-01,78.93', price=78.93, timestamp=datetime.datetime(2001, 8, 1, 0, 0)),\n",
       " Row(symbol=u'00XALCFIM086NEST', DATA-VALUE=u'2001-09-01,79.66', price=79.66, timestamp=datetime.datetime(2001, 9, 1, 0, 0)),\n",
       " Row(symbol=u'00XALCFIM086NEST', DATA-VALUE=u'2001-10-01,79.6', price=79.6, timestamp=datetime.datetime(2001, 10, 1, 0, 0)),\n",
       " Row(symbol=u'00XALCFIM086NEST', DATA-VALUE=u'2001-11-01,79.33', price=79.33, timestamp=datetime.datetime(2001, 11, 1, 0, 0)),\n",
       " Row(symbol=u'00XALCFIM086NEST', DATA-VALUE=u'2001-12-01,79.27', price=79.27, timestamp=datetime.datetime(2001, 12, 1, 0, 0)),\n",
       " Row(symbol=u'00XALCFIM086NEST', DATA-VALUE=u'2002-01-01,79.67', price=79.67, timestamp=datetime.datetime(2002, 1, 1, 0, 0)),\n",
       " Row(symbol=u'00XALCFIM086NEST', DATA-VALUE=u'2002-02-01,79.83', price=79.83, timestamp=datetime.datetime(2002, 2, 1, 0, 0)),\n",
       " Row(symbol=u'00XALCFIM086NEST', DATA-VALUE=u'2002-03-01,80.33', price=80.33, timestamp=datetime.datetime(2002, 3, 1, 0, 0)),\n",
       " Row(symbol=u'00XALCFIM086NEST', DATA-VALUE=u'2002-04-01,80.67', price=80.67, timestamp=datetime.datetime(2002, 4, 1, 0, 0)),\n",
       " Row(symbol=u'00XALCFIM086NEST', DATA-VALUE=u'2002-05-01,80.86', price=80.86, timestamp=datetime.datetime(2002, 5, 1, 0, 0)),\n",
       " Row(symbol=u'00XALCFIM086NEST', DATA-VALUE=u'2002-06-01,80.66', price=80.66, timestamp=datetime.datetime(2002, 6, 1, 0, 0)),\n",
       " Row(symbol=u'00XALCFIM086NEST', DATA-VALUE=u'2002-07-01,80.41', price=80.41, timestamp=datetime.datetime(2002, 7, 1, 0, 0)),\n",
       " Row(symbol=u'00XALCFIM086NEST', DATA-VALUE=u'2002-08-01,80.38', price=80.38, timestamp=datetime.datetime(2002, 8, 1, 0, 0)),\n",
       " Row(symbol=u'00XALCFIM086NEST', DATA-VALUE=u'2002-09-01,80.74', price=80.74, timestamp=datetime.datetime(2002, 9, 1, 0, 0)),\n",
       " Row(symbol=u'00XALCFIM086NEST', DATA-VALUE=u'2002-10-01,80.97', price=80.97, timestamp=datetime.datetime(2002, 10, 1, 0, 0)),\n",
       " Row(symbol=u'00XALCFIM086NEST', DATA-VALUE=u'2002-11-01,80.73', price=80.73, timestamp=datetime.datetime(2002, 11, 1, 0, 0)),\n",
       " Row(symbol=u'00XALCFIM086NEST', DATA-VALUE=u'2002-12-01,80.73', price=80.73, timestamp=datetime.datetime(2002, 12, 1, 0, 0)),\n",
       " Row(symbol=u'00XALCFIM086NEST', DATA-VALUE=u'2003-01-01,80.83', price=80.83, timestamp=datetime.datetime(2003, 1, 1, 0, 0)),\n",
       " Row(symbol=u'00XALCFIM086NEST', DATA-VALUE=u'2003-02-01,81.54', price=81.54, timestamp=datetime.datetime(2003, 2, 1, 0, 0)),\n",
       " Row(symbol=u'00XALCFIM086NEST', DATA-VALUE=u'2003-03-01,81.83', price=81.83, timestamp=datetime.datetime(2003, 3, 1, 0, 0)),\n",
       " Row(symbol=u'00XALCFIM086NEST', DATA-VALUE=u'2003-04-01,81.81', price=81.81, timestamp=datetime.datetime(2003, 4, 1, 0, 0)),\n",
       " Row(symbol=u'00XALCFIM086NEST', DATA-VALUE=u'2003-05-01,81.69', price=81.69, timestamp=datetime.datetime(2003, 5, 1, 0, 0)),\n",
       " Row(symbol=u'00XALCFIM086NEST', DATA-VALUE=u'2003-06-01,81.6', price=81.6, timestamp=datetime.datetime(2003, 6, 1, 0, 0)),\n",
       " Row(symbol=u'00XALCFIM086NEST', DATA-VALUE=u'2003-07-01,81.18', price=81.18, timestamp=datetime.datetime(2003, 7, 1, 0, 0)),\n",
       " Row(symbol=u'00XALCFIM086NEST', DATA-VALUE=u'2003-08-01,81.34', price=81.34, timestamp=datetime.datetime(2003, 8, 1, 0, 0)),\n",
       " Row(symbol=u'00XALCFIM086NEST', DATA-VALUE=u'2003-09-01,81.76', price=81.76, timestamp=datetime.datetime(2003, 9, 1, 0, 0)),\n",
       " Row(symbol=u'00XALCFIM086NEST', DATA-VALUE=u'2003-10-01,81.69', price=81.69, timestamp=datetime.datetime(2003, 10, 1, 0, 0)),\n",
       " Row(symbol=u'00XALCFIM086NEST', DATA-VALUE=u'2003-11-01,81.61', price=81.61, timestamp=datetime.datetime(2003, 11, 1, 0, 0)),\n",
       " Row(symbol=u'00XALCFIM086NEST', DATA-VALUE=u'2003-12-01,81.7', price=81.7, timestamp=datetime.datetime(2003, 12, 1, 0, 0)),\n",
       " Row(symbol=u'00XALCFIM086NEST', DATA-VALUE=u'2004-01-01,81.41', price=81.41, timestamp=datetime.datetime(2004, 1, 1, 0, 0)),\n",
       " Row(symbol=u'00XALCFIM086NEST', DATA-VALUE=u'2004-02-01,81.87', price=81.87, timestamp=datetime.datetime(2004, 2, 1, 0, 0)),\n",
       " Row(symbol=u'00XALCFIM086NEST', DATA-VALUE=u'2004-03-01,82.19', price=82.19, timestamp=datetime.datetime(2004, 3, 1, 0, 0)),\n",
       " Row(symbol=u'00XALCFIM086NEST', DATA-VALUE=u'2004-04-01,82.21', price=82.21, timestamp=datetime.datetime(2004, 4, 1, 0, 0)),\n",
       " Row(symbol=u'00XALCFIM086NEST', DATA-VALUE=u'2004-05-01,82.32', price=82.32, timestamp=datetime.datetime(2004, 5, 1, 0, 0)),\n",
       " Row(symbol=u'00XALCFIM086NEST', DATA-VALUE=u'2004-06-01,82.27', price=82.27, timestamp=datetime.datetime(2004, 6, 1, 0, 0)),\n",
       " Row(symbol=u'00XALCFIM086NEST', DATA-VALUE=u'2004-07-01,82.09', price=82.09, timestamp=datetime.datetime(2004, 7, 1, 0, 0)),\n",
       " Row(symbol=u'00XALCFIM086NEST', DATA-VALUE=u'2004-08-01,82.31', price=82.31, timestamp=datetime.datetime(2004, 8, 1, 0, 0)),\n",
       " Row(symbol=u'00XALCFIM086NEST', DATA-VALUE=u'2004-09-01,82.68', price=82.68, timestamp=datetime.datetime(2004, 9, 1, 0, 0)),\n",
       " Row(symbol=u'00XALCFIM086NEST', DATA-VALUE=u'2004-10-01,83.0', price=83.0, timestamp=datetime.datetime(2004, 10, 1, 0, 0)),\n",
       " Row(symbol=u'00XALCFIM086NEST', DATA-VALUE=u'2004-11-01,82.58', price=82.58, timestamp=datetime.datetime(2004, 11, 1, 0, 0)),\n",
       " Row(symbol=u'00XALCFIM086NEST', DATA-VALUE=u'2004-12-01,82.58', price=82.58, timestamp=datetime.datetime(2004, 12, 1, 0, 0)),\n",
       " Row(symbol=u'00XALCFIM086NEST', DATA-VALUE=u'2005-01-01,82.05', price=82.05, timestamp=datetime.datetime(2005, 1, 1, 0, 0)),\n",
       " Row(symbol=u'00XALCFIM086NEST', DATA-VALUE=u'2005-02-01,82.61', price=82.61, timestamp=datetime.datetime(2005, 2, 1, 0, 0)),\n",
       " Row(symbol=u'00XALCFIM086NEST', DATA-VALUE=u'2005-03-01,82.97', price=82.97, timestamp=datetime.datetime(2005, 3, 1, 0, 0)),\n",
       " Row(symbol=u'00XALCFIM086NEST', DATA-VALUE=u'2005-04-01,83.22', price=83.22, timestamp=datetime.datetime(2005, 4, 1, 0, 0)),\n",
       " Row(symbol=u'00XALCFIM086NEST', DATA-VALUE=u'2005-05-01,82.89', price=82.89, timestamp=datetime.datetime(2005, 5, 1, 0, 0)),\n",
       " Row(symbol=u'00XALCFIM086NEST', DATA-VALUE=u'2005-06-01,83.11', price=83.11, timestamp=datetime.datetime(2005, 6, 1, 0, 0)),\n",
       " Row(symbol=u'00XALCFIM086NEST', DATA-VALUE=u'2005-07-01,82.82', price=82.82, timestamp=datetime.datetime(2005, 7, 1, 0, 0)),\n",
       " Row(symbol=u'00XALCFIM086NEST', DATA-VALUE=u'2005-08-01,83.09', price=83.09, timestamp=datetime.datetime(2005, 8, 1, 0, 0)),\n",
       " Row(symbol=u'00XALCFIM086NEST', DATA-VALUE=u'2005-09-01,83.63', price=83.63, timestamp=datetime.datetime(2005, 9, 1, 0, 0)),\n",
       " Row(symbol=u'00XALCFIM086NEST', DATA-VALUE=u'2005-10-01,83.6', price=83.6, timestamp=datetime.datetime(2005, 10, 1, 0, 0)),\n",
       " Row(symbol=u'00XALCFIM086NEST', DATA-VALUE=u'2005-11-01,83.3', price=83.3, timestamp=datetime.datetime(2005, 11, 1, 0, 0)),\n",
       " Row(symbol=u'00XALCFIM086NEST', DATA-VALUE=u'2005-12-01,83.38', price=83.38, timestamp=datetime.datetime(2005, 12, 1, 0, 0)),\n",
       " Row(symbol=u'00XALCFIM086NEST', DATA-VALUE=u'2006-01-01,82.99', price=82.99, timestamp=datetime.datetime(2006, 1, 1, 0, 0)),\n",
       " Row(symbol=u'00XALCFIM086NEST', DATA-VALUE=u'2006-02-01,83.66', price=83.66, timestamp=datetime.datetime(2006, 2, 1, 0, 0)),\n",
       " Row(symbol=u'00XALCFIM086NEST', DATA-VALUE=u'2006-03-01,83.9', price=83.9, timestamp=datetime.datetime(2006, 3, 1, 0, 0)),\n",
       " Row(symbol=u'00XALCFIM086NEST', DATA-VALUE=u'2006-04-01,84.37', price=84.37, timestamp=datetime.datetime(2006, 4, 1, 0, 0)),\n",
       " Row(symbol=u'00XALCFIM086NEST', DATA-VALUE=u'2006-05-01,84.29', price=84.29, timestamp=datetime.datetime(2006, 5, 1, 0, 0)),\n",
       " Row(symbol=u'00XALCFIM086NEST', DATA-VALUE=u'2006-06-01,84.31', price=84.31, timestamp=datetime.datetime(2006, 6, 1, 0, 0)),\n",
       " Row(symbol=u'00XALCFIM086NEST', DATA-VALUE=u'2006-07-01,83.9', price=83.9, timestamp=datetime.datetime(2006, 7, 1, 0, 0)),\n",
       " Row(symbol=u'00XALCFIM086NEST', DATA-VALUE=u'2006-08-01,84.17', price=84.17, timestamp=datetime.datetime(2006, 8, 1, 0, 0)),\n",
       " Row(symbol=u'00XALCFIM086NEST', DATA-VALUE=u'2006-09-01,84.25', price=84.25, timestamp=datetime.datetime(2006, 9, 1, 0, 0)),\n",
       " Row(symbol=u'00XALCFIM086NEST', DATA-VALUE=u'2006-10-01,84.39', price=84.39, timestamp=datetime.datetime(2006, 10, 1, 0, 0)),\n",
       " Row(symbol=u'00XALCFIM086NEST', DATA-VALUE=u'2006-11-01,84.39', price=84.39, timestamp=datetime.datetime(2006, 11, 1, 0, 0)),\n",
       " Row(symbol=u'00XALCFIM086NEST', DATA-VALUE=u'2006-12-01,84.42', price=84.42, timestamp=datetime.datetime(2006, 12, 1, 0, 0)),\n",
       " Row(symbol=u'00XALCFIM086NEST', DATA-VALUE=u'2007-01-01,84.07', price=84.07, timestamp=datetime.datetime(2007, 1, 1, 0, 0)),\n",
       " Row(symbol=u'00XALCFIM086NEST', DATA-VALUE=u'2007-02-01,84.62', price=84.62, timestamp=datetime.datetime(2007, 2, 1, 0, 0)),\n",
       " Row(symbol=u'00XALCFIM086NEST', DATA-VALUE=u'2007-03-01,85.28', price=85.28, timestamp=datetime.datetime(2007, 3, 1, 0, 0)),\n",
       " Row(symbol=u'00XALCFIM086NEST', DATA-VALUE=u'2007-04-01,85.69', price=85.69, timestamp=datetime.datetime(2007, 4, 1, 0, 0)),\n",
       " Row(symbol=u'00XALCFIM086NEST', DATA-VALUE=u'2007-05-01,85.41', price=85.41, timestamp=datetime.datetime(2007, 5, 1, 0, 0)),\n",
       " Row(symbol=u'00XALCFIM086NEST', DATA-VALUE=u'2007-06-01,85.55', price=85.55, timestamp=datetime.datetime(2007, 6, 1, 0, 0)),\n",
       " Row(symbol=u'00XALCFIM086NEST', DATA-VALUE=u'2007-07-01,85.29', price=85.29, timestamp=datetime.datetime(2007, 7, 1, 0, 0)),\n",
       " Row(symbol=u'00XALCFIM086NEST', DATA-VALUE=u'2007-08-01,85.29', price=85.29, timestamp=datetime.datetime(2007, 8, 1, 0, 0)),\n",
       " Row(symbol=u'00XALCFIM086NEST', DATA-VALUE=u'2007-09-01,85.68', price=85.68, timestamp=datetime.datetime(2007, 9, 1, 0, 0)),\n",
       " Row(symbol=u'00XALCFIM086NEST', DATA-VALUE=u'2007-10-01,85.94', price=85.94, timestamp=datetime.datetime(2007, 10, 1, 0, 0)),\n",
       " Row(symbol=u'00XALCFIM086NEST', DATA-VALUE=u'2007-11-01,86.27', price=86.27, timestamp=datetime.datetime(2007, 11, 1, 0, 0)),\n",
       " Row(symbol=u'00XALCFIM086NEST', DATA-VALUE=u'2007-12-01,86.06', price=86.06, timestamp=datetime.datetime(2007, 12, 1, 0, 0)),\n",
       " Row(symbol=u'00XALCFIM086NEST', DATA-VALUE=u'2008-01-01,86.88', price=86.88, timestamp=datetime.datetime(2008, 1, 1, 0, 0)),\n",
       " Row(symbol=u'00XALCFIM086NEST', DATA-VALUE=u'2008-02-01,87.3', price=87.3, timestamp=datetime.datetime(2008, 2, 1, 0, 0)),\n",
       " Row(symbol=u'00XALCFIM086NEST', DATA-VALUE=u'2008-03-01,88.22', price=88.22, timestamp=datetime.datetime(2008, 3, 1, 0, 0)),\n",
       " Row(symbol=u'00XALCFIM086NEST', DATA-VALUE=u'2008-04-01,88.38', price=88.38, timestamp=datetime.datetime(2008, 4, 1, 0, 0)),\n",
       " Row(symbol=u'00XALCFIM086NEST', DATA-VALUE=u'2008-05-01,88.87', price=88.87, timestamp=datetime.datetime(2008, 5, 1, 0, 0)),\n",
       " Row(symbol=u'00XALCFIM086NEST', DATA-VALUE=u'2008-06-01,89.19', price=89.19, timestamp=datetime.datetime(2008, 6, 1, 0, 0)),\n",
       " Row(symbol=u'00XALCFIM086NEST', DATA-VALUE=u'2008-07-01,88.92', price=88.92, timestamp=datetime.datetime(2008, 7, 1, 0, 0)),\n",
       " Row(symbol=u'00XALCFIM086NEST', DATA-VALUE=u'2008-08-01,89.18', price=89.18, timestamp=datetime.datetime(2008, 8, 1, 0, 0)),\n",
       " Row(symbol=u'00XALCFIM086NEST', DATA-VALUE=u'2008-09-01,89.68', price=89.68, timestamp=datetime.datetime(2008, 9, 1, 0, 0)),\n",
       " Row(symbol=u'00XALCFIM086NEST', DATA-VALUE=u'2008-10-01,89.65', price=89.65, timestamp=datetime.datetime(2008, 10, 1, 0, 0)),\n",
       " Row(symbol=u'00XALCFIM086NEST', DATA-VALUE=u'2008-11-01,89.15', price=89.15, timestamp=datetime.datetime(2008, 11, 1, 0, 0)),\n",
       " Row(symbol=u'00XALCFIM086NEST', DATA-VALUE=u'2008-12-01,88.85', price=88.85, timestamp=datetime.datetime(2008, 12, 1, 0, 0)),\n",
       " Row(symbol=u'00XALCFIM086NEST', DATA-VALUE=u'2009-01-01,88.75', price=88.75, timestamp=datetime.datetime(2009, 1, 1, 0, 0)),\n",
       " Row(symbol=u'00XALCFIM086NEST', DATA-VALUE=u'2009-02-01,89.38', price=89.38, timestamp=datetime.datetime(2009, 2, 1, 0, 0)),\n",
       " Row(symbol=u'00XALCFIM086NEST', DATA-VALUE=u'2009-03-01,89.73', price=89.73, timestamp=datetime.datetime(2009, 3, 1, 0, 0)),\n",
       " Row(symbol=u'00XALCFIM086NEST', DATA-VALUE=u'2009-04-01,89.92', price=89.92, timestamp=datetime.datetime(2009, 4, 1, 0, 0)),\n",
       " Row(symbol=u'00XALCFIM086NEST', DATA-VALUE=u'2009-05-01,89.85', price=89.85, timestamp=datetime.datetime(2009, 5, 1, 0, 0)),\n",
       " Row(symbol=u'00XALCFIM086NEST', DATA-VALUE=u'2009-06-01,90.26', price=90.26, timestamp=datetime.datetime(2009, 6, 1, 0, 0)),\n",
       " Row(symbol=u'00XALCFIM086NEST', DATA-VALUE=u'2009-07-01,89.59', price=89.59, timestamp=datetime.datetime(2009, 7, 1, 0, 0)),\n",
       " Row(symbol=u'00XALCFIM086NEST', DATA-VALUE=u'2009-08-01,90.0', price=90.0, timestamp=datetime.datetime(2009, 8, 1, 0, 0)),\n",
       " Row(symbol=u'00XALCFIM086NEST', DATA-VALUE=u'2009-09-01,90.31', price=90.31, timestamp=datetime.datetime(2009, 9, 1, 0, 0)),\n",
       " Row(symbol=u'00XALCFIM086NEST', DATA-VALUE=u'2009-10-01,89.64', price=89.64, timestamp=datetime.datetime(2009, 10, 1, 0, 0)),\n",
       " Row(symbol=u'00XALCFIM086NEST', DATA-VALUE=u'2009-11-01,89.82', price=89.82, timestamp=datetime.datetime(2009, 11, 1, 0, 0)),\n",
       " Row(symbol=u'00XALCFIM086NEST', DATA-VALUE=u'2009-12-01,89.98', price=89.98, timestamp=datetime.datetime(2009, 12, 1, 0, 0)),\n",
       " Row(symbol=u'00XALCFIM086NEST', DATA-VALUE=u'2010-01-01,89.94', price=89.94, timestamp=datetime.datetime(2010, 1, 1, 0, 0)),\n",
       " Row(symbol=u'00XALCFIM086NEST', DATA-VALUE=u'2010-02-01,90.28', price=90.28, timestamp=datetime.datetime(2010, 2, 1, 0, 0)),\n",
       " Row(symbol=u'00XALCFIM086NEST', DATA-VALUE=u'2010-03-01,90.87', price=90.87, timestamp=datetime.datetime(2010, 3, 1, 0, 0)),\n",
       " Row(symbol=u'00XALCFIM086NEST', DATA-VALUE=u'2010-04-01,91.15', price=91.15, timestamp=datetime.datetime(2010, 4, 1, 0, 0)),\n",
       " Row(symbol=u'00XALCFIM086NEST', DATA-VALUE=u'2010-05-01,90.96', price=90.96, timestamp=datetime.datetime(2010, 5, 1, 0, 0)),\n",
       " Row(symbol=u'00XALCFIM086NEST', DATA-VALUE=u'2010-06-01,91.19', price=91.19, timestamp=datetime.datetime(2010, 6, 1, 0, 0)),\n",
       " Row(symbol=u'00XALCFIM086NEST', DATA-VALUE=u'2010-07-01,90.56', price=90.56, timestamp=datetime.datetime(2010, 7, 1, 0, 0)),\n",
       " Row(symbol=u'00XALCFIM086NEST', DATA-VALUE=u'2010-08-01,90.93', price=90.93, timestamp=datetime.datetime(2010, 8, 1, 0, 0)),\n",
       " Row(symbol=u'00XALCFIM086NEST', DATA-VALUE=u'2010-09-01,91.37', price=91.37, timestamp=datetime.datetime(2010, 9, 1, 0, 0)),\n",
       " Row(symbol=u'00XALCFIM086NEST', DATA-VALUE=u'2010-10-01,91.77', price=91.77, timestamp=datetime.datetime(2010, 10, 1, 0, 0)),\n",
       " Row(symbol=u'00XALCFIM086NEST', DATA-VALUE=u'2010-11-01,91.99', price=91.99, timestamp=datetime.datetime(2010, 11, 1, 0, 0)),\n",
       " Row(symbol=u'00XALCFIM086NEST', DATA-VALUE=u'2010-12-01,92.51', price=92.51, timestamp=datetime.datetime(2010, 12, 1, 0, 0)),\n",
       " Row(symbol=u'00XALCFIM086NEST', DATA-VALUE=u'2011-01-01,92.85', price=92.85, timestamp=datetime.datetime(2011, 1, 1, 0, 0)),\n",
       " Row(symbol=u'00XALCFIM086NEST', DATA-VALUE=u'2011-02-01,93.62', price=93.62, timestamp=datetime.datetime(2011, 2, 1, 0, 0)),\n",
       " Row(symbol=u'00XALCFIM086NEST', DATA-VALUE=u'2011-03-01,94.2', price=94.2, timestamp=datetime.datetime(2011, 3, 1, 0, 0)),\n",
       " Row(symbol=u'00XALCFIM086NEST', DATA-VALUE=u'2011-04-01,94.4', price=94.4, timestamp=datetime.datetime(2011, 4, 1, 0, 0)),\n",
       " Row(symbol=u'00XALCFIM086NEST', DATA-VALUE=u'2011-05-01,94.25', price=94.25, timestamp=datetime.datetime(2011, 5, 1, 0, 0)),\n",
       " Row(symbol=u'00XALCFIM086NEST', DATA-VALUE=u'2011-06-01,94.5', price=94.5, timestamp=datetime.datetime(2011, 6, 1, 0, 0)),\n",
       " Row(symbol=u'00XALCFIM086NEST', DATA-VALUE=u'2011-07-01,94.07', price=94.07, timestamp=datetime.datetime(2011, 7, 1, 0, 0)),\n",
       " Row(symbol=u'00XALCFIM086NEST', DATA-VALUE=u'2011-08-01,94.28', price=94.28, timestamp=datetime.datetime(2011, 8, 1, 0, 0)),\n",
       " Row(symbol=u'00XALCFIM086NEST', DATA-VALUE=u'2011-09-01,94.69', price=94.69, timestamp=datetime.datetime(2011, 9, 1, 0, 0)),\n",
       " Row(symbol=u'00XALCFIM086NEST', DATA-VALUE=u'2011-10-01,94.86', price=94.86, timestamp=datetime.datetime(2011, 10, 1, 0, 0)),\n",
       " Row(symbol=u'00XALCFIM086NEST', DATA-VALUE=u'2011-11-01,95.06', price=95.06, timestamp=datetime.datetime(2011, 11, 1, 0, 0)),\n",
       " Row(symbol=u'00XALCFIM086NEST', DATA-VALUE=u'2011-12-01,95.01', price=95.01, timestamp=datetime.datetime(2011, 12, 1, 0, 0)),\n",
       " Row(symbol=u'00XALCFIM086NEST', DATA-VALUE=u'2012-01-01,95.55', price=95.55, timestamp=datetime.datetime(2012, 1, 1, 0, 0)),\n",
       " Row(symbol=u'00XALCFIM086NEST', DATA-VALUE=u'2012-02-01,96.28', price=96.28, timestamp=datetime.datetime(2012, 2, 1, 0, 0)),\n",
       " Row(symbol=u'00XALCFIM086NEST', DATA-VALUE=u'2012-03-01,96.78', price=96.78, timestamp=datetime.datetime(2012, 3, 1, 0, 0)),\n",
       " Row(symbol=u'00XALCFIM086NEST', DATA-VALUE=u'2012-04-01,97.02', price=97.02, timestamp=datetime.datetime(2012, 4, 1, 0, 0)),\n",
       " Row(symbol=u'00XALCFIM086NEST', DATA-VALUE=u'2012-05-01,96.85', price=96.85, timestamp=datetime.datetime(2012, 5, 1, 0, 0)),\n",
       " Row(symbol=u'00XALCFIM086NEST', DATA-VALUE=u'2012-06-01,96.97', price=96.97, timestamp=datetime.datetime(2012, 6, 1, 0, 0)),\n",
       " Row(symbol=u'00XALCFIM086NEST', DATA-VALUE=u'2012-07-01,96.7', price=96.7, timestamp=datetime.datetime(2012, 7, 1, 0, 0)),\n",
       " Row(symbol=u'00XALCFIM086NEST', DATA-VALUE=u'2012-08-01,97.06', price=97.06, timestamp=datetime.datetime(2012, 8, 1, 0, 0)),\n",
       " Row(symbol=u'00XALCFIM086NEST', DATA-VALUE=u'2012-09-01,97.66', price=97.66, timestamp=datetime.datetime(2012, 9, 1, 0, 0)),\n",
       " Row(symbol=u'00XALCFIM086NEST', DATA-VALUE=u'2012-10-01,97.93', price=97.93, timestamp=datetime.datetime(2012, 10, 1, 0, 0)),\n",
       " Row(symbol=u'00XALCFIM086NEST', DATA-VALUE=u'2012-11-01,97.84', price=97.84, timestamp=datetime.datetime(2012, 11, 1, 0, 0)),\n",
       " Row(symbol=u'00XALCFIM086NEST', DATA-VALUE=u'2012-12-01,98.07', price=98.07, timestamp=datetime.datetime(2012, 12, 1, 0, 0)),\n",
       " Row(symbol=u'00XALCFIM086NEST', DATA-VALUE=u'2013-01-01,97.96', price=97.96, timestamp=datetime.datetime(2013, 1, 1, 0, 0)),\n",
       " Row(symbol=u'00XALCFIM086NEST', DATA-VALUE=u'2013-02-01,98.59', price=98.59, timestamp=datetime.datetime(2013, 2, 1, 0, 0)),\n",
       " Row(symbol=u'00XALCFIM086NEST', DATA-VALUE=u'2013-03-01,99.12', price=99.12, timestamp=datetime.datetime(2013, 3, 1, 0, 0)),\n",
       " Row(symbol=u'00XALCFIM086NEST', DATA-VALUE=u'2013-04-01,99.31', price=99.31, timestamp=datetime.datetime(2013, 4, 1, 0, 0)),\n",
       " Row(symbol=u'00XALCFIM086NEST', DATA-VALUE=u'2013-05-01,99.3', price=99.3, timestamp=datetime.datetime(2013, 5, 1, 0, 0)),\n",
       " Row(symbol=u'00XALCFIM086NEST', DATA-VALUE=u'2013-06-01,99.25', price=99.25, timestamp=datetime.datetime(2013, 6, 1, 0, 0)),\n",
       " Row(symbol=u'00XALCFIM086NEST', DATA-VALUE=u'2013-07-01,99.22', price=99.22, timestamp=datetime.datetime(2013, 7, 1, 0, 0)),\n",
       " Row(symbol=u'00XALCFIM086NEST', DATA-VALUE=u'2013-08-01,99.09', price=99.09, timestamp=datetime.datetime(2013, 8, 1, 0, 0)),\n",
       " Row(symbol=u'00XALCFIM086NEST', DATA-VALUE=u'2013-09-01,99.49', price=99.49, timestamp=datetime.datetime(2013, 9, 1, 0, 0)),\n",
       " Row(symbol=u'00XALCFIM086NEST', DATA-VALUE=u'2013-10-01,99.63', price=99.63, timestamp=datetime.datetime(2013, 10, 1, 0, 0)),\n",
       " Row(symbol=u'00XALCFIM086NEST', DATA-VALUE=u'2013-11-01,99.59', price=99.59, timestamp=datetime.datetime(2013, 11, 1, 0, 0)),\n",
       " Row(symbol=u'00XALCFIM086NEST', DATA-VALUE=u'2013-12-01,99.98', price=99.98, timestamp=datetime.datetime(2013, 12, 1, 0, 0)),\n",
       " Row(symbol=u'00XALCFIM086NEST', DATA-VALUE=u'2014-01-01,99.74', price=99.74, timestamp=datetime.datetime(2014, 1, 1, 0, 0)),\n",
       " Row(symbol=u'00XALCFIM086NEST', DATA-VALUE=u'2014-02-01,100.04', price=100.04, timestamp=datetime.datetime(2014, 2, 1, 0, 0)),\n",
       " Row(symbol=u'00XALCFIM086NEST', DATA-VALUE=u'2014-03-01,100.3', price=100.3, timestamp=datetime.datetime(2014, 3, 1, 0, 0)),\n",
       " Row(symbol=u'00XALCFIM086NEST', DATA-VALUE=u'2014-04-01,100.43', price=100.43, timestamp=datetime.datetime(2014, 4, 1, 0, 0)),\n",
       " Row(symbol=u'00XALCFIM086NEST', DATA-VALUE=u'2014-05-01,100.11', price=100.11, timestamp=datetime.datetime(2014, 5, 1, 0, 0)),\n",
       " Row(symbol=u'00XALCFIM086NEST', DATA-VALUE=u'2014-06-01,100.08', price=100.08, timestamp=datetime.datetime(2014, 6, 1, 0, 0)),\n",
       " Row(symbol=u'00XALCFIM086NEST', DATA-VALUE=u'2014-07-01,99.95', price=99.95, timestamp=datetime.datetime(2014, 7, 1, 0, 0)),\n",
       " Row(symbol=u'00XALCFIM086NEST', DATA-VALUE=u'2014-08-01,100.13', price=100.13, timestamp=datetime.datetime(2014, 8, 1, 0, 0)),\n",
       " Row(symbol=u'00XALCFIM086NEST', DATA-VALUE=u'2014-09-01,100.8', price=100.8, timestamp=datetime.datetime(2014, 9, 1, 0, 0)),\n",
       " Row(symbol=u'00XALCFIM086NEST', DATA-VALUE=u'2014-10-01,100.59', price=100.59, timestamp=datetime.datetime(2014, 10, 1, 0, 0)),\n",
       " Row(symbol=u'00XALCFIM086NEST', DATA-VALUE=u'2014-11-01,100.44', price=100.44, timestamp=datetime.datetime(2014, 11, 1, 0, 0)),\n",
       " Row(symbol=u'00XALCFIM086NEST', DATA-VALUE=u'2014-12-01,100.29', price=100.29, timestamp=datetime.datetime(2014, 12, 1, 0, 0)),\n",
       " Row(symbol=u'00XALCFIM086NEST', DATA-VALUE=u'2015-01-01,99.45', price=99.45, timestamp=datetime.datetime(2015, 1, 1, 0, 0)),\n",
       " Row(symbol=u'00XALCFIM086NEST', DATA-VALUE=u'2015-02-01,99.81', price=99.81, timestamp=datetime.datetime(2015, 2, 1, 0, 0)),\n",
       " Row(symbol=u'00XALCFIM086NEST', DATA-VALUE=u'2015-03-01,100.22', price=100.22, timestamp=datetime.datetime(2015, 3, 1, 0, 0)),\n",
       " Row(symbol=u'00XALCFIM086NEST', DATA-VALUE=u'2015-04-01,100.25', price=100.25, timestamp=datetime.datetime(2015, 4, 1, 0, 0)),\n",
       " Row(symbol=u'00XALCFIM086NEST', DATA-VALUE=u'2015-05-01,100.13', price=100.13, timestamp=datetime.datetime(2015, 5, 1, 0, 0)),\n",
       " Row(symbol=u'00XALCFIM086NEST', DATA-VALUE=u'2015-06-01,100.15', price=100.15, timestamp=datetime.datetime(2015, 6, 1, 0, 0)),\n",
       " Row(symbol=u'00XALCFIM086NEST', DATA-VALUE=u'2015-07-01,99.8', price=99.8, timestamp=datetime.datetime(2015, 7, 1, 0, 0)),\n",
       " Row(symbol=u'00XALCFIM086NEST', DATA-VALUE=u'2015-08-01,99.85', price=99.85, timestamp=datetime.datetime(2015, 8, 1, 0, 0)),\n",
       " Row(symbol=u'00XALCFIM086NEST', DATA-VALUE=u'2015-09-01,100.01', price=100.01, timestamp=datetime.datetime(2015, 9, 1, 0, 0)),\n",
       " Row(symbol=u'00XALCFIM086NEST', DATA-VALUE=u'2015-10-01,100.19', price=100.19, timestamp=datetime.datetime(2015, 10, 1, 0, 0)),\n",
       " Row(symbol=u'00XALCFIM086NEST', DATA-VALUE=u'2015-11-01,100.15', price=100.15, timestamp=datetime.datetime(2015, 11, 1, 0, 0)),\n",
       " Row(symbol=u'00XALCFIM086NEST', DATA-VALUE=u'2015-12-01,99.98', price=99.98, timestamp=datetime.datetime(2015, 12, 1, 0, 0)),\n",
       " Row(symbol=u'00XALCFIM086NEST', DATA-VALUE=u'2016-01-01,99.48', price=99.48, timestamp=datetime.datetime(2016, 1, 1, 0, 0)),\n",
       " Row(symbol=u'00XALCFIM086NEST', DATA-VALUE=u'2016-02-01,99.65', price=99.65, timestamp=datetime.datetime(2016, 2, 1, 0, 0)),\n",
       " Row(symbol=u'00XALCFIM086NEST', DATA-VALUE=u'2016-03-01,100.18', price=100.18, timestamp=datetime.datetime(2016, 3, 1, 0, 0)),\n",
       " Row(symbol=u'00XALCFIM086NEST', DATA-VALUE=u'2016-04-01,100.49', price=100.49, timestamp=datetime.datetime(2016, 4, 1, 0, 0)),\n",
       " Row(symbol=u'00XALCFIM086NEST', DATA-VALUE=u'2016-05-01,100.41', price=100.41, timestamp=datetime.datetime(2016, 5, 1, 0, 0)),\n",
       " Row(symbol=u'00XALCFIM086NEST', DATA-VALUE=u'2016-06-01,100.47', price=100.47, timestamp=datetime.datetime(2016, 6, 1, 0, 0)),\n",
       " Row(symbol=u'00XALCFIM086NEST', DATA-VALUE=u'2016-07-01,100.22', price=100.22, timestamp=datetime.datetime(2016, 7, 1, 0, 0)),\n",
       " Row(symbol=u'00XALCFIM086NEST', DATA-VALUE=u'2016-08-01,100.27', price=100.27, timestamp=datetime.datetime(2016, 8, 1, 0, 0))]"
      ]
     },
     "execution_count": 23,
     "metadata": {},
     "output_type": "execute_result"
    }
   ],
   "source": [
    "rdd_df_exp.take(800)"
   ]
  },
  {
   "cell_type": "code",
   "execution_count": 24,
   "metadata": {
    "collapsed": false
   },
   "outputs": [],
   "source": [
    "x = rdd_df_exp.select([\"timestamp\", \"symbol\", \"price\"])"
   ]
  },
  {
   "cell_type": "code",
   "execution_count": 26,
   "metadata": {
    "collapsed": false
   },
   "outputs": [
    {
     "name": "stdout",
     "output_type": "stream",
     "text": [
      "+--------------------+----------------+-----+\n",
      "|           timestamp|          symbol|price|\n",
      "+--------------------+----------------+-----+\n",
      "|2005-01-01 00:00:...|00XALCCHM086NEST| 97.0|\n",
      "|2005-02-01 00:00:...|00XALCCHM086NEST| 97.3|\n",
      "+--------------------+----------------+-----+\n",
      "only showing top 2 rows\n",
      "\n"
     ]
    }
   ],
   "source": [
    "x.show(2)"
   ]
  },
  {
   "cell_type": "code",
   "execution_count": 97,
   "metadata": {
    "collapsed": false
   },
   "outputs": [],
   "source": [
    "dates = (\"2005-01-01\",  \"2005-05-01\")\n",
    "date_from, date_to = [f.to_date(f.lit(s)).cast(TimestampType()) for s in dates]\n",
    "df_filtered = x.where((x.timestamp > date_from) & (x.timestamp < date_to))"
   ]
  },
  {
   "cell_type": "code",
   "execution_count": 98,
   "metadata": {
    "collapsed": false
   },
   "outputs": [],
   "source": [
    "df_filtered = x.where((x.timestamp > date_from) & (x.timestamp < date_to))"
   ]
  },
  {
   "cell_type": "code",
   "execution_count": 105,
   "metadata": {
    "collapsed": false,
    "scrolled": true
   },
   "outputs": [
    {
     "name": "stdout",
     "output_type": "stream",
     "text": [
      "+---------------------+----------------+----------+\n",
      "|timestamp            |symbol          |avg(price)|\n",
      "+---------------------+----------------+----------+\n",
      "|2005-02-01 00:00:00.0|00XALCCHM086NEST|97.3      |\n",
      "|2005-03-01 00:00:00.0|00XALCCHM086NEST|97.4      |\n",
      "|2005-02-01 00:00:00.0|00XALCFIM086NEST|82.61     |\n",
      "|2005-04-01 00:00:00.0|00XALCFIM086NEST|83.22     |\n",
      "|2005-04-01 00:00:00.0|00XALCCHM086NEST|98.2      |\n",
      "|2005-03-01 00:00:00.0|00XALCFIM086NEST|82.97     |\n",
      "+---------------------+----------------+----------+\n",
      "\n"
     ]
    }
   ],
   "source": [
    "df_filtered.groupBy([\"timestamp\", \"symbol\"]).agg({\"price\": \"avg\"}).show(10, truncate=False)"
   ]
  },
  {
   "cell_type": "code",
   "execution_count": 227,
   "metadata": {
    "collapsed": false
   },
   "outputs": [
    {
     "name": "stdout",
     "output_type": "stream",
     "text": [
      "+---------------------+----------------+-----+\n",
      "|timestamp            |symbol          |price|\n",
      "+---------------------+----------------+-----+\n",
      "|2005-02-01 00:00:00.0|00XALCCHM086NEST|97.3 |\n",
      "|2005-03-01 00:00:00.0|00XALCCHM086NEST|97.4 |\n",
      "|2005-04-01 00:00:00.0|00XALCCHM086NEST|98.2 |\n",
      "|2005-02-01 00:00:00.0|00XALCFIM086NEST|82.61|\n",
      "|2005-03-01 00:00:00.0|00XALCFIM086NEST|82.97|\n",
      "|2005-04-01 00:00:00.0|00XALCFIM086NEST|83.22|\n",
      "+---------------------+----------------+-----+\n",
      "\n"
     ]
    }
   ],
   "source": [
    "df_filtered.show(10, truncate=False)"
   ]
  },
  {
   "cell_type": "code",
   "execution_count": 231,
   "metadata": {
    "collapsed": false
   },
   "outputs": [
    {
     "data": {
      "text/plain": [
       "[Row(timestamp=datetime.datetime(2005, 2, 1, 0, 0)),\n",
       " Row(timestamp=datetime.datetime(2005, 3, 1, 0, 0)),\n",
       " Row(timestamp=datetime.datetime(2005, 4, 1, 0, 0))]"
      ]
     },
     "execution_count": 231,
     "metadata": {},
     "output_type": "execute_result"
    }
   ],
   "source": [
    "df_filtered.select(\"timestamp\").take(3)"
   ]
  },
  {
   "cell_type": "code",
   "execution_count": 75,
   "metadata": {
    "collapsed": false
   },
   "outputs": [],
   "source": [
    "\n",
    "from datetime import datetime\n",
    "\n",
    "from pyspark import SparkContext, SQLContext\n",
    "from pyspark.sql import Row\n",
    "from pyspark.sql.types import StructType, StructField, TimestampType, DoubleType, StringType\n",
    "\n",
    "from sparkts.datetimeindex import uniform, BusinessDayFrequency\n",
    "from sparkts.timeseriesrdd import time_series_rdd_from_observations\n",
    "\n"
   ]
  },
  {
   "cell_type": "code",
   "execution_count": 243,
   "metadata": {
    "collapsed": true
   },
   "outputs": [],
   "source": [
    "from sparkts.datetimeindex import DayFrequency\n"
   ]
  },
  {
   "cell_type": "code",
   "execution_count": 245,
   "metadata": {
    "collapsed": true
   },
   "outputs": [],
   "source": [
    "freq = DayFrequency(1,sc)"
   ]
  },
  {
   "cell_type": "code",
   "execution_count": 258,
   "metadata": {
    "collapsed": false
   },
   "outputs": [],
   "source": [
    "freq = BusinessDayFrequency(1, 1, sc)\n",
    "dtIndex = uniform(start='2005-02-01T00:00-05:00', end='2005-06-01T00:00-05:00', freq=freq, sc=sc)"
   ]
  },
  {
   "cell_type": "code",
   "execution_count": 254,
   "metadata": {
    "collapsed": true
   },
   "outputs": [],
   "source": [
    "BusinessDayFrequency?"
   ]
  },
  {
   "cell_type": "code",
   "execution_count": 239,
   "metadata": {
    "collapsed": false
   },
   "outputs": [
    {
     "name": "stdout",
     "output_type": "stream",
     "text": [
      "+--------------------+----------------+-----+\n",
      "|           timestamp|          symbol|price|\n",
      "+--------------------+----------------+-----+\n",
      "|2005-01-01 00:00:...|00XALCCHM086NEST| 97.0|\n",
      "|2005-02-01 00:00:...|00XALCCHM086NEST| 97.3|\n",
      "|2005-03-01 00:00:...|00XALCCHM086NEST| 97.4|\n",
      "+--------------------+----------------+-----+\n",
      "only showing top 3 rows\n",
      "\n"
     ]
    }
   ],
   "source": [
    "x.show(3)"
   ]
  },
  {
   "cell_type": "code",
   "execution_count": 259,
   "metadata": {
    "collapsed": false
   },
   "outputs": [],
   "source": [
    "tickerTsrdd = time_series_rdd_from_observations(dtIndex, df_filtered, \"timestamp\", \"symbol\", \"price\")"
   ]
  },
  {
   "cell_type": "code",
   "execution_count": 260,
   "metadata": {
    "collapsed": false
   },
   "outputs": [
    {
     "data": {
      "text/plain": [
       "[(u'00XALCCHM086NEST',\n",
       "  array([ 97.3,   nan,   nan,   nan,   nan,   nan,   nan,   nan,   nan,\n",
       "           nan,   nan,   nan,   nan,   nan,   nan,   nan,   nan,   nan,\n",
       "           nan,   nan,  97.4,   nan,   nan,   nan,   nan,   nan,   nan,\n",
       "           nan,   nan,   nan,   nan,   nan,   nan,   nan,   nan,   nan,\n",
       "           nan,   nan,   nan,   nan,   nan,   nan,   nan,  98.2,   nan,\n",
       "           nan,   nan,   nan,   nan,   nan,   nan,   nan,   nan,   nan,\n",
       "           nan,   nan,   nan,   nan,   nan,   nan,   nan,   nan,   nan,\n",
       "           nan,   nan,   nan,   nan,   nan,   nan,   nan,   nan,   nan,\n",
       "           nan,   nan,   nan,   nan,   nan,   nan,   nan,   nan,   nan,\n",
       "           nan,   nan,   nan,   nan,   nan,   nan])),\n",
       " (u'00XALCFIM086NEST',\n",
       "  array([ 82.61,    nan,    nan,    nan,    nan,    nan,    nan,    nan,\n",
       "            nan,    nan,    nan,    nan,    nan,    nan,    nan,    nan,\n",
       "            nan,    nan,    nan,    nan,  82.97,    nan,    nan,    nan,\n",
       "            nan,    nan,    nan,    nan,    nan,    nan,    nan,    nan,\n",
       "            nan,    nan,    nan,    nan,    nan,    nan,    nan,    nan,\n",
       "            nan,    nan,    nan,  83.22,    nan,    nan,    nan,    nan,\n",
       "            nan,    nan,    nan,    nan,    nan,    nan,    nan,    nan,\n",
       "            nan,    nan,    nan,    nan,    nan,    nan,    nan,    nan,\n",
       "            nan,    nan,    nan,    nan,    nan,    nan,    nan,    nan,\n",
       "            nan,    nan,    nan,    nan,    nan,    nan,    nan,    nan,\n",
       "            nan,    nan,    nan,    nan,    nan,    nan,    nan]))]"
      ]
     },
     "execution_count": 260,
     "metadata": {},
     "output_type": "execute_result"
    }
   ],
   "source": [
    "tickerTsrdd.take(2)"
   ]
  },
  {
   "cell_type": "code",
   "execution_count": 92,
   "metadata": {
    "collapsed": true
   },
   "outputs": [],
   "source": [
    "%matplotlib inline \n",
    "import matplotlib.pyplot as plt"
   ]
  },
  {
   "cell_type": "code",
   "execution_count": 265,
   "metadata": {
    "collapsed": true
   },
   "outputs": [],
   "source": [
    "rdd = sc.wholeTextFiles(\"/Users/guillermobreto/Downloads/fred_timeseries_project/data/fred_codes/\")\n",
    "rdd.count()\n",
    "from pyspark.sql.functions import explode\n",
    "import pyspark.sql.functions as f\n",
    "rdd_df = rdd.map(lambda r: (r[0].split(\"/\")[-1].strip(\".csv\"),filter(None, r[1].split(\"\\n\")[1:]))).toDF([\"symbol\",\"v\"])\n",
    "from pyspark.sql.functions import udf\n",
    "from pyspark.sql.types import DoubleType, TimestampType, ArrayType\n",
    "\n",
    "import numpy as np\n",
    "import pandas as pd\n",
    "def grabValue(tup):\n",
    "    if isinstance(tuple(tup), tuple):\n",
    "        return float(tup.split(\",\")[1])\n",
    "    else:\n",
    "        return np.nan\n",
    "\n",
    "def grabDate(tup):\n",
    "    if isinstance(tuple(tup), tuple):\n",
    "        return pd.to_datetime(tup.split(\",\")[0])\n",
    "    else:\n",
    "        return np.nan\n",
    "    \n",
    "def to_tuple(tup):\n",
    "    if len(tup)>5:\n",
    "        return tup.split(\",\")\n",
    "    else:\n",
    "        return [\"This is not working\", \"for Now\"]\n",
    "\n",
    " \n",
    "udfgrabValue=udf(grabValue, DoubleType())\n",
    "udfgrabDate=udf(grabDate, TimestampType())\n",
    "udfto_tuple=udf(to_tuple, ArrayType(StringType()))\n",
    "\n",
    "\n",
    "rdd_df_exp =  rdd_df.select([rdd_df.symbol,explode(rdd_df.v).alias(\"DATA-VALUE\")])\n",
    "rdd_df_exp = rdd_df_exp.withColumn(\"price\", udfgrabValue(\"DATA-VALUE\"))\n",
    "rdd_df_exp = rdd_df_exp.withColumn(\"timestamp\", udfgrabDate(\"DATA-VALUE\"))\n",
    "df = rdd_df_exp.select([\"timestamp\", \"symbol\", \"price\"])\n",
    "dates = (\"2003-01-01\",  \"2016-09-01\")\n",
    "date_from, date_to = [f.to_date(f.lit(s)).cast(TimestampType()) for s in dates]\n",
    "df_filtered = df.where((df.timestamp > date_from) & (df.timestamp < date_to))\n",
    "tickerTsrdd = time_series_rdd_from_observations(dtIndex, df_filtered, \"timestamp\", \"symbol\", \"price\")\n",
    "\n",
    "\n",
    "from datetime import datetime\n",
    "\n",
    "from pyspark import SparkContext, SQLContext\n",
    "from pyspark.sql import Row\n",
    "from pyspark.sql.types import StructType, StructField, TimestampType, DoubleType, StringType\n",
    "\n",
    "from sparkts.datetimeindex import uniform, BusinessDayFrequency\n",
    "from sparkts.timeseriesrdd import time_series_rdd_from_observations\n",
    "freq = BusinessDayFrequency(1, 1, sc)\n",
    "dtIndex = uniform(start='2000-01-01T00:00-05:00', end='2015-10-10T00:00-05:00', freq=freq, sc=sc)\n"
   ]
  },
  {
   "cell_type": "code",
   "execution_count": 267,
   "metadata": {
    "collapsed": false
   },
   "outputs": [
    {
     "name": "stdout",
     "output_type": "stream",
     "text": [
      "+---------------------+---------------------+-----+\n",
      "|timestamp            |symbol               |price|\n",
      "+---------------------+---------------------+-----+\n",
      "|2005-01-01 00:00:00.0|FRED_00XALCCHM086NEST|97.0 |\n",
      "|2005-02-01 00:00:00.0|FRED_00XALCCHM086NEST|97.3 |\n",
      "|2005-03-01 00:00:00.0|FRED_00XALCCHM086NEST|97.4 |\n",
      "+---------------------+---------------------+-----+\n",
      "only showing top 3 rows\n",
      "\n"
     ]
    }
   ],
   "source": [
    "df.show(3, truncate=False)"
   ]
  },
  {
   "cell_type": "code",
   "execution_count": 269,
   "metadata": {
    "collapsed": false
   },
   "outputs": [
    {
     "data": {
      "text/plain": [
       "40809"
      ]
     },
     "execution_count": 269,
     "metadata": {},
     "output_type": "execute_result"
    }
   ],
   "source": [
    "rdd_df.select(\"symbol\").distinct().count()"
   ]
  },
  {
   "cell_type": "code",
   "execution_count": 270,
   "metadata": {
    "collapsed": false
   },
   "outputs": [
    {
     "name": "stdout",
     "output_type": "stream",
     "text": [
      "+--------------------+--------------------+\n",
      "|              symbol|                   v|\n",
      "+--------------------+--------------------+\n",
      "|FRED_00XALCCHM086...|[2005-01-01,97.0,...|\n",
      "|FRED_00XALCFIM086...|[1996-01-01,71.22...|\n",
      "|FRED_00XALCHRM086...|[2004-12-01,81.32...|\n",
      "+--------------------+--------------------+\n",
      "only showing top 3 rows\n",
      "\n"
     ]
    }
   ],
   "source": [
    "rdd_df.show(3)"
   ]
  },
  {
   "cell_type": "code",
   "execution_count": 273,
   "metadata": {
    "collapsed": false
   },
   "outputs": [],
   "source": [
    ">>> from pyspark.sql.types import IntegerType\n",
    ">>> slen = udf(lambda s: len(s), IntegerType())\n",
    "new_df =rdd_df.withColumn(\"lengh\", (slen(rdd_df.v).alias('slen')))"
   ]
  },
  {
   "cell_type": "code",
   "execution_count": 274,
   "metadata": {
    "collapsed": false
   },
   "outputs": [
    {
     "name": "stdout",
     "output_type": "stream",
     "text": [
      "+--------------------+--------------------+-----+\n",
      "|              symbol|                   v|lengh|\n",
      "+--------------------+--------------------+-----+\n",
      "|FRED_00XALCCHM086...|[2005-01-01,97.0,...|  140|\n",
      "|FRED_00XALCFIM086...|[1996-01-01,71.22...|  248|\n",
      "|FRED_00XALCHRM086...|[2004-12-01,81.32...|  141|\n",
      "+--------------------+--------------------+-----+\n",
      "only showing top 3 rows\n",
      "\n"
     ]
    }
   ],
   "source": [
    "new_df.show(3)"
   ]
  },
  {
   "cell_type": "code",
   "execution_count": 275,
   "metadata": {
    "collapsed": true
   },
   "outputs": [],
   "source": [
    "rdd_df_exp =  rdd_df.select([rdd_df.symbol,explode(rdd_df.v).alias(\"DATA-VALUE\")])"
   ]
  },
  {
   "cell_type": "code",
   "execution_count": 276,
   "metadata": {
    "collapsed": true
   },
   "outputs": [],
   "source": [
    "new_df =rdd_df_exp.withColumn(\"lengh\", (slen(rdd_df_exp[\"DATA-VALUE\"]).alias('slen')))"
   ]
  },
  {
   "cell_type": "code",
   "execution_count": 277,
   "metadata": {
    "collapsed": false
   },
   "outputs": [
    {
     "name": "stdout",
     "output_type": "stream",
     "text": [
      "+--------------------+---------------+-----+\n",
      "|              symbol|     DATA-VALUE|lengh|\n",
      "+--------------------+---------------+-----+\n",
      "|FRED_00XALCCHM086...|2005-01-01,97.0|   15|\n",
      "|FRED_00XALCCHM086...|2005-02-01,97.3|   15|\n",
      "|FRED_00XALCCHM086...|2005-03-01,97.4|   15|\n",
      "+--------------------+---------------+-----+\n",
      "only showing top 3 rows\n",
      "\n"
     ]
    }
   ],
   "source": [
    "new_df.show(3)"
   ]
  },
  {
   "cell_type": "code",
   "execution_count": 279,
   "metadata": {
    "collapsed": false
   },
   "outputs": [
    {
     "name": "stdout",
     "output_type": "stream",
     "text": [
      "root\n",
      " |-- symbol: string (nullable = true)\n",
      " |-- DATA-VALUE: string (nullable = true)\n",
      " |-- lengh: integer (nullable = true)\n",
      "\n"
     ]
    }
   ],
   "source": [
    "new_df.printSchema()"
   ]
  },
  {
   "cell_type": "code",
   "execution_count": 278,
   "metadata": {
    "collapsed": false
   },
   "outputs": [
    {
     "data": {
      "text/plain": [
       "[Row(min(lengh)=14)]"
      ]
     },
     "execution_count": 278,
     "metadata": {},
     "output_type": "execute_result"
    }
   ],
   "source": [
    ">>> from pyspark.sql import functions as F\n",
    ">>> new_df.agg(F.min(new_df.lengh)).collect()"
   ]
  },
  {
   "cell_type": "code",
   "execution_count": 284,
   "metadata": {
    "collapsed": true
   },
   "outputs": [],
   "source": [
    "dateUdf = udf(lambda s: s.split(\",\")[0], StringType())\n",
    "valueUdf = udf(lambda s: s.split(\",\")[1], DoubleType())\n",
    "\n",
    "\n",
    "f.to_date(f.lit(s)).cast(TimestampType())\n",
    "\n",
    "new_df =rdd_df_exp.withColumn(\"Date\", (f.to_date(f.lit(dateUdf(rdd_df_exp[\"DATA-VALUE\"]))).cast(TimestampType())))"
   ]
  },
  {
   "cell_type": "code",
   "execution_count": 285,
   "metadata": {
    "collapsed": false
   },
   "outputs": [
    {
     "name": "stdout",
     "output_type": "stream",
     "text": [
      "+--------------------+---------------+--------------------+\n",
      "|              symbol|     DATA-VALUE|                Date|\n",
      "+--------------------+---------------+--------------------+\n",
      "|FRED_00XALCCHM086...|2005-01-01,97.0|2005-01-01 00:00:...|\n",
      "|FRED_00XALCCHM086...|2005-02-01,97.3|2005-02-01 00:00:...|\n",
      "|FRED_00XALCCHM086...|2005-03-01,97.4|2005-03-01 00:00:...|\n",
      "+--------------------+---------------+--------------------+\n",
      "only showing top 3 rows\n",
      "\n"
     ]
    }
   ],
   "source": [
    "new_df.show(3)"
   ]
  },
  {
   "cell_type": "code",
   "execution_count": 286,
   "metadata": {
    "collapsed": false
   },
   "outputs": [
    {
     "data": {
      "text/plain": [
       "40809"
      ]
     },
     "execution_count": 286,
     "metadata": {},
     "output_type": "execute_result"
    }
   ],
   "source": [
    "new_df.select(\"symbol\").distinct().count()"
   ]
  },
  {
   "cell_type": "code",
   "execution_count": 291,
   "metadata": {
    "collapsed": true
   },
   "outputs": [],
   "source": [
    "valueUdf = udf(lambda s: float(s.split(\",\")[1]), DoubleType())\n",
    "dateUdf = udf(lambda s: s.split(\",\")[0], StringType())\n",
    "new_df =rdd_df_exp.withColumn(\"Date\", (f.to_date(f.lit(dateUdf(rdd_df_exp[\"DATA-VALUE\"]))).cast(TimestampType())))\n",
    "new_df =new_df.withColumn(\"price\", valueUdf(new_df[\"DATA-VALUE\"]))"
   ]
  },
  {
   "cell_type": "code",
   "execution_count": 292,
   "metadata": {
    "collapsed": false
   },
   "outputs": [
    {
     "name": "stdout",
     "output_type": "stream",
     "text": [
      "+--------------------+---------------+--------------------+-----+\n",
      "|              symbol|     DATA-VALUE|                Date|price|\n",
      "+--------------------+---------------+--------------------+-----+\n",
      "|FRED_00XALCCHM086...|2005-01-01,97.0|2005-01-01 00:00:...| 97.0|\n",
      "|FRED_00XALCCHM086...|2005-02-01,97.3|2005-02-01 00:00:...| 97.3|\n",
      "|FRED_00XALCCHM086...|2005-03-01,97.4|2005-03-01 00:00:...| 97.4|\n",
      "+--------------------+---------------+--------------------+-----+\n",
      "only showing top 3 rows\n",
      "\n"
     ]
    }
   ],
   "source": [
    "new_df.show(3)"
   ]
  },
  {
   "cell_type": "code",
   "execution_count": 293,
   "metadata": {
    "collapsed": false
   },
   "outputs": [
    {
     "data": {
      "text/plain": [
       "40809"
      ]
     },
     "execution_count": 293,
     "metadata": {},
     "output_type": "execute_result"
    }
   ],
   "source": [
    "new_df.select(\"symbol\").distinct().count()"
   ]
  },
  {
   "cell_type": "code",
   "execution_count": 315,
   "metadata": {
    "collapsed": true
   },
   "outputs": [],
   "source": [
    "#freq = BusinessDayFrequency(1, 1, sc)\n",
    "freq = DayFrequency(1,sc)\n",
    "dtIndex = uniform(start='2005-02-01T00:00-05:00', end='2016-10-01T00:00-05:00', freq=freq, sc=sc)"
   ]
  },
  {
   "cell_type": "code",
   "execution_count": 316,
   "metadata": {
    "collapsed": false
   },
   "outputs": [],
   "source": [
    "\n",
    "dates = (\"2005-01-01\",  \"2016-10-01\")\n",
    "date_from, date_to = [f.to_date(f.lit(s)).cast(TimestampType()) for s in dates]\n",
    "df_filtered = new_df.where((new_df.Date > date_from) & (new_df.Date < date_to))"
   ]
  },
  {
   "cell_type": "code",
   "execution_count": 317,
   "metadata": {
    "collapsed": false
   },
   "outputs": [
    {
     "name": "stdout",
     "output_type": "stream",
     "text": [
      "+--------------------+---------------+--------------------+-----+\n",
      "|              symbol|     DATA-VALUE|                Date|price|\n",
      "+--------------------+---------------+--------------------+-----+\n",
      "|FRED_00XALCCHM086...|2005-02-01,97.3|2005-02-01 00:00:...| 97.3|\n",
      "|FRED_00XALCCHM086...|2005-03-01,97.4|2005-03-01 00:00:...| 97.4|\n",
      "|FRED_00XALCCHM086...|2005-04-01,98.2|2005-04-01 00:00:...| 98.2|\n",
      "+--------------------+---------------+--------------------+-----+\n",
      "only showing top 3 rows\n",
      "\n"
     ]
    }
   ],
   "source": [
    "df_filtered.show(3)"
   ]
  },
  {
   "cell_type": "code",
   "execution_count": 318,
   "metadata": {
    "collapsed": true
   },
   "outputs": [],
   "source": [
    "df = df_filtered.select([\"symbol\", \"Date\", \"price\"])\n",
    "df = df.withColumnRenamed(\"Date\", \"timestamp\")"
   ]
  },
  {
   "cell_type": "code",
   "execution_count": 319,
   "metadata": {
    "collapsed": false
   },
   "outputs": [
    {
     "name": "stdout",
     "output_type": "stream",
     "text": [
      "+--------------------+--------------------+-----+\n",
      "|              symbol|           timestamp|price|\n",
      "+--------------------+--------------------+-----+\n",
      "|FRED_00XALCCHM086...|2005-02-01 00:00:...| 97.3|\n",
      "|FRED_00XALCCHM086...|2005-03-01 00:00:...| 97.4|\n",
      "|FRED_00XALCCHM086...|2005-04-01 00:00:...| 98.2|\n",
      "|FRED_00XALCCHM086...|2005-05-01 00:00:...| 98.2|\n",
      "|FRED_00XALCCHM086...|2005-06-01 00:00:...| 97.9|\n",
      "|FRED_00XALCCHM086...|2005-07-01 00:00:...| 97.3|\n",
      "|FRED_00XALCCHM086...|2005-08-01 00:00:...| 97.4|\n",
      "|FRED_00XALCCHM086...|2005-09-01 00:00:...| 97.8|\n",
      "|FRED_00XALCCHM086...|2005-10-01 00:00:...| 98.6|\n",
      "|FRED_00XALCCHM086...|2005-11-01 00:00:...| 98.4|\n",
      "|FRED_00XALCCHM086...|2005-12-01 00:00:...| 98.3|\n",
      "|FRED_00XALCCHM086...|2006-01-01 00:00:...| 98.2|\n",
      "|FRED_00XALCCHM086...|2006-02-01 00:00:...| 98.4|\n",
      "|FRED_00XALCCHM086...|2006-03-01 00:00:...| 98.4|\n",
      "|FRED_00XALCCHM086...|2006-04-01 00:00:...| 99.2|\n",
      "|FRED_00XALCCHM086...|2006-05-01 00:00:...| 99.3|\n",
      "|FRED_00XALCCHM086...|2006-06-01 00:00:...| 99.3|\n",
      "|FRED_00XALCCHM086...|2006-07-01 00:00:...| 98.6|\n",
      "|FRED_00XALCCHM086...|2006-08-01 00:00:...| 98.7|\n",
      "|FRED_00XALCCHM086...|2006-09-01 00:00:...| 98.5|\n",
      "+--------------------+--------------------+-----+\n",
      "only showing top 20 rows\n",
      "\n"
     ]
    }
   ],
   "source": [
    "df.show()"
   ]
  },
  {
   "cell_type": "code",
   "execution_count": 320,
   "metadata": {
    "collapsed": false
   },
   "outputs": [],
   "source": [
    "tickerTsrdd = time_series_rdd_from_observations(dtIndex, df, \"timestamp\", \"symbol\", \"price\")"
   ]
  },
  {
   "cell_type": "code",
   "execution_count": 321,
   "metadata": {
    "collapsed": false
   },
   "outputs": [
    {
     "data": {
      "text/plain": [
       "[(u'FRED_00XALCCHM086NEST',\n",
       "  array([ 97.3,   nan,   nan, ...,   nan,   nan,   nan])),\n",
       " (u'FRED_00XALCFIM086NEST',\n",
       "  array([ 82.61,    nan,    nan, ...,    nan,    nan,    nan])),\n",
       " (u'FRED_00XAPFEEM086NEST',\n",
       "  array([ 68.34,    nan,    nan, ...,    nan,    nan,    nan]))]"
      ]
     },
     "execution_count": 321,
     "metadata": {},
     "output_type": "execute_result"
    }
   ],
   "source": [
    "tickerTsrdd.take(3)"
   ]
  },
  {
   "cell_type": "code",
   "execution_count": 322,
   "metadata": {
    "collapsed": true
   },
   "outputs": [],
   "source": [
    "filled = tickerTsrdd.fill(\"linear\")"
   ]
  },
  {
   "cell_type": "code",
   "execution_count": 323,
   "metadata": {
    "collapsed": false
   },
   "outputs": [
    {
     "data": {
      "text/plain": [
       "[(u'FRED_00XALCCHM086NEST',\n",
       "  array([ 97.3       ,  97.30357143,  97.30714286, ...,          nan,\n",
       "                  nan,          nan])),\n",
       " (u'FRED_00XALCFIM086NEST',\n",
       "  array([ 82.61      ,  82.62285714,  82.63571429, ...,          nan,\n",
       "                  nan,          nan]))]"
      ]
     },
     "execution_count": 323,
     "metadata": {},
     "output_type": "execute_result"
    }
   ],
   "source": [
    "filled.take(2)"
   ]
  },
  {
   "cell_type": "code",
   "execution_count": 326,
   "metadata": {
    "collapsed": true
   },
   "outputs": [],
   "source": [
    "previous = filled.fill(\"previous\")"
   ]
  },
  {
   "cell_type": "code",
   "execution_count": 327,
   "metadata": {
    "collapsed": false
   },
   "outputs": [
    {
     "data": {
      "text/plain": [
       "[(u'FRED_00XALCCHM086NEST',\n",
       "  array([ 97.3       ,  97.30357143,  97.30714286, ...,  99.61      ,\n",
       "          99.61      ,  99.61      ])),\n",
       " (u'FRED_00XALCFIM086NEST',\n",
       "  array([  82.61      ,   82.62285714,   82.63571429, ...,  100.27      ,\n",
       "          100.27      ,  100.27      ])),\n",
       " (u'FRED_00XAPFEEM086NEST',\n",
       "  array([  68.34      ,   68.34678571,   68.35357143, ...,  101.52      ,\n",
       "          101.52      ,  101.52      ]))]"
      ]
     },
     "execution_count": 327,
     "metadata": {},
     "output_type": "execute_result"
    }
   ],
   "source": [
    "previous.take(3)"
   ]
  },
  {
   "cell_type": "code",
   "execution_count": 328,
   "metadata": {
    "collapsed": true
   },
   "outputs": [],
   "source": [
    "rr = previous.return_rates()"
   ]
  },
  {
   "cell_type": "code",
   "execution_count": 329,
   "metadata": {
    "collapsed": false
   },
   "outputs": [
    {
     "data": {
      "text/plain": [
       "[(u'FRED_00XALCCHM086NEST',\n",
       "  array([  3.67053296e-05,   3.67039824e-05,   3.67026352e-05, ...,\n",
       "           0.00000000e+00,   0.00000000e+00,   0.00000000e+00])),\n",
       " (u'FRED_00XALCFIM086NEST',\n",
       "  array([ 0.00015564,  0.00015561,  0.00015559, ...,  0.        ,\n",
       "          0.        ,  0.        ])),\n",
       " (u'FRED_00XAPFEEM086NEST',\n",
       "  array([  9.92934487e-05,   9.92835905e-05,   9.92737343e-05, ...,\n",
       "           0.00000000e+00,   0.00000000e+00,   0.00000000e+00]))]"
      ]
     },
     "execution_count": 329,
     "metadata": {},
     "output_type": "execute_result"
    }
   ],
   "source": [
    "rr.take(3)"
   ]
  },
  {
   "cell_type": "code",
   "execution_count": null,
   "metadata": {
    "collapsed": true
   },
   "outputs": [],
   "source": []
  }
 ],
 "metadata": {
  "kernelspec": {
   "display_name": "Python 2",
   "language": "python",
   "name": "python2"
  },
  "language_info": {
   "codemirror_mode": {
    "name": "ipython",
    "version": 2
   },
   "file_extension": ".py",
   "mimetype": "text/x-python",
   "name": "python",
   "nbconvert_exporter": "python",
   "pygments_lexer": "ipython2",
   "version": "2.7.11"
  }
 },
 "nbformat": 4,
 "nbformat_minor": 0
}
